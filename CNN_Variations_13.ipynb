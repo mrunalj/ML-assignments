{
  "nbformat": 4,
  "nbformat_minor": 0,
  "metadata": {
    "colab": {
      "name": "mrunalj.369gmail.com_13.ipynb",
      "provenance": [],
      "collapsed_sections": []
    },
    "kernelspec": {
      "display_name": "Python 3",
      "language": "python",
      "name": "python3"
    },
    "language_info": {
      "codemirror_mode": {
        "name": "ipython",
        "version": 3
      },
      "file_extension": ".py",
      "mimetype": "text/x-python",
      "name": "python",
      "nbconvert_exporter": "python",
      "pygments_lexer": "ipython3",
      "version": "3.7.6"
    }
  },
  "cells": [
    {
      "cell_type": "code",
      "metadata": {
        "colab_type": "code",
        "id": "H9EU0e8yzFOm",
        "outputId": "48e1c495-9a36-4375-f3c3-124c65e668ff",
        "colab": {
          "base_uri": "https://localhost:8080/",
          "height": 510
        }
      },
      "source": [
        "# Credits: https://github.com/keras-team/keras/blob/master/examples/mnist_cnn.py\n",
        "\n",
        "\n",
        "from __future__ import print_function\n",
        "import tensorflow.keras\n",
        "from tensorflow.keras.datasets import mnist\n",
        "from tensorflow.keras.models import Sequential\n",
        "from tensorflow.keras.layers import Dense, Dropout, Flatten\n",
        "from tensorflow.keras.layers import Conv2D, MaxPooling2D\n",
        "from tensorflow.keras import backend as K\n",
        "\n",
        "batch_size = 128\n",
        "num_classes = 10\n",
        "epochs = 12\n",
        "\n",
        "# input image dimensions\n",
        "img_rows, img_cols = 28, 28\n",
        "\n",
        "# the data, split between train and test sets\n",
        "(x_train, y_train), (x_test, y_test) = mnist.load_data()\n",
        "\n",
        "if K.image_data_format() == 'channels_first':\n",
        "    x_train = x_train.reshape(x_train.shape[0], 1, img_rows, img_cols)\n",
        "    x_test = x_test.reshape(x_test.shape[0], 1, img_rows, img_cols)\n",
        "    input_shape = (1, img_rows, img_cols)\n",
        "else:\n",
        "    x_train = x_train.reshape(x_train.shape[0], img_rows, img_cols, 1)\n",
        "    x_test = x_test.reshape(x_test.shape[0], img_rows, img_cols, 1)\n",
        "    input_shape = (img_rows, img_cols, 1)\n",
        "\n",
        "x_train = x_train.astype('float32')\n",
        "x_test = x_test.astype('float32')\n",
        "x_train /= 255\n",
        "x_test /= 255\n",
        "print('x_train shape:', x_train.shape)\n",
        "print(x_train.shape[0], 'train samples')\n",
        "print(x_test.shape[0], 'test samples')\n",
        "\n",
        "# convert class vectors to binary class matrices\n",
        "y_train = tensorflow.keras.utils.to_categorical(y_train, num_classes)\n",
        "y_test = tensorflow.keras.utils.to_categorical(y_test, num_classes)\n",
        "\n",
        "model = Sequential()\n",
        "model.add(Conv2D(32, kernel_size=(3, 3),\n",
        "                 activation='relu',\n",
        "                 input_shape=input_shape))\n",
        "model.add(Conv2D(64, (3, 3), activation='relu'))\n",
        "model.add(MaxPooling2D(pool_size=(2, 2)))\n",
        "model.add(Dropout(0.25))\n",
        "model.add(Flatten())\n",
        "model.add(Dense(128, activation='relu'))\n",
        "model.add(Dropout(0.5))\n",
        "model.add(Dense(num_classes, activation='softmax'))\n",
        "\n",
        "model.compile(loss=tensorflow.keras.losses.categorical_crossentropy,\n",
        "              optimizer=tensorflow.keras.optimizers.Adadelta(),\n",
        "              metrics=['accuracy'])\n",
        "\n",
        "hist1=model.fit(x_train, y_train,\n",
        "          batch_size=batch_size,\n",
        "          epochs=epochs,\n",
        "          verbose=1,\n",
        "          validation_data=(x_test, y_test))\n",
        "score = model.evaluate(x_test, y_test, verbose=0)\n",
        "print('Test loss:', score[0])\n",
        "print('Test accuracy:', score[1])"
      ],
      "execution_count": 2,
      "outputs": [
        {
          "output_type": "stream",
          "text": [
            "x_train shape: (60000, 28, 28, 1)\n",
            "60000 train samples\n",
            "10000 test samples\n",
            "Epoch 1/12\n",
            "469/469 [==============================] - 139s 297ms/step - loss: 2.2859 - accuracy: 0.1219 - val_loss: 2.2417 - val_accuracy: 0.2387\n",
            "Epoch 2/12\n",
            "469/469 [==============================] - 138s 295ms/step - loss: 2.2172 - accuracy: 0.2460 - val_loss: 2.1615 - val_accuracy: 0.4586\n",
            "Epoch 3/12\n",
            "469/469 [==============================] - 139s 296ms/step - loss: 2.1351 - accuracy: 0.3604 - val_loss: 2.0595 - val_accuracy: 0.5728\n",
            "Epoch 4/12\n",
            "469/469 [==============================] - 138s 295ms/step - loss: 2.0294 - accuracy: 0.4418 - val_loss: 1.9283 - val_accuracy: 0.6340\n",
            "Epoch 5/12\n",
            "469/469 [==============================] - 139s 296ms/step - loss: 1.8976 - accuracy: 0.5067 - val_loss: 1.7651 - val_accuracy: 0.6874\n",
            "Epoch 6/12\n",
            "469/469 [==============================] - 139s 296ms/step - loss: 1.7445 - accuracy: 0.5559 - val_loss: 1.5766 - val_accuracy: 0.7347\n",
            "Epoch 7/12\n",
            "469/469 [==============================] - 138s 295ms/step - loss: 1.5770 - accuracy: 0.5929 - val_loss: 1.3786 - val_accuracy: 0.7692\n",
            "Epoch 8/12\n",
            "469/469 [==============================] - 138s 295ms/step - loss: 1.4168 - accuracy: 0.6245 - val_loss: 1.1943 - val_accuracy: 0.7943\n",
            "Epoch 9/12\n",
            "469/469 [==============================] - 138s 295ms/step - loss: 1.2686 - accuracy: 0.6566 - val_loss: 1.0369 - val_accuracy: 0.8156\n",
            "Epoch 10/12\n",
            "469/469 [==============================] - 138s 295ms/step - loss: 1.1547 - accuracy: 0.6745 - val_loss: 0.9120 - val_accuracy: 0.8288\n",
            "Epoch 11/12\n",
            "469/469 [==============================] - 138s 295ms/step - loss: 1.0576 - accuracy: 0.6972 - val_loss: 0.8148 - val_accuracy: 0.8384\n",
            "Epoch 12/12\n",
            "469/469 [==============================] - 138s 294ms/step - loss: 0.9797 - accuracy: 0.7125 - val_loss: 0.7389 - val_accuracy: 0.8444\n",
            "Test loss: 0.7388591170310974\n",
            "Test accuracy: 0.8443999886512756\n"
          ],
          "name": "stdout"
        }
      ]
    },
    {
      "cell_type": "code",
      "metadata": {
        "id": "rStRN9tTuugL",
        "colab_type": "code",
        "colab": {
          "base_uri": "https://localhost:8080/",
          "height": 295
        },
        "outputId": "edf37464-f951-44ac-fb85-4dda6feb5500"
      },
      "source": [
        "import matplotlib.pyplot as plt\n",
        "plt.plot(hist1.history['loss'])\n",
        "plt.plot(hist1.history['val_loss'])\n",
        "plt.title('model loss')\n",
        "plt.ylabel('loss')\n",
        "plt.xlabel('epoch')\n",
        "plt.legend(['train', 'test'], loc='upper left')\n",
        "plt.show()"
      ],
      "execution_count": 3,
      "outputs": [
        {
          "output_type": "display_data",
          "data": {
            "image/png": "[encoded data removed]",
            "text/plain": [
              "<Figure size 432x288 with 1 Axes>"
            ]
          },
          "metadata": {
            "tags": [],
            "needs_background": "light"
          }
        }
      ]
    },
    {
      "cell_type": "markdown",
      "metadata": {
        "id": "1sMtSgQ-uJEE",
        "colab_type": "text"
      },
      "source": [
        "# 1"
      ]
    },
    {
      "cell_type": "code",
      "metadata": {
        "id": "A5ziX8c3uJEF",
        "colab_type": "code",
        "colab": {
          "base_uri": "https://localhost:8080/",
          "height": 459
        },
        "outputId": "2aae1a14-0182-433f-d885-624a01fb3421"
      },
      "source": [
        "model = Sequential()\n",
        "model.add(Conv2D(32, kernel_size=(2, 2),\n",
        "                 activation='relu',\n",
        "                 input_shape=input_shape))\n",
        "model.add(Conv2D(64, (2, 2), activation='relu'))\n",
        "model.add(MaxPooling2D(pool_size=(2, 2)))\n",
        "model.add(Dropout(0.25))\n",
        "model.add(Conv2D(64, (2, 2), activation='relu'))\n",
        "model.add(MaxPooling2D(pool_size=(2, 2)))\n",
        "model.add(Dropout(0.5))\n",
        "model.add(Flatten())\n",
        "model.add(Dense(128, activation='relu'))\n",
        "model.add(Dropout(0.5))\n",
        "model.add(Dense(num_classes, activation='softmax'))\n",
        "\n",
        "model.compile(loss=tensorflow.keras.losses.categorical_crossentropy,\n",
        "              optimizer=tensorflow.keras.optimizers.Adam(),\n",
        "              metrics=['accuracy'])\n",
        "\n",
        "hist2=model.fit(x_train, y_train,\n",
        "          batch_size=batch_size,\n",
        "          epochs=epochs,\n",
        "          verbose=1,\n",
        "          validation_data=(x_test, y_test))\n",
        "score = model.evaluate(x_test, y_test, verbose=0)\n",
        "print('Test loss:', score[0])\n",
        "print('Test accuracy:', score[1])"
      ],
      "execution_count": 4,
      "outputs": [
        {
          "output_type": "stream",
          "text": [
            "Epoch 1/12\n",
            "469/469 [==============================] - 117s 249ms/step - loss: 0.3988 - accuracy: 0.8746 - val_loss: 0.0668 - val_accuracy: 0.9802\n",
            "Epoch 2/12\n",
            "469/469 [==============================] - 116s 248ms/step - loss: 0.1351 - accuracy: 0.9595 - val_loss: 0.0451 - val_accuracy: 0.9855\n",
            "Epoch 3/12\n",
            "469/469 [==============================] - 116s 247ms/step - loss: 0.1021 - accuracy: 0.9694 - val_loss: 0.0383 - val_accuracy: 0.9881\n",
            "Epoch 4/12\n",
            "469/469 [==============================] - 115s 246ms/step - loss: 0.0898 - accuracy: 0.9720 - val_loss: 0.0385 - val_accuracy: 0.9881\n",
            "Epoch 5/12\n",
            "469/469 [==============================] - 115s 245ms/step - loss: 0.0780 - accuracy: 0.9767 - val_loss: 0.0383 - val_accuracy: 0.9868\n",
            "Epoch 6/12\n",
            "469/469 [==============================] - 115s 244ms/step - loss: 0.0740 - accuracy: 0.9775 - val_loss: 0.0297 - val_accuracy: 0.9901\n",
            "Epoch 7/12\n",
            "469/469 [==============================] - 119s 254ms/step - loss: 0.0679 - accuracy: 0.9789 - val_loss: 0.0310 - val_accuracy: 0.9897\n",
            "Epoch 8/12\n",
            "469/469 [==============================] - 115s 246ms/step - loss: 0.0640 - accuracy: 0.9805 - val_loss: 0.0281 - val_accuracy: 0.9910\n",
            "Epoch 9/12\n",
            "469/469 [==============================] - 116s 247ms/step - loss: 0.0611 - accuracy: 0.9812 - val_loss: 0.0277 - val_accuracy: 0.9915\n",
            "Epoch 10/12\n",
            "469/469 [==============================] - 115s 246ms/step - loss: 0.0573 - accuracy: 0.9827 - val_loss: 0.0251 - val_accuracy: 0.9924\n",
            "Epoch 11/12\n",
            "469/469 [==============================] - 115s 245ms/step - loss: 0.0558 - accuracy: 0.9829 - val_loss: 0.0247 - val_accuracy: 0.9931\n",
            "Epoch 12/12\n",
            "469/469 [==============================] - 120s 257ms/step - loss: 0.0535 - accuracy: 0.9837 - val_loss: 0.0233 - val_accuracy: 0.9930\n",
            "Test loss: 0.0232684388756752\n",
            "Test accuracy: 0.9929999709129333\n"
          ],
          "name": "stdout"
        }
      ]
    },
    {
      "cell_type": "code",
      "metadata": {
        "id": "Fu3xcq2q05EF",
        "colab_type": "code",
        "colab": {
          "base_uri": "https://localhost:8080/",
          "height": 295
        },
        "outputId": "926f2415-846b-4ef4-d2eb-44bc30e7be6c"
      },
      "source": [
        "plt.plot(hist2.history['loss'])\n",
        "plt.plot(hist2.history['val_loss'])\n",
        "plt.title('model loss')\n",
        "plt.ylabel('loss')\n",
        "plt.xlabel('epoch')\n",
        "plt.legend(['train', 'test'], loc='upper left')\n",
        "plt.show()"
      ],
      "execution_count": 5,
      "outputs": [
        {
          "output_type": "display_data",
          "data": {
            "image/png": "[encoded data removed]",
            "text/plain": [
              "<Figure size 432x288 with 1 Axes>"
            ]
          },
          "metadata": {
            "tags": [],
            "needs_background": "light"
          }
        }
      ]
    },
    {
      "cell_type": "markdown",
      "metadata": {
        "id": "_2_WdU7-uJEI",
        "colab_type": "text"
      },
      "source": [
        "# 2"
      ]
    },
    {
      "cell_type": "code",
      "metadata": {
        "id": "4luDDbmwuJEJ",
        "colab_type": "code",
        "colab": {
          "base_uri": "https://localhost:8080/",
          "height": 459
        },
        "outputId": "817a2136-e7cd-4c58-b92c-2c218e95a7dd"
      },
      "source": [
        "from tensorflow.keras.layers import BatchNormalization\n",
        "model = Sequential()\n",
        "model.add(Conv2D(32, kernel_size=(5, 5),\n",
        "                 activation='relu',\n",
        "                 input_shape=input_shape))\n",
        "model.add(Conv2D(32, (5, 5), activation='relu'))\n",
        "model.add(MaxPooling2D(pool_size=(2, 2)))\n",
        "model.add(BatchNormalization())\n",
        "model.add(Dropout(0.4))\n",
        "\n",
        "model.add(Conv2D(64, (3, 3), activation='relu'))\n",
        "model.add(Conv2D(64, (3, 3), activation='relu'))\n",
        "model.add(MaxPooling2D(pool_size=(2, 2)))\n",
        "model.add(BatchNormalization())\n",
        "model.add(Dropout(0.4))\n",
        "\n",
        "model.add(Conv2D(128, (3, 3), activation='relu'))\n",
        "model.add(Flatten())\n",
        "\n",
        "model.add(Dense(128, activation='relu'))\n",
        "model.add(Dropout(0.5))\n",
        "model.add(Dense(num_classes, activation='softmax'))\n",
        "\n",
        "model.compile(loss=tensorflow.keras.losses.categorical_crossentropy,\n",
        "              optimizer=tensorflow.keras.optimizers.Adam(),\n",
        "              metrics=['accuracy'])\n",
        "\n",
        "hist3=model.fit(x_train, y_train,\n",
        "          batch_size=batch_size,\n",
        "          epochs=epochs,\n",
        "          verbose=1,\n",
        "          validation_data=(x_test, y_test))\n",
        "score = model.evaluate(x_test, y_test, verbose=0)\n",
        "print('Test loss:', score[0])\n",
        "print('Test accuracy:', score[1])"
      ],
      "execution_count": 6,
      "outputs": [
        {
          "output_type": "stream",
          "text": [
            "Epoch 1/12\n",
            "469/469 [==============================] - 177s 377ms/step - loss: 0.2660 - accuracy: 0.9174 - val_loss: 0.1020 - val_accuracy: 0.9685\n",
            "Epoch 2/12\n",
            "469/469 [==============================] - 177s 378ms/step - loss: 0.0804 - accuracy: 0.9770 - val_loss: 0.0392 - val_accuracy: 0.9893\n",
            "Epoch 3/12\n",
            "469/469 [==============================] - 177s 377ms/step - loss: 0.0636 - accuracy: 0.9823 - val_loss: 0.0318 - val_accuracy: 0.9898\n",
            "Epoch 4/12\n",
            "469/469 [==============================] - 176s 374ms/step - loss: 0.0510 - accuracy: 0.9854 - val_loss: 0.0476 - val_accuracy: 0.9855\n",
            "Epoch 5/12\n",
            "469/469 [==============================] - 174s 371ms/step - loss: 0.0500 - accuracy: 0.9857 - val_loss: 0.0311 - val_accuracy: 0.9910\n",
            "Epoch 6/12\n",
            "469/469 [==============================] - 175s 373ms/step - loss: 0.0440 - accuracy: 0.9872 - val_loss: 0.0289 - val_accuracy: 0.9909\n",
            "Epoch 7/12\n",
            "469/469 [==============================] - 174s 371ms/step - loss: 0.0378 - accuracy: 0.9888 - val_loss: 0.0275 - val_accuracy: 0.9927\n",
            "Epoch 8/12\n",
            "469/469 [==============================] - 174s 371ms/step - loss: 0.0377 - accuracy: 0.9891 - val_loss: 0.0299 - val_accuracy: 0.9908\n",
            "Epoch 9/12\n",
            "469/469 [==============================] - 174s 371ms/step - loss: 0.0332 - accuracy: 0.9906 - val_loss: 0.0248 - val_accuracy: 0.9934\n",
            "Epoch 10/12\n",
            "469/469 [==============================] - 174s 370ms/step - loss: 0.0334 - accuracy: 0.9902 - val_loss: 0.0222 - val_accuracy: 0.9931\n",
            "Epoch 11/12\n",
            "469/469 [==============================] - 174s 371ms/step - loss: 0.0323 - accuracy: 0.9905 - val_loss: 0.0213 - val_accuracy: 0.9939\n",
            "Epoch 12/12\n",
            "469/469 [==============================] - 174s 371ms/step - loss: 0.0284 - accuracy: 0.9910 - val_loss: 0.0217 - val_accuracy: 0.9945\n",
            "Test loss: 0.02169499732553959\n",
            "Test accuracy: 0.9944999814033508\n"
          ],
          "name": "stdout"
        }
      ]
    },
    {
      "cell_type": "code",
      "metadata": {
        "id": "2lTHmnj60-mO",
        "colab_type": "code",
        "colab": {
          "base_uri": "https://localhost:8080/",
          "height": 295
        },
        "outputId": "640b032e-505f-4002-9bcb-e9971fdb7caa"
      },
      "source": [
        "plt.plot(hist3.history['loss'])\n",
        "plt.plot(hist3.history['val_loss'])\n",
        "plt.title('model loss')\n",
        "plt.ylabel('loss')\n",
        "plt.xlabel('epoch')\n",
        "plt.legend(['train', 'test'], loc='upper left')\n",
        "plt.show()"
      ],
      "execution_count": 7,
      "outputs": [
        {
          "output_type": "display_data",
          "data": {
            "image/png": "[encoded data removed]",
            "text/plain": [
              "<Figure size 432x288 with 1 Axes>"
            ]
          },
          "metadata": {
            "tags": [],
            "needs_background": "light"
          }
        }
      ]
    },
    {
      "cell_type": "markdown",
      "metadata": {
        "id": "r7zvA4C5uJEM",
        "colab_type": "text"
      },
      "source": [
        "# 3"
      ]
    },
    {
      "cell_type": "code",
      "metadata": {
        "id": "kMMl4LuzuJEM",
        "colab_type": "code",
        "colab": {
          "base_uri": "https://localhost:8080/",
          "height": 459
        },
        "outputId": "808aec38-b225-40a7-da20-b2b4aeb385de"
      },
      "source": [
        "from tensorflow.keras.layers import BatchNormalization\n",
        "model = Sequential()\n",
        "model.add(Conv2D(32, kernel_size=(7, 7),\n",
        "                 activation='relu',\n",
        "                 input_shape=input_shape))\n",
        "model.add(Conv2D(32, (7, 7), activation='relu'))\n",
        "model.add(MaxPooling2D(pool_size=(2, 2)))\n",
        "model.add(BatchNormalization())\n",
        "model.add(Dropout(0.25))\n",
        "\n",
        "model.add(Conv2D(64, (7, 7), activation='relu',padding=\"same\"))\n",
        "model.add(Conv2D(64, (7, 7), activation='relu',padding=\"same\"))\n",
        "model.add(MaxPooling2D(pool_size=(2, 2)))\n",
        "model.add(BatchNormalization())\n",
        "model.add(Dropout(0.4))\n",
        "\n",
        "model.add(Conv2D(128, (3, 3), activation='relu',padding=\"same\"))\n",
        "model.add(Conv2D(128, (3, 3), activation='relu',padding=\"same\"))\n",
        "model.add(MaxPooling2D(pool_size=(2, 2)))\n",
        "model.add(BatchNormalization())\n",
        "model.add(Dropout(0.4))\n",
        "\n",
        "model.add(Conv2D(256, (3, 3), activation='relu',padding=\"same\"))\n",
        "model.add(Flatten())\n",
        "\n",
        "model.add(Dense(128, activation='relu'))\n",
        "model.add(Dropout(0.5))\n",
        "model.add(Dense(num_classes, activation='softmax'))\n",
        "\n",
        "model.compile(loss=tensorflow.keras.losses.categorical_crossentropy,\n",
        "              optimizer=tensorflow.keras.optimizers.Adam(),\n",
        "              metrics=['accuracy'])\n",
        "\n",
        "hist4=model.fit(x_train, y_train,\n",
        "          batch_size=batch_size,\n",
        "          epochs=epochs,\n",
        "          verbose=1,\n",
        "          validation_data=(x_test, y_test))\n",
        "score = model.evaluate(x_test, y_test, verbose=0)\n",
        "print('Test loss:', score[0])\n",
        "print('Test accuracy:', score[1])"
      ],
      "execution_count": 8,
      "outputs": [
        {
          "output_type": "stream",
          "text": [
            "Epoch 1/12\n",
            "469/469 [==============================] - 482s 1s/step - loss: 0.2320 - accuracy: 0.9317 - val_loss: 0.1042 - val_accuracy: 0.9673\n",
            "Epoch 2/12\n",
            "469/469 [==============================] - 484s 1s/step - loss: 0.0763 - accuracy: 0.9796 - val_loss: 0.0446 - val_accuracy: 0.9867\n",
            "Epoch 3/12\n",
            "469/469 [==============================] - 480s 1s/step - loss: 0.0608 - accuracy: 0.9843 - val_loss: 0.1031 - val_accuracy: 0.9716\n",
            "Epoch 4/12\n",
            "469/469 [==============================] - 484s 1s/step - loss: 0.0520 - accuracy: 0.9867 - val_loss: 0.0583 - val_accuracy: 0.9873\n",
            "Epoch 5/12\n",
            "469/469 [==============================] - 478s 1s/step - loss: 0.0456 - accuracy: 0.9880 - val_loss: 0.0388 - val_accuracy: 0.9887\n",
            "Epoch 6/12\n",
            "469/469 [==============================] - 480s 1s/step - loss: 0.0426 - accuracy: 0.9893 - val_loss: 0.0415 - val_accuracy: 0.9905\n",
            "Epoch 7/12\n",
            "469/469 [==============================] - 480s 1s/step - loss: 0.0375 - accuracy: 0.9901 - val_loss: 0.0537 - val_accuracy: 0.9895\n",
            "Epoch 8/12\n",
            "469/469 [==============================] - 480s 1s/step - loss: 0.0347 - accuracy: 0.9910 - val_loss: 0.0381 - val_accuracy: 0.9887\n",
            "Epoch 9/12\n",
            "469/469 [==============================] - 490s 1s/step - loss: 0.0337 - accuracy: 0.9912 - val_loss: 0.0394 - val_accuracy: 0.9904\n",
            "Epoch 10/12\n",
            "469/469 [==============================] - 490s 1s/step - loss: 0.0273 - accuracy: 0.9931 - val_loss: 0.0402 - val_accuracy: 0.9922\n",
            "Epoch 11/12\n",
            "469/469 [==============================] - 487s 1s/step - loss: 0.0289 - accuracy: 0.9927 - val_loss: 0.0390 - val_accuracy: 0.9905\n",
            "Epoch 12/12\n",
            "469/469 [==============================] - 480s 1s/step - loss: 0.0302 - accuracy: 0.9927 - val_loss: 0.0356 - val_accuracy: 0.9919\n",
            "Test loss: 0.03558824583888054\n",
            "Test accuracy: 0.9919000267982483\n"
          ],
          "name": "stdout"
        }
      ]
    },
    {
      "cell_type": "code",
      "metadata": {
        "id": "YVkL82h51Dni",
        "colab_type": "code",
        "colab": {
          "base_uri": "https://localhost:8080/",
          "height": 295
        },
        "outputId": "00f08ea4-0702-4e34-d68b-084a1b897a12"
      },
      "source": [
        "plt.plot(hist4.history['loss'])\n",
        "plt.plot(hist4.history['val_loss'])\n",
        "plt.title('model loss')\n",
        "plt.ylabel('loss')\n",
        "plt.xlabel('epoch')\n",
        "plt.legend(['train', 'test'], loc='upper left')\n",
        "plt.show()"
      ],
      "execution_count": 9,
      "outputs": [
        {
          "output_type": "display_data",
          "data": {
            "image/png": "[encoded data removed]",
            "text/plain": [
              "<Figure size 432x288 with 1 Axes>"
            ]
          },
          "metadata": {
            "tags": [],
            "needs_background": "light"
          }
        }
      ]
    },
    {
      "cell_type": "code",
      "metadata": {
        "id": "_Ufv1EN3uJEP",
        "colab_type": "code",
        "colab": {
          "base_uri": "https://localhost:8080/",
          "height": 153
        },
        "outputId": "f66dff90-988d-4273-e7f9-10325df9913a"
      },
      "source": [
        "from prettytable import PrettyTable\n",
        "x = PrettyTable()\n",
        "x.field_names = [\"Kernel\", \"Conv layers\", \"Test Score\", \"Test Accuracy\"]\n",
        "\n",
        "x.add_row([\"3*3\", 2, 0.73, 0.84])\n",
        "x.add_row([\"2*2\", 3,0.02, 0.99])\n",
        "x.add_row([\"5*5\", 5, 0.02, 0.99])\n",
        "x.add_row([\"7*7\", 7,0.04, 0.99])\n",
        "print (x)"
      ],
      "execution_count": 1,
      "outputs": [
        {
          "output_type": "stream",
          "text": [
            "+--------+-------------+------------+---------------+\n",
            "| Kernel | Conv layers | Test Score | Test Accuracy |\n",
            "+--------+-------------+------------+---------------+\n",
            "|  3*3   |      2      |    0.73    |      0.84     |\n",
            "|  2*2   |      3      |    0.02    |      0.99     |\n",
            "|  5*5   |      5      |    0.02    |      0.99     |\n",
            "|  7*7   |      7      |    0.04    |      0.99     |\n",
            "+--------+-------------+------------+---------------+\n"
          ],
          "name": "stdout"
        }
      ]
    },
    {
      "cell_type": "markdown",
      "metadata": {
        "id": "o_nVm5tM6nkw",
        "colab_type": "text"
      },
      "source": [
        "Observations -\n",
        "1. As the number of epochs increases, the loss goes on decreasing.\n",
        "2. More layers give more accuracy.\n",
        "3. The best accuracy obtained is 0.99.\n"
      ]
    }
  ]
}
