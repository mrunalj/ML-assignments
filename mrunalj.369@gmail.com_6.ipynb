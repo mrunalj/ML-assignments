{
 "cells": [
  {
   "cell_type": "code",
   "execution_count": 1,
   "metadata": {
    "colab": {},
    "colab_type": "code",
    "id": "REYPoTJ1Af7u"
   },
   "outputs": [],
   "source": [
    "import warnings\n",
    "warnings.filterwarnings(\"ignore\")\n",
    "from sklearn.datasets import load_boston\n",
    "from random import seed\n",
    "from random import randrange\n",
    "from csv import reader\n",
    "from math import sqrt\n",
    "from sklearn import preprocessing\n",
    "import pandas as pd\n",
    "import numpy as np\n",
    "import matplotlib.pyplot as plt\n",
    "from prettytable import PrettyTable\n",
    "from sklearn.linear_model import SGDRegressor\n",
    "from sklearn import preprocessing\n",
    "from sklearn.metrics import mean_squared_error\n"
   ]
  },
  {
   "cell_type": "code",
   "execution_count": 6,
   "metadata": {},
   "outputs": [],
   "source": [
    "from sklearn.model_selection import train_test_split"
   ]
  },
  {
   "cell_type": "code",
   "execution_count": 12,
   "metadata": {
    "colab": {},
    "colab_type": "code",
    "id": "NTQ2iH-kAwbo"
   },
   "outputs": [
    {
     "name": "stdout",
     "output_type": "stream",
     "text": [
      "(506, 13)\n",
      "(506,)\n"
     ]
    }
   ],
   "source": [
    "X = load_boston().data\n",
    "Y = load_boston().target\n",
    "print(X.shape)\n",
    "print(Y.shape)"
   ]
  },
  {
   "cell_type": "code",
   "execution_count": 14,
   "metadata": {},
   "outputs": [
    {
     "data": {
      "text/html": [
       "<div>\n",
       "<style scoped>\n",
       "    .dataframe tbody tr th:only-of-type {\n",
       "        vertical-align: middle;\n",
       "    }\n",
       "\n",
       "    .dataframe tbody tr th {\n",
       "        vertical-align: top;\n",
       "    }\n",
       "\n",
       "    .dataframe thead th {\n",
       "        text-align: right;\n",
       "    }\n",
       "</style>\n",
       "<table border=\"1\" class=\"dataframe\">\n",
       "  <thead>\n",
       "    <tr style=\"text-align: right;\">\n",
       "      <th></th>\n",
       "      <th>0</th>\n",
       "      <th>1</th>\n",
       "      <th>2</th>\n",
       "      <th>3</th>\n",
       "      <th>4</th>\n",
       "      <th>5</th>\n",
       "      <th>6</th>\n",
       "      <th>7</th>\n",
       "      <th>8</th>\n",
       "      <th>9</th>\n",
       "      <th>10</th>\n",
       "      <th>11</th>\n",
       "      <th>12</th>\n",
       "      <th>price</th>\n",
       "    </tr>\n",
       "  </thead>\n",
       "  <tbody>\n",
       "    <tr>\n",
       "      <th>0</th>\n",
       "      <td>0.965593</td>\n",
       "      <td>-0.507195</td>\n",
       "      <td>1.060995</td>\n",
       "      <td>-0.236801</td>\n",
       "      <td>1.605892</td>\n",
       "      <td>0.254422</td>\n",
       "      <td>0.938217</td>\n",
       "      <td>-0.879312</td>\n",
       "      <td>1.678968</td>\n",
       "      <td>1.554097</td>\n",
       "      <td>0.806164</td>\n",
       "      <td>-3.573022</td>\n",
       "      <td>1.577620</td>\n",
       "      <td>11.8</td>\n",
       "    </tr>\n",
       "    <tr>\n",
       "      <th>1</th>\n",
       "      <td>0.619917</td>\n",
       "      <td>-0.507195</td>\n",
       "      <td>1.060995</td>\n",
       "      <td>-0.236801</td>\n",
       "      <td>0.260231</td>\n",
       "      <td>-1.193514</td>\n",
       "      <td>0.960272</td>\n",
       "      <td>-0.668641</td>\n",
       "      <td>1.678968</td>\n",
       "      <td>1.554097</td>\n",
       "      <td>0.806164</td>\n",
       "      <td>-0.066774</td>\n",
       "      <td>0.758763</td>\n",
       "      <td>13.8</td>\n",
       "    </tr>\n",
       "    <tr>\n",
       "      <th>2</th>\n",
       "      <td>1.023246</td>\n",
       "      <td>-0.507195</td>\n",
       "      <td>1.060995</td>\n",
       "      <td>-0.236801</td>\n",
       "      <td>0.984818</td>\n",
       "      <td>-1.924498</td>\n",
       "      <td>1.129357</td>\n",
       "      <td>-1.267236</td>\n",
       "      <td>1.678968</td>\n",
       "      <td>1.554097</td>\n",
       "      <td>0.806164</td>\n",
       "      <td>0.435284</td>\n",
       "      <td>3.090542</td>\n",
       "      <td>13.8</td>\n",
       "    </tr>\n",
       "    <tr>\n",
       "      <th>3</th>\n",
       "      <td>-0.440956</td>\n",
       "      <td>-0.507195</td>\n",
       "      <td>-0.555266</td>\n",
       "      <td>-0.236801</td>\n",
       "      <td>-0.731762</td>\n",
       "      <td>0.201106</td>\n",
       "      <td>0.353772</td>\n",
       "      <td>0.540991</td>\n",
       "      <td>-0.863002</td>\n",
       "      <td>-0.974253</td>\n",
       "      <td>-0.287906</td>\n",
       "      <td>0.435284</td>\n",
       "      <td>-0.503174</td>\n",
       "      <td>21.6</td>\n",
       "    </tr>\n",
       "    <tr>\n",
       "      <th>4</th>\n",
       "      <td>-0.026531</td>\n",
       "      <td>-0.507195</td>\n",
       "      <td>1.060995</td>\n",
       "      <td>-0.236801</td>\n",
       "      <td>0.872680</td>\n",
       "      <td>-0.727705</td>\n",
       "      <td>-0.774684</td>\n",
       "      <td>-0.365101</td>\n",
       "      <td>1.678968</td>\n",
       "      <td>1.554097</td>\n",
       "      <td>0.806164</td>\n",
       "      <td>-0.272717</td>\n",
       "      <td>0.196500</td>\n",
       "      <td>19.9</td>\n",
       "    </tr>\n",
       "  </tbody>\n",
       "</table>\n",
       "</div>"
      ],
      "text/plain": [
       "          0         1         2         3         4         5         6  \\\n",
       "0  0.965593 -0.507195  1.060995 -0.236801  1.605892  0.254422  0.938217   \n",
       "1  0.619917 -0.507195  1.060995 -0.236801  0.260231 -1.193514  0.960272   \n",
       "2  1.023246 -0.507195  1.060995 -0.236801  0.984818 -1.924498  1.129357   \n",
       "3 -0.440956 -0.507195 -0.555266 -0.236801 -0.731762  0.201106  0.353772   \n",
       "4 -0.026531 -0.507195  1.060995 -0.236801  0.872680 -0.727705 -0.774684   \n",
       "\n",
       "          7         8         9        10        11        12  price  \n",
       "0 -0.879312  1.678968  1.554097  0.806164 -3.573022  1.577620   11.8  \n",
       "1 -0.668641  1.678968  1.554097  0.806164 -0.066774  0.758763   13.8  \n",
       "2 -1.267236  1.678968  1.554097  0.806164  0.435284  3.090542   13.8  \n",
       "3  0.540991 -0.863002 -0.974253 -0.287906  0.435284 -0.503174   21.6  \n",
       "4 -0.365101  1.678968  1.554097  0.806164 -0.272717  0.196500   19.9  "
      ]
     },
     "execution_count": 14,
     "metadata": {},
     "output_type": "execute_result"
    }
   ],
   "source": [
    "data=pd.DataFrame(x_train)\n",
    "data['price']=y_train\n",
    "data.head()"
   ]
  },
  {
   "cell_type": "code",
   "execution_count": 15,
   "metadata": {},
   "outputs": [
    {
     "name": "stdout",
     "output_type": "stream",
     "text": [
      "(339, 13)\n",
      "(167, 13)\n"
     ]
    }
   ],
   "source": [
    "x_train,x_test,y_train,y_test=train_test_split(X,Y,test_size=0.33)\n",
    "print(x_train.shape)\n",
    "print(x_test.shape)"
   ]
  },
  {
   "cell_type": "code",
   "execution_count": 16,
   "metadata": {
    "colab": {},
    "colab_type": "code",
    "id": "FgUW39s6Be0U"
   },
   "outputs": [],
   "source": [
    "scaler = preprocessing.StandardScaler().fit(x_train)\n",
    "x_train = scaler.transform(x_train)\n",
    "x_test = scaler.transform(x_test)"
   ]
  },
  {
   "cell_type": "markdown",
   "metadata": {},
   "source": [
    "Linear regression with sklearn"
   ]
  },
  {
   "cell_type": "code",
   "execution_count": 17,
   "metadata": {
    "colab": {
     "base_uri": "https://localhost:8080/",
     "height": 34
    },
    "colab_type": "code",
    "executionInfo": {
     "elapsed": 879,
     "status": "ok",
     "timestamp": 1545718892607,
     "user": {
      "displayName": "Applied AI Course",
      "photoUrl": "https://lh5.googleusercontent.com/-9_3A9F-kDXs/AAAAAAAAAAI/AAAAAAAAACw/IprjYvUuoXQ/s64/photo.jpg",
      "userId": "00484516897554883881"
     },
     "user_tz": -330
    },
    "id": "HNu1sXtEBBS2",
    "outputId": "a0c5d3d0-345c-4a34-8ccf-0d9f3d7d23fd"
   },
   "outputs": [
    {
     "data": {
      "text/plain": [
       "SGDRegressor(alpha=0.0001, average=False, early_stopping=False, epsilon=0.1,\n",
       "             eta0=0.01, fit_intercept=True, l1_ratio=0.15,\n",
       "             learning_rate='invscaling', loss='squared_loss', max_iter=1000,\n",
       "             n_iter_no_change=5, penalty='l2', power_t=0.25, random_state=None,\n",
       "             shuffle=True, tol=0.001, validation_fraction=0.1, verbose=0,\n",
       "             warm_start=False)"
      ]
     },
     "execution_count": 17,
     "metadata": {},
     "output_type": "execute_result"
    }
   ],
   "source": [
    "clf = SGDRegressor()\n",
    "clf.fit(x_train, y_train)\n"
   ]
  },
  {
   "cell_type": "code",
   "execution_count": 35,
   "metadata": {},
   "outputs": [
    {
     "data": {
      "text/plain": [
       "{'alpha': 0.0001,\n",
       " 'average': False,\n",
       " 'early_stopping': False,\n",
       " 'epsilon': 0.1,\n",
       " 'eta0': 0.01,\n",
       " 'fit_intercept': True,\n",
       " 'l1_ratio': 0.15,\n",
       " 'learning_rate': 'invscaling',\n",
       " 'loss': 'squared_loss',\n",
       " 'max_iter': 1000,\n",
       " 'n_iter_no_change': 5,\n",
       " 'penalty': 'l2',\n",
       " 'power_t': 0.25,\n",
       " 'random_state': None,\n",
       " 'shuffle': True,\n",
       " 'tol': 0.001,\n",
       " 'validation_fraction': 0.1,\n",
       " 'verbose': 0,\n",
       " 'warm_start': False}"
      ]
     },
     "execution_count": 35,
     "metadata": {},
     "output_type": "execute_result"
    }
   ],
   "source": [
    "clf.get_params()"
   ]
  },
  {
   "cell_type": "code",
   "execution_count": 18,
   "metadata": {},
   "outputs": [],
   "source": [
    "y_pred_1 = clf.predict(x_test)"
   ]
  },
  {
   "cell_type": "code",
   "execution_count": 21,
   "metadata": {},
   "outputs": [
    {
     "data": {
      "image/png": "[encoded data removed]",
      "text/plain": [
       "<Figure size 432x288 with 1 Axes>"
      ]
     },
     "metadata": {
      "needs_background": "light"
     },
     "output_type": "display_data"
    },
    {
     "name": "stdout",
     "output_type": "stream",
     "text": [
      "Mean Squared Error : 27.45543586819582\n"
     ]
    }
   ],
   "source": [
    "plt.scatter(y_test,y_pred_1)\n",
    "plt.grid()\n",
    "plt.xlabel('Actual y')\n",
    "plt.ylabel('Predicted y')\n",
    "plt.title('Scatter plot')\n",
    "plt.show()\n",
    "\n",
    "print('Mean Squared Error :',mean_squared_error(y_test, y_pred_1))"
   ]
  },
  {
   "cell_type": "markdown",
   "metadata": {},
   "source": [
    "Linear regression with custom SGD"
   ]
  },
  {
   "cell_type": "code",
   "execution_count": 25,
   "metadata": {},
   "outputs": [],
   "source": [
    "#Code referred from https://medium.com/@nikhilparmar9/simple-sgd-implementation-in-python-for-linear-regression-on-boston-housing-data-f63fcaaecfb1\n",
    "\n",
    "def sgd(train_data,learning_rate,n_iter,k,divideby):\n",
    "    \n",
    "    # Initially we will keep our W and B as 0 as per the Training Data\n",
    "    w=np.zeros(shape=(1,train_data.shape[1]-1))\n",
    "    b=0\n",
    "    \n",
    "    cur_iter=1\n",
    "    while(cur_iter<=n_iter): \n",
    "\n",
    "        # We will create a small training data set of size K\n",
    "        temp=train_data.sample(k)\n",
    "        \n",
    "        # We create our X and Y from the above temp dataset\n",
    "        y=np.array(temp['price'])\n",
    "        x=np.array(temp.drop('price',axis=1))\n",
    "        \n",
    "        # We keep our initial gradients as 0\n",
    "        w_gradient=np.zeros(shape=(1,train_data.shape[1]-1))\n",
    "        b_gradient=0\n",
    "        \n",
    "        for i in range(k): # Calculating gradients for point in our K sized dataset\n",
    "            prediction=np.dot(w,x[i])+b\n",
    "            w_gradient=w_gradient+(-2)*x[i]*(y[i]-(prediction))\n",
    "            b_gradient=b_gradient+(-2)*(y[i]-(prediction))\n",
    "        \n",
    "        #Updating the weights(W) and Bias(b) with the above calculated Gradients\n",
    "        w=w-learning_rate*(w_gradient/k)\n",
    "        b=b-learning_rate*(b_gradient/k)\n",
    "        \n",
    "        # Incrementing the iteration value\n",
    "        cur_iter=cur_iter+1\n",
    "        \n",
    "        #Dividing the learning rate by the specified value\n",
    "        learning_rate=learning_rate/divideby\n",
    "        \n",
    "    return w,b #Returning the weights and Bias"
   ]
  },
  {
   "cell_type": "code",
   "execution_count": 23,
   "metadata": {},
   "outputs": [],
   "source": [
    "def predict(x,w,b):\n",
    "    y_pred=[]\n",
    "    for i in range(len(x)):\n",
    "        y=np.asscalar(np.dot(w,x[i])+b)\n",
    "        y_pred.append(y)\n",
    "    return np.array(y_pred)"
   ]
  },
  {
   "cell_type": "markdown",
   "metadata": {},
   "source": [
    "learning_rate(r0)=1\n",
    "n_iter=200\n",
    "k(batch_size)=10\n",
    "divideby=2"
   ]
  },
  {
   "cell_type": "code",
   "execution_count": 26,
   "metadata": {},
   "outputs": [
    {
     "data": {
      "image/png": "[encoded data removed]",
      "text/plain": [
       "<Figure size 432x288 with 1 Axes>"
      ]
     },
     "metadata": {
      "needs_background": "light"
     },
     "output_type": "display_data"
    },
    {
     "name": "stdout",
     "output_type": "stream",
     "text": [
      "Mean Squared Error : 233.9796736260269\n"
     ]
    }
   ],
   "source": [
    "w,b=sgd(data,learning_rate=1,n_iter=200,divideby=2,k=10)\n",
    "y_pred_2=predict(x_test,w,b)\n",
    "\n",
    "plt.scatter(y_test,y_pred_2)\n",
    "plt.grid()\n",
    "plt.xlabel('Actual y')\n",
    "plt.ylabel('Predicted y')\n",
    "plt.title('Scatter plot from actual y and predicted y')\n",
    "plt.show()\n",
    "print('Mean Squared Error :',mean_squared_error(y_test, y_pred_2))"
   ]
  },
  {
   "cell_type": "markdown",
   "metadata": {},
   "source": [
    "learning_rate(r0)=0.01\n",
    "n_iter=1000\n",
    "k(batch_size)=20\n",
    "divideby=2"
   ]
  },
  {
   "cell_type": "code",
   "execution_count": 30,
   "metadata": {},
   "outputs": [
    {
     "data": {
      "image/png": "[encoded data removed]",
      "text/plain": [
       "<Figure size 432x288 with 1 Axes>"
      ]
     },
     "metadata": {
      "needs_background": "light"
     },
     "output_type": "display_data"
    },
    {
     "name": "stdout",
     "output_type": "stream",
     "text": [
      "Mean Squared Error : 579.3591078471009\n"
     ]
    }
   ],
   "source": [
    "w,b=sgd(data,learning_rate=0.01,n_iter=1000,divideby=2,k=20)\n",
    "y_pred_3=predict(x_test,w,b)\n",
    "\n",
    "plt.scatter(y_test,y_pred_3)\n",
    "plt.grid()\n",
    "plt.xlabel('Actual y')\n",
    "plt.ylabel('Predicted y')\n",
    "plt.title('Scatter plot from actual y and predicted y')\n",
    "plt.show()\n",
    "print('Mean Squared Error :',mean_squared_error(y_test, y_pred_3))"
   ]
  },
  {
   "cell_type": "markdown",
   "metadata": {},
   "source": [
    "learning_rate(r0)=0.001\n",
    "n_iter=1500\n",
    "k(batch_size)=10\n",
    "divideby=1"
   ]
  },
  {
   "cell_type": "code",
   "execution_count": 33,
   "metadata": {},
   "outputs": [
    {
     "data": {
      "image/png": "[encoded data removed]",
      "text/plain": [
       "<Figure size 432x288 with 1 Axes>"
      ]
     },
     "metadata": {
      "needs_background": "light"
     },
     "output_type": "display_data"
    },
    {
     "name": "stdout",
     "output_type": "stream",
     "text": [
      "Mean Squared Error : 28.27203370743585\n"
     ]
    }
   ],
   "source": [
    "w,b=sgd(data,learning_rate=0.001,n_iter=1500,divideby=1,k=10)\n",
    "y_pred_4=predict(x_test,w,b)\n",
    "\n",
    "plt.scatter(y_test,y_pred_4)\n",
    "plt.grid()\n",
    "plt.xlabel('Actual y')\n",
    "plt.ylabel('Predicted y')\n",
    "plt.title('Scatter plot from actual y and predicted y')\n",
    "plt.show()\n",
    "print('Mean Squared Error :',mean_squared_error(y_test, y_pred_4))"
   ]
  },
  {
   "cell_type": "code",
   "execution_count": 37,
   "metadata": {},
   "outputs": [
    {
     "name": "stdout",
     "output_type": "stream",
     "text": [
      "+--------------+---------------+------------+--------+\n",
      "|    Model     | Learning rate | Iterations |  MSE   |\n",
      "+--------------+---------------+------------+--------+\n",
      "| SGDregressor |   invscaling  |    1000    | 27.45  |\n",
      "|  Custom SGD  |       1       |    200     | 233.97 |\n",
      "|  Custom SGD  |      0.01     |    1000    | 579.35 |\n",
      "|  Custom SGD  |     0.001     |    1500    | 28.27  |\n",
      "+--------------+---------------+------------+--------+\n"
     ]
    }
   ],
   "source": [
    "x = PrettyTable()\n",
    "x.field_names = [\"Model\", \"Learning rate\", \"Iterations\",\"MSE\"]\n",
    "\n",
    "x.add_row([\"SGDregressor\", 'invscaling',1000, 27.45])\n",
    "x.add_row([\"Custom SGD\", 1,200, 233.97])\n",
    "x.add_row([\"Custom SGD\", 0.01,1000,579.35])\n",
    "x.add_row([\"Custom SGD\", 0.001,1500,28.27])\n",
    "\n",
    "print (x)"
   ]
  },
  {
   "cell_type": "markdown",
   "metadata": {},
   "source": [
    "SUMMARY :\n",
    "1. We got an MSE of 27.45 with sklearn's SGDregressor.\n",
    "2. With our custom SGD, we got similar results after changing the hyperparameters."
   ]
  }
 ],
 "metadata": {
  "colab": {
   "name": "Untitled3.ipynb",
   "provenance": [],
   "version": "0.3.2"
  },
  "kernelspec": {
   "display_name": "Python 3",
   "language": "python",
   "name": "python3"
  },
  "language_info": {
   "codemirror_mode": {
    "name": "ipython",
    "version": 3
   },
   "file_extension": ".py",
   "mimetype": "text/x-python",
   "name": "python",
   "nbconvert_exporter": "python",
   "pygments_lexer": "ipython3",
   "version": "3.7.6"
  }
 },
 "nbformat": 4,
 "nbformat_minor": 1
}
