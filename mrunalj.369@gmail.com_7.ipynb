{
  "nbformat": 4,
  "nbformat_minor": 0,
  "metadata": {
    "colab": {
      "name": "mrunalj.369@gmail.com_7.ipynb",
      "provenance": [],
      "collapsed_sections": [
        "1xr5XNfxoUHJ",
        "k_rW-gxmoUHR",
        "VMvzxx_koUHR",
        "HjDdqenYoUHX",
        "ElMda-g1oUHZ",
        "919fc_i1oUHf"
      ],
      "toc_visible": true
    },
    "kernelspec": {
      "display_name": "Python 3",
      "language": "python",
      "name": "python3"
    },
    "language_info": {
      "codemirror_mode": {
        "name": "ipython",
        "version": 3
      },
      "file_extension": ".py",
      "mimetype": "text/x-python",
      "name": "python",
      "nbconvert_exporter": "python",
      "pygments_lexer": "ipython3",
      "version": "3.6.5"
    }
  },
  "cells": [
    {
      "cell_type": "markdown",
      "metadata": {
        "colab_type": "text",
        "id": "33R7Ev5IoUFw"
      },
      "source": [
        "# DonorsChoose"
      ]
    },
    {
      "cell_type": "markdown",
      "metadata": {
        "colab_type": "text",
        "id": "33uDdN2EoUFz"
      },
      "source": [
        "<p>\n",
        "DonorsChoose.org receives hundreds of thousands of project proposals each year for classroom projects in need of funding. Right now, a large number of volunteers is needed to manually screen each submission before it's approved to be posted on the DonorsChoose.org website.\n",
        "</p>\n",
        "<p>\n",
        "    Next year, DonorsChoose.org expects to receive close to 500,000 project proposals. As a result, there are three main problems they need to solve:\n",
        "<ul>\n",
        "<li>\n",
        "    How to scale current manual processes and resources to screen 500,000 projects so that they can be posted as quickly and as efficiently as possible</li>\n",
        "    <li>How to increase the consistency of project vetting across different volunteers to improve the experience for teachers</li>\n",
        "    <li>How to focus volunteer time on the applications that need the most assistance</li>\n",
        "    </ul>\n",
        "</p>    \n",
        "<p>\n",
        "The goal of the competition is to predict whether or not a DonorsChoose.org project proposal submitted by a teacher will be approved, using the text of project descriptions as well as additional metadata about the project, teacher, and school. DonorsChoose.org can then use this information to identify projects most likely to need further review before approval.\n",
        "</p>"
      ]
    },
    {
      "cell_type": "markdown",
      "metadata": {
        "colab_type": "text",
        "id": "W447mRzLoUF2"
      },
      "source": [
        "## About the DonorsChoose Data Set\n",
        "\n",
        "The `train.csv` data set provided by DonorsChoose contains the following features:\n",
        "\n",
        "Feature | Description \n",
        "----------|---------------\n",
        "**`project_id`** | A unique identifier for the proposed project. **Example:** `p036502`   \n",
        "**`project_title`**    | Title of the project. **Examples:**<br><ul><li><code>Art Will Make You Happy!</code></li><li><code>First Grade Fun</code></li></ul> \n",
        "**`project_grade_category`** | Grade level of students for which the project is targeted. One of the following enumerated values: <br/><ul><li><code>Grades PreK-2</code></li><li><code>Grades 3-5</code></li><li><code>Grades 6-8</code></li><li><code>Grades 9-12</code></li></ul>  \n",
        " **`project_subject_categories`** | One or more (comma-separated) subject categories for the project from the following enumerated list of values:  <br/><ul><li><code>Applied Learning</code></li><li><code>Care &amp; Hunger</code></li><li><code>Health &amp; Sports</code></li><li><code>History &amp; Civics</code></li><li><code>Literacy &amp; Language</code></li><li><code>Math &amp; Science</code></li><li><code>Music &amp; The Arts</code></li><li><code>Special Needs</code></li><li><code>Warmth</code></li></ul><br/> **Examples:** <br/><ul><li><code>Music &amp; The Arts</code></li><li><code>Literacy &amp; Language, Math &amp; Science</code></li>  \n",
        "  **`school_state`** | State where school is located ([Two-letter U.S. postal code](https://en.wikipedia.org/wiki/List_of_U.S._state_abbreviations#Postal_codes)). **Example:** `WY`\n",
        "**`project_subject_subcategories`** | One or more (comma-separated) subject subcategories for the project. **Examples:** <br/><ul><li><code>Literacy</code></li><li><code>Literature &amp; Writing, Social Sciences</code></li></ul> \n",
        "**`project_resource_summary`** | An explanation of the resources needed for the project. **Example:** <br/><ul><li><code>My students need hands on literacy materials to manage sensory needs!</code</li></ul> \n",
        "**`project_essay_1`**    | First application essay<sup>*</sup>  \n",
        "**`project_essay_2`**    | Second application essay<sup>*</sup> \n",
        "**`project_essay_3`**    | Third application essay<sup>*</sup> \n",
        "**`project_essay_4`**    | Fourth application essay<sup>*</sup> \n",
        "**`project_submitted_datetime`** | Datetime when project application was submitted. **Example:** `2016-04-28 12:43:56.245`   \n",
        "**`teacher_id`** | A unique identifier for the teacher of the proposed project. **Example:** `bdf8baa8fedef6bfeec7ae4ff1c15c56`  \n",
        "**`teacher_prefix`** | Teacher's title. One of the following enumerated values: <br/><ul><li><code>nan</code></li><li><code>Dr.</code></li><li><code>Mr.</code></li><li><code>Mrs.</code></li><li><code>Ms.</code></li><li><code>Teacher.</code></li></ul>  \n",
        "**`teacher_number_of_previously_posted_projects`** | Number of project applications previously submitted by the same teacher. **Example:** `2` \n",
        "\n",
        "<sup>*</sup> See the section <b>Notes on the Essay Data</b> for more details about these features.\n",
        "\n",
        "Additionally, the `resources.csv` data set provides more data about the resources required for each project. Each line in this file represents a resource required by a project:\n",
        "\n",
        "Feature | Description \n",
        "----------|---------------\n",
        "**`id`** | A `project_id` value from the `train.csv` file.  **Example:** `p036502`   \n",
        "**`description`** | Desciption of the resource. **Example:** `Tenor Saxophone Reeds, Box of 25`   \n",
        "**`quantity`** | Quantity of the resource required. **Example:** `3`   \n",
        "**`price`** | Price of the resource required. **Example:** `9.95`   \n",
        "\n",
        "**Note:** Many projects require multiple resources. The `id` value corresponds to a `project_id` in train.csv, so you use it as a key to retrieve all resources needed for a project:\n",
        "\n",
        "The data set contains the following label (the value you will attempt to predict):\n",
        "\n",
        "Label | Description\n",
        "----------|---------------\n",
        "`project_is_approved` | A binary flag indicating whether DonorsChoose approved the project. A value of `0` indicates the project was not approved, and a value of `1` indicates the project was approved."
      ]
    },
    {
      "cell_type": "markdown",
      "metadata": {
        "colab_type": "text",
        "id": "iydYV-rsoUF4"
      },
      "source": [
        "### Notes on the Essay Data\n",
        "\n",
        "<ul>\n",
        "Prior to May 17, 2016, the prompts for the essays were as follows:\n",
        "<li>__project_essay_1:__ \"Introduce us to your classroom\"</li>\n",
        "<li>__project_essay_2:__ \"Tell us more about your students\"</li>\n",
        "<li>__project_essay_3:__ \"Describe how your students will use the materials you're requesting\"</li>\n",
        "<li>__project_essay_3:__ \"Close by sharing why your project will make a difference\"</li>\n",
        "</ul>\n",
        "\n",
        "\n",
        "<ul>\n",
        "Starting on May 17, 2016, the number of essays was reduced from 4 to 2, and the prompts for the first 2 essays were changed to the following:<br>\n",
        "<li>__project_essay_1:__ \"Describe your students: What makes your students special? Specific details about their background, your neighborhood, and your school are all helpful.\"</li>\n",
        "<li>__project_essay_2:__ \"About your project: How will these materials make a difference in your students' learning and improve their school lives?\"</li>\n",
        "<br>For all projects with project_submitted_datetime of 2016-05-17 and later, the values of project_essay_3 and project_essay_4 will be NaN.\n",
        "</ul>\n"
      ]
    },
    {
      "cell_type": "code",
      "metadata": {
        "colab_type": "code",
        "id": "CB_mY9_roUF6",
        "outputId": "c891ab86-6592-4717-dae4-8fd9a402afde",
        "colab": {
          "base_uri": "https://localhost:8080/"
        }
      },
      "source": [
        "%matplotlib inline\n",
        "import warnings\n",
        "warnings.filterwarnings(\"ignore\")\n",
        "\n",
        "import sqlite3\n",
        "import pandas as pd\n",
        "import numpy as np\n",
        "import nltk\n",
        "import string\n",
        "import matplotlib.pyplot as plt\n",
        "import seaborn as sns\n",
        "from sklearn.feature_extraction.text import TfidfTransformer\n",
        "from sklearn.feature_extraction.text import TfidfVectorizer\n",
        "\n",
        "from sklearn.feature_extraction.text import CountVectorizer\n",
        "from sklearn.metrics import confusion_matrix\n",
        "from sklearn import metrics\n",
        "from sklearn.metrics import roc_curve, auc\n",
        "from nltk.stem.porter import PorterStemmer\n",
        "\n",
        "import re\n",
        "# Tutorial about Python regular expressions: https://pymotw.com/2/re/\n",
        "import string\n",
        "from nltk.corpus import stopwords\n",
        "from nltk.stem import PorterStemmer\n",
        "from nltk.stem.wordnet import WordNetLemmatizer\n",
        "\n",
        "from gensim.models import Word2Vec\n",
        "from gensim.models import KeyedVectors\n",
        "import pickle\n",
        "\n",
        "from tqdm import tqdm\n",
        "import os\n",
        "!pip install chart_studio\n",
        "from chart_studio import plotly\n",
        "import plotly.offline as offline\n",
        "import plotly.graph_objs as go\n",
        "offline.init_notebook_mode()\n",
        "from collections import Counter"
      ],
      "execution_count": 0,
      "outputs": [
        {
          "output_type": "stream",
          "text": [
            "Collecting chart_studio\n",
            "\u001b[?25l  Downloading https://files.pythonhosted.org/packages/ca/ce/330794a6b6ca4b9182c38fc69dd2a9cbff60fd49421cb8648ee5fee352dc/chart_studio-1.1.0-py3-none-any.whl (64kB)\n",
            "\r\u001b[K     |█████                           | 10kB 17.3MB/s eta 0:00:01\r\u001b[K     |██████████▏                     | 20kB 1.8MB/s eta 0:00:01\r\u001b[K     |███████████████▎                | 30kB 2.3MB/s eta 0:00:01\r\u001b[K     |████████████████████▍           | 40kB 2.5MB/s eta 0:00:01\r\u001b[K     |█████████████████████████▍      | 51kB 2.1MB/s eta 0:00:01\r\u001b[K     |██████████████████████████████▌ | 61kB 2.3MB/s eta 0:00:01\r\u001b[K     |████████████████████████████████| 71kB 2.2MB/s \n",
            "\u001b[?25hRequirement already satisfied: requests in /usr/local/lib/python3.6/dist-packages (from chart_studio) (2.23.0)\n",
            "Requirement already satisfied: plotly in /usr/local/lib/python3.6/dist-packages (from chart_studio) (4.4.1)\n",
            "Requirement already satisfied: six in /usr/local/lib/python3.6/dist-packages (from chart_studio) (1.12.0)\n",
            "Requirement already satisfied: retrying>=1.3.3 in /usr/local/lib/python3.6/dist-packages (from chart_studio) (1.3.3)\n",
            "Requirement already satisfied: certifi>=2017.4.17 in /usr/local/lib/python3.6/dist-packages (from requests->chart_studio) (2020.4.5.1)\n",
            "Requirement already satisfied: urllib3!=1.25.0,!=1.25.1,<1.26,>=1.21.1 in /usr/local/lib/python3.6/dist-packages (from requests->chart_studio) (1.24.3)\n",
            "Requirement already satisfied: chardet<4,>=3.0.2 in /usr/local/lib/python3.6/dist-packages (from requests->chart_studio) (3.0.4)\n",
            "Requirement already satisfied: idna<3,>=2.5 in /usr/local/lib/python3.6/dist-packages (from requests->chart_studio) (2.9)\n",
            "Installing collected packages: chart-studio\n",
            "Successfully installed chart-studio-1.1.0\n"
          ],
          "name": "stdout"
        }
      ]
    },
    {
      "cell_type": "markdown",
      "metadata": {
        "colab_type": "text",
        "id": "XbVmhJgKoUGE"
      },
      "source": [
        "## 1.1 Reading Data"
      ]
    },
    {
      "cell_type": "code",
      "metadata": {
        "colab_type": "code",
        "id": "fv9wFU8ZoUGF",
        "colab": {}
      },
      "source": [
        "data = pd.read_csv('drive/My Drive/Jupyter/preprocessed_data.csv',nrows=70000)\n",
        "pre_data = pd.read_csv('drive/My Drive/Jupyter/preprocessed_data.csv')"
      ],
      "execution_count": 0,
      "outputs": []
    },
    {
      "cell_type": "markdown",
      "metadata": {
        "colab_type": "text",
        "id": "EDbdwrJ7oUH1"
      },
      "source": [
        "# Assignment 7: SVM"
      ]
    },
    {
      "cell_type": "markdown",
      "metadata": {
        "colab_type": "text",
        "id": "sKc9KmNQoUH2"
      },
      "source": [
        "<ol>\n",
        "    <li><strong>[Task-1] Apply Support Vector Machines(SGDClassifier with hinge loss: Linear SVM) on these feature sets</strong>\n",
        "        <ul>\n",
        "            <li><font color='red'>Set 1</font>: categorical, numerical features + project_title(BOW) + preprocessed_eassay (BOW)</li>\n",
        "            <li><font color='red'>Set 2</font>: categorical, numerical features + project_title(TFIDF)+  preprocessed_eassay (TFIDF)</li>\n",
        "            <li><font color='red'>Set 3</font>: categorical, numerical features + project_title(AVG W2V)+  preprocessed_eassay (AVG W2V)</li>\n",
        "            <li><font color='red'>Set 4</font>: categorical, numerical features + project_title(TFIDF W2V)+  preprocessed_eassay (TFIDF W2V)</li>        </ul>\n",
        "    </li>\n",
        "    <br>\n",
        "    <li><strong>The hyper paramter tuning (best alpha in range [10^-4 to 10^4], and the best penalty among 'l1', 'l2')</strong>\n",
        "        <ul>\n",
        "    <li>Find the best hyper parameter which will give the maximum <a href='https://www.appliedaicourse.com/course/applied-ai-course-online/lessons/receiver-operating-characteristic-curve-roc-curve-and-auc-1/'>AUC</a> value</li>\n",
        "    <li>Find the best hyper paramter using k-fold cross validation or simple cross validation data</li>\n",
        "    <li>Use gridsearch cv or randomsearch cv or you can also write your own for loops to do this task of hyperparameter tuning\n",
        "        </ul>\n",
        "            </li>\n",
        "    <br>\n",
        "    <li><strong>Representation of results</strong>\n",
        "        <ul>\n",
        "    <li>You need to plot the performance of model both on train data and cross validation data for each hyper parameter, like shown in the figure.\n",
        "    <img src='train_cv_auc.JPG' width=300px></li>\n",
        "    <li>Once after you found the best hyper parameter, you need to train your model with it, and find the AUC on test data and plot the ROC curve on both train and test.\n",
        "    <img src='train_test_auc.JPG' width=300px></li>\n",
        "    <li>Along with plotting ROC curve, you need to print the <a href='https://www.appliedaicourse.com/course/applied-ai-course-online/lessons/confusion-matrix-tpr-fpr-fnr-tnr-1/'>confusion matrix</a> with predicted and original labels of test data points. Please visualize your confusion matrices using <a href='https://seaborn.pydata.org/generated/seaborn.heatmap.html'>seaborn heatmaps.\n",
        "    <img src='confusion_matrix.png' width=300px></li>\n",
        "        </ul>\n",
        "    </li>\n",
        "    <br>\n",
        "    <li><strong>[Task-2] Apply the Support Vector Machines on these features by finding the best hyper paramter as suggested in step 2 and step 3</strong>\n",
        "        <ul>\n",
        "    <li> Consider these set of features <font color='red'> Set 5 :</font>\n",
        "            <ul>\n",
        "                <li><strong>school_state</strong> : categorical data</li>\n",
        "                <li><strong>clean_categories</strong> : categorical data</li>\n",
        "                <li><strong>clean_subcategories</strong> : categorical data</li>\n",
        "                <li><strong>project_grade_category</strong> :categorical data</li>\n",
        "                <li><strong>teacher_prefix</strong> : categorical data</li>\n",
        "                <li><strong>quantity</strong> : numerical data</li>\n",
        "                <li><strong>teacher_number_of_previously_posted_projects</strong> : numerical data</li>\n",
        "                <li><strong>price</strong> : numerical data</li>\n",
        "                <li><strong>sentiment score's of each of the essay</strong> : numerical data</li>\n",
        "                <li><strong>number of words in the title</strong> : numerical data</li>\n",
        "                <li><strong>number of words in the combine essays</strong> : numerical data</li>\n",
        "                <li><strong>Apply <a href='http://scikit-learn.org/stable/modules/generated/sklearn.decomposition.TruncatedSVD.html'>TruncatedSVD</a> on <a href='https://scikit-learn.org/stable/modules/generated/sklearn.feature_extraction.text.TfidfVectorizer.html'>TfidfVectorizer</a> of essay text, choose the number of components (`n_components`) using <a href='https://www.appliedaicourse.com/course/applied-ai-course-online/lessons/pca-code-example-using-non-visualization/'>elbow method</a></strong> : numerical data</li>\n",
        "            </ul>\n",
        "         <br>\n",
        "    </li>\n",
        "    <br>\n",
        "    <li><strong>Conclusion</strong>\n",
        "        <ul>\n",
        "    <li>You need to summarize the results at the end of the notebook, summarize it in the table format. To print out a table please refer to this prettytable library<a href='http://zetcode.com/python/prettytable/'>  link</a> \n",
        "        <img src='summary.JPG' width=400px>\n",
        "    </li>\n",
        "        </ul>\n",
        "</ol>"
      ]
    },
    {
      "cell_type": "markdown",
      "metadata": {
        "colab_type": "text",
        "id": "zgdnjthToUH2"
      },
      "source": [
        "<h4><font color='red'>Note: Data Leakage</font></h4>\n",
        "\n",
        "1. There will be an issue of data-leakage if you vectorize the entire data and then split it into train/cv/test.\n",
        "2. To avoid the issue of data-leakage, make sure to split your data first and then vectorize it. \n",
        "3. While vectorizing your data, apply the method fit_transform() on you train data, and apply the method transform() on cv/test data.\n",
        "4. For more details please go through this <a href='https://soundcloud.com/applied-ai-course/leakage-bow-and-tfidf'>link.</a>"
      ]
    },
    {
      "cell_type": "markdown",
      "metadata": {
        "colab_type": "text",
        "id": "__AbIboVoUH3"
      },
      "source": [
        "<h1>2. Support Vector Machines </h1>"
      ]
    },
    {
      "cell_type": "markdown",
      "metadata": {
        "colab_type": "text",
        "id": "vMxruDG7oUH3"
      },
      "source": [
        "<h2>2.1 Splitting data into Train and cross validation(or test): Stratified Sampling</h2>"
      ]
    },
    {
      "cell_type": "code",
      "metadata": {
        "colab_type": "code",
        "id": "vc9jEpzzoUH4",
        "colab": {}
      },
      "source": [
        "# please write all the code with proper documentation, and proper titles for each subsection\n",
        "# go through documentations and blogs before you start coding\n",
        "# first figure out what to do, and then think about how to do.\n",
        "# reading and understanding error messages will be very much helpfull in debugging your code\n",
        "# when you plot any graph make sure you use \n",
        "    # a. Title, that describes your plot, this will be very helpful to the reader\n",
        "    # b. Legends if needed\n",
        "    # c. X-axis label\n",
        "    # d. Y-axis label\n",
        "y = data['project_is_approved'].values\n",
        "X = data.drop(['project_is_approved'], axis=1)\n",
        "from sklearn.model_selection import train_test_split\n",
        "X_train, X_test, y_train, y_test = train_test_split(X, y, test_size=0.33, stratify=y)"
      ],
      "execution_count": 0,
      "outputs": []
    },
    {
      "cell_type": "code",
      "metadata": {
        "id": "zUydE6rbNg6f",
        "colab_type": "code",
        "outputId": "fd89d6dc-86b5-4ba8-f54f-9a51830c9a45",
        "colab": {
          "base_uri": "https://localhost:8080/",
          "height": 68
        }
      },
      "source": [
        "print(X_train.shape, y_train.shape)\n",
        "print(X_test.shape, y_test.shape)\n",
        "\n",
        "print(\"=\"*100)"
      ],
      "execution_count": 0,
      "outputs": [
        {
          "output_type": "stream",
          "text": [
            "(46900, 20) (46900,)\n",
            "(23100, 20) (23100,)\n",
            "====================================================================================================\n"
          ],
          "name": "stdout"
        }
      ]
    },
    {
      "cell_type": "markdown",
      "metadata": {
        "colab_type": "text",
        "id": "RXh9o-rOoUH5"
      },
      "source": [
        "<h2>2.2 Make Data Model Ready: encoding numerical, categorical features</h2>"
      ]
    },
    {
      "cell_type": "code",
      "metadata": {
        "colab_type": "code",
        "id": "80ha3YnqoUH5",
        "outputId": "6dcf11ce-aa57-429b-faf2-ee27ca89e8bd",
        "colab": {
          "base_uri": "https://localhost:8080/",
          "height": 105
        }
      },
      "source": [
        "# please write all the code with proper documentation, and proper titles for each subsection\n",
        "# go through documentations and blogs before you start coding \n",
        "# first figure out what to do, and then think about how to do.\n",
        "# reading and understanding error messages will be very much helpfull in debugging your code\n",
        "# make sure you featurize train and test data separatly\n",
        "\n",
        "# when you plot any graph make sure you use \n",
        "    # a. Title, that describes your plot, this will be very helpful to the reader\n",
        "    # b. Legends if needed\n",
        "    # c. X-axis label\n",
        "    # d. Y-axis label\n",
        "vectorizer_cat = CountVectorizer()\n",
        "vectorizer_cat.fit(pre_data['clean_categories'].values)\n",
        "\n",
        "X_train_clean_categories = vectorizer_cat.transform(X_train['clean_categories'].values)\n",
        "X_test_clean_categories = vectorizer_cat.transform(X_test['clean_categories'].values)\n",
        "\n",
        "print(X_train_clean_categories.shape, y_train.shape)\n",
        "print(X_test_clean_categories.shape, y_test.shape)\n",
        "print(vectorizer_cat.get_feature_names())\n",
        "print(\"=\"*100)"
      ],
      "execution_count": 14,
      "outputs": [
        {
          "output_type": "stream",
          "text": [
            "(46900, 9) (46900,)\n",
            "(23100, 9) (23100,)\n",
            "['appliedlearning', 'care_hunger', 'health_sports', 'history_civics', 'literacy_language', 'math_science', 'music_arts', 'specialneeds', 'warmth']\n",
            "====================================================================================================\n"
          ],
          "name": "stdout"
        }
      ]
    },
    {
      "cell_type": "code",
      "metadata": {
        "id": "nAZfTyZ0Ng6_",
        "colab_type": "code",
        "outputId": "29401ffb-877f-4764-d981-52809b83a81b",
        "colab": {
          "base_uri": "https://localhost:8080/",
          "height": 105
        }
      },
      "source": [
        "vectorizer_subcat = CountVectorizer()\n",
        "vectorizer_subcat.fit(pre_data['clean_subcategories'].values) \n",
        "\n",
        "X_train_clean_subcategories = vectorizer_subcat.transform(X_train['clean_subcategories'].values)\n",
        "X_test_clean_subcategories = vectorizer_subcat.transform(X_test['clean_subcategories'].values)\n",
        "\n",
        "print(X_train_clean_subcategories.shape, y_train.shape)\n",
        "print(X_test_clean_subcategories.shape, y_test.shape)\n",
        "print(vectorizer_subcat.get_feature_names())\n",
        "print(\"=\"*100)"
      ],
      "execution_count": 15,
      "outputs": [
        {
          "output_type": "stream",
          "text": [
            "(46900, 30) (46900,)\n",
            "(23100, 30) (23100,)\n",
            "['appliedsciences', 'care_hunger', 'charactereducation', 'civics_government', 'college_careerprep', 'communityservice', 'earlydevelopment', 'economics', 'environmentalscience', 'esl', 'extracurricular', 'financialliteracy', 'foreignlanguages', 'gym_fitness', 'health_lifescience', 'health_wellness', 'history_geography', 'literacy', 'literature_writing', 'mathematics', 'music', 'nutritioneducation', 'other', 'parentinvolvement', 'performingarts', 'socialsciences', 'specialneeds', 'teamsports', 'visualarts', 'warmth']\n",
            "====================================================================================================\n"
          ],
          "name": "stdout"
        }
      ]
    },
    {
      "cell_type": "code",
      "metadata": {
        "id": "gSEArRqTNg7K",
        "colab_type": "code",
        "outputId": "190f927b-519a-452b-e8e9-f59793dca4cd",
        "colab": {
          "base_uri": "https://localhost:8080/",
          "height": 85
        }
      },
      "source": [
        "sorted_grade=[]\n",
        "sorted_grade=sorted(pre_data['project_grade_category'].unique())\n",
        "vectorizer_grade = CountVectorizer(vocabulary=sorted_grade, lowercase=False, binary=True)\n",
        "vectorizer_grade.fit(pre_data['project_grade_category'].values)\n",
        "\n",
        "X_train_project_grade = vectorizer_grade.transform(X_train['project_grade_category'].values)\n",
        "X_test_project_grade = vectorizer_grade.transform(X_test['project_grade_category'].values)\n",
        "\n",
        "print(X_train_project_grade.shape, y_train.shape)\n",
        "print(X_test_project_grade.shape, y_test.shape)\n",
        "print(vectorizer_grade.get_feature_names())\n",
        "print(\"=\"*100)"
      ],
      "execution_count": 16,
      "outputs": [
        {
          "output_type": "stream",
          "text": [
            "(46900, 4) (46900,)\n",
            "(23100, 4) (23100,)\n",
            "['grades_3_5', 'grades_6_8', 'grades_9_12', 'grades_prek_2']\n",
            "====================================================================================================\n"
          ],
          "name": "stdout"
        }
      ]
    },
    {
      "cell_type": "code",
      "metadata": {
        "id": "entjrrCYNg7V",
        "colab_type": "code",
        "outputId": "1ba69b73-ed0d-46b7-9277-dbbe7ecb29f1",
        "colab": {
          "base_uri": "https://localhost:8080/",
          "height": 85
        }
      },
      "source": [
        "vectorizer_teacher = CountVectorizer()\n",
        "vectorizer_teacher.fit(pre_data['teacher_prefix'].values)\n",
        "\n",
        "X_train_teacher_prefix = vectorizer_teacher.transform(X_train['teacher_prefix'].values)\n",
        "X_test_teacher_prefix = vectorizer_teacher.transform(X_test['teacher_prefix'].values)\n",
        "\n",
        "print(X_train_teacher_prefix.shape, y_train.shape)\n",
        "print(X_test_teacher_prefix.shape, y_test.shape)\n",
        "print(vectorizer_teacher.get_feature_names())\n",
        "print(\"=\"*100)"
      ],
      "execution_count": 17,
      "outputs": [
        {
          "output_type": "stream",
          "text": [
            "(46900, 5) (46900,)\n",
            "(23100, 5) (23100,)\n",
            "['dr', 'mr', 'mrs', 'ms', 'teacher']\n",
            "====================================================================================================\n"
          ],
          "name": "stdout"
        }
      ]
    },
    {
      "cell_type": "code",
      "metadata": {
        "id": "w_LvUDTZNg7f",
        "colab_type": "code",
        "outputId": "fa1e6224-3e50-4a25-8eb1-6b4c9c3f53ce",
        "colab": {
          "base_uri": "https://localhost:8080/",
          "height": 105
        }
      },
      "source": [
        "vectorizer_state = CountVectorizer()\n",
        "vectorizer_state.fit(pre_data['school_state'].values)\n",
        "\n",
        "X_train_school_state = vectorizer_state.transform(X_train['school_state'].values)\n",
        "X_test_school_state = vectorizer_state.transform(X_test['school_state'].values)\n",
        "\n",
        "print(X_train_school_state.shape, y_train.shape)\n",
        "print(X_test_school_state.shape, y_test.shape)\n",
        "print(vectorizer_state.get_feature_names())\n",
        "print(\"=\"*100)"
      ],
      "execution_count": 18,
      "outputs": [
        {
          "output_type": "stream",
          "text": [
            "(46900, 51) (46900,)\n",
            "(23100, 51) (23100,)\n",
            "['ak', 'al', 'ar', 'az', 'ca', 'co', 'ct', 'dc', 'de', 'fl', 'ga', 'hi', 'ia', 'id', 'il', 'in', 'ks', 'ky', 'la', 'ma', 'md', 'me', 'mi', 'mn', 'mo', 'ms', 'mt', 'nc', 'nd', 'ne', 'nh', 'nj', 'nm', 'nv', 'ny', 'oh', 'ok', 'or', 'pa', 'ri', 'sc', 'sd', 'tn', 'tx', 'ut', 'va', 'vt', 'wa', 'wi', 'wv', 'wy']\n",
            "====================================================================================================\n"
          ],
          "name": "stdout"
        }
      ]
    },
    {
      "cell_type": "code",
      "metadata": {
        "id": "gDqD7MGxNg7p",
        "colab_type": "code",
        "outputId": "1b5e2486-7d08-4e82-8559-e28af4f64860",
        "colab": {
          "base_uri": "https://localhost:8080/",
          "height": 68
        }
      },
      "source": [
        "from sklearn.preprocessing import MinMaxScaler\n",
        "\n",
        "vectorizer_price = MinMaxScaler()\n",
        "vectorizer_price.fit(data['price'].values.reshape(-1,1))\n",
        "\n",
        "X_train_price = vectorizer_price.transform(X_train['price'].values.reshape(-1, 1))\n",
        "X_test_price = vectorizer_price.transform(X_test['price'].values.reshape(-1, 1))\n",
        "\n",
        "print(X_train_price.shape, y_train.shape)\n",
        "print(X_test_price.shape, y_test.shape)\n",
        "print(\"=\"*100)"
      ],
      "execution_count": 19,
      "outputs": [
        {
          "output_type": "stream",
          "text": [
            "(46900, 1) (46900,)\n",
            "(23100, 1) (23100,)\n",
            "====================================================================================================\n"
          ],
          "name": "stdout"
        }
      ]
    },
    {
      "cell_type": "code",
      "metadata": {
        "id": "Vq4BirnpNg74",
        "colab_type": "code",
        "outputId": "8e43b516-e006-41cb-d1ee-21e690220773",
        "colab": {
          "base_uri": "https://localhost:8080/",
          "height": 68
        }
      },
      "source": [
        "vectorizer = MinMaxScaler()\n",
        "vectorizer.fit(data['quantity'].astype(float).values.reshape(-1,1))\n",
        "\n",
        "X_train_quantity = vectorizer.transform(X_train['quantity'].astype(float).values.reshape(-1, 1))\n",
        "X_test_quantity = vectorizer.transform(X_test['quantity'].astype(float).values.reshape(-1, 1))\n",
        "\n",
        "print(X_train_quantity.shape, y_train.shape)\n",
        "print(X_test_quantity.shape, y_test.shape)\n",
        "print(\"=\"*100)"
      ],
      "execution_count": 20,
      "outputs": [
        {
          "output_type": "stream",
          "text": [
            "(46900, 1) (46900,)\n",
            "(23100, 1) (23100,)\n",
            "====================================================================================================\n"
          ],
          "name": "stdout"
        }
      ]
    },
    {
      "cell_type": "code",
      "metadata": {
        "id": "dvRNHVzoNg7_",
        "colab_type": "code",
        "outputId": "affccf1e-881d-492f-ee02-4e1859724af5",
        "colab": {
          "base_uri": "https://localhost:8080/",
          "height": 68
        }
      },
      "source": [
        "vectorizer = MinMaxScaler()\n",
        "vectorizer.fit(data['teacher_number_of_previously_posted_projects'].astype(float).values.reshape(-1,1))\n",
        "\n",
        "X_train_prev_projects = vectorizer.transform(X_train['teacher_number_of_previously_posted_projects'].astype(float).values.reshape(-1, 1))\n",
        "X_test_prev_projects = vectorizer.transform(X_test['teacher_number_of_previously_posted_projects'].astype(float).values.reshape(-1, 1))\n",
        "\n",
        "print(X_train_prev_projects.shape, y_train.shape)\n",
        "print(X_test_prev_projects.shape, y_test.shape)\n",
        "print(\"=\"*100)"
      ],
      "execution_count": 21,
      "outputs": [
        {
          "output_type": "stream",
          "text": [
            "(46900, 1) (46900,)\n",
            "(23100, 1) (23100,)\n",
            "====================================================================================================\n"
          ],
          "name": "stdout"
        }
      ]
    },
    {
      "cell_type": "markdown",
      "metadata": {
        "colab_type": "text",
        "id": "Ya1V6mLSoUH7"
      },
      "source": [
        "<h2>2.3 Make Data Model Ready: encoding eassay, and project_title</h2>"
      ]
    },
    {
      "cell_type": "code",
      "metadata": {
        "colab_type": "code",
        "id": "aKrh3dwvoUH7",
        "colab": {}
      },
      "source": [
        "# please write all the code with proper documentation, and proper titles for each subsection\n",
        "# go through documentations and blogs before you start coding\n",
        "# first figure out what to do, and then think about how to do.\n",
        "# reading and understanding error messages will be very much helpfull in debugging your code\n",
        "# make sure you featurize train and test data separatly\n",
        "\n",
        "# when you plot any graph make sure you use \n",
        "    # a. Title, that describes your plot, this will be very helpful to the reader\n",
        "    # b. Legends if needed\n",
        "    # c. X-axis label\n",
        "    # d. Y-axis label"
      ],
      "execution_count": 0,
      "outputs": []
    },
    {
      "cell_type": "code",
      "metadata": {
        "id": "RIFWSUs7Ng9F",
        "colab_type": "code",
        "outputId": "b96a02db-9b6c-4877-946a-130360271533",
        "colab": {
          "base_uri": "https://localhost:8080/",
          "height": 68
        }
      },
      "source": [
        "vectorizer_t_bow = CountVectorizer(min_df=10,ngram_range=(2,2), max_features=5000)\n",
        "vectorizer_t_bow.fit(X_train['project_title'].values)\n",
        "\n",
        "X_train_titles_bow = vectorizer_t_bow.transform(X_train['project_title'].values)\n",
        "X_test_titles_bow = vectorizer_t_bow.transform(X_test['project_title'].values)\n",
        "\n",
        "print(X_train_titles_bow.shape, y_train.shape)\n",
        "print(X_test_titles_bow.shape, y_test.shape)\n",
        "print(\"=\"*100)"
      ],
      "execution_count": 0,
      "outputs": [
        {
          "output_type": "stream",
          "text": [
            "(46900, 1580) (46900,)\n",
            "(23100, 1580) (23100,)\n",
            "====================================================================================================\n"
          ],
          "name": "stdout"
        }
      ]
    },
    {
      "cell_type": "code",
      "metadata": {
        "id": "I30hsBQnNg9L",
        "colab_type": "code",
        "outputId": "dbe240be-9b43-45c5-c5da-9fd3581235ec",
        "colab": {
          "base_uri": "https://localhost:8080/",
          "height": 68
        }
      },
      "source": [
        "vectorizer_e_bow = CountVectorizer(min_df=10,ngram_range=(2,2), max_features=5000)\n",
        "vectorizer_e_bow.fit(X_train['essay'].values)\n",
        "\n",
        "X_train_essay_bow = vectorizer_e_bow.transform(X_train['essay'].values)\n",
        "X_test_essay_bow = vectorizer_e_bow.transform(X_test['essay'].values)\n",
        "\n",
        "print(X_train_essay_bow.shape, y_train.shape)\n",
        "print(X_test_essay_bow.shape, y_test.shape)\n",
        "print(\"=\"*100)"
      ],
      "execution_count": 0,
      "outputs": [
        {
          "output_type": "stream",
          "text": [
            "(46900, 5000) (46900,)\n",
            "(23100, 5000) (23100,)\n",
            "====================================================================================================\n"
          ],
          "name": "stdout"
        }
      ]
    },
    {
      "cell_type": "code",
      "metadata": {
        "id": "YbezcVcyNg9Y",
        "colab_type": "code",
        "outputId": "ab500b7d-7bdc-4e8b-e97a-50848f6160b6",
        "colab": {
          "base_uri": "https://localhost:8080/",
          "height": 68
        }
      },
      "source": [
        "vectorizer_t_tf = TfidfVectorizer(min_df=10,ngram_range=(2,2), max_features=5000)\n",
        "vectorizer_t_tf.fit(X_train['project_title'].values)\n",
        "\n",
        "X_train_titles_tfidf = vectorizer_t_tf.transform(X_train['project_title'].values)\n",
        "X_test_titles_tfidf = vectorizer_t_tf.transform(X_test['project_title'].values)\n",
        "\n",
        "print(X_train_titles_tfidf.shape, y_train.shape)\n",
        "print(X_test_titles_tfidf.shape, y_test.shape)\n",
        "print(\"=\"*100)"
      ],
      "execution_count": 25,
      "outputs": [
        {
          "output_type": "stream",
          "text": [
            "(46900, 1583) (46900,)\n",
            "(23100, 1583) (23100,)\n",
            "====================================================================================================\n"
          ],
          "name": "stdout"
        }
      ]
    },
    {
      "cell_type": "code",
      "metadata": {
        "id": "rYzPLzvnNg9e",
        "colab_type": "code",
        "outputId": "0ef92442-86db-4300-c266-5bc605f6c9a1",
        "colab": {
          "base_uri": "https://localhost:8080/",
          "height": 68
        }
      },
      "source": [
        "vectorizer_e_tf = TfidfVectorizer(min_df=10,ngram_range=(2,2), max_features=5000)\n",
        "vectorizer_e_tf.fit(X_train['essay'].values)\n",
        "\n",
        "X_train_essay_tfidf = vectorizer_e_tf.transform(X_train['essay'].values)\n",
        "X_test_essay_tfidf = vectorizer_e_tf.transform(X_test['essay'].values)\n",
        "\n",
        "print(X_train_essay_tfidf.shape, y_train.shape)\n",
        "print(X_test_essay_tfidf.shape, y_test.shape)\n",
        "print(\"=\"*100)"
      ],
      "execution_count": 26,
      "outputs": [
        {
          "output_type": "stream",
          "text": [
            "(46900, 5000) (46900,)\n",
            "(23100, 5000) (23100,)\n",
            "====================================================================================================\n"
          ],
          "name": "stdout"
        }
      ]
    },
    {
      "cell_type": "code",
      "metadata": {
        "id": "tTCvrv56Ng9i",
        "colab_type": "code",
        "colab": {}
      },
      "source": [
        "with open('drive/My Drive/Jupyter/glove_vectors', 'rb') as f:\n",
        "    model = pickle.load(f)\n",
        "    glove_words =  set(model.keys())"
      ],
      "execution_count": 0,
      "outputs": []
    },
    {
      "cell_type": "code",
      "metadata": {
        "id": "KHaQlg7hNg9m",
        "colab_type": "code",
        "outputId": "bc27e82f-3446-4637-a7bb-bee64cffb4af",
        "colab": {
          "base_uri": "https://localhost:8080/",
          "height": 119
        }
      },
      "source": [
        "X_train_titles_avgw2v = []\n",
        "X_test_titles_avgw2v = []; # the avg-w2v for each sentence/review is stored in this list\n",
        "for sentence in tqdm(X_train['project_title'].values): # for each review/sentence\n",
        "    vector = np.zeros(300) # as word vectors are of zero length\n",
        "    cnt_words =0; # num of words with a valid vector in the sentence/review\n",
        "    for word in sentence.split(): # for each word in a review/sentence\n",
        "        if word in glove_words:\n",
        "            vector += model[word]\n",
        "            cnt_words += 1\n",
        "    if cnt_words != 0:\n",
        "        vector /= cnt_words\n",
        "    X_train_titles_avgw2v.append(vector)\n",
        "\n",
        "for sentence in tqdm(X_test['project_title'].values): # for each review/sentence\n",
        "    vector = np.zeros(300) # as word vectors are of zero length\n",
        "    cnt_words =0; # num of words with a valid vector in the sentence/review\n",
        "    for word in sentence.split(): # for each word in a review/sentence\n",
        "        if word in glove_words:\n",
        "            vector += model[word]\n",
        "            cnt_words += 1\n",
        "    if cnt_words != 0:\n",
        "        vector /= cnt_words\n",
        "    X_test_titles_avgw2v.append(vector)\n",
        "\n",
        "print(len(X_train_titles_avgw2v))\n",
        "print(len(X_train_titles_avgw2v[0]))\n",
        "\n",
        "print(len(X_test_titles_avgw2v))\n",
        "print(len(X_test_titles_avgw2v[0]))"
      ],
      "execution_count": 0,
      "outputs": [
        {
          "output_type": "stream",
          "text": [
            "100%|██████████| 46900/46900 [00:00<00:00, 61358.16it/s]\n",
            "100%|██████████| 23100/23100 [00:00<00:00, 58131.44it/s]"
          ],
          "name": "stderr"
        },
        {
          "output_type": "stream",
          "text": [
            "46900\n",
            "300\n",
            "23100\n",
            "300\n"
          ],
          "name": "stdout"
        },
        {
          "output_type": "stream",
          "text": [
            "\n"
          ],
          "name": "stderr"
        }
      ]
    },
    {
      "cell_type": "code",
      "metadata": {
        "id": "mHUorjSHNg9q",
        "colab_type": "code",
        "outputId": "8be60648-ce51-4376-e468-c4c8c80504ed",
        "colab": {
          "base_uri": "https://localhost:8080/",
          "height": 119
        }
      },
      "source": [
        "X_train_essay_avgw2v = []\n",
        "\n",
        "X_test_essay_avgw2v = []; # the avg-w2v for each sentence/review is stored in this list\n",
        "for sentence in tqdm(X_train['essay'].values): # for each review/sentence\n",
        "    vector = np.zeros(300) # as word vectors are of zero length\n",
        "    cnt_words =0; # num of words with a valid vector in the sentence/review\n",
        "    for word in sentence.split(): # for each word in a review/sentence\n",
        "        if word in glove_words:\n",
        "            vector += model[word]\n",
        "            cnt_words += 1\n",
        "    if cnt_words != 0:\n",
        "        vector /= cnt_words\n",
        "    X_train_essay_avgw2v.append(vector)\n",
        "\n",
        "\n",
        "    \n",
        "for sentence in tqdm(X_test['essay'].values): # for each review/sentence\n",
        "    vector = np.zeros(300) # as word vectors are of zero length\n",
        "    cnt_words =0; # num of words with a valid vector in the sentence/review\n",
        "    for word in sentence.split(): # for each word in a review/sentence\n",
        "        if word in glove_words:\n",
        "            vector += model[word]\n",
        "            cnt_words += 1\n",
        "    if cnt_words != 0:\n",
        "        vector /= cnt_words\n",
        "    X_test_essay_avgw2v.append(vector)\n",
        "\n",
        "print(len(X_train_essay_avgw2v))\n",
        "print(len(X_train_essay_avgw2v[0]))\n",
        "\n",
        "print(len(X_test_essay_avgw2v))\n",
        "print(len(X_test_essay_avgw2v[0]))"
      ],
      "execution_count": 0,
      "outputs": [
        {
          "output_type": "stream",
          "text": [
            "100%|██████████| 46900/46900 [00:15<00:00, 3002.08it/s]\n",
            "100%|██████████| 23100/23100 [00:07<00:00, 3045.64it/s]"
          ],
          "name": "stderr"
        },
        {
          "output_type": "stream",
          "text": [
            "46900\n",
            "300\n",
            "23100\n",
            "300\n"
          ],
          "name": "stdout"
        },
        {
          "output_type": "stream",
          "text": [
            "\n"
          ],
          "name": "stderr"
        }
      ]
    },
    {
      "cell_type": "code",
      "metadata": {
        "id": "OgHTbH1ZNg9t",
        "colab_type": "code",
        "colab": {}
      },
      "source": [
        "tfidf_model = TfidfVectorizer(min_df=10,ngram_range=(2,2), max_features=5000)\n",
        "tfidf_model.fit(X_train['project_title'].values)\n",
        "dictionary = dict(zip(tfidf_model.get_feature_names(), list(tfidf_model.idf_)))\n",
        "tfidf_words = set(tfidf_model.get_feature_names())"
      ],
      "execution_count": 0,
      "outputs": []
    },
    {
      "cell_type": "code",
      "metadata": {
        "id": "X0raqKf9Ng9x",
        "colab_type": "code",
        "outputId": "5a82ad25-ebfd-4c01-fd8e-05cbe92585b8",
        "colab": {
          "base_uri": "https://localhost:8080/",
          "height": 119
        }
      },
      "source": [
        "X_train_titles_avgtf = []\n",
        "\n",
        "X_test_titles_avgtf = []; # the avg-w2v for each sentence/review is stored in this list\n",
        "for sentence in tqdm(X_train['project_title'].values): # for each review/sentence\n",
        "    vector = np.zeros(300) # as word vectors are of zero length\n",
        "    tf_idf_weight =0; # num of words with a valid vector in the sentence/review\n",
        "    for word in sentence.split(): # for each word in a review/sentence\n",
        "        if (word in glove_words) and (word in tfidf_words):\n",
        "            vec = model[word] # getting the vector for each word\n",
        "            # here we are multiplying idf value(dictionary[word]) and the tf value((sentence.count(word)/len(sentence.split())))\n",
        "            tf_idf = dictionary[word]*(sentence.count(word)/len(sentence.split())) # getting the tfidf value for each word\n",
        "            vector += (vec * tf_idf) # calculating tfidf weighted w2v\n",
        "            tf_idf_weight += tf_idf\n",
        "    if tf_idf_weight != 0:\n",
        "        vector /= tf_idf_weight\n",
        "    X_train_titles_avgtf.append(vector)\n",
        "    \n",
        "\n",
        "    \n",
        "for sentence in tqdm(X_test['project_title'].values): # for each review/sentence\n",
        "    vector = np.zeros(300) # as word vectors are of zero length\n",
        "    tf_idf_weight =0; # num of words with a valid vector in the sentence/review\n",
        "    for word in sentence.split(): # for each word in a review/sentence\n",
        "        if (word in glove_words) and (word in tfidf_words):\n",
        "            vec = model[word] # getting the vector for each word\n",
        "            # here we are multiplying idf value(dictionary[word]) and the tf value((sentence.count(word)/len(sentence.split())))\n",
        "            tf_idf = dictionary[word]*(sentence.count(word)/len(sentence.split())) # getting the tfidf value for each word\n",
        "            vector += (vec * tf_idf) # calculating tfidf weighted w2v\n",
        "            tf_idf_weight += tf_idf\n",
        "    if tf_idf_weight != 0:\n",
        "        vector /= tf_idf_weight\n",
        "    X_test_titles_avgtf.append(vector)\n",
        "\n",
        "print(len(X_train_titles_avgtf))\n",
        "print(len(X_train_titles_avgtf[0]))\n",
        "\n",
        "print(len(X_test_titles_avgtf))\n",
        "print(len(X_test_titles_avgtf[0]))"
      ],
      "execution_count": 0,
      "outputs": [
        {
          "output_type": "stream",
          "text": [
            "100%|██████████| 46900/46900 [00:00<00:00, 180936.13it/s]\n",
            "100%|██████████| 23100/23100 [00:00<00:00, 173853.57it/s]"
          ],
          "name": "stderr"
        },
        {
          "output_type": "stream",
          "text": [
            "46900\n",
            "300\n",
            "23100\n",
            "300\n"
          ],
          "name": "stdout"
        },
        {
          "output_type": "stream",
          "text": [
            "\n"
          ],
          "name": "stderr"
        }
      ]
    },
    {
      "cell_type": "code",
      "metadata": {
        "id": "hmN1VokFN8LF",
        "colab_type": "code",
        "colab": {}
      },
      "source": [
        "tfidf_model = TfidfVectorizer(min_df=10,ngram_range=(2,2), max_features=5000)\n",
        "tfidf_model.fit(X_train['essay'].values)\n",
        "dictionary = dict(zip(tfidf_model.get_feature_names(), list(tfidf_model.idf_)))\n",
        "tfidf_words = set(tfidf_model.get_feature_names())"
      ],
      "execution_count": 0,
      "outputs": []
    },
    {
      "cell_type": "code",
      "metadata": {
        "id": "kRA4vRjpNg91",
        "colab_type": "code",
        "outputId": "d13d3732-b17f-442e-e4a7-99661e7ae623",
        "colab": {
          "base_uri": "https://localhost:8080/",
          "height": 119
        }
      },
      "source": [
        "X_train_essay_avgtf = []\n",
        "\n",
        "X_test_essay_avgtf = []; # the avg-w2v for each sentence/review is stored in this list\n",
        "for sentence in tqdm(X_train['essay'].values): # for each review/sentence\n",
        "    vector = np.zeros(300) # as word vectors are of zero length\n",
        "    tf_idf_weight =0; # num of words with a valid vector in the sentence/review\n",
        "    for word in sentence.split(): # for each word in a review/sentence\n",
        "        if (word in glove_words) and (word in tfidf_words):\n",
        "            vec = model[word] # getting the vector for each word\n",
        "            # here we are multiplying idf value(dictionary[word]) and the tf value((sentence.count(word)/len(sentence.split())))\n",
        "            tf_idf = dictionary[word]*(sentence.count(word)/len(sentence.split())) # getting the tfidf value for each word\n",
        "            vector += (vec * tf_idf) # calculating tfidf weighted w2v\n",
        "            tf_idf_weight += tf_idf\n",
        "    if tf_idf_weight != 0:\n",
        "        vector /= tf_idf_weight\n",
        "    X_train_essay_avgtf.append(vector)\n",
        "    \n",
        "    \n",
        "for sentence in tqdm(X_test['essay'].values): # for each review/sentence\n",
        "    vector = np.zeros(300) # as word vectors are of zero length\n",
        "    tf_idf_weight =0; # num of words with a valid vector in the sentence/review\n",
        "    for word in sentence.split(): # for each word in a review/sentence\n",
        "        if (word in glove_words) and (word in tfidf_words):\n",
        "            vec = model[word] # getting the vector for each word\n",
        "            # here we are multiplying idf value(dictionary[word]) and the tf value((sentence.count(word)/len(sentence.split())))\n",
        "            tf_idf = dictionary[word]*(sentence.count(word)/len(sentence.split())) # getting the tfidf value for each word\n",
        "            vector += (vec * tf_idf) # calculating tfidf weighted w2v\n",
        "            tf_idf_weight += tf_idf\n",
        "    if tf_idf_weight != 0:\n",
        "        vector /= tf_idf_weight\n",
        "    X_test_essay_avgtf.append(vector)\n",
        "\n",
        "print(len(X_train_essay_avgtf))\n",
        "print(len(X_train_essay_avgtf[0]))\n",
        "\n",
        "print(len(X_test_essay_avgtf))\n",
        "print(len(X_test_essay_avgtf[0]))"
      ],
      "execution_count": 0,
      "outputs": [
        {
          "output_type": "stream",
          "text": [
            "100%|██████████| 46900/46900 [00:02<00:00, 17058.04it/s]\n",
            "100%|██████████| 23100/23100 [00:01<00:00, 17360.20it/s]"
          ],
          "name": "stderr"
        },
        {
          "output_type": "stream",
          "text": [
            "46900\n",
            "300\n",
            "23100\n",
            "300\n"
          ],
          "name": "stdout"
        },
        {
          "output_type": "stream",
          "text": [
            "\n"
          ],
          "name": "stderr"
        }
      ]
    },
    {
      "cell_type": "code",
      "metadata": {
        "id": "KGff_NWfNg98",
        "colab_type": "code",
        "colab": {}
      },
      "source": [
        "#BOW DATA MATRIX\n",
        "from scipy.sparse import hstack\n",
        "X_train_bow = hstack((X_train_essay_bow,X_train_titles_bow,X_train_clean_categories,X_train_clean_subcategories, X_train_school_state, X_train_teacher_prefix, X_train_project_grade, X_train_price ,X_train_prev_projects,X_train_quantity)).tocsr()\n",
        "X_test_bow = hstack((X_test_essay_bow,X_test_titles_bow,X_test_clean_categories ,X_test_clean_subcategories , X_test_school_state , X_test_teacher_prefix , X_test_project_grade , X_test_price ,X_test_prev_projects ,X_test_quantity )).tocsr()"
      ],
      "execution_count": 0,
      "outputs": []
    },
    {
      "cell_type": "code",
      "metadata": {
        "id": "l3sf5tANNg9_",
        "colab_type": "code",
        "colab": {}
      },
      "source": [
        "#TFIDF DATA MATRIX\n",
        "\n",
        "X_train_tfidf = hstack((X_train_essay_tfidf,X_train_titles_tfidf,X_train_clean_categories,X_train_clean_subcategories, X_train_school_state, X_train_teacher_prefix, X_train_project_grade, X_train_price ,X_train_prev_projects,X_train_quantity)).tocsr()\n",
        "X_test_tfidf = hstack((X_test_essay_tfidf ,X_test_titles_tfidf ,X_test_clean_categories ,X_test_clean_subcategories , X_test_school_state , X_test_teacher_prefix , X_test_project_grade , X_test_price ,X_test_prev_projects ,X_test_quantity )).tocsr()"
      ],
      "execution_count": 0,
      "outputs": []
    },
    {
      "cell_type": "code",
      "metadata": {
        "id": "amO-TVYcNg-D",
        "colab_type": "code",
        "colab": {}
      },
      "source": [
        "#AVG W2V DATA MATRIX\n",
        "\n",
        "X_train_avgw2v = hstack((X_train_essay_avgw2v,X_train_titles_avgw2v,X_train_clean_categories,X_train_clean_subcategories, X_train_school_state, X_train_teacher_prefix, X_train_project_grade, X_train_price ,X_train_prev_projects,X_train_quantity)).tocsr()\n",
        "X_test_avgw2v = hstack((X_test_essay_avgw2v  ,X_test_titles_avgw2v  ,X_test_clean_categories ,X_test_clean_subcategories , X_test_school_state , X_test_teacher_prefix , X_test_project_grade , X_test_price ,X_test_prev_projects ,X_test_quantity )).tocsr()"
      ],
      "execution_count": 0,
      "outputs": []
    },
    {
      "cell_type": "code",
      "metadata": {
        "id": "Q8x2XtTFNg-H",
        "colab_type": "code",
        "colab": {}
      },
      "source": [
        "#TFIDF AVG W2V DATA MATRIX\n",
        "\n",
        "X_train_avgtf = hstack((X_train_essay_avgtf,X_train_titles_avgtf,X_train_clean_categories,X_train_clean_subcategories, X_train_school_state, X_train_teacher_prefix, X_train_project_grade, X_train_price ,X_train_prev_projects,X_train_quantity)).tocsr()\n",
        "X_test_avgtf = hstack((X_test_essay_avgtf   ,X_test_titles_avgtf   ,X_test_clean_categories ,X_test_clean_subcategories , X_test_school_state , X_test_teacher_prefix , X_test_project_grade , X_test_price ,X_test_prev_projects ,X_test_quantity )).tocsr()"
      ],
      "execution_count": 0,
      "outputs": []
    },
    {
      "cell_type": "markdown",
      "metadata": {
        "colab_type": "text",
        "id": "4IolabGIoUH9"
      },
      "source": [
        "<h2>2.4 Appling Support Vector Machines on different kind of featurization as mentioned in the instructions</h2>\n",
        "\n",
        "<br>Apply Support Vector Machines on different kind of featurization as mentioned in the instructions\n",
        "<br> For Every model that you work on make sure you do the step 2 and step 3 of instrucations"
      ]
    },
    {
      "cell_type": "markdown",
      "metadata": {
        "id": "eMp6MmZyNg-M",
        "colab_type": "text"
      },
      "source": [
        "# SET1"
      ]
    },
    {
      "cell_type": "code",
      "metadata": {
        "colab_type": "code",
        "id": "0IBXizg6oUH9",
        "colab": {}
      },
      "source": [
        "# please write all the code with proper documentation, and proper titles for each subsection\n",
        "# go through documentations and blogs before you start coding\n",
        "# first figure out what to do, and then think about how to do.\n",
        "# reading and understanding error messages will be very much helpfull in debugging your code\n",
        "# when you plot any graph make sure you use \n",
        "    # a. Title, that describes your plot, this will be very helpful to the reader\n",
        "    # b. Legends if needed\n",
        "    # c. X-axis label\n",
        "    # d. Y-axis label\n",
        "from sklearn.linear_model import SGDClassifier\n",
        "from sklearn.model_selection import GridSearchCV"
      ],
      "execution_count": 0,
      "outputs": []
    },
    {
      "cell_type": "code",
      "metadata": {
        "id": "AGLXnZEoNg-S",
        "colab_type": "code",
        "outputId": "6aef3db5-c7a4-4ed6-dcf2-801c6eabeb33",
        "colab": {
          "base_uri": "https://localhost:8080/",
          "height": 479
        }
      },
      "source": [
        "svm = SGDClassifier(loss='hinge',class_weight = 'balanced' )\n",
        "\n",
        "parameters = {'alpha':[ 0.0001, 0.001 , 0.01, 0.2 ,1,200,1000,10000],'penalty':['l1','l2']}\n",
        "\n",
        "clf = GridSearchCV(svm, parameters, cv= 5, scoring='roc_auc',return_train_score=True)\n",
        "\n",
        "clf.fit(X_train_bow, y_train)\n",
        "\n",
        "results=pd.DataFrame.from_dict(clf.cv_results_)\n",
        "train_auc= results['mean_train_score']\n",
        "train_auc_std= results['std_train_score']\n",
        "cv_auc = results['mean_test_score'] \n",
        "cv_auc_std= results['std_test_score']\n",
        "results.head()"
      ],
      "execution_count": 0,
      "outputs": [
        {
          "output_type": "execute_result",
          "data": {
            "text/html": [
              "<div>\n",
              "<style scoped>\n",
              "    .dataframe tbody tr th:only-of-type {\n",
              "        vertical-align: middle;\n",
              "    }\n",
              "\n",
              "    .dataframe tbody tr th {\n",
              "        vertical-align: top;\n",
              "    }\n",
              "\n",
              "    .dataframe thead th {\n",
              "        text-align: right;\n",
              "    }\n",
              "</style>\n",
              "<table border=\"1\" class=\"dataframe\">\n",
              "  <thead>\n",
              "    <tr style=\"text-align: right;\">\n",
              "      <th></th>\n",
              "      <th>mean_fit_time</th>\n",
              "      <th>std_fit_time</th>\n",
              "      <th>mean_score_time</th>\n",
              "      <th>std_score_time</th>\n",
              "      <th>param_alpha</th>\n",
              "      <th>param_penalty</th>\n",
              "      <th>params</th>\n",
              "      <th>split0_test_score</th>\n",
              "      <th>split1_test_score</th>\n",
              "      <th>split2_test_score</th>\n",
              "      <th>split3_test_score</th>\n",
              "      <th>split4_test_score</th>\n",
              "      <th>mean_test_score</th>\n",
              "      <th>std_test_score</th>\n",
              "      <th>rank_test_score</th>\n",
              "      <th>split0_train_score</th>\n",
              "      <th>split1_train_score</th>\n",
              "      <th>split2_train_score</th>\n",
              "      <th>split3_train_score</th>\n",
              "      <th>split4_train_score</th>\n",
              "      <th>mean_train_score</th>\n",
              "      <th>std_train_score</th>\n",
              "    </tr>\n",
              "  </thead>\n",
              "  <tbody>\n",
              "    <tr>\n",
              "      <th>0</th>\n",
              "      <td>17.111230</td>\n",
              "      <td>2.055608</td>\n",
              "      <td>0.005572</td>\n",
              "      <td>0.000252</td>\n",
              "      <td>0.0001</td>\n",
              "      <td>l1</td>\n",
              "      <td>{'alpha': 0.0001, 'penalty': 'l1'}</td>\n",
              "      <td>0.631104</td>\n",
              "      <td>0.619041</td>\n",
              "      <td>0.605094</td>\n",
              "      <td>0.622189</td>\n",
              "      <td>0.630327</td>\n",
              "      <td>0.621551</td>\n",
              "      <td>0.009443</td>\n",
              "      <td>4</td>\n",
              "      <td>0.830569</td>\n",
              "      <td>0.829602</td>\n",
              "      <td>0.825393</td>\n",
              "      <td>0.832009</td>\n",
              "      <td>0.828471</td>\n",
              "      <td>0.829209</td>\n",
              "      <td>0.002234</td>\n",
              "    </tr>\n",
              "    <tr>\n",
              "      <th>1</th>\n",
              "      <td>1.021983</td>\n",
              "      <td>0.106320</td>\n",
              "      <td>0.005354</td>\n",
              "      <td>0.000057</td>\n",
              "      <td>0.0001</td>\n",
              "      <td>l2</td>\n",
              "      <td>{'alpha': 0.0001, 'penalty': 'l2'}</td>\n",
              "      <td>0.620430</td>\n",
              "      <td>0.617888</td>\n",
              "      <td>0.606387</td>\n",
              "      <td>0.627921</td>\n",
              "      <td>0.632331</td>\n",
              "      <td>0.620991</td>\n",
              "      <td>0.008943</td>\n",
              "      <td>5</td>\n",
              "      <td>0.868825</td>\n",
              "      <td>0.867357</td>\n",
              "      <td>0.872964</td>\n",
              "      <td>0.870290</td>\n",
              "      <td>0.866440</td>\n",
              "      <td>0.869175</td>\n",
              "      <td>0.002303</td>\n",
              "    </tr>\n",
              "    <tr>\n",
              "      <th>2</th>\n",
              "      <td>1.745487</td>\n",
              "      <td>0.462789</td>\n",
              "      <td>0.005623</td>\n",
              "      <td>0.000536</td>\n",
              "      <td>0.001</td>\n",
              "      <td>l1</td>\n",
              "      <td>{'alpha': 0.001, 'penalty': 'l1'}</td>\n",
              "      <td>0.658893</td>\n",
              "      <td>0.657741</td>\n",
              "      <td>0.664139</td>\n",
              "      <td>0.655686</td>\n",
              "      <td>0.662211</td>\n",
              "      <td>0.659734</td>\n",
              "      <td>0.003053</td>\n",
              "      <td>2</td>\n",
              "      <td>0.695833</td>\n",
              "      <td>0.707974</td>\n",
              "      <td>0.702028</td>\n",
              "      <td>0.697465</td>\n",
              "      <td>0.693738</td>\n",
              "      <td>0.699408</td>\n",
              "      <td>0.005078</td>\n",
              "    </tr>\n",
              "    <tr>\n",
              "      <th>3</th>\n",
              "      <td>0.432580</td>\n",
              "      <td>0.112852</td>\n",
              "      <td>0.005372</td>\n",
              "      <td>0.000056</td>\n",
              "      <td>0.001</td>\n",
              "      <td>l2</td>\n",
              "      <td>{'alpha': 0.001, 'penalty': 'l2'}</td>\n",
              "      <td>0.647245</td>\n",
              "      <td>0.639639</td>\n",
              "      <td>0.629583</td>\n",
              "      <td>0.646757</td>\n",
              "      <td>0.653498</td>\n",
              "      <td>0.643344</td>\n",
              "      <td>0.008162</td>\n",
              "      <td>3</td>\n",
              "      <td>0.845673</td>\n",
              "      <td>0.847623</td>\n",
              "      <td>0.850649</td>\n",
              "      <td>0.847453</td>\n",
              "      <td>0.845528</td>\n",
              "      <td>0.847385</td>\n",
              "      <td>0.001849</td>\n",
              "    </tr>\n",
              "    <tr>\n",
              "      <th>4</th>\n",
              "      <td>0.689209</td>\n",
              "      <td>0.291916</td>\n",
              "      <td>0.004848</td>\n",
              "      <td>0.000072</td>\n",
              "      <td>0.01</td>\n",
              "      <td>l1</td>\n",
              "      <td>{'alpha': 0.01, 'penalty': 'l1'}</td>\n",
              "      <td>0.578710</td>\n",
              "      <td>0.566800</td>\n",
              "      <td>0.564928</td>\n",
              "      <td>0.558616</td>\n",
              "      <td>0.570395</td>\n",
              "      <td>0.567890</td>\n",
              "      <td>0.006623</td>\n",
              "      <td>11</td>\n",
              "      <td>0.563975</td>\n",
              "      <td>0.567211</td>\n",
              "      <td>0.577799</td>\n",
              "      <td>0.562584</td>\n",
              "      <td>0.574738</td>\n",
              "      <td>0.569261</td>\n",
              "      <td>0.005994</td>\n",
              "    </tr>\n",
              "  </tbody>\n",
              "</table>\n",
              "</div>"
            ],
            "text/plain": [
              "   mean_fit_time  std_fit_time  ...  mean_train_score  std_train_score\n",
              "0      17.111230      2.055608  ...          0.829209         0.002234\n",
              "1       1.021983      0.106320  ...          0.869175         0.002303\n",
              "2       1.745487      0.462789  ...          0.699408         0.005078\n",
              "3       0.432580      0.112852  ...          0.847385         0.001849\n",
              "4       0.689209      0.291916  ...          0.569261         0.005994\n",
              "\n",
              "[5 rows x 22 columns]"
            ]
          },
          "metadata": {
            "tags": []
          },
          "execution_count": 34
        }
      ]
    },
    {
      "cell_type": "code",
      "metadata": {
        "id": "_XdRRHl8Ng-W",
        "colab_type": "code",
        "outputId": "25a0af8a-08e8-416b-b4ff-0ad2e09807c9",
        "colab": {
          "base_uri": "https://localhost:8080/",
          "height": 34
        }
      },
      "source": [
        "clf.best_params_"
      ],
      "execution_count": 0,
      "outputs": [
        {
          "output_type": "execute_result",
          "data": {
            "text/plain": [
              "{'alpha': 0.01, 'penalty': 'l2'}"
            ]
          },
          "metadata": {
            "tags": []
          },
          "execution_count": 35
        }
      ]
    },
    {
      "cell_type": "code",
      "metadata": {
        "id": "xe93ZWwXNg-a",
        "colab_type": "code",
        "colab": {}
      },
      "source": [
        "import math\n",
        "alpha_l1=results[results['param_penalty']=='l1']['param_alpha']\n",
        "alpha_l2=results[results['param_penalty']=='l2']['param_alpha']\n",
        "alphas = list(map(lambda x: math.log(x),alpha_l1))\n",
        "train_auc_l1=[train_auc[i] for i in range(0,len(train_auc),2)]\n",
        "train_auc_l2=[train_auc[i] for i in range(1,len(train_auc),2)]\n",
        "\n",
        "cv_auc_l1=[cv_auc[i] for i in range(0,len(cv_auc),2)]\n",
        "cv_auc_l2=[cv_auc[i] for i in range(1,len(cv_auc),2)]"
      ],
      "execution_count": 0,
      "outputs": []
    },
    {
      "cell_type": "code",
      "metadata": {
        "id": "qrl0CjuZNg-d",
        "colab_type": "code",
        "outputId": "f5bc24d7-b4a7-40a2-f75c-f2ad502815ab",
        "colab": {
          "base_uri": "https://localhost:8080/",
          "height": 295
        }
      },
      "source": [
        "plt.plot(alphas, train_auc_l1, label='Train AUC l1')\n",
        "# this code is copied from here: https://stackoverflow.com/a/48803361/4084039\n",
        "# plt.gca().fill_between(K, train_auc - train_auc_std,train_auc + train_auc_std,alpha=0.2,color='darkblue')\n",
        "plt.plot(alphas, train_auc_l2, label='Train AUC l2')\n",
        "plt.plot(alphas, cv_auc_l1, label='CV AUC l1')\n",
        "plt.plot(alphas, cv_auc_l2, label='CV AUC l2')\n",
        "# this code is copied from here: https://stackoverflow.com/a/48803361/4084039\n",
        "# plt.gca().fill_between(K, cv_auc - cv_auc_std,cv_auc + cv_auc_std,alpha=0.2,color='darkorange')\n",
        "\n",
        "\n",
        "plt.scatter(alphas, train_auc_l1, label='Train AUC l1 points')\n",
        "plt.scatter(alphas, train_auc_l2, label='Train AUC l2 points')\n",
        "plt.scatter(alphas, cv_auc_l1, label='CV AUC l1 points')\n",
        "plt.scatter(alphas, cv_auc_l2, label='CV AUC l2 points')\n",
        "\n",
        "plt.legend()\n",
        "plt.xlabel(\"alpha hyperparameter\")\n",
        "plt.ylabel(\"AUC\")\n",
        "plt.title(\"Hyperparameter VS AUC FOR BOW\")\n",
        "plt.grid()\n",
        "plt.show()\n"
      ],
      "execution_count": 0,
      "outputs": [
        {
          "output_type": "display_data",
          "data": {
            "image/png": "[encoded data removed]",
            "text/plain": [
              "<Figure size 432x288 with 1 Axes>"
            ]
          },
          "metadata": {
            "tags": [],
            "needs_background": "light"
          }
        }
      ]
    },
    {
      "cell_type": "code",
      "metadata": {
        "id": "BvhcrRIbNg-i",
        "colab_type": "code",
        "outputId": "2ea957b1-0201-474e-b1c1-6e4909f5076b",
        "colab": {
          "base_uri": "https://localhost:8080/",
          "height": 295
        }
      },
      "source": [
        "from sklearn.metrics import roc_curve, auc\n",
        "\n",
        "\n",
        "svm = SGDClassifier(loss='hinge',alpha=0.01,penalty='l2',class_weight = 'balanced' )\n",
        "svm.fit(X_train_bow, y_train)\n",
        "# roc_auc_score(y_true, y_score) the 2nd parameter should be probability estimates of the positive class\n",
        "# not the predicted outputs\n",
        "\n",
        "y_train_pred = svm.decision_function(X_train_bow)    \n",
        "y_test_pred = svm.decision_function(X_test_bow)\n",
        "\n",
        "train_fpr, train_tpr, tr_thresholds = roc_curve(y_train, y_train_pred)\n",
        "test_fpr, test_tpr, te_thresholds = roc_curve(y_test, y_test_pred)\n",
        "\n",
        "plt.plot(train_fpr, train_tpr, label=\"train AUC =\"+str(auc(train_fpr, train_tpr)))\n",
        "plt.plot(test_fpr, test_tpr, label=\"test AUC =\"+str(auc(test_fpr, test_tpr)))\n",
        "plt.legend()\n",
        "plt.xlabel(\"False Positive Rate\")\n",
        "plt.ylabel(\"True Positive Rate\")\n",
        "plt.title(\"ROC Curve FOR BOW\")\n",
        "plt.grid()\n",
        "plt.show()"
      ],
      "execution_count": 0,
      "outputs": [
        {
          "output_type": "display_data",
          "data": {
            "image/png": "[encoded data removed]",
            "text/plain": [
              "<Figure size 432x288 with 1 Axes>"
            ]
          },
          "metadata": {
            "tags": [],
            "needs_background": "light"
          }
        }
      ]
    },
    {
      "cell_type": "code",
      "metadata": {
        "id": "i_9GAvP_Ng-n",
        "colab_type": "code",
        "colab": {}
      },
      "source": [
        "def find_best_threshold(threshould, fpr, tpr):\n",
        "    t = threshould[np.argmax(tpr*(1-fpr))]\n",
        "    # (tpr*(1-fpr)) will be maximum if your fpr is very low and tpr is very high\n",
        "    print(\"the maximum value of tpr*(1-fpr)\", max(tpr*(1-fpr)), \"for threshold\", np.round(t,3))\n",
        "    return t\n",
        "\n",
        "def predict_with_best_t(proba, threshould):\n",
        "    predictions = []\n",
        "    for i in proba:\n",
        "        if i>=threshould:\n",
        "            predictions.append(1)\n",
        "        else:\n",
        "            predictions.append(0)\n",
        "    return predictions"
      ],
      "execution_count": 0,
      "outputs": []
    },
    {
      "cell_type": "code",
      "metadata": {
        "id": "buyY7XKkNg-s",
        "colab_type": "code",
        "outputId": "8873e769-de65-43ca-edc6-6fc3bb2458ef",
        "colab": {
          "base_uri": "https://localhost:8080/",
          "height": 153
        }
      },
      "source": [
        "print(\"=\"*100)\n",
        "from sklearn.metrics import confusion_matrix\n",
        "best_t = find_best_threshold(tr_thresholds, train_fpr, train_tpr)\n",
        "print(\"Train confusion matrix\")\n",
        "print(confusion_matrix(y_train, predict_with_best_t(y_train_pred, best_t)))\n",
        "print(\"Test confusion matrix\")\n",
        "print(confusion_matrix(y_test, predict_with_best_t(y_test_pred, best_t)))"
      ],
      "execution_count": 0,
      "outputs": [
        {
          "output_type": "stream",
          "text": [
            "====================================================================================================\n",
            "the maximum value of tpr*(1-fpr) 0.4787930517117551 for threshold -0.12\n",
            "Train confusion matrix\n",
            "[[ 4790  2322]\n",
            " [11503 28285]]\n",
            "Test confusion matrix\n",
            "[[ 1901  1602]\n",
            " [ 6041 13556]]\n"
          ],
          "name": "stdout"
        }
      ]
    },
    {
      "cell_type": "code",
      "metadata": {
        "id": "nA-q0lteNg-w",
        "colab_type": "code",
        "outputId": "5bfcdaa0-7f48-4bd2-ba90-7cd356421e1e",
        "colab": {
          "base_uri": "https://localhost:8080/",
          "height": 282
        }
      },
      "source": [
        "conf_matr_train = pd.DataFrame(confusion_matrix(y_train, predict_with_best_t(y_train_pred,best_t)), range(2),range(2))\n",
        "sns.heatmap(conf_matr_train, annot=True, fmt='', cmap='Blues')"
      ],
      "execution_count": 0,
      "outputs": [
        {
          "output_type": "execute_result",
          "data": {
            "text/plain": [
              "<matplotlib.axes._subplots.AxesSubplot at 0x7fb3839de6a0>"
            ]
          },
          "metadata": {
            "tags": []
          },
          "execution_count": 44
        },
        {
          "output_type": "display_data",
          "data": {
            "image/png": "[encoded data removed]",
            "text/plain": [
              "<Figure size 432x288 with 2 Axes>"
            ]
          },
          "metadata": {
            "tags": [],
            "needs_background": "light"
          }
        }
      ]
    },
    {
      "cell_type": "code",
      "metadata": {
        "id": "Qhc6k9kqNg-1",
        "colab_type": "code",
        "outputId": "7fff1994-6e20-4f36-de03-aea38cc683bc",
        "colab": {
          "base_uri": "https://localhost:8080/",
          "height": 282
        }
      },
      "source": [
        "conf_matr_test = pd.DataFrame(confusion_matrix(y_test, predict_with_best_t(y_test_pred,best_t)), range(2),range(2))\n",
        "sns.heatmap(conf_matr_test, annot=True, fmt='', cmap='Blues')"
      ],
      "execution_count": 0,
      "outputs": [
        {
          "output_type": "execute_result",
          "data": {
            "text/plain": [
              "<matplotlib.axes._subplots.AxesSubplot at 0x7fb3825752e8>"
            ]
          },
          "metadata": {
            "tags": []
          },
          "execution_count": 45
        },
        {
          "output_type": "display_data",
          "data": {
            "image/png": "[encoded data removed]",
            "text/plain": [
              "<Figure size 432x288 with 2 Axes>"
            ]
          },
          "metadata": {
            "tags": [],
            "needs_background": "light"
          }
        }
      ]
    },
    {
      "cell_type": "markdown",
      "metadata": {
        "id": "NgkaE8xYNg-8",
        "colab_type": "text"
      },
      "source": [
        "number of true positives is high while number of false negatives is also high."
      ]
    },
    {
      "cell_type": "markdown",
      "metadata": {
        "id": "_g7Hd-zINg-9",
        "colab_type": "text"
      },
      "source": [
        "# SET 2"
      ]
    },
    {
      "cell_type": "code",
      "metadata": {
        "id": "fYVpvqAvNg--",
        "colab_type": "code",
        "outputId": "ba779ae1-54c5-4f6c-a0e6-d5fd4131403e",
        "colab": {
          "base_uri": "https://localhost:8080/",
          "height": 479
        }
      },
      "source": [
        "svm = SGDClassifier(loss='hinge',class_weight = 'balanced' )\n",
        "alpha = [ 0.0001, 0.005 , 0.01, 0.2 ,1,100,1000,10000]\n",
        "parameters = {'alpha': alpha,'penalty':['l1','l2']}\n",
        "\n",
        "clf = GridSearchCV(svm, parameters, cv= 5, scoring='roc_auc',return_train_score=True)\n",
        "\n",
        "clf.fit(X_train_tfidf, y_train)\n",
        "\n",
        "results=pd.DataFrame.from_dict(clf.cv_results_)\n",
        "train_auc= results['mean_train_score']\n",
        "train_auc_std= results['std_train_score']\n",
        "cv_auc = results['mean_test_score'] \n",
        "cv_auc_std= results['std_test_score']\n",
        "results.head()"
      ],
      "execution_count": 0,
      "outputs": [
        {
          "output_type": "execute_result",
          "data": {
            "text/html": [
              "<div>\n",
              "<style scoped>\n",
              "    .dataframe tbody tr th:only-of-type {\n",
              "        vertical-align: middle;\n",
              "    }\n",
              "\n",
              "    .dataframe tbody tr th {\n",
              "        vertical-align: top;\n",
              "    }\n",
              "\n",
              "    .dataframe thead th {\n",
              "        text-align: right;\n",
              "    }\n",
              "</style>\n",
              "<table border=\"1\" class=\"dataframe\">\n",
              "  <thead>\n",
              "    <tr style=\"text-align: right;\">\n",
              "      <th></th>\n",
              "      <th>mean_fit_time</th>\n",
              "      <th>std_fit_time</th>\n",
              "      <th>mean_score_time</th>\n",
              "      <th>std_score_time</th>\n",
              "      <th>param_alpha</th>\n",
              "      <th>param_penalty</th>\n",
              "      <th>params</th>\n",
              "      <th>split0_test_score</th>\n",
              "      <th>split1_test_score</th>\n",
              "      <th>split2_test_score</th>\n",
              "      <th>split3_test_score</th>\n",
              "      <th>split4_test_score</th>\n",
              "      <th>mean_test_score</th>\n",
              "      <th>std_test_score</th>\n",
              "      <th>rank_test_score</th>\n",
              "      <th>split0_train_score</th>\n",
              "      <th>split1_train_score</th>\n",
              "      <th>split2_train_score</th>\n",
              "      <th>split3_train_score</th>\n",
              "      <th>split4_train_score</th>\n",
              "      <th>mean_train_score</th>\n",
              "      <th>std_train_score</th>\n",
              "    </tr>\n",
              "  </thead>\n",
              "  <tbody>\n",
              "    <tr>\n",
              "      <th>0</th>\n",
              "      <td>1.026383</td>\n",
              "      <td>0.142645</td>\n",
              "      <td>0.005404</td>\n",
              "      <td>0.000104</td>\n",
              "      <td>0.0001</td>\n",
              "      <td>l1</td>\n",
              "      <td>{'alpha': 0.0001, 'penalty': 'l1'}</td>\n",
              "      <td>0.669279</td>\n",
              "      <td>0.666708</td>\n",
              "      <td>0.667290</td>\n",
              "      <td>0.667681</td>\n",
              "      <td>0.671350</td>\n",
              "      <td>0.668462</td>\n",
              "      <td>0.001677</td>\n",
              "      <td>1</td>\n",
              "      <td>0.765081</td>\n",
              "      <td>0.770240</td>\n",
              "      <td>0.768601</td>\n",
              "      <td>0.766223</td>\n",
              "      <td>0.769194</td>\n",
              "      <td>0.767868</td>\n",
              "      <td>0.001918</td>\n",
              "    </tr>\n",
              "    <tr>\n",
              "      <th>1</th>\n",
              "      <td>0.519215</td>\n",
              "      <td>0.064948</td>\n",
              "      <td>0.005519</td>\n",
              "      <td>0.000038</td>\n",
              "      <td>0.0001</td>\n",
              "      <td>l2</td>\n",
              "      <td>{'alpha': 0.0001, 'penalty': 'l2'}</td>\n",
              "      <td>0.659757</td>\n",
              "      <td>0.657814</td>\n",
              "      <td>0.651885</td>\n",
              "      <td>0.658434</td>\n",
              "      <td>0.660087</td>\n",
              "      <td>0.657595</td>\n",
              "      <td>0.002975</td>\n",
              "      <td>2</td>\n",
              "      <td>0.833084</td>\n",
              "      <td>0.833610</td>\n",
              "      <td>0.843662</td>\n",
              "      <td>0.836273</td>\n",
              "      <td>0.840699</td>\n",
              "      <td>0.837465</td>\n",
              "      <td>0.004107</td>\n",
              "    </tr>\n",
              "    <tr>\n",
              "      <th>2</th>\n",
              "      <td>0.378116</td>\n",
              "      <td>0.143993</td>\n",
              "      <td>0.004978</td>\n",
              "      <td>0.000097</td>\n",
              "      <td>0.005</td>\n",
              "      <td>l1</td>\n",
              "      <td>{'alpha': 0.005, 'penalty': 'l1'}</td>\n",
              "      <td>0.561582</td>\n",
              "      <td>0.538593</td>\n",
              "      <td>0.540998</td>\n",
              "      <td>0.540588</td>\n",
              "      <td>0.538007</td>\n",
              "      <td>0.543953</td>\n",
              "      <td>0.008887</td>\n",
              "      <td>10</td>\n",
              "      <td>0.545728</td>\n",
              "      <td>0.549808</td>\n",
              "      <td>0.547454</td>\n",
              "      <td>0.548603</td>\n",
              "      <td>0.547361</td>\n",
              "      <td>0.547791</td>\n",
              "      <td>0.001362</td>\n",
              "    </tr>\n",
              "    <tr>\n",
              "      <th>3</th>\n",
              "      <td>0.159594</td>\n",
              "      <td>0.032174</td>\n",
              "      <td>0.005414</td>\n",
              "      <td>0.000066</td>\n",
              "      <td>0.005</td>\n",
              "      <td>l2</td>\n",
              "      <td>{'alpha': 0.005, 'penalty': 'l2'}</td>\n",
              "      <td>0.597546</td>\n",
              "      <td>0.577887</td>\n",
              "      <td>0.582196</td>\n",
              "      <td>0.580740</td>\n",
              "      <td>0.579501</td>\n",
              "      <td>0.583574</td>\n",
              "      <td>0.007129</td>\n",
              "      <td>3</td>\n",
              "      <td>0.600613</td>\n",
              "      <td>0.605590</td>\n",
              "      <td>0.603571</td>\n",
              "      <td>0.604921</td>\n",
              "      <td>0.606239</td>\n",
              "      <td>0.604187</td>\n",
              "      <td>0.001994</td>\n",
              "    </tr>\n",
              "    <tr>\n",
              "      <th>4</th>\n",
              "      <td>0.215190</td>\n",
              "      <td>0.058877</td>\n",
              "      <td>0.005122</td>\n",
              "      <td>0.000825</td>\n",
              "      <td>0.01</td>\n",
              "      <td>l1</td>\n",
              "      <td>{'alpha': 0.01, 'penalty': 'l1'}</td>\n",
              "      <td>0.554327</td>\n",
              "      <td>0.531127</td>\n",
              "      <td>0.536938</td>\n",
              "      <td>0.537416</td>\n",
              "      <td>0.535985</td>\n",
              "      <td>0.539159</td>\n",
              "      <td>0.007907</td>\n",
              "      <td>11</td>\n",
              "      <td>0.535696</td>\n",
              "      <td>0.541106</td>\n",
              "      <td>0.543870</td>\n",
              "      <td>0.543094</td>\n",
              "      <td>0.543692</td>\n",
              "      <td>0.541492</td>\n",
              "      <td>0.003060</td>\n",
              "    </tr>\n",
              "  </tbody>\n",
              "</table>\n",
              "</div>"
            ],
            "text/plain": [
              "   mean_fit_time  std_fit_time  ...  mean_train_score  std_train_score\n",
              "0       1.026383      0.142645  ...          0.767868         0.001918\n",
              "1       0.519215      0.064948  ...          0.837465         0.004107\n",
              "2       0.378116      0.143993  ...          0.547791         0.001362\n",
              "3       0.159594      0.032174  ...          0.604187         0.001994\n",
              "4       0.215190      0.058877  ...          0.541492         0.003060\n",
              "\n",
              "[5 rows x 22 columns]"
            ]
          },
          "metadata": {
            "tags": []
          },
          "execution_count": 46
        }
      ]
    },
    {
      "cell_type": "code",
      "metadata": {
        "id": "EIipmiATNg_D",
        "colab_type": "code",
        "outputId": "07f0a06e-1d24-40c0-8a64-52e3b3a45f6a",
        "colab": {
          "base_uri": "https://localhost:8080/",
          "height": 34
        }
      },
      "source": [
        "clf.best_params_"
      ],
      "execution_count": 0,
      "outputs": [
        {
          "output_type": "execute_result",
          "data": {
            "text/plain": [
              "{'alpha': 0.0001, 'penalty': 'l1'}"
            ]
          },
          "metadata": {
            "tags": []
          },
          "execution_count": 47
        }
      ]
    },
    {
      "cell_type": "code",
      "metadata": {
        "id": "uq2NRC0aNg_H",
        "colab_type": "code",
        "colab": {}
      },
      "source": [
        "alpha = list(map(lambda x: math.log(x),alpha))\n",
        "train_auc_l1=[train_auc[i] for i in range(0,len(train_auc),2)]\n",
        "train_auc_l2=[train_auc[i] for i in range(1,len(train_auc),2)]\n",
        "\n",
        "cv_auc_l1=[cv_auc[i] for i in range(0,len(cv_auc),2)]\n",
        "cv_auc_l2=[cv_auc[i] for i in range(1,len(cv_auc),2)]"
      ],
      "execution_count": 0,
      "outputs": []
    },
    {
      "cell_type": "code",
      "metadata": {
        "id": "PZnE9dmYNg_K",
        "colab_type": "code",
        "outputId": "a0ee1dfb-705f-4ed7-8829-664c4b67faf2",
        "colab": {
          "base_uri": "https://localhost:8080/",
          "height": 295
        }
      },
      "source": [
        "plt.plot(alpha, train_auc_l1, label='Train AUC l1')\n",
        "# this code is copied from here: https://stackoverflow.com/a/48803361/4084039\n",
        "# plt.gca().fill_between(K, train_auc - train_auc_std,train_auc + train_auc_std,alpha=0.2,color='darkblue')\n",
        "plt.plot(alpha, train_auc_l2, label='Train AUC l2')\n",
        "plt.plot(alpha, cv_auc_l1, label='CV AUC l1')\n",
        "plt.plot(alpha, cv_auc_l2, label='CV AUC l2')\n",
        "# this code is copied from here: https://stackoverflow.com/a/48803361/4084039\n",
        "# plt.gca().fill_between(K, cv_auc - cv_auc_std,cv_auc + cv_auc_std,alpha=0.2,color='darkorange')\n",
        "\n",
        "\n",
        "plt.scatter(alpha, train_auc_l1, label='Train AUC l1 points')\n",
        "plt.scatter(alpha, train_auc_l2, label='Train AUC l2 points')\n",
        "plt.scatter(alpha, cv_auc_l1, label='CV AUC l1 points')\n",
        "plt.scatter(alpha, cv_auc_l2, label='CV AUC l2 points')\n",
        "\n",
        "plt.legend()\n",
        "plt.xlabel(\"alpha hyperparameter\")\n",
        "plt.ylabel(\"AUC\")\n",
        "plt.title(\"Hyperparameter VS AUC FOR TFIDF\")\n",
        "plt.grid()\n",
        "plt.show()\n"
      ],
      "execution_count": 0,
      "outputs": [
        {
          "output_type": "display_data",
          "data": {
            "image/png": "[encoded data removed]",
            "text/plain": [
              "<Figure size 432x288 with 1 Axes>"
            ]
          },
          "metadata": {
            "tags": [],
            "needs_background": "light"
          }
        }
      ]
    },
    {
      "cell_type": "code",
      "metadata": {
        "id": "483Gey7jNg_Q",
        "colab_type": "code",
        "outputId": "89628952-7f0e-4bc8-c884-a392c860503f",
        "colab": {
          "base_uri": "https://localhost:8080/",
          "height": 295
        }
      },
      "source": [
        "from sklearn.metrics import roc_curve, auc\n",
        "\n",
        "\n",
        "svm = SGDClassifier(loss='hinge',alpha=0.0001,penalty='l1',class_weight = 'balanced' )\n",
        "svm.fit(X_train_tfidf, y_train)\n",
        "# roc_auc_score(y_true, y_score) the 2nd parameter should be probability estimates of the positive class\n",
        "# not the predicted outputs\n",
        "\n",
        "y_train_pred = svm.decision_function(X_train_tfidf)    \n",
        "y_test_pred = svm.decision_function(X_test_tfidf)\n",
        "\n",
        "train_fpr, train_tpr, tr_thresholds = roc_curve(y_train, y_train_pred)\n",
        "test_fpr, test_tpr, te_thresholds = roc_curve(y_test, y_test_pred)\n",
        "\n",
        "plt.plot(train_fpr, train_tpr, label=\"train AUC =\"+str(auc(train_fpr, train_tpr)))\n",
        "plt.plot(test_fpr, test_tpr, label=\"test AUC =\"+str(auc(test_fpr, test_tpr)))\n",
        "plt.legend()\n",
        "plt.xlabel(\"False Positive Rate\")\n",
        "plt.ylabel(\"True Positive Rate\")\n",
        "plt.title(\"ROC Curve FOR TFIDF\")\n",
        "plt.grid()\n",
        "plt.show()"
      ],
      "execution_count": 0,
      "outputs": [
        {
          "output_type": "display_data",
          "data": {
            "image/png": "[encoded data removed]",
            "text/plain": [
              "<Figure size 432x288 with 1 Axes>"
            ]
          },
          "metadata": {
            "tags": [],
            "needs_background": "light"
          }
        }
      ]
    },
    {
      "cell_type": "code",
      "metadata": {
        "id": "LUBS9GycNg_V",
        "colab_type": "code",
        "outputId": "5d0cab46-41f9-469d-b38e-930f17ceec19",
        "colab": {
          "base_uri": "https://localhost:8080/",
          "height": 153
        }
      },
      "source": [
        "print(\"=\"*100)\n",
        "from sklearn.metrics import confusion_matrix\n",
        "best_t = find_best_threshold(tr_thresholds, train_fpr, train_tpr)\n",
        "print(\"Train confusion matrix\")\n",
        "print(confusion_matrix(y_train, predict_with_best_t(y_train_pred, best_t)))\n",
        "print(\"Test confusion matrix\")\n",
        "print(confusion_matrix(y_test, predict_with_best_t(y_test_pred, best_t)))"
      ],
      "execution_count": 0,
      "outputs": [
        {
          "output_type": "stream",
          "text": [
            "====================================================================================================\n",
            "the maximum value of tpr*(1-fpr) 0.4810849866497159 for threshold -0.118\n",
            "Train confusion matrix\n",
            "[[ 4946  2166]\n",
            " [12264 27524]]\n",
            "Test confusion matrix\n",
            "[[ 2078  1425]\n",
            " [ 6315 13282]]\n"
          ],
          "name": "stdout"
        }
      ]
    },
    {
      "cell_type": "code",
      "metadata": {
        "id": "_MF8m2yUNg_a",
        "colab_type": "code",
        "outputId": "a49f1360-c60b-4fe7-d8e5-ba694bb71041",
        "colab": {
          "base_uri": "https://localhost:8080/",
          "height": 282
        }
      },
      "source": [
        "conf_matr_train = pd.DataFrame(confusion_matrix(y_train, predict_with_best_t(y_train_pred,best_t)), range(2),range(2))\n",
        "sns.heatmap(conf_matr_train, annot=True, fmt='', cmap='Blues')"
      ],
      "execution_count": 0,
      "outputs": [
        {
          "output_type": "execute_result",
          "data": {
            "text/plain": [
              "<matplotlib.axes._subplots.AxesSubplot at 0x7fb388a6cba8>"
            ]
          },
          "metadata": {
            "tags": []
          },
          "execution_count": 55
        },
        {
          "output_type": "display_data",
          "data": {
            "image/png": "[encoded data removed]",
            "text/plain": [
              "<Figure size 432x288 with 2 Axes>"
            ]
          },
          "metadata": {
            "tags": [],
            "needs_background": "light"
          }
        }
      ]
    },
    {
      "cell_type": "code",
      "metadata": {
        "id": "DKWt7CpuNg_d",
        "colab_type": "code",
        "outputId": "deb83a14-8b44-461c-dd56-5aa5ba446541",
        "colab": {
          "base_uri": "https://localhost:8080/",
          "height": 282
        }
      },
      "source": [
        "conf_matr_test = pd.DataFrame(confusion_matrix(y_test, predict_with_best_t(y_test_pred,best_t)), range(2),range(2))\n",
        "sns.heatmap(conf_matr_test, annot=True, fmt='', cmap='Blues')"
      ],
      "execution_count": 0,
      "outputs": [
        {
          "output_type": "execute_result",
          "data": {
            "text/plain": [
              "<matplotlib.axes._subplots.AxesSubplot at 0x7fb38ee72240>"
            ]
          },
          "metadata": {
            "tags": []
          },
          "execution_count": 56
        },
        {
          "output_type": "display_data",
          "data": {
            "image/png": "[encoded data removed]",
            "text/plain": [
              "<Figure size 432x288 with 2 Axes>"
            ]
          },
          "metadata": {
            "tags": [],
            "needs_background": "light"
          }
        }
      ]
    },
    {
      "cell_type": "markdown",
      "metadata": {
        "id": "wRzpLB8tNg_g",
        "colab_type": "text"
      },
      "source": [
        "# SET 3"
      ]
    },
    {
      "cell_type": "code",
      "metadata": {
        "id": "gPLQjzPbNg_h",
        "colab_type": "code",
        "outputId": "13ff5f16-ff7c-4d26-e77d-6453f3f5ab55",
        "colab": {
          "base_uri": "https://localhost:8080/",
          "height": 479
        }
      },
      "source": [
        "svm = SGDClassifier(loss='hinge',class_weight = 'balanced' )\n",
        "alpha = [ 0.0001, 0.001 , 0.01, 0.2 ,1,200,1000,10000]\n",
        "parameters = {'alpha':alpha,'penalty':['l1','l2']}\n",
        "\n",
        "clf = GridSearchCV(svm, parameters, cv= 5, scoring='roc_auc',return_train_score=True)\n",
        "\n",
        "clf.fit(X_train_avgw2v, y_train)\n",
        "\n",
        "results=pd.DataFrame.from_dict(clf.cv_results_)\n",
        "train_auc= results['mean_train_score']\n",
        "train_auc_std= results['std_train_score']\n",
        "cv_auc = results['mean_test_score'] \n",
        "cv_auc_std= results['std_test_score']\n",
        "results.head()"
      ],
      "execution_count": 0,
      "outputs": [
        {
          "output_type": "execute_result",
          "data": {
            "text/html": [
              "<div>\n",
              "<style scoped>\n",
              "    .dataframe tbody tr th:only-of-type {\n",
              "        vertical-align: middle;\n",
              "    }\n",
              "\n",
              "    .dataframe tbody tr th {\n",
              "        vertical-align: top;\n",
              "    }\n",
              "\n",
              "    .dataframe thead th {\n",
              "        text-align: right;\n",
              "    }\n",
              "</style>\n",
              "<table border=\"1\" class=\"dataframe\">\n",
              "  <thead>\n",
              "    <tr style=\"text-align: right;\">\n",
              "      <th></th>\n",
              "      <th>mean_fit_time</th>\n",
              "      <th>std_fit_time</th>\n",
              "      <th>mean_score_time</th>\n",
              "      <th>std_score_time</th>\n",
              "      <th>param_alpha</th>\n",
              "      <th>param_penalty</th>\n",
              "      <th>params</th>\n",
              "      <th>split0_test_score</th>\n",
              "      <th>split1_test_score</th>\n",
              "      <th>split2_test_score</th>\n",
              "      <th>split3_test_score</th>\n",
              "      <th>split4_test_score</th>\n",
              "      <th>mean_test_score</th>\n",
              "      <th>std_test_score</th>\n",
              "      <th>rank_test_score</th>\n",
              "      <th>split0_train_score</th>\n",
              "      <th>split1_train_score</th>\n",
              "      <th>split2_train_score</th>\n",
              "      <th>split3_train_score</th>\n",
              "      <th>split4_train_score</th>\n",
              "      <th>mean_train_score</th>\n",
              "      <th>std_train_score</th>\n",
              "    </tr>\n",
              "  </thead>\n",
              "  <tbody>\n",
              "    <tr>\n",
              "      <th>0</th>\n",
              "      <td>10.476052</td>\n",
              "      <td>3.616228</td>\n",
              "      <td>0.017804</td>\n",
              "      <td>0.000300</td>\n",
              "      <td>0.0001</td>\n",
              "      <td>l1</td>\n",
              "      <td>{'alpha': 0.0001, 'penalty': 'l1'}</td>\n",
              "      <td>0.697672</td>\n",
              "      <td>0.690329</td>\n",
              "      <td>0.701566</td>\n",
              "      <td>0.691750</td>\n",
              "      <td>0.692788</td>\n",
              "      <td>0.694821</td>\n",
              "      <td>0.004180</td>\n",
              "      <td>2</td>\n",
              "      <td>0.725757</td>\n",
              "      <td>0.735766</td>\n",
              "      <td>0.733143</td>\n",
              "      <td>0.731401</td>\n",
              "      <td>0.722780</td>\n",
              "      <td>0.729769</td>\n",
              "      <td>0.004795</td>\n",
              "    </tr>\n",
              "    <tr>\n",
              "      <th>1</th>\n",
              "      <td>6.203667</td>\n",
              "      <td>1.062404</td>\n",
              "      <td>0.018014</td>\n",
              "      <td>0.000483</td>\n",
              "      <td>0.0001</td>\n",
              "      <td>l2</td>\n",
              "      <td>{'alpha': 0.0001, 'penalty': 'l2'}</td>\n",
              "      <td>0.706339</td>\n",
              "      <td>0.689400</td>\n",
              "      <td>0.700907</td>\n",
              "      <td>0.693336</td>\n",
              "      <td>0.690160</td>\n",
              "      <td>0.696028</td>\n",
              "      <td>0.006569</td>\n",
              "      <td>1</td>\n",
              "      <td>0.731180</td>\n",
              "      <td>0.739861</td>\n",
              "      <td>0.735871</td>\n",
              "      <td>0.739382</td>\n",
              "      <td>0.729381</td>\n",
              "      <td>0.735135</td>\n",
              "      <td>0.004235</td>\n",
              "    </tr>\n",
              "    <tr>\n",
              "      <th>2</th>\n",
              "      <td>6.618536</td>\n",
              "      <td>0.500958</td>\n",
              "      <td>0.018433</td>\n",
              "      <td>0.000839</td>\n",
              "      <td>0.001</td>\n",
              "      <td>l1</td>\n",
              "      <td>{'alpha': 0.001, 'penalty': 'l1'}</td>\n",
              "      <td>0.686589</td>\n",
              "      <td>0.667413</td>\n",
              "      <td>0.687171</td>\n",
              "      <td>0.675886</td>\n",
              "      <td>0.674898</td>\n",
              "      <td>0.678391</td>\n",
              "      <td>0.007527</td>\n",
              "      <td>4</td>\n",
              "      <td>0.691585</td>\n",
              "      <td>0.695339</td>\n",
              "      <td>0.695443</td>\n",
              "      <td>0.695111</td>\n",
              "      <td>0.694007</td>\n",
              "      <td>0.694297</td>\n",
              "      <td>0.001449</td>\n",
              "    </tr>\n",
              "    <tr>\n",
              "      <th>3</th>\n",
              "      <td>2.766839</td>\n",
              "      <td>0.567191</td>\n",
              "      <td>0.017586</td>\n",
              "      <td>0.000129</td>\n",
              "      <td>0.001</td>\n",
              "      <td>l2</td>\n",
              "      <td>{'alpha': 0.001, 'penalty': 'l2'}</td>\n",
              "      <td>0.691967</td>\n",
              "      <td>0.678586</td>\n",
              "      <td>0.691147</td>\n",
              "      <td>0.678335</td>\n",
              "      <td>0.687582</td>\n",
              "      <td>0.685524</td>\n",
              "      <td>0.005953</td>\n",
              "      <td>3</td>\n",
              "      <td>0.714173</td>\n",
              "      <td>0.721115</td>\n",
              "      <td>0.718842</td>\n",
              "      <td>0.720609</td>\n",
              "      <td>0.719069</td>\n",
              "      <td>0.718761</td>\n",
              "      <td>0.002454</td>\n",
              "    </tr>\n",
              "    <tr>\n",
              "      <th>4</th>\n",
              "      <td>2.259346</td>\n",
              "      <td>0.111204</td>\n",
              "      <td>0.017623</td>\n",
              "      <td>0.000394</td>\n",
              "      <td>0.01</td>\n",
              "      <td>l1</td>\n",
              "      <td>{'alpha': 0.01, 'penalty': 'l1'}</td>\n",
              "      <td>0.589772</td>\n",
              "      <td>0.558289</td>\n",
              "      <td>0.561238</td>\n",
              "      <td>0.569184</td>\n",
              "      <td>0.574925</td>\n",
              "      <td>0.570682</td>\n",
              "      <td>0.011202</td>\n",
              "      <td>11</td>\n",
              "      <td>0.573681</td>\n",
              "      <td>0.569312</td>\n",
              "      <td>0.568221</td>\n",
              "      <td>0.571401</td>\n",
              "      <td>0.566597</td>\n",
              "      <td>0.569842</td>\n",
              "      <td>0.002474</td>\n",
              "    </tr>\n",
              "  </tbody>\n",
              "</table>\n",
              "</div>"
            ],
            "text/plain": [
              "   mean_fit_time  std_fit_time  ...  mean_train_score  std_train_score\n",
              "0      10.476052      3.616228  ...          0.729769         0.004795\n",
              "1       6.203667      1.062404  ...          0.735135         0.004235\n",
              "2       6.618536      0.500958  ...          0.694297         0.001449\n",
              "3       2.766839      0.567191  ...          0.718761         0.002454\n",
              "4       2.259346      0.111204  ...          0.569842         0.002474\n",
              "\n",
              "[5 rows x 22 columns]"
            ]
          },
          "metadata": {
            "tags": []
          },
          "execution_count": 57
        }
      ]
    },
    {
      "cell_type": "code",
      "metadata": {
        "id": "L3n_WmHINg_l",
        "colab_type": "code",
        "outputId": "baa0c7b5-f66f-4d85-fd81-03012d5a4629",
        "colab": {
          "base_uri": "https://localhost:8080/",
          "height": 34
        }
      },
      "source": [
        "clf.best_params_"
      ],
      "execution_count": 0,
      "outputs": [
        {
          "output_type": "execute_result",
          "data": {
            "text/plain": [
              "{'alpha': 0.0001, 'penalty': 'l2'}"
            ]
          },
          "metadata": {
            "tags": []
          },
          "execution_count": 58
        }
      ]
    },
    {
      "cell_type": "code",
      "metadata": {
        "id": "q9F3x5PlNg_o",
        "colab_type": "code",
        "outputId": "03a98acd-d89b-4cb9-e0e2-adb99d5dd108",
        "colab": {
          "base_uri": "https://localhost:8080/",
          "height": 295
        }
      },
      "source": [
        "alpha = list(map(lambda x: math.log(x),alpha))\n",
        "train_auc_l1=[train_auc[i] for i in range(0,len(train_auc),2)]\n",
        "train_auc_l2=[train_auc[i] for i in range(1,len(train_auc),2)]\n",
        "\n",
        "cv_auc_l1=[cv_auc[i] for i in range(0,len(cv_auc),2)]\n",
        "cv_auc_l2=[cv_auc[i] for i in range(1,len(cv_auc),2)]\n",
        "\n",
        "plt.plot(alpha, train_auc_l1, label='Train AUC l1')\n",
        "# this code is copied from here: https://stackoverflow.com/a/48803361/4084039\n",
        "# plt.gca().fill_between(K, train_auc - train_auc_std,train_auc + train_auc_std,alpha=0.2,color='darkblue')\n",
        "plt.plot(alpha, train_auc_l2, label='Train AUC l2')\n",
        "plt.plot(alpha, cv_auc_l1, label='CV AUC l1')\n",
        "plt.plot(alpha, cv_auc_l2, label='CV AUC l2')\n",
        "# this code is copied from here: https://stackoverflow.com/a/48803361/4084039\n",
        "# plt.gca().fill_between(K, cv_auc - cv_auc_std,cv_auc + cv_auc_std,alpha=0.2,color='darkorange')\n",
        "\n",
        "\n",
        "plt.scatter(alpha, train_auc_l1, label='Train AUC l1 points')\n",
        "plt.scatter(alpha, train_auc_l2, label='Train AUC l2 points')\n",
        "plt.scatter(alpha, cv_auc_l1, label='CV AUC l1 points')\n",
        "plt.scatter(alpha, cv_auc_l2, label='CV AUC l2 points')\n",
        "\n",
        "plt.legend()\n",
        "plt.xlabel(\"alpha hyperparameter\")\n",
        "plt.ylabel(\"AUC\")\n",
        "plt.title(\"Hyperparameter VS AUC FOR AVGW2V\")\n",
        "plt.grid()\n",
        "plt.show()\n"
      ],
      "execution_count": 0,
      "outputs": [
        {
          "output_type": "display_data",
          "data": {
            "image/png": "[encoded data removed]",
            "text/plain": [
              "<Figure size 432x288 with 1 Axes>"
            ]
          },
          "metadata": {
            "tags": [],
            "needs_background": "light"
          }
        }
      ]
    },
    {
      "cell_type": "code",
      "metadata": {
        "id": "mBWRC0XSNg_s",
        "colab_type": "code",
        "outputId": "6508b44c-9367-4c9d-b3a5-77428e60d70d",
        "colab": {
          "base_uri": "https://localhost:8080/",
          "height": 295
        }
      },
      "source": [
        "svm = SGDClassifier(loss='hinge',alpha=0.0001,penalty='l2',class_weight = 'balanced' )\n",
        "svm.fit(X_train_avgw2v, y_train)\n",
        "# roc_auc_score(y_true, y_score) the 2nd parameter should be probability estimates of the positive class\n",
        "# not the predicted outputs\n",
        "\n",
        "y_train_pred = svm.decision_function(X_train_avgw2v)    \n",
        "y_test_pred = svm.decision_function(X_test_avgw2v)\n",
        "\n",
        "train_fpr, train_tpr, tr_thresholds = roc_curve(y_train, y_train_pred)\n",
        "test_fpr, test_tpr, te_thresholds = roc_curve(y_test, y_test_pred)\n",
        "\n",
        "plt.plot(train_fpr, train_tpr, label=\"train AUC =\"+str(auc(train_fpr, train_tpr)))\n",
        "plt.plot(test_fpr, test_tpr, label=\"test AUC =\"+str(auc(test_fpr, test_tpr)))\n",
        "plt.legend()\n",
        "plt.xlabel(\"False Positive Rate\")\n",
        "plt.ylabel(\"True Positive Rate\")\n",
        "plt.title(\"ROC Curve FOR AVGW2V\")\n",
        "plt.grid()\n",
        "plt.show()"
      ],
      "execution_count": 0,
      "outputs": [
        {
          "output_type": "display_data",
          "data": {
            "image/png": "[encoded data removed]",
            "text/plain": [
              "<Figure size 432x288 with 1 Axes>"
            ]
          },
          "metadata": {
            "tags": [],
            "needs_background": "light"
          }
        }
      ]
    },
    {
      "cell_type": "code",
      "metadata": {
        "id": "77MWowBTNg_z",
        "colab_type": "code",
        "outputId": "f51b4997-add3-45c8-f43f-887bb3ad4fbd",
        "colab": {
          "base_uri": "https://localhost:8080/",
          "height": 153
        }
      },
      "source": [
        "print(\"=\"*100)\n",
        "from sklearn.metrics import confusion_matrix\n",
        "best_t = find_best_threshold(tr_thresholds, train_fpr, train_tpr)\n",
        "print(\"Train confusion matrix\")\n",
        "print(confusion_matrix(y_train, predict_with_best_t(y_train_pred, best_t)))\n",
        "print(\"Test confusion matrix\")\n",
        "print(confusion_matrix(y_test, predict_with_best_t(y_test_pred, best_t)))"
      ],
      "execution_count": 0,
      "outputs": [
        {
          "output_type": "stream",
          "text": [
            "====================================================================================================\n",
            "the maximum value of tpr*(1-fpr) 0.4549053777201394 for threshold 0.397\n",
            "Train confusion matrix\n",
            "[[ 4793  2319]\n",
            " [12931 26857]]\n",
            "Test confusion matrix\n",
            "[[ 2227  1276]\n",
            " [ 6554 13043]]\n"
          ],
          "name": "stdout"
        }
      ]
    },
    {
      "cell_type": "code",
      "metadata": {
        "id": "7fYycRb8Ng_9",
        "colab_type": "code",
        "outputId": "85bf55b2-b1ff-46c0-f157-f221c249b851",
        "colab": {
          "base_uri": "https://localhost:8080/",
          "height": 282
        }
      },
      "source": [
        "conf_matr_train = pd.DataFrame(confusion_matrix(y_train, predict_with_best_t(y_train_pred,best_t)), range(2),range(2))\n",
        "sns.heatmap(conf_matr_train, annot=True, fmt='', cmap='Blues')"
      ],
      "execution_count": 0,
      "outputs": [
        {
          "output_type": "execute_result",
          "data": {
            "text/plain": [
              "<matplotlib.axes._subplots.AxesSubplot at 0x7fb38f01ca90>"
            ]
          },
          "metadata": {
            "tags": []
          },
          "execution_count": 62
        },
        {
          "output_type": "display_data",
          "data": {
            "image/png": "[encoded data removed]",
            "text/plain": [
              "<Figure size 432x288 with 2 Axes>"
            ]
          },
          "metadata": {
            "tags": [],
            "needs_background": "light"
          }
        }
      ]
    },
    {
      "cell_type": "code",
      "metadata": {
        "id": "8Z5R_mVvNhAC",
        "colab_type": "code",
        "outputId": "feaed070-a6c6-4da8-b8ce-7cf4f9a1740c",
        "colab": {
          "base_uri": "https://localhost:8080/",
          "height": 282
        }
      },
      "source": [
        "conf_matr_test = pd.DataFrame(confusion_matrix(y_test, predict_with_best_t(y_test_pred,best_t)), range(2),range(2))\n",
        "sns.heatmap(conf_matr_test, annot=True, fmt='', cmap='Blues')"
      ],
      "execution_count": 0,
      "outputs": [
        {
          "output_type": "execute_result",
          "data": {
            "text/plain": [
              "<matplotlib.axes._subplots.AxesSubplot at 0x7fb38c846550>"
            ]
          },
          "metadata": {
            "tags": []
          },
          "execution_count": 63
        },
        {
          "output_type": "display_data",
          "data": {
            "image/png": "[encoded data removed]",
            "text/plain": [
              "<Figure size 432x288 with 2 Axes>"
            ]
          },
          "metadata": {
            "tags": [],
            "needs_background": "light"
          }
        }
      ]
    },
    {
      "cell_type": "markdown",
      "metadata": {
        "id": "hovsnoIrNhAI",
        "colab_type": "text"
      },
      "source": [
        "# SET 4"
      ]
    },
    {
      "cell_type": "code",
      "metadata": {
        "id": "trNw25QwNhAJ",
        "colab_type": "code",
        "outputId": "0856fa08-5ff5-45a7-dc61-cb043ef48c1b",
        "colab": {
          "base_uri": "https://localhost:8080/",
          "height": 479
        }
      },
      "source": [
        "svm = SGDClassifier(loss='hinge',class_weight = 'balanced' )\n",
        "alpha = [ 0.0001, 0.001 , 0.01, 0.2 ,1,200,1000,10000]\n",
        "parameters = {'alpha':alpha,'penalty':['l1','l2']}\n",
        "\n",
        "clf = GridSearchCV(svm, parameters, cv= 5, scoring='roc_auc',return_train_score=True)\n",
        "\n",
        "clf.fit(X_train_avgtf, y_train)\n",
        "\n",
        "results=pd.DataFrame.from_dict(clf.cv_results_)\n",
        "train_auc= results['mean_train_score']\n",
        "train_auc_std= results['std_train_score']\n",
        "cv_auc = results['mean_test_score'] \n",
        "cv_auc_std= results['std_test_score']\n",
        "results.head()"
      ],
      "execution_count": 0,
      "outputs": [
        {
          "output_type": "execute_result",
          "data": {
            "text/html": [
              "<div>\n",
              "<style scoped>\n",
              "    .dataframe tbody tr th:only-of-type {\n",
              "        vertical-align: middle;\n",
              "    }\n",
              "\n",
              "    .dataframe tbody tr th {\n",
              "        vertical-align: top;\n",
              "    }\n",
              "\n",
              "    .dataframe thead th {\n",
              "        text-align: right;\n",
              "    }\n",
              "</style>\n",
              "<table border=\"1\" class=\"dataframe\">\n",
              "  <thead>\n",
              "    <tr style=\"text-align: right;\">\n",
              "      <th></th>\n",
              "      <th>mean_fit_time</th>\n",
              "      <th>std_fit_time</th>\n",
              "      <th>mean_score_time</th>\n",
              "      <th>std_score_time</th>\n",
              "      <th>param_alpha</th>\n",
              "      <th>param_penalty</th>\n",
              "      <th>params</th>\n",
              "      <th>split0_test_score</th>\n",
              "      <th>split1_test_score</th>\n",
              "      <th>split2_test_score</th>\n",
              "      <th>split3_test_score</th>\n",
              "      <th>split4_test_score</th>\n",
              "      <th>mean_test_score</th>\n",
              "      <th>std_test_score</th>\n",
              "      <th>rank_test_score</th>\n",
              "      <th>split0_train_score</th>\n",
              "      <th>split1_train_score</th>\n",
              "      <th>split2_train_score</th>\n",
              "      <th>split3_train_score</th>\n",
              "      <th>split4_train_score</th>\n",
              "      <th>mean_train_score</th>\n",
              "      <th>std_train_score</th>\n",
              "    </tr>\n",
              "  </thead>\n",
              "  <tbody>\n",
              "    <tr>\n",
              "      <th>0</th>\n",
              "      <td>0.177371</td>\n",
              "      <td>0.018670</td>\n",
              "      <td>0.004324</td>\n",
              "      <td>0.000069</td>\n",
              "      <td>0.0001</td>\n",
              "      <td>l1</td>\n",
              "      <td>{'alpha': 0.0001, 'penalty': 'l1'}</td>\n",
              "      <td>0.617774</td>\n",
              "      <td>0.601549</td>\n",
              "      <td>0.599888</td>\n",
              "      <td>0.605482</td>\n",
              "      <td>0.602051</td>\n",
              "      <td>0.605349</td>\n",
              "      <td>0.006474</td>\n",
              "      <td>1</td>\n",
              "      <td>0.616699</td>\n",
              "      <td>0.622555</td>\n",
              "      <td>0.615548</td>\n",
              "      <td>0.619940</td>\n",
              "      <td>0.617489</td>\n",
              "      <td>0.618446</td>\n",
              "      <td>0.002509</td>\n",
              "    </tr>\n",
              "    <tr>\n",
              "      <th>1</th>\n",
              "      <td>0.140818</td>\n",
              "      <td>0.038299</td>\n",
              "      <td>0.004480</td>\n",
              "      <td>0.000218</td>\n",
              "      <td>0.0001</td>\n",
              "      <td>l2</td>\n",
              "      <td>{'alpha': 0.0001, 'penalty': 'l2'}</td>\n",
              "      <td>0.605439</td>\n",
              "      <td>0.592113</td>\n",
              "      <td>0.595194</td>\n",
              "      <td>0.597596</td>\n",
              "      <td>0.593906</td>\n",
              "      <td>0.596849</td>\n",
              "      <td>0.004651</td>\n",
              "      <td>2</td>\n",
              "      <td>0.610234</td>\n",
              "      <td>0.602783</td>\n",
              "      <td>0.603868</td>\n",
              "      <td>0.612258</td>\n",
              "      <td>0.607121</td>\n",
              "      <td>0.607253</td>\n",
              "      <td>0.003616</td>\n",
              "    </tr>\n",
              "    <tr>\n",
              "      <th>2</th>\n",
              "      <td>0.098691</td>\n",
              "      <td>0.021617</td>\n",
              "      <td>0.004340</td>\n",
              "      <td>0.000114</td>\n",
              "      <td>0.001</td>\n",
              "      <td>l1</td>\n",
              "      <td>{'alpha': 0.001, 'penalty': 'l1'}</td>\n",
              "      <td>0.610060</td>\n",
              "      <td>0.587621</td>\n",
              "      <td>0.583654</td>\n",
              "      <td>0.591673</td>\n",
              "      <td>0.588157</td>\n",
              "      <td>0.592233</td>\n",
              "      <td>0.009269</td>\n",
              "      <td>3</td>\n",
              "      <td>0.600490</td>\n",
              "      <td>0.599885</td>\n",
              "      <td>0.594250</td>\n",
              "      <td>0.599723</td>\n",
              "      <td>0.599550</td>\n",
              "      <td>0.598780</td>\n",
              "      <td>0.002287</td>\n",
              "    </tr>\n",
              "    <tr>\n",
              "      <th>3</th>\n",
              "      <td>0.074947</td>\n",
              "      <td>0.015277</td>\n",
              "      <td>0.004320</td>\n",
              "      <td>0.000067</td>\n",
              "      <td>0.001</td>\n",
              "      <td>l2</td>\n",
              "      <td>{'alpha': 0.001, 'penalty': 'l2'}</td>\n",
              "      <td>0.592879</td>\n",
              "      <td>0.573315</td>\n",
              "      <td>0.577771</td>\n",
              "      <td>0.576799</td>\n",
              "      <td>0.573577</td>\n",
              "      <td>0.578868</td>\n",
              "      <td>0.007220</td>\n",
              "      <td>4</td>\n",
              "      <td>0.588319</td>\n",
              "      <td>0.588382</td>\n",
              "      <td>0.588006</td>\n",
              "      <td>0.591827</td>\n",
              "      <td>0.589578</td>\n",
              "      <td>0.589223</td>\n",
              "      <td>0.001408</td>\n",
              "    </tr>\n",
              "    <tr>\n",
              "      <th>4</th>\n",
              "      <td>0.046868</td>\n",
              "      <td>0.005464</td>\n",
              "      <td>0.003821</td>\n",
              "      <td>0.000208</td>\n",
              "      <td>0.01</td>\n",
              "      <td>l1</td>\n",
              "      <td>{'alpha': 0.01, 'penalty': 'l1'}</td>\n",
              "      <td>0.562093</td>\n",
              "      <td>0.533933</td>\n",
              "      <td>0.534485</td>\n",
              "      <td>0.532928</td>\n",
              "      <td>0.535822</td>\n",
              "      <td>0.539852</td>\n",
              "      <td>0.011160</td>\n",
              "      <td>11</td>\n",
              "      <td>0.537050</td>\n",
              "      <td>0.544105</td>\n",
              "      <td>0.542535</td>\n",
              "      <td>0.538642</td>\n",
              "      <td>0.543624</td>\n",
              "      <td>0.541191</td>\n",
              "      <td>0.002823</td>\n",
              "    </tr>\n",
              "  </tbody>\n",
              "</table>\n",
              "</div>"
            ],
            "text/plain": [
              "   mean_fit_time  std_fit_time  ...  mean_train_score  std_train_score\n",
              "0       0.177371      0.018670  ...          0.618446         0.002509\n",
              "1       0.140818      0.038299  ...          0.607253         0.003616\n",
              "2       0.098691      0.021617  ...          0.598780         0.002287\n",
              "3       0.074947      0.015277  ...          0.589223         0.001408\n",
              "4       0.046868      0.005464  ...          0.541191         0.002823\n",
              "\n",
              "[5 rows x 22 columns]"
            ]
          },
          "metadata": {
            "tags": []
          },
          "execution_count": 64
        }
      ]
    },
    {
      "cell_type": "code",
      "metadata": {
        "id": "wHi1hDjTNhAO",
        "colab_type": "code",
        "outputId": "9866b3e3-85a0-4f76-a7c6-96ce86b4140e",
        "colab": {
          "base_uri": "https://localhost:8080/",
          "height": 34
        }
      },
      "source": [
        "clf.best_params_"
      ],
      "execution_count": 0,
      "outputs": [
        {
          "output_type": "execute_result",
          "data": {
            "text/plain": [
              "{'alpha': 0.0001, 'penalty': 'l1'}"
            ]
          },
          "metadata": {
            "tags": []
          },
          "execution_count": 65
        }
      ]
    },
    {
      "cell_type": "code",
      "metadata": {
        "id": "uiRdhEwoNhAR",
        "colab_type": "code",
        "outputId": "e5df2225-c366-4eb6-d485-91aa8472c664",
        "colab": {
          "base_uri": "https://localhost:8080/",
          "height": 295
        }
      },
      "source": [
        "alpha = list(map(lambda x: math.log(x),alpha))\n",
        "train_auc_l1=[train_auc[i] for i in range(0,len(train_auc),2)]\n",
        "train_auc_l2=[train_auc[i] for i in range(1,len(train_auc),2)]\n",
        "\n",
        "cv_auc_l1=[cv_auc[i] for i in range(0,len(cv_auc),2)]\n",
        "cv_auc_l2=[cv_auc[i] for i in range(1,len(cv_auc),2)]\n",
        "\n",
        "plt.plot(alpha, train_auc_l1, label='Train AUC l1')\n",
        "# this code is copied from here: https://stackoverflow.com/a/48803361/4084039\n",
        "# plt.gca().fill_between(K, train_auc - train_auc_std,train_auc + train_auc_std,alpha=0.2,color='darkblue')\n",
        "plt.plot(alpha, train_auc_l2, label='Train AUC l2')\n",
        "plt.plot(alpha, cv_auc_l1, label='CV AUC l1')\n",
        "plt.plot(alpha, cv_auc_l2, label='CV AUC l2')\n",
        "# this code is copied from here: https://stackoverflow.com/a/48803361/4084039\n",
        "# plt.gca().fill_between(K, cv_auc - cv_auc_std,cv_auc + cv_auc_std,alpha=0.2,color='darkorange')\n",
        "\n",
        "\n",
        "plt.scatter(alpha, train_auc_l1, label='Train AUC l1 points')\n",
        "plt.scatter(alpha, train_auc_l2, label='Train AUC l2 points')\n",
        "plt.scatter(alpha, cv_auc_l1, label='CV AUC l1 points')\n",
        "plt.scatter(alpha, cv_auc_l2, label='CV AUC l2 points')\n",
        "\n",
        "plt.legend()\n",
        "plt.xlabel(\"alpha hyperparameter\")\n",
        "plt.ylabel(\"AUC\")\n",
        "plt.title(\"Hyperparameter VS AUC FOR TFIDF W2V\")\n",
        "plt.grid()\n",
        "plt.show()\n"
      ],
      "execution_count": 0,
      "outputs": [
        {
          "output_type": "display_data",
          "data": {
            "image/png": "[encoded data removed]",
            "text/plain": [
              "<Figure size 432x288 with 1 Axes>"
            ]
          },
          "metadata": {
            "tags": [],
            "needs_background": "light"
          }
        }
      ]
    },
    {
      "cell_type": "code",
      "metadata": {
        "id": "R-OBemx7NhAU",
        "colab_type": "code",
        "outputId": "177fd663-2e2d-4402-9c41-0b6f69fbc468",
        "colab": {
          "base_uri": "https://localhost:8080/",
          "height": 295
        }
      },
      "source": [
        "svm = SGDClassifier(loss='hinge',alpha=0.0001,penalty='l1',class_weight = 'balanced' )\n",
        "svm.fit(X_train_avgtf, y_train)\n",
        "# roc_auc_score(y_true, y_score) the 2nd parameter should be probability estimates of the positive class\n",
        "# not the predicted outputs\n",
        "\n",
        "y_train_pred = svm.decision_function(X_train_avgtf)    \n",
        "y_test_pred = svm.decision_function(X_test_avgtf)\n",
        "\n",
        "train_fpr, train_tpr, tr_thresholds = roc_curve(y_train, y_train_pred)\n",
        "test_fpr, test_tpr, te_thresholds = roc_curve(y_test, y_test_pred)\n",
        "\n",
        "plt.plot(train_fpr, train_tpr, label=\"train AUC =\"+str(auc(train_fpr, train_tpr)))\n",
        "plt.plot(test_fpr, test_tpr, label=\"test AUC =\"+str(auc(test_fpr, test_tpr)))\n",
        "plt.legend()\n",
        "plt.xlabel(\"False Positive Rate\")\n",
        "plt.ylabel(\"True Positive Rate\")\n",
        "plt.title(\"ROC Curve FOR TFIDF W2V\")\n",
        "plt.grid()\n",
        "plt.show()"
      ],
      "execution_count": 0,
      "outputs": [
        {
          "output_type": "display_data",
          "data": {
            "image/png": "[encoded data removed]",
            "text/plain": [
              "<Figure size 432x288 with 1 Axes>"
            ]
          },
          "metadata": {
            "tags": [],
            "needs_background": "light"
          }
        }
      ]
    },
    {
      "cell_type": "code",
      "metadata": {
        "id": "smvXkgI_NhAc",
        "colab_type": "code",
        "outputId": "a5bf8e3c-92e2-4eed-c643-13eb0e3f9c7d",
        "colab": {
          "base_uri": "https://localhost:8080/",
          "height": 153
        }
      },
      "source": [
        "print(\"=\"*100)\n",
        "from sklearn.metrics import confusion_matrix\n",
        "best_t = find_best_threshold(tr_thresholds, train_fpr, train_tpr)\n",
        "print(\"Train confusion matrix\")\n",
        "print(confusion_matrix(y_train, predict_with_best_t(y_train_pred, best_t)))\n",
        "print(\"Test confusion matrix\")\n",
        "print(confusion_matrix(y_test, predict_with_best_t(y_test_pred, best_t)))"
      ],
      "execution_count": 0,
      "outputs": [
        {
          "output_type": "stream",
          "text": [
            "====================================================================================================\n",
            "the maximum value of tpr*(1-fpr) 0.34322957795551523 for threshold 0.205\n",
            "Train confusion matrix\n",
            "[[ 4192  2920]\n",
            " [16619 23169]]\n",
            "Test confusion matrix\n",
            "[[ 1955  1548]\n",
            " [ 8271 11326]]\n"
          ],
          "name": "stdout"
        }
      ]
    },
    {
      "cell_type": "code",
      "metadata": {
        "id": "KE_qd4l_NhAi",
        "colab_type": "code",
        "outputId": "0d13d7ac-8ec6-44bb-9cc6-294c5b43e721",
        "colab": {
          "base_uri": "https://localhost:8080/",
          "height": 282
        }
      },
      "source": [
        "conf_matr_train = pd.DataFrame(confusion_matrix(y_train, predict_with_best_t(y_train_pred,best_t)), range(2),range(2))\n",
        "sns.heatmap(conf_matr_train, annot=True, fmt='', cmap='Blues')"
      ],
      "execution_count": 0,
      "outputs": [
        {
          "output_type": "execute_result",
          "data": {
            "text/plain": [
              "<matplotlib.axes._subplots.AxesSubplot at 0x7fb38d60d438>"
            ]
          },
          "metadata": {
            "tags": []
          },
          "execution_count": 69
        },
        {
          "output_type": "display_data",
          "data": {
            "image/png": "[encoded data removed]",
            "text/plain": [
              "<Figure size 432x288 with 2 Axes>"
            ]
          },
          "metadata": {
            "tags": [],
            "needs_background": "light"
          }
        }
      ]
    },
    {
      "cell_type": "code",
      "metadata": {
        "id": "JVSKVQ4CNhAm",
        "colab_type": "code",
        "outputId": "ba4d02b1-33eb-4d94-f685-b1e0f2259e9b",
        "colab": {
          "base_uri": "https://localhost:8080/",
          "height": 282
        }
      },
      "source": [
        "conf_matr_test = pd.DataFrame(confusion_matrix(y_test, predict_with_best_t(y_test_pred,best_t)), range(2),range(2))\n",
        "sns.heatmap(conf_matr_test, annot=True, fmt='', cmap='Blues')"
      ],
      "execution_count": 0,
      "outputs": [
        {
          "output_type": "execute_result",
          "data": {
            "text/plain": [
              "<matplotlib.axes._subplots.AxesSubplot at 0x7fb38cb482e8>"
            ]
          },
          "metadata": {
            "tags": []
          },
          "execution_count": 70
        },
        {
          "output_type": "display_data",
          "data": {
            "image/png": "[encoded data removed]",
            "text/plain": [
              "<Figure size 432x288 with 2 Axes>"
            ]
          },
          "metadata": {
            "tags": [],
            "needs_background": "light"
          }
        }
      ]
    },
    {
      "cell_type": "markdown",
      "metadata": {
        "colab_type": "text",
        "id": "_T2l87JfoUH-"
      },
      "source": [
        "<h2>2.5 Support Vector Machines with added Features `Set 5` </h2>"
      ]
    },
    {
      "cell_type": "code",
      "metadata": {
        "colab_type": "code",
        "id": "1JBBsjAzoUH_",
        "colab": {}
      },
      "source": [
        "# please write all the code with proper documentation, and proper titles for each subsection\n",
        "# go through documentations and blogs before you start coding\n",
        "# first figure out what to do, and then think about how to do.\n",
        "# reading and understanding error messages will be very much helpfull in debugging your code\n",
        "# when you plot any graph make sure you use \n",
        "    # a. Title, that describes your plot, this will be very helpful to the reader\n",
        "    # b. Legends if needed\n",
        "    # c. X-axis label\n",
        "    # d. Y-axis label\n"
      ],
      "execution_count": 0,
      "outputs": []
    },
    {
      "cell_type": "markdown",
      "metadata": {
        "id": "yP_9AZR5NhAy",
        "colab_type": "text"
      },
      "source": [
        "Number of words in title"
      ]
    },
    {
      "cell_type": "code",
      "metadata": {
        "id": "1OW6La9wNhAy",
        "colab_type": "code",
        "outputId": "cc4a21cc-b293-45f9-c4a9-32a481c83705",
        "colab": {
          "base_uri": "https://localhost:8080/",
          "height": 666
        }
      },
      "source": [
        "title_word_count = []\n",
        "for a in data[\"project_title\"] :\n",
        "    b = len(a.split())\n",
        "    title_word_count.append(b)\n",
        "data[\"title_word_count\"] = title_word_count\n",
        "\n",
        "data.head()"
      ],
      "execution_count": 8,
      "outputs": [
        {
          "output_type": "execute_result",
          "data": {
            "text/html": [
              "<div>\n",
              "<style scoped>\n",
              "    .dataframe tbody tr th:only-of-type {\n",
              "        vertical-align: middle;\n",
              "    }\n",
              "\n",
              "    .dataframe tbody tr th {\n",
              "        vertical-align: top;\n",
              "    }\n",
              "\n",
              "    .dataframe thead th {\n",
              "        text-align: right;\n",
              "    }\n",
              "</style>\n",
              "<table border=\"1\" class=\"dataframe\">\n",
              "  <thead>\n",
              "    <tr style=\"text-align: right;\">\n",
              "      <th></th>\n",
              "      <th>Unnamed: 0</th>\n",
              "      <th>Unnamed: 0.1</th>\n",
              "      <th>id</th>\n",
              "      <th>teacher_id</th>\n",
              "      <th>teacher_prefix</th>\n",
              "      <th>school_state</th>\n",
              "      <th>project_submitted_datetime</th>\n",
              "      <th>project_grade_category</th>\n",
              "      <th>project_title</th>\n",
              "      <th>project_essay_1</th>\n",
              "      <th>project_essay_2</th>\n",
              "      <th>project_essay_3</th>\n",
              "      <th>project_essay_4</th>\n",
              "      <th>project_resource_summary</th>\n",
              "      <th>teacher_number_of_previously_posted_projects</th>\n",
              "      <th>project_is_approved</th>\n",
              "      <th>clean_categories</th>\n",
              "      <th>clean_subcategories</th>\n",
              "      <th>essay</th>\n",
              "      <th>price</th>\n",
              "      <th>quantity</th>\n",
              "      <th>title_word_count</th>\n",
              "    </tr>\n",
              "  </thead>\n",
              "  <tbody>\n",
              "    <tr>\n",
              "      <th>0</th>\n",
              "      <td>0</td>\n",
              "      <td>160221</td>\n",
              "      <td>p253737</td>\n",
              "      <td>c90749f5d961ff158d4b4d1e7dc665fc</td>\n",
              "      <td>mrs</td>\n",
              "      <td>in</td>\n",
              "      <td>2016-12-05 13:43:57</td>\n",
              "      <td>grades_prek_2</td>\n",
              "      <td>educational support english learners home</td>\n",
              "      <td>My students are English learners that are work...</td>\n",
              "      <td>\\\"The limits of your language are the limits o...</td>\n",
              "      <td>NaN</td>\n",
              "      <td>NaN</td>\n",
              "      <td>My students need opportunities to practice beg...</td>\n",
              "      <td>0</td>\n",
              "      <td>0</td>\n",
              "      <td>Literacy_Language</td>\n",
              "      <td>ESL Literacy</td>\n",
              "      <td>my students english learners working english s...</td>\n",
              "      <td>154.60</td>\n",
              "      <td>23</td>\n",
              "      <td>5</td>\n",
              "    </tr>\n",
              "    <tr>\n",
              "      <th>1</th>\n",
              "      <td>1</td>\n",
              "      <td>140945</td>\n",
              "      <td>p258326</td>\n",
              "      <td>897464ce9ddc600bced1151f324dd63a</td>\n",
              "      <td>mr</td>\n",
              "      <td>fl</td>\n",
              "      <td>2016-10-25 09:22:10</td>\n",
              "      <td>grades_6_8</td>\n",
              "      <td>wanted projector hungry learners</td>\n",
              "      <td>Our students arrive to our school eager to lea...</td>\n",
              "      <td>The projector we need for our school is very c...</td>\n",
              "      <td>NaN</td>\n",
              "      <td>NaN</td>\n",
              "      <td>My students need a projector to help with view...</td>\n",
              "      <td>7</td>\n",
              "      <td>1</td>\n",
              "      <td>History_Civics Health_Sports</td>\n",
              "      <td>Civics_Government TeamSports</td>\n",
              "      <td>our students arrive school eager learn they po...</td>\n",
              "      <td>299.00</td>\n",
              "      <td>1</td>\n",
              "      <td>4</td>\n",
              "    </tr>\n",
              "    <tr>\n",
              "      <th>2</th>\n",
              "      <td>2</td>\n",
              "      <td>21895</td>\n",
              "      <td>p182444</td>\n",
              "      <td>3465aaf82da834c0582ebd0ef8040ca0</td>\n",
              "      <td>ms</td>\n",
              "      <td>az</td>\n",
              "      <td>2016-08-31 12:03:56</td>\n",
              "      <td>grades_6_8</td>\n",
              "      <td>soccer equipment awesome middle school students</td>\n",
              "      <td>\\r\\n\\\"True champions aren't always the ones th...</td>\n",
              "      <td>The students on the campus come to school know...</td>\n",
              "      <td>NaN</td>\n",
              "      <td>NaN</td>\n",
              "      <td>My students need shine guards, athletic socks,...</td>\n",
              "      <td>1</td>\n",
              "      <td>0</td>\n",
              "      <td>Health_Sports</td>\n",
              "      <td>Health_Wellness TeamSports</td>\n",
              "      <td>true champions not always ones win guts by mia...</td>\n",
              "      <td>516.85</td>\n",
              "      <td>22</td>\n",
              "      <td>6</td>\n",
              "    </tr>\n",
              "    <tr>\n",
              "      <th>3</th>\n",
              "      <td>3</td>\n",
              "      <td>45</td>\n",
              "      <td>p246581</td>\n",
              "      <td>f3cb9bffbba169bef1a77b243e620b60</td>\n",
              "      <td>mrs</td>\n",
              "      <td>ky</td>\n",
              "      <td>2016-10-06 21:16:17</td>\n",
              "      <td>grades_prek_2</td>\n",
              "      <td>techie kindergarteners</td>\n",
              "      <td>I work at a unique school filled with both ESL...</td>\n",
              "      <td>My students live in high poverty conditions wi...</td>\n",
              "      <td>NaN</td>\n",
              "      <td>NaN</td>\n",
              "      <td>My students need to engage in Reading and Math...</td>\n",
              "      <td>4</td>\n",
              "      <td>1</td>\n",
              "      <td>Literacy_Language Math_Science</td>\n",
              "      <td>Literacy Mathematics</td>\n",
              "      <td>i work unique school filled esl english second...</td>\n",
              "      <td>232.90</td>\n",
              "      <td>4</td>\n",
              "      <td>2</td>\n",
              "    </tr>\n",
              "    <tr>\n",
              "      <th>4</th>\n",
              "      <td>4</td>\n",
              "      <td>172407</td>\n",
              "      <td>p104768</td>\n",
              "      <td>be1f7507a41f8479dc06f047086a39ec</td>\n",
              "      <td>mrs</td>\n",
              "      <td>tx</td>\n",
              "      <td>2016-07-11 01:10:09</td>\n",
              "      <td>grades_prek_2</td>\n",
              "      <td>interactive math tools</td>\n",
              "      <td>Our second grade classroom next year will be m...</td>\n",
              "      <td>For many students, math is a subject that does...</td>\n",
              "      <td>NaN</td>\n",
              "      <td>NaN</td>\n",
              "      <td>My students need hands on practice in mathemat...</td>\n",
              "      <td>1</td>\n",
              "      <td>1</td>\n",
              "      <td>Math_Science</td>\n",
              "      <td>Mathematics</td>\n",
              "      <td>our second grade classroom next year made arou...</td>\n",
              "      <td>67.98</td>\n",
              "      <td>4</td>\n",
              "      <td>3</td>\n",
              "    </tr>\n",
              "  </tbody>\n",
              "</table>\n",
              "</div>"
            ],
            "text/plain": [
              "   Unnamed: 0  Unnamed: 0.1       id  ...   price quantity title_word_count\n",
              "0           0        160221  p253737  ...  154.60       23                5\n",
              "1           1        140945  p258326  ...  299.00        1                4\n",
              "2           2         21895  p182444  ...  516.85       22                6\n",
              "3           3            45  p246581  ...  232.90        4                2\n",
              "4           4        172407  p104768  ...   67.98        4                3\n",
              "\n",
              "[5 rows x 22 columns]"
            ]
          },
          "metadata": {
            "tags": []
          },
          "execution_count": 8
        }
      ]
    },
    {
      "cell_type": "markdown",
      "metadata": {
        "id": "B3l9uKxONhA2",
        "colab_type": "text"
      },
      "source": [
        "Number of words in essay"
      ]
    },
    {
      "cell_type": "code",
      "metadata": {
        "id": "o1bRce0JNhA3",
        "colab_type": "code",
        "outputId": "db9bc91b-e737-4153-ea18-8b15ffdd4f78",
        "colab": {
          "base_uri": "https://localhost:8080/",
          "height": 666
        }
      },
      "source": [
        "essay_word_count = []\n",
        "for a in data[\"essay\"] :\n",
        "    b = len(a.split())\n",
        "    essay_word_count.append(b)\n",
        "data[\"essay_word_count\"] = essay_word_count\n",
        "\n",
        "data.head()"
      ],
      "execution_count": 9,
      "outputs": [
        {
          "output_type": "execute_result",
          "data": {
            "text/html": [
              "<div>\n",
              "<style scoped>\n",
              "    .dataframe tbody tr th:only-of-type {\n",
              "        vertical-align: middle;\n",
              "    }\n",
              "\n",
              "    .dataframe tbody tr th {\n",
              "        vertical-align: top;\n",
              "    }\n",
              "\n",
              "    .dataframe thead th {\n",
              "        text-align: right;\n",
              "    }\n",
              "</style>\n",
              "<table border=\"1\" class=\"dataframe\">\n",
              "  <thead>\n",
              "    <tr style=\"text-align: right;\">\n",
              "      <th></th>\n",
              "      <th>Unnamed: 0</th>\n",
              "      <th>Unnamed: 0.1</th>\n",
              "      <th>id</th>\n",
              "      <th>teacher_id</th>\n",
              "      <th>teacher_prefix</th>\n",
              "      <th>school_state</th>\n",
              "      <th>project_submitted_datetime</th>\n",
              "      <th>project_grade_category</th>\n",
              "      <th>project_title</th>\n",
              "      <th>project_essay_1</th>\n",
              "      <th>project_essay_2</th>\n",
              "      <th>project_essay_3</th>\n",
              "      <th>project_essay_4</th>\n",
              "      <th>project_resource_summary</th>\n",
              "      <th>teacher_number_of_previously_posted_projects</th>\n",
              "      <th>project_is_approved</th>\n",
              "      <th>clean_categories</th>\n",
              "      <th>clean_subcategories</th>\n",
              "      <th>essay</th>\n",
              "      <th>price</th>\n",
              "      <th>quantity</th>\n",
              "      <th>title_word_count</th>\n",
              "      <th>essay_word_count</th>\n",
              "    </tr>\n",
              "  </thead>\n",
              "  <tbody>\n",
              "    <tr>\n",
              "      <th>0</th>\n",
              "      <td>0</td>\n",
              "      <td>160221</td>\n",
              "      <td>p253737</td>\n",
              "      <td>c90749f5d961ff158d4b4d1e7dc665fc</td>\n",
              "      <td>mrs</td>\n",
              "      <td>in</td>\n",
              "      <td>2016-12-05 13:43:57</td>\n",
              "      <td>grades_prek_2</td>\n",
              "      <td>educational support english learners home</td>\n",
              "      <td>My students are English learners that are work...</td>\n",
              "      <td>\\\"The limits of your language are the limits o...</td>\n",
              "      <td>NaN</td>\n",
              "      <td>NaN</td>\n",
              "      <td>My students need opportunities to practice beg...</td>\n",
              "      <td>0</td>\n",
              "      <td>0</td>\n",
              "      <td>Literacy_Language</td>\n",
              "      <td>ESL Literacy</td>\n",
              "      <td>my students english learners working english s...</td>\n",
              "      <td>154.60</td>\n",
              "      <td>23</td>\n",
              "      <td>5</td>\n",
              "      <td>161</td>\n",
              "    </tr>\n",
              "    <tr>\n",
              "      <th>1</th>\n",
              "      <td>1</td>\n",
              "      <td>140945</td>\n",
              "      <td>p258326</td>\n",
              "      <td>897464ce9ddc600bced1151f324dd63a</td>\n",
              "      <td>mr</td>\n",
              "      <td>fl</td>\n",
              "      <td>2016-10-25 09:22:10</td>\n",
              "      <td>grades_6_8</td>\n",
              "      <td>wanted projector hungry learners</td>\n",
              "      <td>Our students arrive to our school eager to lea...</td>\n",
              "      <td>The projector we need for our school is very c...</td>\n",
              "      <td>NaN</td>\n",
              "      <td>NaN</td>\n",
              "      <td>My students need a projector to help with view...</td>\n",
              "      <td>7</td>\n",
              "      <td>1</td>\n",
              "      <td>History_Civics Health_Sports</td>\n",
              "      <td>Civics_Government TeamSports</td>\n",
              "      <td>our students arrive school eager learn they po...</td>\n",
              "      <td>299.00</td>\n",
              "      <td>1</td>\n",
              "      <td>4</td>\n",
              "      <td>109</td>\n",
              "    </tr>\n",
              "    <tr>\n",
              "      <th>2</th>\n",
              "      <td>2</td>\n",
              "      <td>21895</td>\n",
              "      <td>p182444</td>\n",
              "      <td>3465aaf82da834c0582ebd0ef8040ca0</td>\n",
              "      <td>ms</td>\n",
              "      <td>az</td>\n",
              "      <td>2016-08-31 12:03:56</td>\n",
              "      <td>grades_6_8</td>\n",
              "      <td>soccer equipment awesome middle school students</td>\n",
              "      <td>\\r\\n\\\"True champions aren't always the ones th...</td>\n",
              "      <td>The students on the campus come to school know...</td>\n",
              "      <td>NaN</td>\n",
              "      <td>NaN</td>\n",
              "      <td>My students need shine guards, athletic socks,...</td>\n",
              "      <td>1</td>\n",
              "      <td>0</td>\n",
              "      <td>Health_Sports</td>\n",
              "      <td>Health_Wellness TeamSports</td>\n",
              "      <td>true champions not always ones win guts by mia...</td>\n",
              "      <td>516.85</td>\n",
              "      <td>22</td>\n",
              "      <td>6</td>\n",
              "      <td>202</td>\n",
              "    </tr>\n",
              "    <tr>\n",
              "      <th>3</th>\n",
              "      <td>3</td>\n",
              "      <td>45</td>\n",
              "      <td>p246581</td>\n",
              "      <td>f3cb9bffbba169bef1a77b243e620b60</td>\n",
              "      <td>mrs</td>\n",
              "      <td>ky</td>\n",
              "      <td>2016-10-06 21:16:17</td>\n",
              "      <td>grades_prek_2</td>\n",
              "      <td>techie kindergarteners</td>\n",
              "      <td>I work at a unique school filled with both ESL...</td>\n",
              "      <td>My students live in high poverty conditions wi...</td>\n",
              "      <td>NaN</td>\n",
              "      <td>NaN</td>\n",
              "      <td>My students need to engage in Reading and Math...</td>\n",
              "      <td>4</td>\n",
              "      <td>1</td>\n",
              "      <td>Literacy_Language Math_Science</td>\n",
              "      <td>Literacy Mathematics</td>\n",
              "      <td>i work unique school filled esl english second...</td>\n",
              "      <td>232.90</td>\n",
              "      <td>4</td>\n",
              "      <td>2</td>\n",
              "      <td>121</td>\n",
              "    </tr>\n",
              "    <tr>\n",
              "      <th>4</th>\n",
              "      <td>4</td>\n",
              "      <td>172407</td>\n",
              "      <td>p104768</td>\n",
              "      <td>be1f7507a41f8479dc06f047086a39ec</td>\n",
              "      <td>mrs</td>\n",
              "      <td>tx</td>\n",
              "      <td>2016-07-11 01:10:09</td>\n",
              "      <td>grades_prek_2</td>\n",
              "      <td>interactive math tools</td>\n",
              "      <td>Our second grade classroom next year will be m...</td>\n",
              "      <td>For many students, math is a subject that does...</td>\n",
              "      <td>NaN</td>\n",
              "      <td>NaN</td>\n",
              "      <td>My students need hands on practice in mathemat...</td>\n",
              "      <td>1</td>\n",
              "      <td>1</td>\n",
              "      <td>Math_Science</td>\n",
              "      <td>Mathematics</td>\n",
              "      <td>our second grade classroom next year made arou...</td>\n",
              "      <td>67.98</td>\n",
              "      <td>4</td>\n",
              "      <td>3</td>\n",
              "      <td>122</td>\n",
              "    </tr>\n",
              "  </tbody>\n",
              "</table>\n",
              "</div>"
            ],
            "text/plain": [
              "   Unnamed: 0  Unnamed: 0.1  ... title_word_count essay_word_count\n",
              "0           0        160221  ...                5              161\n",
              "1           1        140945  ...                4              109\n",
              "2           2         21895  ...                6              202\n",
              "3           3            45  ...                2              121\n",
              "4           4        172407  ...                3              122\n",
              "\n",
              "[5 rows x 23 columns]"
            ]
          },
          "metadata": {
            "tags": []
          },
          "execution_count": 9
        }
      ]
    },
    {
      "cell_type": "markdown",
      "metadata": {
        "id": "JZA-kZMoNhA6",
        "colab_type": "text"
      },
      "source": [
        "SENTIMENT SCORE"
      ]
    },
    {
      "cell_type": "code",
      "metadata": {
        "id": "dsCQFEH_NhA6",
        "colab_type": "code",
        "outputId": "8a78b2b6-3a67-45c2-931f-cb9a5251fe5e",
        "colab": {
          "base_uri": "https://localhost:8080/",
          "height": 34
        }
      },
      "source": [
        "import nltk\n",
        "nltk.download('vader_lexicon')\n",
        "from nltk.sentiment.vader import SentimentIntensityAnalyzer"
      ],
      "execution_count": 10,
      "outputs": [
        {
          "output_type": "stream",
          "text": [
            "[nltk_data] Downloading package vader_lexicon to /root/nltk_data...\n"
          ],
          "name": "stdout"
        }
      ]
    },
    {
      "cell_type": "code",
      "metadata": {
        "id": "O8Z8ypziNhA9",
        "colab_type": "code",
        "outputId": "43cdd434-7a83-49b5-f53e-b999c36af21f",
        "colab": {
          "base_uri": "https://localhost:8080/",
          "height": 34
        }
      },
      "source": [
        "analyser = SentimentIntensityAnalyzer()\n",
        "essays = data['essay']\n",
        "essays_sentiments = []\n",
        "\n",
        "for essay in tqdm(essays):\n",
        "    res = analyser.polarity_scores(essay)\n",
        "    essays_sentiments.append(res['compound']) #Considering compound as a criteria.\n",
        "\n",
        "data['essay_sentiment'] = essays_sentiments"
      ],
      "execution_count": 11,
      "outputs": [
        {
          "output_type": "stream",
          "text": [
            "100%|██████████| 70000/70000 [02:10<00:00, 536.65it/s]\n"
          ],
          "name": "stderr"
        }
      ]
    },
    {
      "cell_type": "code",
      "metadata": {
        "id": "CxuM2rAANhBA",
        "colab_type": "code",
        "colab": {}
      },
      "source": [
        "y = data['project_is_approved'].values\n",
        "X = data.drop(['project_is_approved'], axis=1)\n",
        "from sklearn.model_selection import train_test_split\n",
        "X_train_1, X_test_1, y_train_1, y_test_1 = train_test_split(X, y, test_size=0.33, stratify=y)"
      ],
      "execution_count": 0,
      "outputs": []
    },
    {
      "cell_type": "code",
      "metadata": {
        "id": "IHOskB8ZNhBD",
        "colab_type": "code",
        "outputId": "0902b4c7-ece6-497f-dc56-b7bb46fbcdf2",
        "colab": {
          "base_uri": "https://localhost:8080/",
          "height": 68
        }
      },
      "source": [
        "vectorizer = MinMaxScaler()\n",
        "vectorizer.fit(data['essay_word_count'].astype(float).values.reshape(-1,1))\n",
        "\n",
        "X_train_essay_count = vectorizer.transform(X_train_1['essay_word_count'].astype(float).values.reshape(-1, 1))\n",
        "X_test_essay_count = vectorizer.transform(X_test_1['essay_word_count'].astype(float).values.reshape(-1, 1))\n",
        "\n",
        "print(X_train_essay_count.shape, y_train.shape)\n",
        "print(X_test_essay_count.shape, y_test.shape)\n",
        "print(\"=\"*100)"
      ],
      "execution_count": 22,
      "outputs": [
        {
          "output_type": "stream",
          "text": [
            "(46900, 1) (46900,)\n",
            "(23100, 1) (23100,)\n",
            "====================================================================================================\n"
          ],
          "name": "stdout"
        }
      ]
    },
    {
      "cell_type": "code",
      "metadata": {
        "id": "G18Mx-MsNhBJ",
        "colab_type": "code",
        "outputId": "e747b348-f6fe-4f50-b8b0-87c988bf2bbd",
        "colab": {
          "base_uri": "https://localhost:8080/",
          "height": 68
        }
      },
      "source": [
        "vectorizer = MinMaxScaler()\n",
        "vectorizer.fit(data['title_word_count'].astype(float).values.reshape(-1,1))\n",
        "\n",
        "X_train_title_count = vectorizer.transform(X_train_1['title_word_count'].astype(float).values.reshape(-1, 1))\n",
        "X_test_title_count = vectorizer.transform(X_test_1['title_word_count'].astype(float).values.reshape(-1, 1))\n",
        "\n",
        "print(X_train_title_count.shape, y_train.shape)\n",
        "print(X_test_title_count.shape, y_test.shape)\n",
        "print(\"=\"*100)"
      ],
      "execution_count": 27,
      "outputs": [
        {
          "output_type": "stream",
          "text": [
            "(46900, 1) (46900,)\n",
            "(23100, 1) (23100,)\n",
            "====================================================================================================\n"
          ],
          "name": "stdout"
        }
      ]
    },
    {
      "cell_type": "code",
      "metadata": {
        "id": "S6iex2JTNhBQ",
        "colab_type": "code",
        "outputId": "24a3f0d9-85f2-4da8-bf97-c180c08c59ae",
        "colab": {
          "base_uri": "https://localhost:8080/",
          "height": 68
        }
      },
      "source": [
        "vectorizer = MinMaxScaler()\n",
        "vectorizer.fit(data['essay_sentiment'].astype(float).values.reshape(-1,1))\n",
        "\n",
        "X_train_sentiment = vectorizer.transform(X_train_1['essay_sentiment'].astype(float).values.reshape(-1, 1))\n",
        "X_test_sentiment = vectorizer.transform(X_test_1['essay_sentiment'].astype(float).values.reshape(-1, 1))\n",
        "\n",
        "print(X_train_sentiment.shape, y_train.shape)\n",
        "print(X_test_sentiment.shape, y_test.shape)\n",
        "print(\"=\"*100)"
      ],
      "execution_count": 28,
      "outputs": [
        {
          "output_type": "stream",
          "text": [
            "(46900, 1) (46900,)\n",
            "(23100, 1) (23100,)\n",
            "====================================================================================================\n"
          ],
          "name": "stdout"
        }
      ]
    },
    {
      "cell_type": "code",
      "metadata": {
        "id": "YJ7Sg_R0NhBV",
        "colab_type": "code",
        "outputId": "344b6406-a39e-4ed2-bfe8-f3a7959451dc",
        "colab": {
          "base_uri": "https://localhost:8080/",
          "height": 34
        }
      },
      "source": [
        "#https://medium.com/swlh/truncated-singular-value-decomposition-svd-using-amazon-food-reviews-891d97af5d8d\n",
        "from sklearn.decomposition import TruncatedSVD\n",
        "n_comp = [4,10,15,150,500,700,900,1000,1500,3000,4000,4500]\n",
        "variance_sum=[]\n",
        "\n",
        "for i in tqdm(n_comp):\n",
        "    svd = TruncatedSVD(n_components=i, n_iter=5)\n",
        "    svd.fit(X_train_essay_tfidf)\n",
        "    variance_sum.append(svd.explained_variance_ratio_.sum())"
      ],
      "execution_count": 29,
      "outputs": [
        {
          "output_type": "stream",
          "text": [
            "100%|██████████| 12/12 [27:52<00:00, 139.37s/it]\n"
          ],
          "name": "stderr"
        }
      ]
    },
    {
      "cell_type": "code",
      "metadata": {
        "id": "alpGNg39NhBZ",
        "colab_type": "code",
        "outputId": "d94f1078-33df-48ed-89fe-362d715d0e36",
        "colab": {
          "base_uri": "https://localhost:8080/",
          "height": 295
        }
      },
      "source": [
        "plt.xlabel(\"Number of Components\")\n",
        "plt.ylabel(\"Percentage of Variance Explained\")\n",
        "plt.title(\"Variance Explained v/s Number of Components\")\n",
        "plt.plot(n_comp,variance_sum,lw=2)\n",
        "plt.show()"
      ],
      "execution_count": 30,
      "outputs": [
        {
          "output_type": "display_data",
          "data": {
            "image/png": "[encoded data removed]",
            "text/plain": [
              "<Figure size 432x288 with 1 Axes>"
            ]
          },
          "metadata": {
            "tags": [],
            "needs_background": "light"
          }
        }
      ]
    },
    {
      "cell_type": "code",
      "metadata": {
        "id": "ua7tfoIxNhBf",
        "colab_type": "code",
        "colab": {}
      },
      "source": [
        "optimalDimension=4000"
      ],
      "execution_count": 0,
      "outputs": []
    },
    {
      "cell_type": "code",
      "metadata": {
        "id": "wkhboME3NhBj",
        "colab_type": "code",
        "colab": {}
      },
      "source": [
        "svd = TruncatedSVD(n_components=optimalDimension, n_iter=5)\n",
        "svd.fit(X_train_essay_tfidf)\n",
        "x_train_essay_svd=svd.transform(X_train_essay_tfidf)\n",
        "x_test_essay_svd=svd.transform(X_test_essay_tfidf)"
      ],
      "execution_count": 0,
      "outputs": []
    },
    {
      "cell_type": "code",
      "metadata": {
        "id": "tlBkxU9ZNhBn",
        "colab_type": "code",
        "colab": {}
      },
      "source": [
        "#TFIDF DATA MATRIX\n",
        "from scipy.sparse import hstack\n",
        "X_train_tfidf_svd = hstack((x_train_essay_svd,X_train_clean_categories,X_train_clean_subcategories, X_train_school_state, X_train_teacher_prefix, X_train_project_grade, X_train_price ,X_train_prev_projects,X_train_quantity)).tocsr()\n",
        "X_test_tfidf_svd = hstack((x_test_essay_svd  ,X_test_clean_categories ,X_test_clean_subcategories , X_test_school_state , X_test_teacher_prefix , X_test_project_grade , X_test_price ,X_test_prev_projects ,X_test_quantity )).tocsr()"
      ],
      "execution_count": 0,
      "outputs": []
    },
    {
      "cell_type": "code",
      "metadata": {
        "id": "IociNNIRNhBq",
        "colab_type": "code",
        "colab": {
          "base_uri": "https://localhost:8080/",
          "height": 479
        },
        "outputId": "f00e9d9f-8919-4f12-d1dc-0262a8bcb975"
      },
      "source": [
        "svm = SGDClassifier(loss='hinge')\n",
        "alpha = [ 0.0001, 0.005 , 0.01, 0.2 ,1,100,1000,10000]\n",
        "parameters = {'alpha':alpha,'penalty':['l1','l2']}\n",
        "\n",
        "clf = GridSearchCV(svm, parameters, cv= 5, scoring='roc_auc',return_train_score=True)\n",
        "\n",
        "clf.fit(X_train_tfidf_svd, y_train)\n",
        "\n",
        "results=pd.DataFrame.from_dict(clf.cv_results_)\n",
        "train_auc= results['mean_train_score']\n",
        "train_auc_std= results['std_train_score']\n",
        "cv_auc = results['mean_test_score'] \n",
        "cv_auc_std= results['std_test_score']\n",
        "results.head()"
      ],
      "execution_count": 37,
      "outputs": [
        {
          "output_type": "execute_result",
          "data": {
            "text/html": [
              "<div>\n",
              "<style scoped>\n",
              "    .dataframe tbody tr th:only-of-type {\n",
              "        vertical-align: middle;\n",
              "    }\n",
              "\n",
              "    .dataframe tbody tr th {\n",
              "        vertical-align: top;\n",
              "    }\n",
              "\n",
              "    .dataframe thead th {\n",
              "        text-align: right;\n",
              "    }\n",
              "</style>\n",
              "<table border=\"1\" class=\"dataframe\">\n",
              "  <thead>\n",
              "    <tr style=\"text-align: right;\">\n",
              "      <th></th>\n",
              "      <th>mean_fit_time</th>\n",
              "      <th>std_fit_time</th>\n",
              "      <th>mean_score_time</th>\n",
              "      <th>std_score_time</th>\n",
              "      <th>param_alpha</th>\n",
              "      <th>param_penalty</th>\n",
              "      <th>params</th>\n",
              "      <th>split0_test_score</th>\n",
              "      <th>split1_test_score</th>\n",
              "      <th>split2_test_score</th>\n",
              "      <th>split3_test_score</th>\n",
              "      <th>split4_test_score</th>\n",
              "      <th>mean_test_score</th>\n",
              "      <th>std_test_score</th>\n",
              "      <th>rank_test_score</th>\n",
              "      <th>split0_train_score</th>\n",
              "      <th>split1_train_score</th>\n",
              "      <th>split2_train_score</th>\n",
              "      <th>split3_train_score</th>\n",
              "      <th>split4_train_score</th>\n",
              "      <th>mean_train_score</th>\n",
              "      <th>std_train_score</th>\n",
              "    </tr>\n",
              "  </thead>\n",
              "  <tbody>\n",
              "    <tr>\n",
              "      <th>0</th>\n",
              "      <td>18.447922</td>\n",
              "      <td>1.568709</td>\n",
              "      <td>0.095000</td>\n",
              "      <td>0.003186</td>\n",
              "      <td>0.0001</td>\n",
              "      <td>l1</td>\n",
              "      <td>{'alpha': 0.0001, 'penalty': 'l1'}</td>\n",
              "      <td>0.627886</td>\n",
              "      <td>0.569120</td>\n",
              "      <td>0.602682</td>\n",
              "      <td>0.605401</td>\n",
              "      <td>0.595988</td>\n",
              "      <td>0.600215</td>\n",
              "      <td>0.018886</td>\n",
              "      <td>4</td>\n",
              "      <td>0.631785</td>\n",
              "      <td>0.584275</td>\n",
              "      <td>0.616750</td>\n",
              "      <td>0.598569</td>\n",
              "      <td>0.597176</td>\n",
              "      <td>0.605711</td>\n",
              "      <td>0.016644</td>\n",
              "    </tr>\n",
              "    <tr>\n",
              "      <th>1</th>\n",
              "      <td>7.764410</td>\n",
              "      <td>0.400977</td>\n",
              "      <td>0.093170</td>\n",
              "      <td>0.000938</td>\n",
              "      <td>0.0001</td>\n",
              "      <td>l2</td>\n",
              "      <td>{'alpha': 0.0001, 'penalty': 'l2'}</td>\n",
              "      <td>0.655432</td>\n",
              "      <td>0.631043</td>\n",
              "      <td>0.641615</td>\n",
              "      <td>0.648679</td>\n",
              "      <td>0.646088</td>\n",
              "      <td>0.644571</td>\n",
              "      <td>0.008110</td>\n",
              "      <td>1</td>\n",
              "      <td>0.784576</td>\n",
              "      <td>0.771033</td>\n",
              "      <td>0.775196</td>\n",
              "      <td>0.768491</td>\n",
              "      <td>0.774878</td>\n",
              "      <td>0.774835</td>\n",
              "      <td>0.005472</td>\n",
              "    </tr>\n",
              "    <tr>\n",
              "      <th>2</th>\n",
              "      <td>8.517345</td>\n",
              "      <td>0.024566</td>\n",
              "      <td>0.092984</td>\n",
              "      <td>0.000841</td>\n",
              "      <td>0.005</td>\n",
              "      <td>l1</td>\n",
              "      <td>{'alpha': 0.005, 'penalty': 'l1'}</td>\n",
              "      <td>0.499175</td>\n",
              "      <td>0.506779</td>\n",
              "      <td>0.529659</td>\n",
              "      <td>0.499575</td>\n",
              "      <td>0.540517</td>\n",
              "      <td>0.515141</td>\n",
              "      <td>0.016863</td>\n",
              "      <td>11</td>\n",
              "      <td>0.492259</td>\n",
              "      <td>0.512694</td>\n",
              "      <td>0.534929</td>\n",
              "      <td>0.506282</td>\n",
              "      <td>0.541853</td>\n",
              "      <td>0.517603</td>\n",
              "      <td>0.018346</td>\n",
              "    </tr>\n",
              "    <tr>\n",
              "      <th>3</th>\n",
              "      <td>3.547186</td>\n",
              "      <td>0.008484</td>\n",
              "      <td>0.092515</td>\n",
              "      <td>0.001203</td>\n",
              "      <td>0.005</td>\n",
              "      <td>l2</td>\n",
              "      <td>{'alpha': 0.005, 'penalty': 'l2'}</td>\n",
              "      <td>0.657299</td>\n",
              "      <td>0.630453</td>\n",
              "      <td>0.639676</td>\n",
              "      <td>0.630404</td>\n",
              "      <td>0.653056</td>\n",
              "      <td>0.642178</td>\n",
              "      <td>0.011219</td>\n",
              "      <td>2</td>\n",
              "      <td>0.744516</td>\n",
              "      <td>0.748112</td>\n",
              "      <td>0.751827</td>\n",
              "      <td>0.731426</td>\n",
              "      <td>0.755627</td>\n",
              "      <td>0.746302</td>\n",
              "      <td>0.008310</td>\n",
              "    </tr>\n",
              "    <tr>\n",
              "      <th>4</th>\n",
              "      <td>9.342054</td>\n",
              "      <td>1.332888</td>\n",
              "      <td>0.092435</td>\n",
              "      <td>0.000605</td>\n",
              "      <td>0.01</td>\n",
              "      <td>l1</td>\n",
              "      <td>{'alpha': 0.01, 'penalty': 'l1'}</td>\n",
              "      <td>0.557518</td>\n",
              "      <td>0.515922</td>\n",
              "      <td>0.486797</td>\n",
              "      <td>0.542239</td>\n",
              "      <td>0.522888</td>\n",
              "      <td>0.525073</td>\n",
              "      <td>0.024087</td>\n",
              "      <td>10</td>\n",
              "      <td>0.536761</td>\n",
              "      <td>0.515242</td>\n",
              "      <td>0.498091</td>\n",
              "      <td>0.530182</td>\n",
              "      <td>0.524566</td>\n",
              "      <td>0.520969</td>\n",
              "      <td>0.013442</td>\n",
              "    </tr>\n",
              "  </tbody>\n",
              "</table>\n",
              "</div>"
            ],
            "text/plain": [
              "   mean_fit_time  std_fit_time  ...  mean_train_score  std_train_score\n",
              "0      18.447922      1.568709  ...          0.605711         0.016644\n",
              "1       7.764410      0.400977  ...          0.774835         0.005472\n",
              "2       8.517345      0.024566  ...          0.517603         0.018346\n",
              "3       3.547186      0.008484  ...          0.746302         0.008310\n",
              "4       9.342054      1.332888  ...          0.520969         0.013442\n",
              "\n",
              "[5 rows x 22 columns]"
            ]
          },
          "metadata": {
            "tags": []
          },
          "execution_count": 37
        }
      ]
    },
    {
      "cell_type": "code",
      "metadata": {
        "id": "gm4zBBlmNhBt",
        "colab_type": "code",
        "colab": {
          "base_uri": "https://localhost:8080/",
          "height": 34
        },
        "outputId": "46041655-7360-4249-b893-20658e7a2956"
      },
      "source": [
        "clf.best_params_"
      ],
      "execution_count": 38,
      "outputs": [
        {
          "output_type": "execute_result",
          "data": {
            "text/plain": [
              "{'alpha': 0.0001, 'penalty': 'l2'}"
            ]
          },
          "metadata": {
            "tags": []
          },
          "execution_count": 38
        }
      ]
    },
    {
      "cell_type": "code",
      "metadata": {
        "id": "_ziJQjo5NhBv",
        "colab_type": "code",
        "colab": {
          "base_uri": "https://localhost:8080/",
          "height": 295
        },
        "outputId": "ddfbb9fa-2fe4-4968-ab56-2b087e40ad4f"
      },
      "source": [
        "import math\n",
        "alpha = list(map(lambda x: math.log(x),alpha))\n",
        "train_auc_l1=[train_auc[i] for i in range(0,len(train_auc),2)]\n",
        "train_auc_l2=[train_auc[i] for i in range(1,len(train_auc),2)]\n",
        "\n",
        "cv_auc_l1=[cv_auc[i] for i in range(0,len(cv_auc),2)]\n",
        "cv_auc_l2=[cv_auc[i] for i in range(1,len(cv_auc),2)]\n",
        "\n",
        "plt.plot(alpha, train_auc_l1, label='Train AUC l1')\n",
        "# this code is copied from here: https://stackoverflow.com/a/48803361/4084039\n",
        "# plt.gca().fill_between(K, train_auc - train_auc_std,train_auc + train_auc_std,alpha=0.2,color='darkblue')\n",
        "plt.plot(alpha, train_auc_l2, label='Train AUC l2')\n",
        "plt.plot(alpha, cv_auc_l1, label='CV AUC l1')\n",
        "plt.plot(alpha, cv_auc_l2, label='CV AUC l2')\n",
        "# this code is copied from here: https://stackoverflow.com/a/48803361/4084039\n",
        "# plt.gca().fill_between(K, cv_auc - cv_auc_std,cv_auc + cv_auc_std,alpha=0.2,color='darkorange')\n",
        "\n",
        "\n",
        "plt.scatter(alpha, train_auc_l1, label='Train AUC l1 points')\n",
        "plt.scatter(alpha, train_auc_l2, label='Train AUC l2 points')\n",
        "plt.scatter(alpha, cv_auc_l1, label='CV AUC l1 points')\n",
        "plt.scatter(alpha, cv_auc_l2, label='CV AUC l2 points')\n",
        "\n",
        "plt.legend()\n",
        "plt.xlabel(\"alpha hyperparameter\")\n",
        "plt.ylabel(\"AUC\")\n",
        "plt.title(\"Hyperparameter VS AUC\")\n",
        "plt.grid()\n",
        "plt.show()"
      ],
      "execution_count": 40,
      "outputs": [
        {
          "output_type": "display_data",
          "data": {
            "image/png": "[encoded data removed]",
            "text/plain": [
              "<Figure size 432x288 with 1 Axes>"
            ]
          },
          "metadata": {
            "tags": [],
            "needs_background": "light"
          }
        }
      ]
    },
    {
      "cell_type": "code",
      "metadata": {
        "id": "EYpNp_kwNhBy",
        "colab_type": "code",
        "colab": {
          "base_uri": "https://localhost:8080/",
          "height": 295
        },
        "outputId": "1f59e03e-c23d-4ab6-e875-5b871cffc213"
      },
      "source": [
        "svm = SGDClassifier(loss='hinge',alpha=0.0001,penalty='l2')\n",
        "svm.fit(X_train_tfidf_svd, y_train)\n",
        "# roc_auc_score(y_true, y_score) the 2nd parameter should be probability estimates of the positive class\n",
        "# not the predicted outputs\n",
        "\n",
        "y_train_pred = svm.decision_function(X_train_tfidf_svd)    \n",
        "y_test_pred = svm.decision_function(X_test_tfidf_svd)\n",
        "\n",
        "train_fpr, train_tpr, tr_thresholds = roc_curve(y_train, y_train_pred)\n",
        "test_fpr, test_tpr, te_thresholds = roc_curve(y_test, y_test_pred)\n",
        "\n",
        "plt.plot(train_fpr, train_tpr, label=\"train AUC =\"+str(auc(train_fpr, train_tpr)))\n",
        "plt.plot(test_fpr, test_tpr, label=\"test AUC =\"+str(auc(test_fpr, test_tpr)))\n",
        "plt.legend()\n",
        "plt.xlabel(\"False Positive Rate\")\n",
        "plt.ylabel(\"True Positive Rate\")\n",
        "plt.title(\"ROC Curve\")\n",
        "plt.grid()\n",
        "plt.show()"
      ],
      "execution_count": 41,
      "outputs": [
        {
          "output_type": "display_data",
          "data": {
            "image/png": "[encoded data removed]",
            "text/plain": [
              "<Figure size 432x288 with 1 Axes>"
            ]
          },
          "metadata": {
            "tags": [],
            "needs_background": "light"
          }
        }
      ]
    },
    {
      "cell_type": "code",
      "metadata": {
        "id": "esja8vjRNhB1",
        "colab_type": "code",
        "colab": {
          "base_uri": "https://localhost:8080/",
          "height": 153
        },
        "outputId": "9e4d0697-c66c-4667-dfe0-958e289c6f29"
      },
      "source": [
        "print(\"=\"*100)\n",
        "from sklearn.metrics import confusion_matrix\n",
        "best_t = find_best_threshold(tr_thresholds, train_fpr, train_tpr)\n",
        "print(\"Train confusion matrix\")\n",
        "print(confusion_matrix(y_train, predict_with_best_t(y_train_pred, best_t)))\n",
        "print(\"Test confusion matrix\")\n",
        "print(confusion_matrix(y_test, predict_with_best_t(y_test_pred, best_t)))"
      ],
      "execution_count": 44,
      "outputs": [
        {
          "output_type": "stream",
          "text": [
            "====================================================================================================\n",
            "the maximum value of tpr*(1-fpr) 0.48483141753656583 for threshold 1.077\n",
            "Train confusion matrix\n",
            "[[ 4890  2222]\n",
            " [11732 28056]]\n",
            "Test confusion matrix\n",
            "[[ 1854  1649]\n",
            " [ 6474 13123]]\n"
          ],
          "name": "stdout"
        }
      ]
    },
    {
      "cell_type": "code",
      "metadata": {
        "id": "iBOEvVCINhB7",
        "colab_type": "code",
        "colab": {
          "base_uri": "https://localhost:8080/",
          "height": 282
        },
        "outputId": "a7242b34-31b2-4ad4-83b1-ca105fe5c893"
      },
      "source": [
        "conf_matr_train = pd.DataFrame(confusion_matrix(y_train, predict_with_best_t(y_train_pred,best_t)), range(2),range(2))\n",
        "sns.heatmap(conf_matr_train, annot=True, fmt='', cmap='Blues')"
      ],
      "execution_count": 45,
      "outputs": [
        {
          "output_type": "execute_result",
          "data": {
            "text/plain": [
              "<matplotlib.axes._subplots.AxesSubplot at 0x7f9a48d18b70>"
            ]
          },
          "metadata": {
            "tags": []
          },
          "execution_count": 45
        },
        {
          "output_type": "display_data",
          "data": {
            "image/png": "[encoded data removed]",
            "text/plain": [
              "<Figure size 432x288 with 2 Axes>"
            ]
          },
          "metadata": {
            "tags": [],
            "needs_background": "light"
          }
        }
      ]
    },
    {
      "cell_type": "code",
      "metadata": {
        "id": "bshu6374NhB_",
        "colab_type": "code",
        "colab": {
          "base_uri": "https://localhost:8080/",
          "height": 282
        },
        "outputId": "1eee6909-798a-4f53-c4b6-29d6c1738b84"
      },
      "source": [
        "conf_matr_test = pd.DataFrame(confusion_matrix(y_test, predict_with_best_t(y_test_pred,best_t)), range(2),range(2))\n",
        "sns.heatmap(conf_matr_test, annot=True, fmt='', cmap='Blues')"
      ],
      "execution_count": 46,
      "outputs": [
        {
          "output_type": "execute_result",
          "data": {
            "text/plain": [
              "<matplotlib.axes._subplots.AxesSubplot at 0x7f9a4546c320>"
            ]
          },
          "metadata": {
            "tags": []
          },
          "execution_count": 46
        },
        {
          "output_type": "display_data",
          "data": {
            "image/png": "[encoded data removed]",
            "text/plain": [
              "<Figure size 432x288 with 2 Axes>"
            ]
          },
          "metadata": {
            "tags": [],
            "needs_background": "light"
          }
        }
      ]
    },
    {
      "cell_type": "markdown",
      "metadata": {
        "colab_type": "text",
        "id": "51CZPd61oUIA"
      },
      "source": [
        "<h1>3. Conclusion</h1>"
      ]
    },
    {
      "cell_type": "code",
      "metadata": {
        "colab_type": "code",
        "id": "uZfzkquRoUIB",
        "colab": {
          "base_uri": "https://localhost:8080/",
          "height": 170
        },
        "outputId": "677b41b8-aaeb-42f3-ba55-2a154b7ce85e"
      },
      "source": [
        "# Please compare all your models using Prettytable library\n",
        "from prettytable import PrettyTable\n",
        "x = PrettyTable()\n",
        "x.field_names = [\"Vectorizer\", \"Alpha\", \"Penalty\", \"Train AUC\",\"Test AUC\"]\n",
        "\n",
        "x.add_row([\"BOW\", 0.01,'l2', 0.77, 0.64])\n",
        "x.add_row([\"TFIDF\", 0.05,'l2',0.75, 0.63])\n",
        "x.add_row([\"AVGW2V\", 0.0001,'l2',0.70, 0.68])\n",
        "x.add_row([\"TFIDF W2V\", 0.0001,'l1',0.53, 0.53])\n",
        "x.add_row([\"WITH TRUNCATED SVD\", 0.0001,'l2',0.76, 0.64])\n",
        "\n",
        "print (x)"
      ],
      "execution_count": 48,
      "outputs": [
        {
          "output_type": "stream",
          "text": [
            "+--------------------+--------+---------+-----------+----------+\n",
            "|     Vectorizer     | Alpha  | Penalty | Train AUC | Test AUC |\n",
            "+--------------------+--------+---------+-----------+----------+\n",
            "|        BOW         |  0.01  |    l2   |    0.77   |   0.64   |\n",
            "|       TFIDF        |  0.05  |    l2   |    0.75   |   0.63   |\n",
            "|       AVGW2V       | 0.0001 |    l2   |    0.7    |   0.68   |\n",
            "|     TFIDF W2V      | 0.0001 |    l1   |    0.53   |   0.53   |\n",
            "| WITH TRUNCATED SVD | 0.0001 |    l2   |    0.76   |   0.64   |\n",
            "+--------------------+--------+---------+-----------+----------+\n"
          ],
          "name": "stdout"
        }
      ]
    },
    {
      "cell_type": "markdown",
      "metadata": {
        "id": "S1zyoP-INhCF",
        "colab_type": "text"
      },
      "source": [
        "SUMMARY :\n",
        "The bow model gives the best AUC amongst all others."
      ]
    }
  ]
}