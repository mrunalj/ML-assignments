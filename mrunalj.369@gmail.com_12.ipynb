{
 "cells": [
  {
   "cell_type": "markdown",
   "metadata": {
    "colab_type": "text",
    "id": "UTJmsXnXQKbG"
   },
   "source": [
    "## Keras -- MLPs on MNIST"
   ]
  },
  {
   "cell_type": "code",
   "execution_count": 0,
   "metadata": {
    "colab": {},
    "colab_type": "code",
    "id": "2UILABPAQKbH"
   },
   "outputs": [],
   "source": [
    "# if you keras is not using tensorflow as backend set \"KERAS_BACKEND=tensorflow\" use this command\n",
    "from keras.utils import np_utils \n",
    "from keras.datasets import mnist \n",
    "import seaborn as sns\n",
    "from keras.initializers import RandomNormal"
   ]
  },
  {
   "cell_type": "code",
   "execution_count": 0,
   "metadata": {
    "colab": {},
    "colab_type": "code",
    "id": "lOO-TM_7QKbM"
   },
   "outputs": [],
   "source": [
    "#%matplotlib notebook\n",
    "%matplotlib inline\n",
    "import matplotlib.pyplot as plt\n",
    "import numpy as np\n",
    "import time\n",
    "# https://gist.github.com/greydanus/f6eee59eaf1d90fcb3b534a25362cea4\n",
    "# https://stackoverflow.com/a/14434334\n",
    "# this function is used to update the plots for each epoch and error\n",
    "def plt_dynamic(x, vy, ty, ax, colors=['b']):\n",
    "    ax.plot(x, vy, 'b', label=\"Validation Loss\")\n",
    "    ax.plot(x, ty, 'r', label=\"Train Loss\")\n",
    "    plt.legend()\n",
    "    plt.grid()\n",
    "    fig.canvas.draw()\n",
    "    plt.show()"
   ]
  },
  {
   "cell_type": "code",
   "execution_count": 0,
   "metadata": {
    "colab": {},
    "colab_type": "code",
    "id": "TKmYKnibQKbQ"
   },
   "outputs": [],
   "source": [
    "# the data, shuffled and split between train and test sets \n",
    "(X_train, y_train), (X_test, y_test) = mnist.load_data()"
   ]
  },
  {
   "cell_type": "code",
   "execution_count": 126,
   "metadata": {
    "colab": {
     "base_uri": "https://localhost:8080/",
     "height": 51
    },
    "colab_type": "code",
    "executionInfo": {
     "elapsed": 1351,
     "status": "ok",
     "timestamp": 1589200133250,
     "user": {
      "displayName": "Mrunal Joshi",
      "photoUrl": "https://lh3.googleusercontent.com/a-/AOh14Gh4sfZImbcxfrP7hFTSOEyBzhAb07jp3pSecuCbeQ=s64",
      "userId": "04128114986664828555"
     },
     "user_tz": -330
    },
    "id": "CCwnZae-QKbT",
    "outputId": "9381eb88-1d89-487e-c654-937d544cd4f7"
   },
   "outputs": [
    {
     "name": "stdout",
     "output_type": "stream",
     "text": [
      "Number of training examples : 60000 and each image is of shape (28, 28)\n",
      "Number of training examples : 10000 and each image is of shape (28, 28)\n"
     ]
    }
   ],
   "source": [
    "print(\"Number of training examples :\", X_train.shape[0], \"and each image is of shape (%d, %d)\"%(X_train.shape[1], X_train.shape[2]))\n",
    "print(\"Number of training examples :\", X_test.shape[0], \"and each image is of shape (%d, %d)\"%(X_test.shape[1], X_test.shape[2]))"
   ]
  },
  {
   "cell_type": "code",
   "execution_count": 0,
   "metadata": {
    "colab": {},
    "colab_type": "code",
    "id": "BlotuCmoQKbW"
   },
   "outputs": [],
   "source": [
    "# if you observe the input shape its 2 dimensional vector\n",
    "# for each image we have a (28*28) vector\n",
    "# we will convert the (28*28) vector into single dimensional vector of 1 * 784 \n",
    "\n",
    "X_train = X_train.reshape(X_train.shape[0], X_train.shape[1]*X_train.shape[2]) \n",
    "X_test = X_test.reshape(X_test.shape[0], X_test.shape[1]*X_test.shape[2]) "
   ]
  },
  {
   "cell_type": "code",
   "execution_count": 128,
   "metadata": {
    "colab": {
     "base_uri": "https://localhost:8080/",
     "height": 51
    },
    "colab_type": "code",
    "executionInfo": {
     "elapsed": 1739,
     "status": "ok",
     "timestamp": 1589200144736,
     "user": {
      "displayName": "Mrunal Joshi",
      "photoUrl": "https://lh3.googleusercontent.com/a-/AOh14Gh4sfZImbcxfrP7hFTSOEyBzhAb07jp3pSecuCbeQ=s64",
      "userId": "04128114986664828555"
     },
     "user_tz": -330
    },
    "id": "8JvpNJy4QKbY",
    "outputId": "efe096ad-541b-453a-ef5d-c689b34b2737"
   },
   "outputs": [
    {
     "name": "stdout",
     "output_type": "stream",
     "text": [
      "Number of training examples : 60000 and each image is of shape (784)\n",
      "Number of training examples : 10000 and each image is of shape (784)\n"
     ]
    }
   ],
   "source": [
    "# after converting the input images from 3d to 2d vectors\n",
    "\n",
    "print(\"Number of training examples :\", X_train.shape[0], \"and each image is of shape (%d)\"%(X_train.shape[1]))\n",
    "print(\"Number of training examples :\", X_test.shape[0], \"and each image is of shape (%d)\"%(X_test.shape[1]))"
   ]
  },
  {
   "cell_type": "code",
   "execution_count": 24,
   "metadata": {
    "colab": {
     "base_uri": "https://localhost:8080/",
     "height": 765
    },
    "colab_type": "code",
    "executionInfo": {
     "elapsed": 1028,
     "status": "ok",
     "timestamp": 1589190276619,
     "user": {
      "displayName": "Mrunal Joshi",
      "photoUrl": "https://lh3.googleusercontent.com/a-/AOh14Gh4sfZImbcxfrP7hFTSOEyBzhAb07jp3pSecuCbeQ=s64",
      "userId": "04128114986664828555"
     },
     "user_tz": -330
    },
    "id": "qvuaHDk0QKbb",
    "outputId": "b947e28a-0737-45d6-e821-27fe48785d7a"
   },
   "outputs": [
    {
     "name": "stdout",
     "output_type": "stream",
     "text": [
      "[  0   0   0   0   0   0   0   0   0   0   0   0   0   0   0   0   0   0\n",
      "   0   0   0   0   0   0   0   0   0   0   0   0   0   0   0   0   0   0\n",
      "   0   0   0   0   0   0   0   0   0   0   0   0   0   0   0   0   0   0\n",
      "   0   0   0   0   0   0   0   0   0   0   0   0   0   0   0   0   0   0\n",
      "   0   0   0   0   0   0   0   0   0   0   0   0   0   0   0   0   0   0\n",
      "   0   0   0   0   0   0   0   0   0   0   0   0   0   0   0   0   0   0\n",
      "   0   0   0   0   0   0   0   0   0   0   0   0   0   0   0   0   0   0\n",
      "   0   0   0   0   0   0   0   0   0   0   0   0   0   0   0   0   0   0\n",
      "   0   0   0   0   0   0   0   0   3  18  18  18 126 136 175  26 166 255\n",
      " 247 127   0   0   0   0   0   0   0   0   0   0   0   0  30  36  94 154\n",
      " 170 253 253 253 253 253 225 172 253 242 195  64   0   0   0   0   0   0\n",
      "   0   0   0   0   0  49 238 253 253 253 253 253 253 253 253 251  93  82\n",
      "  82  56  39   0   0   0   0   0   0   0   0   0   0   0   0  18 219 253\n",
      " 253 253 253 253 198 182 247 241   0   0   0   0   0   0   0   0   0   0\n",
      "   0   0   0   0   0   0   0   0  80 156 107 253 253 205  11   0  43 154\n",
      "   0   0   0   0   0   0   0   0   0   0   0   0   0   0   0   0   0   0\n",
      "   0  14   1 154 253  90   0   0   0   0   0   0   0   0   0   0   0   0\n",
      "   0   0   0   0   0   0   0   0   0   0   0   0   0 139 253 190   2   0\n",
      "   0   0   0   0   0   0   0   0   0   0   0   0   0   0   0   0   0   0\n",
      "   0   0   0   0   0  11 190 253  70   0   0   0   0   0   0   0   0   0\n",
      "   0   0   0   0   0   0   0   0   0   0   0   0   0   0   0   0  35 241\n",
      " 225 160 108   1   0   0   0   0   0   0   0   0   0   0   0   0   0   0\n",
      "   0   0   0   0   0   0   0   0   0  81 240 253 253 119  25   0   0   0\n",
      "   0   0   0   0   0   0   0   0   0   0   0   0   0   0   0   0   0   0\n",
      "   0   0  45 186 253 253 150  27   0   0   0   0   0   0   0   0   0   0\n",
      "   0   0   0   0   0   0   0   0   0   0   0   0   0  16  93 252 253 187\n",
      "   0   0   0   0   0   0   0   0   0   0   0   0   0   0   0   0   0   0\n",
      "   0   0   0   0   0   0   0 249 253 249  64   0   0   0   0   0   0   0\n",
      "   0   0   0   0   0   0   0   0   0   0   0   0   0   0  46 130 183 253\n",
      " 253 207   2   0   0   0   0   0   0   0   0   0   0   0   0   0   0   0\n",
      "   0   0   0   0  39 148 229 253 253 253 250 182   0   0   0   0   0   0\n",
      "   0   0   0   0   0   0   0   0   0   0   0   0  24 114 221 253 253 253\n",
      " 253 201  78   0   0   0   0   0   0   0   0   0   0   0   0   0   0   0\n",
      "   0   0  23  66 213 253 253 253 253 198  81   2   0   0   0   0   0   0\n",
      "   0   0   0   0   0   0   0   0   0   0  18 171 219 253 253 253 253 195\n",
      "  80   9   0   0   0   0   0   0   0   0   0   0   0   0   0   0   0   0\n",
      "  55 172 226 253 253 253 253 244 133  11   0   0   0   0   0   0   0   0\n",
      "   0   0   0   0   0   0   0   0   0   0 136 253 253 253 212 135 132  16\n",
      "   0   0   0   0   0   0   0   0   0   0   0   0   0   0   0   0   0   0\n",
      "   0   0   0   0   0   0   0   0   0   0   0   0   0   0   0   0   0   0\n",
      "   0   0   0   0   0   0   0   0   0   0   0   0   0   0   0   0   0   0\n",
      "   0   0   0   0   0   0   0   0   0   0   0   0   0   0   0   0   0   0\n",
      "   0   0   0   0   0   0   0   0   0   0   0   0   0   0   0   0   0   0\n",
      "   0   0   0   0   0   0   0   0   0   0]\n"
     ]
    }
   ],
   "source": [
    "# An example data point\n",
    "print(X_train[0])"
   ]
  },
  {
   "cell_type": "code",
   "execution_count": 0,
   "metadata": {
    "colab": {},
    "colab_type": "code",
    "id": "lfohtdKPQKbd"
   },
   "outputs": [],
   "source": [
    "# if we observe the above matrix each cell is having a value between 0-255\n",
    "# before we move to apply machine learning algorithms lets try to normalize the data\n",
    "# X => (X - Xmin)/(Xmax-Xmin) = X/255\n",
    "\n",
    "X_train = X_train/255\n",
    "X_test = X_test/255"
   ]
  },
  {
   "cell_type": "code",
   "execution_count": 26,
   "metadata": {
    "colab": {
     "base_uri": "https://localhost:8080/",
     "height": 1000
    },
    "colab_type": "code",
    "executionInfo": {
     "elapsed": 1332,
     "status": "ok",
     "timestamp": 1589190281904,
     "user": {
      "displayName": "Mrunal Joshi",
      "photoUrl": "https://lh3.googleusercontent.com/a-/AOh14Gh4sfZImbcxfrP7hFTSOEyBzhAb07jp3pSecuCbeQ=s64",
      "userId": "04128114986664828555"
     },
     "user_tz": -330
    },
    "id": "4C-dmsXJQKbf",
    "outputId": "4e63c010-c58e-4be2-d326-92c140aef17c"
   },
   "outputs": [
    {
     "name": "stdout",
     "output_type": "stream",
     "text": [
      "[0.         0.         0.         0.         0.         0.\n",
      " 0.         0.         0.         0.         0.         0.\n",
      " 0.         0.         0.         0.         0.         0.\n",
      " 0.         0.         0.         0.         0.         0.\n",
      " 0.         0.         0.         0.         0.         0.\n",
      " 0.         0.         0.         0.         0.         0.\n",
      " 0.         0.         0.         0.         0.         0.\n",
      " 0.         0.         0.         0.         0.         0.\n",
      " 0.         0.         0.         0.         0.         0.\n",
      " 0.         0.         0.         0.         0.         0.\n",
      " 0.         0.         0.         0.         0.         0.\n",
      " 0.         0.         0.         0.         0.         0.\n",
      " 0.         0.         0.         0.         0.         0.\n",
      " 0.         0.         0.         0.         0.         0.\n",
      " 0.         0.         0.         0.         0.         0.\n",
      " 0.         0.         0.         0.         0.         0.\n",
      " 0.         0.         0.         0.         0.         0.\n",
      " 0.         0.         0.         0.         0.         0.\n",
      " 0.         0.         0.         0.         0.         0.\n",
      " 0.         0.         0.         0.         0.         0.\n",
      " 0.         0.         0.         0.         0.         0.\n",
      " 0.         0.         0.         0.         0.         0.\n",
      " 0.         0.         0.         0.         0.         0.\n",
      " 0.         0.         0.         0.         0.         0.\n",
      " 0.         0.         0.         0.         0.         0.\n",
      " 0.         0.         0.01176471 0.07058824 0.07058824 0.07058824\n",
      " 0.49411765 0.53333333 0.68627451 0.10196078 0.65098039 1.\n",
      " 0.96862745 0.49803922 0.         0.         0.         0.\n",
      " 0.         0.         0.         0.         0.         0.\n",
      " 0.         0.         0.11764706 0.14117647 0.36862745 0.60392157\n",
      " 0.66666667 0.99215686 0.99215686 0.99215686 0.99215686 0.99215686\n",
      " 0.88235294 0.6745098  0.99215686 0.94901961 0.76470588 0.25098039\n",
      " 0.         0.         0.         0.         0.         0.\n",
      " 0.         0.         0.         0.         0.         0.19215686\n",
      " 0.93333333 0.99215686 0.99215686 0.99215686 0.99215686 0.99215686\n",
      " 0.99215686 0.99215686 0.99215686 0.98431373 0.36470588 0.32156863\n",
      " 0.32156863 0.21960784 0.15294118 0.         0.         0.\n",
      " 0.         0.         0.         0.         0.         0.\n",
      " 0.         0.         0.         0.07058824 0.85882353 0.99215686\n",
      " 0.99215686 0.99215686 0.99215686 0.99215686 0.77647059 0.71372549\n",
      " 0.96862745 0.94509804 0.         0.         0.         0.\n",
      " 0.         0.         0.         0.         0.         0.\n",
      " 0.         0.         0.         0.         0.         0.\n",
      " 0.         0.         0.31372549 0.61176471 0.41960784 0.99215686\n",
      " 0.99215686 0.80392157 0.04313725 0.         0.16862745 0.60392157\n",
      " 0.         0.         0.         0.         0.         0.\n",
      " 0.         0.         0.         0.         0.         0.\n",
      " 0.         0.         0.         0.         0.         0.\n",
      " 0.         0.05490196 0.00392157 0.60392157 0.99215686 0.35294118\n",
      " 0.         0.         0.         0.         0.         0.\n",
      " 0.         0.         0.         0.         0.         0.\n",
      " 0.         0.         0.         0.         0.         0.\n",
      " 0.         0.         0.         0.         0.         0.\n",
      " 0.         0.54509804 0.99215686 0.74509804 0.00784314 0.\n",
      " 0.         0.         0.         0.         0.         0.\n",
      " 0.         0.         0.         0.         0.         0.\n",
      " 0.         0.         0.         0.         0.         0.\n",
      " 0.         0.         0.         0.         0.         0.04313725\n",
      " 0.74509804 0.99215686 0.2745098  0.         0.         0.\n",
      " 0.         0.         0.         0.         0.         0.\n",
      " 0.         0.         0.         0.         0.         0.\n",
      " 0.         0.         0.         0.         0.         0.\n",
      " 0.         0.         0.         0.         0.1372549  0.94509804\n",
      " 0.88235294 0.62745098 0.42352941 0.00392157 0.         0.\n",
      " 0.         0.         0.         0.         0.         0.\n",
      " 0.         0.         0.         0.         0.         0.\n",
      " 0.         0.         0.         0.         0.         0.\n",
      " 0.         0.         0.         0.31764706 0.94117647 0.99215686\n",
      " 0.99215686 0.46666667 0.09803922 0.         0.         0.\n",
      " 0.         0.         0.         0.         0.         0.\n",
      " 0.         0.         0.         0.         0.         0.\n",
      " 0.         0.         0.         0.         0.         0.\n",
      " 0.         0.         0.17647059 0.72941176 0.99215686 0.99215686\n",
      " 0.58823529 0.10588235 0.         0.         0.         0.\n",
      " 0.         0.         0.         0.         0.         0.\n",
      " 0.         0.         0.         0.         0.         0.\n",
      " 0.         0.         0.         0.         0.         0.\n",
      " 0.         0.0627451  0.36470588 0.98823529 0.99215686 0.73333333\n",
      " 0.         0.         0.         0.         0.         0.\n",
      " 0.         0.         0.         0.         0.         0.\n",
      " 0.         0.         0.         0.         0.         0.\n",
      " 0.         0.         0.         0.         0.         0.\n",
      " 0.         0.97647059 0.99215686 0.97647059 0.25098039 0.\n",
      " 0.         0.         0.         0.         0.         0.\n",
      " 0.         0.         0.         0.         0.         0.\n",
      " 0.         0.         0.         0.         0.         0.\n",
      " 0.         0.         0.18039216 0.50980392 0.71764706 0.99215686\n",
      " 0.99215686 0.81176471 0.00784314 0.         0.         0.\n",
      " 0.         0.         0.         0.         0.         0.\n",
      " 0.         0.         0.         0.         0.         0.\n",
      " 0.         0.         0.         0.         0.15294118 0.58039216\n",
      " 0.89803922 0.99215686 0.99215686 0.99215686 0.98039216 0.71372549\n",
      " 0.         0.         0.         0.         0.         0.\n",
      " 0.         0.         0.         0.         0.         0.\n",
      " 0.         0.         0.         0.         0.         0.\n",
      " 0.09411765 0.44705882 0.86666667 0.99215686 0.99215686 0.99215686\n",
      " 0.99215686 0.78823529 0.30588235 0.         0.         0.\n",
      " 0.         0.         0.         0.         0.         0.\n",
      " 0.         0.         0.         0.         0.         0.\n",
      " 0.         0.         0.09019608 0.25882353 0.83529412 0.99215686\n",
      " 0.99215686 0.99215686 0.99215686 0.77647059 0.31764706 0.00784314\n",
      " 0.         0.         0.         0.         0.         0.\n",
      " 0.         0.         0.         0.         0.         0.\n",
      " 0.         0.         0.         0.         0.07058824 0.67058824\n",
      " 0.85882353 0.99215686 0.99215686 0.99215686 0.99215686 0.76470588\n",
      " 0.31372549 0.03529412 0.         0.         0.         0.\n",
      " 0.         0.         0.         0.         0.         0.\n",
      " 0.         0.         0.         0.         0.         0.\n",
      " 0.21568627 0.6745098  0.88627451 0.99215686 0.99215686 0.99215686\n",
      " 0.99215686 0.95686275 0.52156863 0.04313725 0.         0.\n",
      " 0.         0.         0.         0.         0.         0.\n",
      " 0.         0.         0.         0.         0.         0.\n",
      " 0.         0.         0.         0.         0.53333333 0.99215686\n",
      " 0.99215686 0.99215686 0.83137255 0.52941176 0.51764706 0.0627451\n",
      " 0.         0.         0.         0.         0.         0.\n",
      " 0.         0.         0.         0.         0.         0.\n",
      " 0.         0.         0.         0.         0.         0.\n",
      " 0.         0.         0.         0.         0.         0.\n",
      " 0.         0.         0.         0.         0.         0.\n",
      " 0.         0.         0.         0.         0.         0.\n",
      " 0.         0.         0.         0.         0.         0.\n",
      " 0.         0.         0.         0.         0.         0.\n",
      " 0.         0.         0.         0.         0.         0.\n",
      " 0.         0.         0.         0.         0.         0.\n",
      " 0.         0.         0.         0.         0.         0.\n",
      " 0.         0.         0.         0.         0.         0.\n",
      " 0.         0.         0.         0.         0.         0.\n",
      " 0.         0.         0.         0.         0.         0.\n",
      " 0.         0.         0.         0.         0.         0.\n",
      " 0.         0.         0.         0.         0.         0.\n",
      " 0.         0.         0.         0.        ]\n"
     ]
    }
   ],
   "source": [
    "# example data point after normlizing\n",
    "print(X_train[0])"
   ]
  },
  {
   "cell_type": "code",
   "execution_count": 130,
   "metadata": {
    "colab": {
     "base_uri": "https://localhost:8080/",
     "height": 51
    },
    "colab_type": "code",
    "executionInfo": {
     "elapsed": 1523,
     "status": "ok",
     "timestamp": 1589200157406,
     "user": {
      "displayName": "Mrunal Joshi",
      "photoUrl": "https://lh3.googleusercontent.com/a-/AOh14Gh4sfZImbcxfrP7hFTSOEyBzhAb07jp3pSecuCbeQ=s64",
      "userId": "04128114986664828555"
     },
     "user_tz": -330
    },
    "id": "3Ruu-vXzQKbi",
    "outputId": "bd772d19-70a6-44ea-8620-de6dcffe58c7"
   },
   "outputs": [
    {
     "name": "stdout",
     "output_type": "stream",
     "text": [
      "Class label of first image : 5\n",
      "After converting the output into a vector :  [0. 0. 0. 0. 0. 1. 0. 0. 0. 0.]\n"
     ]
    }
   ],
   "source": [
    "# here we are having a class number for each image\n",
    "print(\"Class label of first image :\", y_train[0])\n",
    "\n",
    "# lets convert this into a 10 dimensional vector\n",
    "# ex: consider an image is 5 convert it into 5 => [0, 0, 0, 0, 0, 1, 0, 0, 0, 0]\n",
    "# this conversion needed for MLPs \n",
    "\n",
    "Y_train = np_utils.to_categorical(y_train, 10) \n",
    "Y_test = np_utils.to_categorical(y_test, 10)\n",
    "\n",
    "print(\"After converting the output into a vector : \",Y_train[0])"
   ]
  },
  {
   "cell_type": "markdown",
   "metadata": {
    "colab_type": "text",
    "id": "u0pWB6UyQKbk"
   },
   "source": [
    "<h2>  Softmax classifier  </h2>"
   ]
  },
  {
   "cell_type": "code",
   "execution_count": 0,
   "metadata": {
    "colab": {},
    "colab_type": "code",
    "id": "tLAGMubCQKbm"
   },
   "outputs": [],
   "source": [
    "# https://keras.io/getting-started/sequential-model-guide/\n",
    "\n",
    "# The Sequential model is a linear stack of layers.\n",
    "# you can create a Sequential model by passing a list of layer instances to the constructor:\n",
    "\n",
    "# model = Sequential([\n",
    "#     Dense(32, input_shape=(784,)),\n",
    "#     Activation('relu'),\n",
    "#     Dense(10),\n",
    "#     Activation('softmax'),\n",
    "# ])\n",
    "\n",
    "# You can also simply add layers via the .add() method:\n",
    "\n",
    "# model = Sequential()\n",
    "# model.add(Dense(32, input_dim=784))\n",
    "# model.add(Activation('relu'))\n",
    "\n",
    "###\n",
    "\n",
    "# https://keras.io/layers/core/\n",
    "\n",
    "# keras.layers.Dense(units, activation=None, use_bias=True, kernel_initializer='glorot_uniform', \n",
    "# bias_initializer='zeros', kernel_regularizer=None, bias_regularizer=None, activity_regularizer=None, \n",
    "# kernel_constraint=None, bias_constraint=None)\n",
    "\n",
    "# Dense implements the operation: output = activation(dot(input, kernel) + bias) where\n",
    "# activation is the element-wise activation function passed as the activation argument, \n",
    "# kernel is a weights matrix created by the layer, and \n",
    "# bias is a bias vector created by the layer (only applicable if use_bias is True).\n",
    "\n",
    "# output = activation(dot(input, kernel) + bias)  => y = activation(WT. X + b)\n",
    "\n",
    "####\n",
    "\n",
    "# https://keras.io/activations/\n",
    "\n",
    "# Activations can either be used through an Activation layer, or through the activation argument supported by all forward layers:\n",
    "\n",
    "# from keras.layers import Activation, Dense\n",
    "\n",
    "# model.add(Dense(64))\n",
    "# model.add(Activation('tanh'))\n",
    "\n",
    "# This is equivalent to:\n",
    "# model.add(Dense(64, activation='tanh'))\n",
    "\n",
    "# there are many activation functions ar available ex: tanh, relu, softmax\n",
    "\n",
    "\n",
    "from keras.models import Sequential \n",
    "from keras.layers import Dense, Activation \n"
   ]
  },
  {
   "cell_type": "code",
   "execution_count": 0,
   "metadata": {
    "colab": {},
    "colab_type": "code",
    "id": "I0s7jzhVQKbn"
   },
   "outputs": [],
   "source": [
    "# some model parameters\n",
    "\n",
    "output_dim = 10\n",
    "input_dim = X_train.shape[1]\n",
    "\n",
    "batch_size = 128 \n",
    "nb_epoch = 20"
   ]
  },
  {
   "cell_type": "code",
   "execution_count": 0,
   "metadata": {
    "colab": {},
    "colab_type": "code",
    "id": "HdQg5wGDQKbr"
   },
   "outputs": [],
   "source": [
    "# start building a model\n",
    "model = Sequential()\n",
    "\n",
    "# The model needs to know what input shape it should expect. \n",
    "# For this reason, the first layer in a Sequential model \n",
    "# (and only the first, because following layers can do automatic shape inference)\n",
    "# needs to receive information about its input shape. \n",
    "# you can use input_shape and input_dim to pass the shape of input\n",
    "\n",
    "# output_dim represent the number of nodes need in that layer\n",
    "# here we have 10 nodes\n",
    "\n",
    "model.add(Dense(output_dim, input_dim=input_dim, activation='softmax'))"
   ]
  },
  {
   "cell_type": "code",
   "execution_count": 38,
   "metadata": {
    "colab": {
     "base_uri": "https://localhost:8080/",
     "height": 734
    },
    "colab_type": "code",
    "executionInfo": {
     "elapsed": 22559,
     "status": "ok",
     "timestamp": 1589191087254,
     "user": {
      "displayName": "Mrunal Joshi",
      "photoUrl": "https://lh3.googleusercontent.com/a-/AOh14Gh4sfZImbcxfrP7hFTSOEyBzhAb07jp3pSecuCbeQ=s64",
      "userId": "04128114986664828555"
     },
     "user_tz": -330
    },
    "id": "EVA11VpmQKbt",
    "outputId": "f32da0cb-f59d-4982-e498-3571beb46549"
   },
   "outputs": [
    {
     "name": "stdout",
     "output_type": "stream",
     "text": [
      "Train on 60000 samples, validate on 10000 samples\n",
      "Epoch 1/20\n",
      "60000/60000 [==============================] - 1s 20us/step - loss: 1.2820 - accuracy: 0.6973 - val_loss: 0.8108 - val_accuracy: 0.8318\n",
      "Epoch 2/20\n",
      "60000/60000 [==============================] - 1s 17us/step - loss: 0.7153 - accuracy: 0.8399 - val_loss: 0.6077 - val_accuracy: 0.8622\n",
      "Epoch 3/20\n",
      "60000/60000 [==============================] - 1s 18us/step - loss: 0.5869 - accuracy: 0.8600 - val_loss: 0.5259 - val_accuracy: 0.8740\n",
      "Epoch 4/20\n",
      "60000/60000 [==============================] - 1s 17us/step - loss: 0.5253 - accuracy: 0.8691 - val_loss: 0.4805 - val_accuracy: 0.8810\n",
      "Epoch 5/20\n",
      "60000/60000 [==============================] - 1s 18us/step - loss: 0.4877 - accuracy: 0.8758 - val_loss: 0.4511 - val_accuracy: 0.8857\n",
      "Epoch 6/20\n",
      "60000/60000 [==============================] - 1s 17us/step - loss: 0.4619 - accuracy: 0.8804 - val_loss: 0.4292 - val_accuracy: 0.8888\n",
      "Epoch 7/20\n",
      "60000/60000 [==============================] - 1s 18us/step - loss: 0.4427 - accuracy: 0.8835 - val_loss: 0.4131 - val_accuracy: 0.8917\n",
      "Epoch 8/20\n",
      "60000/60000 [==============================] - 1s 18us/step - loss: 0.4278 - accuracy: 0.8868 - val_loss: 0.4001 - val_accuracy: 0.8943\n",
      "Epoch 9/20\n",
      "60000/60000 [==============================] - 1s 18us/step - loss: 0.4157 - accuracy: 0.8892 - val_loss: 0.3898 - val_accuracy: 0.8970\n",
      "Epoch 10/20\n",
      "60000/60000 [==============================] - 1s 17us/step - loss: 0.4057 - accuracy: 0.8916 - val_loss: 0.3812 - val_accuracy: 0.8977\n",
      "Epoch 11/20\n",
      "60000/60000 [==============================] - 1s 18us/step - loss: 0.3973 - accuracy: 0.8931 - val_loss: 0.3738 - val_accuracy: 0.9001\n",
      "Epoch 12/20\n",
      "60000/60000 [==============================] - 1s 17us/step - loss: 0.3900 - accuracy: 0.8949 - val_loss: 0.3676 - val_accuracy: 0.9009\n",
      "Epoch 13/20\n",
      "60000/60000 [==============================] - 1s 17us/step - loss: 0.3837 - accuracy: 0.8959 - val_loss: 0.3618 - val_accuracy: 0.9030\n",
      "Epoch 14/20\n",
      "60000/60000 [==============================] - 1s 17us/step - loss: 0.3780 - accuracy: 0.8975 - val_loss: 0.3568 - val_accuracy: 0.9038\n",
      "Epoch 15/20\n",
      "60000/60000 [==============================] - 1s 17us/step - loss: 0.3730 - accuracy: 0.8986 - val_loss: 0.3526 - val_accuracy: 0.9050\n",
      "Epoch 16/20\n",
      "60000/60000 [==============================] - 1s 18us/step - loss: 0.3685 - accuracy: 0.8993 - val_loss: 0.3488 - val_accuracy: 0.9059\n",
      "Epoch 17/20\n",
      "60000/60000 [==============================] - 1s 17us/step - loss: 0.3644 - accuracy: 0.9001 - val_loss: 0.3449 - val_accuracy: 0.9063\n",
      "Epoch 18/20\n",
      "60000/60000 [==============================] - 1s 18us/step - loss: 0.3607 - accuracy: 0.9006 - val_loss: 0.3417 - val_accuracy: 0.9076\n",
      "Epoch 19/20\n",
      "60000/60000 [==============================] - 1s 17us/step - loss: 0.3572 - accuracy: 0.9017 - val_loss: 0.3387 - val_accuracy: 0.9085\n",
      "Epoch 20/20\n",
      "60000/60000 [==============================] - 1s 17us/step - loss: 0.3541 - accuracy: 0.9023 - val_loss: 0.3358 - val_accuracy: 0.9100\n"
     ]
    }
   ],
   "source": [
    "# Before training a model, you need to configure the learning process, which is done via the compile method\n",
    "\n",
    "# It receives three arguments:\n",
    "# An optimizer. This could be the string identifier of an existing optimizer , https://keras.io/optimizers/\n",
    "# A loss function. This is the objective that the model will try to minimize., https://keras.io/losses/\n",
    "# A list of metrics. For any classification problem you will want to set this to metrics=['accuracy'].  https://keras.io/metrics/\n",
    "\n",
    "\n",
    "# Note: when using the categorical_crossentropy loss, your targets should be in categorical format \n",
    "# (e.g. if you have 10 classes, the target for each sample should be a 10-dimensional vector that is all-zeros except \n",
    "# for a 1 at the index corresponding to the class of the sample).\n",
    "\n",
    "# that is why we converted out labels into vectors\n",
    "\n",
    "model.compile(optimizer='sgd', loss='categorical_crossentropy', metrics=['accuracy'])\n",
    "\n",
    "# Keras models are trained on Numpy arrays of input data and labels. \n",
    "# For training a model, you will typically use the  fit function\n",
    "\n",
    "# fit(self, x=None, y=None, batch_size=None, epochs=1, verbose=1, callbacks=None, validation_split=0.0, \n",
    "# validation_data=None, shuffle=True, class_weight=None, sample_weight=None, initial_epoch=0, steps_per_epoch=None, \n",
    "# validation_steps=None)\n",
    "\n",
    "# fit() function Trains the model for a fixed number of epochs (iterations on a dataset).\n",
    "\n",
    "# it returns A History object. Its History.history attribute is a record of training loss values and \n",
    "# metrics values at successive epochs, as well as validation loss values and validation metrics values (if applicable).\n",
    "\n",
    "# https://github.com/openai/baselines/issues/20\n",
    "\n",
    "history = model.fit(X_train, Y_train, batch_size=batch_size, epochs=nb_epoch, verbose=1, validation_data=(X_test, Y_test)) \n"
   ]
  },
  {
   "cell_type": "code",
   "execution_count": 58,
   "metadata": {
    "colab": {
     "base_uri": "https://localhost:8080/",
     "height": 329
    },
    "colab_type": "code",
    "executionInfo": {
     "elapsed": 1734,
     "status": "ok",
     "timestamp": 1589192208757,
     "user": {
      "displayName": "Mrunal Joshi",
      "photoUrl": "https://lh3.googleusercontent.com/a-/AOh14Gh4sfZImbcxfrP7hFTSOEyBzhAb07jp3pSecuCbeQ=s64",
      "userId": "04128114986664828555"
     },
     "user_tz": -330
    },
    "id": "HNpwTMHcQKbw",
    "outputId": "5684a885-f7bb-4566-9ef3-fd119ddfc599"
   },
   "outputs": [
    {
     "name": "stdout",
     "output_type": "stream",
     "text": [
      "Test score: 0.33579891421794894\n",
      "Test accuracy: 0.9100000262260437\n"
     ]
    },
    {
     "data": {
      "image/png": "[encoded data removed]",
      "text/plain": [
       "<Figure size 432x288 with 1 Axes>"
      ]
     },
     "metadata": {
      "needs_background": "light",
      "tags": []
     },
     "output_type": "display_data"
    }
   ],
   "source": [
    "score = model.evaluate(X_test, Y_test, verbose=0) \n",
    "print('Test score:', score[0]) \n",
    "print('Test accuracy:', score[1])\n",
    "\n",
    "#fig,ax = plt.subplots(1,1)\n",
    "#ax.set_xlabel('epoch') ; ax.set_ylabel('Categorical Crossentropy Loss')\n",
    "\n",
    "# list of epoch numbers\n",
    "x = list(range(1,nb_epoch+1))\n",
    "\n",
    "# print(history.history.keys())\n",
    "# dict_keys(['val_loss', 'val_acc', 'loss', 'acc'])\n",
    "# history = model_drop.fit(X_train, Y_train, batch_size=batch_size, epochs=nb_epoch, verbose=1, validation_data=(X_test, Y_test))\n",
    "\n",
    "# we will get val_loss and val_acc only when you pass the paramter validation_data\n",
    "# val_loss : validation loss\n",
    "# val_acc : validation accuracy\n",
    "\n",
    "# loss : training loss\n",
    "# acc : train accuracy\n",
    "# for each key in histrory.histrory we will have a list of length equal to number of epochs\n",
    "\n",
    "vy = history.history['val_loss']\n",
    "ty = history.history['loss']\n",
    "#plt_dynamic(x, vy, ty, ax)\n",
    "\n",
    "plt.plot(vy)\n",
    "plt.plot(ty)\n",
    "plt.title('model loss')\n",
    "plt.title('model loss')\n",
    "plt.ylabel('loss')\n",
    "plt.xlabel('epoch')\n",
    "plt.legend(['train', 'test'], loc='upper right')\n",
    "plt.show()"
   ]
  },
  {
   "cell_type": "markdown",
   "metadata": {
    "colab_type": "text",
    "id": "eh4VWYrHQKbz"
   },
   "source": [
    " <h3>  MLP + Sigmoid activation + SGDOptimizer </h3>"
   ]
  },
  {
   "cell_type": "code",
   "execution_count": 59,
   "metadata": {
    "colab": {
     "base_uri": "https://localhost:8080/",
     "height": 255
    },
    "colab_type": "code",
    "executionInfo": {
     "elapsed": 1319,
     "status": "ok",
     "timestamp": 1589192369281,
     "user": {
      "displayName": "Mrunal Joshi",
      "photoUrl": "https://lh3.googleusercontent.com/a-/AOh14Gh4sfZImbcxfrP7hFTSOEyBzhAb07jp3pSecuCbeQ=s64",
      "userId": "04128114986664828555"
     },
     "user_tz": -330
    },
    "id": "7rzbngqHQKbz",
    "outputId": "bd20b0bb-948c-4195-9fcc-3b0b92b89573"
   },
   "outputs": [
    {
     "name": "stdout",
     "output_type": "stream",
     "text": [
      "Model: \"sequential_6\"\n",
      "_________________________________________________________________\n",
      "Layer (type)                 Output Shape              Param #   \n",
      "=================================================================\n",
      "dense_10 (Dense)             (None, 512)               401920    \n",
      "_________________________________________________________________\n",
      "dense_11 (Dense)             (None, 128)               65664     \n",
      "_________________________________________________________________\n",
      "dense_12 (Dense)             (None, 10)                1290      \n",
      "=================================================================\n",
      "Total params: 468,874\n",
      "Trainable params: 468,874\n",
      "Non-trainable params: 0\n",
      "_________________________________________________________________\n"
     ]
    }
   ],
   "source": [
    "# Multilayer perceptron\n",
    "\n",
    "model_sigmoid = Sequential()\n",
    "model_sigmoid.add(Dense(512, activation='sigmoid', input_shape=(input_dim,)))\n",
    "model_sigmoid.add(Dense(128, activation='sigmoid'))\n",
    "model_sigmoid.add(Dense(output_dim, activation='softmax'))\n",
    "\n",
    "model_sigmoid.summary()"
   ]
  },
  {
   "cell_type": "code",
   "execution_count": 60,
   "metadata": {
    "colab": {
     "base_uri": "https://localhost:8080/",
     "height": 734
    },
    "colab_type": "code",
    "executionInfo": {
     "elapsed": 75796,
     "status": "ok",
     "timestamp": 1589192450910,
     "user": {
      "displayName": "Mrunal Joshi",
      "photoUrl": "https://lh3.googleusercontent.com/a-/AOh14Gh4sfZImbcxfrP7hFTSOEyBzhAb07jp3pSecuCbeQ=s64",
      "userId": "04128114986664828555"
     },
     "user_tz": -330
    },
    "id": "48vVImSpQKb5",
    "outputId": "f19ca3ed-8643-47f8-d7cc-91a788bbe15a"
   },
   "outputs": [
    {
     "name": "stdout",
     "output_type": "stream",
     "text": [
      "Train on 60000 samples, validate on 10000 samples\n",
      "Epoch 1/20\n",
      "60000/60000 [==============================] - 4s 69us/step - loss: 2.2682 - accuracy: 0.2163 - val_loss: 2.2241 - val_accuracy: 0.4215\n",
      "Epoch 2/20\n",
      "60000/60000 [==============================] - 4s 62us/step - loss: 2.1807 - accuracy: 0.4447 - val_loss: 2.1294 - val_accuracy: 0.5849\n",
      "Epoch 3/20\n",
      "60000/60000 [==============================] - 4s 61us/step - loss: 2.0687 - accuracy: 0.5701 - val_loss: 1.9926 - val_accuracy: 0.5825\n",
      "Epoch 4/20\n",
      "60000/60000 [==============================] - 4s 60us/step - loss: 1.9086 - accuracy: 0.6290 - val_loss: 1.8025 - val_accuracy: 0.6540\n",
      "Epoch 5/20\n",
      "60000/60000 [==============================] - 4s 61us/step - loss: 1.6962 - accuracy: 0.6679 - val_loss: 1.5684 - val_accuracy: 0.6930\n",
      "Epoch 6/20\n",
      "60000/60000 [==============================] - 4s 62us/step - loss: 1.4617 - accuracy: 0.7090 - val_loss: 1.3366 - val_accuracy: 0.7431\n",
      "Epoch 7/20\n",
      "60000/60000 [==============================] - 4s 61us/step - loss: 1.2489 - accuracy: 0.7422 - val_loss: 1.1445 - val_accuracy: 0.7763\n",
      "Epoch 8/20\n",
      "60000/60000 [==============================] - 4s 62us/step - loss: 1.0799 - accuracy: 0.7717 - val_loss: 0.9961 - val_accuracy: 0.7962\n",
      "Epoch 9/20\n",
      "60000/60000 [==============================] - 4s 63us/step - loss: 0.9515 - accuracy: 0.7919 - val_loss: 0.8849 - val_accuracy: 0.8122\n",
      "Epoch 10/20\n",
      "60000/60000 [==============================] - 4s 62us/step - loss: 0.8533 - accuracy: 0.8074 - val_loss: 0.7978 - val_accuracy: 0.8196\n",
      "Epoch 11/20\n",
      "60000/60000 [==============================] - 4s 62us/step - loss: 0.7769 - accuracy: 0.8196 - val_loss: 0.7293 - val_accuracy: 0.8307\n",
      "Epoch 12/20\n",
      "60000/60000 [==============================] - 4s 62us/step - loss: 0.7159 - accuracy: 0.8303 - val_loss: 0.6744 - val_accuracy: 0.8403\n",
      "Epoch 13/20\n",
      "60000/60000 [==============================] - 4s 62us/step - loss: 0.6665 - accuracy: 0.8385 - val_loss: 0.6290 - val_accuracy: 0.8506\n",
      "Epoch 14/20\n",
      "60000/60000 [==============================] - 4s 62us/step - loss: 0.6257 - accuracy: 0.8461 - val_loss: 0.5915 - val_accuracy: 0.8559\n",
      "Epoch 15/20\n",
      "60000/60000 [==============================] - 4s 62us/step - loss: 0.5916 - accuracy: 0.8524 - val_loss: 0.5604 - val_accuracy: 0.8617\n",
      "Epoch 16/20\n",
      "60000/60000 [==============================] - 4s 61us/step - loss: 0.5629 - accuracy: 0.8574 - val_loss: 0.5337 - val_accuracy: 0.8643\n",
      "Epoch 17/20\n",
      "60000/60000 [==============================] - 4s 62us/step - loss: 0.5384 - accuracy: 0.8624 - val_loss: 0.5101 - val_accuracy: 0.8701\n",
      "Epoch 18/20\n",
      "60000/60000 [==============================] - 4s 64us/step - loss: 0.5172 - accuracy: 0.8657 - val_loss: 0.4908 - val_accuracy: 0.8739\n",
      "Epoch 19/20\n",
      "60000/60000 [==============================] - 4s 62us/step - loss: 0.4988 - accuracy: 0.8695 - val_loss: 0.4732 - val_accuracy: 0.8756\n",
      "Epoch 20/20\n",
      "60000/60000 [==============================] - 4s 63us/step - loss: 0.4825 - accuracy: 0.8719 - val_loss: 0.4580 - val_accuracy: 0.8800\n"
     ]
    }
   ],
   "source": [
    "model_sigmoid.compile(optimizer='sgd', loss='categorical_crossentropy', metrics=['accuracy'])\n",
    "\n",
    "history = model_sigmoid.fit(X_train, Y_train, batch_size=batch_size, epochs=nb_epoch, verbose=1, validation_data=(X_test, Y_test))"
   ]
  },
  {
   "cell_type": "code",
   "execution_count": 62,
   "metadata": {
    "colab": {
     "base_uri": "https://localhost:8080/",
     "height": 329
    },
    "colab_type": "code",
    "executionInfo": {
     "elapsed": 1784,
     "status": "ok",
     "timestamp": 1589192476273,
     "user": {
      "displayName": "Mrunal Joshi",
      "photoUrl": "https://lh3.googleusercontent.com/a-/AOh14Gh4sfZImbcxfrP7hFTSOEyBzhAb07jp3pSecuCbeQ=s64",
      "userId": "04128114986664828555"
     },
     "user_tz": -330
    },
    "id": "6ffjzr8hQKb8",
    "outputId": "44d64608-475e-4392-91d9-c331bcbf9a3d"
   },
   "outputs": [
    {
     "name": "stdout",
     "output_type": "stream",
     "text": [
      "Test score: 0.45796136536598203\n",
      "Test accuracy: 0.8799999952316284\n"
     ]
    },
    {
     "data": {
      "image/png": "[encoded data removed]",
      "text/plain": [
       "<Figure size 432x288 with 1 Axes>"
      ]
     },
     "metadata": {
      "needs_background": "light",
      "tags": []
     },
     "output_type": "display_data"
    }
   ],
   "source": [
    "score = model_sigmoid.evaluate(X_test, Y_test, verbose=0) \n",
    "print('Test score:', score[0]) \n",
    "print('Test accuracy:', score[1])\n",
    "\n",
    "x = list(range(1,nb_epoch+1))\n",
    "\n",
    "vy = history.history['val_loss']\n",
    "ty = history.history['loss']\n",
    "plt.plot(vy)\n",
    "plt.plot(ty)\n",
    "plt.title('model loss')\n",
    "plt.title('model loss')\n",
    "plt.ylabel('loss')\n",
    "plt.xlabel('epoch')\n",
    "plt.legend(['train', 'test'], loc='upper right')\n",
    "plt.grid()\n",
    "plt.show()"
   ]
  },
  {
   "cell_type": "code",
   "execution_count": 63,
   "metadata": {
    "colab": {
     "base_uri": "https://localhost:8080/",
     "height": 285
    },
    "colab_type": "code",
    "executionInfo": {
     "elapsed": 3579,
     "status": "ok",
     "timestamp": 1589192505826,
     "user": {
      "displayName": "Mrunal Joshi",
      "photoUrl": "https://lh3.googleusercontent.com/a-/AOh14Gh4sfZImbcxfrP7hFTSOEyBzhAb07jp3pSecuCbeQ=s64",
      "userId": "04128114986664828555"
     },
     "user_tz": -330
    },
    "id": "Ejn01XXdQKb-",
    "outputId": "f35d7399-f5b8-4714-d18f-dedb9ef0155a"
   },
   "outputs": [
    {
     "data": {
      "image/png": "[encoded data removed]",
      "text/plain": [
       "<Figure size 432x288 with 3 Axes>"
      ]
     },
     "metadata": {
      "needs_background": "light",
      "tags": []
     },
     "output_type": "display_data"
    }
   ],
   "source": [
    "w_after = model_sigmoid.get_weights()\n",
    "\n",
    "h1_w = w_after[0].flatten().reshape(-1,1)\n",
    "h2_w = w_after[2].flatten().reshape(-1,1)\n",
    "out_w = w_after[4].flatten().reshape(-1,1)\n",
    "\n",
    "\n",
    "fig = plt.figure()\n",
    "plt.title(\"Weight matrices after model trained\")\n",
    "plt.subplot(1, 3, 1)\n",
    "plt.title(\"Trained model Weights\")\n",
    "ax = sns.violinplot(y=h1_w,color='b')\n",
    "plt.xlabel('Hidden Layer 1')\n",
    "\n",
    "plt.subplot(1, 3, 2)\n",
    "plt.title(\"Trained model Weights\")\n",
    "ax = sns.violinplot(y=h2_w, color='r')\n",
    "plt.xlabel('Hidden Layer 2 ')\n",
    "\n",
    "plt.subplot(1, 3, 3)\n",
    "plt.title(\"Trained model Weights\")\n",
    "ax = sns.violinplot(y=out_w,color='y')\n",
    "plt.xlabel('Output Layer ')\n",
    "plt.show()"
   ]
  },
  {
   "cell_type": "markdown",
   "metadata": {
    "colab_type": "text",
    "id": "Wc8lxUadQXoQ"
   },
   "source": [
    "2 Layer"
   ]
  },
  {
   "cell_type": "code",
   "execution_count": 64,
   "metadata": {
    "colab": {
     "base_uri": "https://localhost:8080/",
     "height": 255
    },
    "colab_type": "code",
    "executionInfo": {
     "elapsed": 1171,
     "status": "ok",
     "timestamp": 1589192651246,
     "user": {
      "displayName": "Mrunal Joshi",
      "photoUrl": "https://lh3.googleusercontent.com/a-/AOh14Gh4sfZImbcxfrP7hFTSOEyBzhAb07jp3pSecuCbeQ=s64",
      "userId": "04128114986664828555"
     },
     "user_tz": -330
    },
    "id": "qfPJ7lfgQaup",
    "outputId": "e96fd762-746f-48ff-eaa8-24fb4d6b0778"
   },
   "outputs": [
    {
     "name": "stdout",
     "output_type": "stream",
     "text": [
      "Model: \"sequential_7\"\n",
      "_________________________________________________________________\n",
      "Layer (type)                 Output Shape              Param #   \n",
      "=================================================================\n",
      "dense_13 (Dense)             (None, 400)               314000    \n",
      "_________________________________________________________________\n",
      "dense_14 (Dense)             (None, 150)               60150     \n",
      "_________________________________________________________________\n",
      "dense_15 (Dense)             (None, 10)                1510      \n",
      "=================================================================\n",
      "Total params: 375,660\n",
      "Trainable params: 375,660\n",
      "Non-trainable params: 0\n",
      "_________________________________________________________________\n"
     ]
    }
   ],
   "source": [
    "model_sigmoid = Sequential()\n",
    "model_sigmoid.add(Dense(400, activation='sigmoid', input_shape=(input_dim,)))\n",
    "model_sigmoid.add(Dense(150, activation='sigmoid'))\n",
    "model_sigmoid.add(Dense(output_dim, activation='softmax'))\n",
    "\n",
    "model_sigmoid.summary()"
   ]
  },
  {
   "cell_type": "code",
   "execution_count": 65,
   "metadata": {
    "colab": {
     "base_uri": "https://localhost:8080/",
     "height": 734
    },
    "colab_type": "code",
    "executionInfo": {
     "elapsed": 67401,
     "status": "ok",
     "timestamp": 1589192722185,
     "user": {
      "displayName": "Mrunal Joshi",
      "photoUrl": "https://lh3.googleusercontent.com/a-/AOh14Gh4sfZImbcxfrP7hFTSOEyBzhAb07jp3pSecuCbeQ=s64",
      "userId": "04128114986664828555"
     },
     "user_tz": -330
    },
    "id": "siuJPttpQf4v",
    "outputId": "0cc27953-1ddb-4ff7-d6b2-3f4d0733392e"
   },
   "outputs": [
    {
     "name": "stdout",
     "output_type": "stream",
     "text": [
      "Train on 60000 samples, validate on 10000 samples\n",
      "Epoch 1/20\n",
      "60000/60000 [==============================] - 3s 57us/step - loss: 2.2676 - accuracy: 0.2213 - val_loss: 2.2253 - val_accuracy: 0.4040\n",
      "Epoch 2/20\n",
      "60000/60000 [==============================] - 3s 54us/step - loss: 2.1836 - accuracy: 0.4488 - val_loss: 2.1304 - val_accuracy: 0.4691\n",
      "Epoch 3/20\n",
      "60000/60000 [==============================] - 3s 54us/step - loss: 2.0736 - accuracy: 0.5670 - val_loss: 1.9969 - val_accuracy: 0.6288\n",
      "Epoch 4/20\n",
      "60000/60000 [==============================] - 3s 55us/step - loss: 1.9156 - accuracy: 0.6245 - val_loss: 1.8060 - val_accuracy: 0.6473\n",
      "Epoch 5/20\n",
      "60000/60000 [==============================] - 3s 56us/step - loss: 1.7032 - accuracy: 0.6619 - val_loss: 1.5699 - val_accuracy: 0.6783\n",
      "Epoch 6/20\n",
      "60000/60000 [==============================] - 3s 54us/step - loss: 1.4649 - accuracy: 0.6984 - val_loss: 1.3341 - val_accuracy: 0.7002\n",
      "Epoch 7/20\n",
      "60000/60000 [==============================] - 3s 56us/step - loss: 1.2473 - accuracy: 0.7300 - val_loss: 1.1360 - val_accuracy: 0.7625\n",
      "Epoch 8/20\n",
      "60000/60000 [==============================] - 3s 54us/step - loss: 1.0755 - accuracy: 0.7618 - val_loss: 0.9874 - val_accuracy: 0.7819\n",
      "Epoch 9/20\n",
      "60000/60000 [==============================] - 3s 57us/step - loss: 0.9470 - accuracy: 0.7843 - val_loss: 0.8779 - val_accuracy: 0.8013\n",
      "Epoch 10/20\n",
      "60000/60000 [==============================] - 3s 58us/step - loss: 0.8503 - accuracy: 0.8024 - val_loss: 0.7929 - val_accuracy: 0.8156\n",
      "Epoch 11/20\n",
      "60000/60000 [==============================] - 3s 57us/step - loss: 0.7751 - accuracy: 0.8149 - val_loss: 0.7273 - val_accuracy: 0.8264\n",
      "Epoch 12/20\n",
      "60000/60000 [==============================] - 3s 54us/step - loss: 0.7154 - accuracy: 0.8275 - val_loss: 0.6733 - val_accuracy: 0.8333\n",
      "Epoch 13/20\n",
      "60000/60000 [==============================] - 3s 54us/step - loss: 0.6670 - accuracy: 0.8359 - val_loss: 0.6295 - val_accuracy: 0.8473\n",
      "Epoch 14/20\n",
      "60000/60000 [==============================] - 3s 54us/step - loss: 0.6270 - accuracy: 0.8440 - val_loss: 0.5935 - val_accuracy: 0.8531\n",
      "Epoch 15/20\n",
      "60000/60000 [==============================] - 3s 53us/step - loss: 0.5935 - accuracy: 0.8508 - val_loss: 0.5635 - val_accuracy: 0.8566\n",
      "Epoch 16/20\n",
      "60000/60000 [==============================] - 3s 54us/step - loss: 0.5652 - accuracy: 0.8559 - val_loss: 0.5378 - val_accuracy: 0.8617\n",
      "Epoch 17/20\n",
      "60000/60000 [==============================] - 3s 54us/step - loss: 0.5412 - accuracy: 0.8608 - val_loss: 0.5152 - val_accuracy: 0.8655\n",
      "Epoch 18/20\n",
      "60000/60000 [==============================] - 3s 54us/step - loss: 0.5203 - accuracy: 0.8649 - val_loss: 0.4950 - val_accuracy: 0.8692\n",
      "Epoch 19/20\n",
      "60000/60000 [==============================] - 3s 55us/step - loss: 0.5021 - accuracy: 0.8679 - val_loss: 0.4781 - val_accuracy: 0.8739\n",
      "Epoch 20/20\n",
      "60000/60000 [==============================] - 3s 56us/step - loss: 0.4862 - accuracy: 0.8715 - val_loss: 0.4634 - val_accuracy: 0.8779\n"
     ]
    }
   ],
   "source": [
    "model_sigmoid.compile(optimizer='sgd', loss='categorical_crossentropy', metrics=['accuracy'])\n",
    "\n",
    "history = model_sigmoid.fit(X_train, Y_train, batch_size=batch_size, epochs=nb_epoch, verbose=1, validation_data=(X_test, Y_test))"
   ]
  },
  {
   "cell_type": "code",
   "execution_count": 66,
   "metadata": {
    "colab": {
     "base_uri": "https://localhost:8080/",
     "height": 329
    },
    "colab_type": "code",
    "executionInfo": {
     "elapsed": 1752,
     "status": "ok",
     "timestamp": 1589192723964,
     "user": {
      "displayName": "Mrunal Joshi",
      "photoUrl": "https://lh3.googleusercontent.com/a-/AOh14Gh4sfZImbcxfrP7hFTSOEyBzhAb07jp3pSecuCbeQ=s64",
      "userId": "04128114986664828555"
     },
     "user_tz": -330
    },
    "id": "VeSD5wPgQniS",
    "outputId": "745e2f98-40ac-4cab-e27b-520159dd44b7"
   },
   "outputs": [
    {
     "name": "stdout",
     "output_type": "stream",
     "text": [
      "Test score: 0.4634163727045059\n",
      "Test accuracy: 0.8779000043869019\n"
     ]
    },
    {
     "data": {
      "image/png": "[encoded data removed]",
      "text/plain": [
       "<Figure size 432x288 with 1 Axes>"
      ]
     },
     "metadata": {
      "needs_background": "light",
      "tags": []
     },
     "output_type": "display_data"
    }
   ],
   "source": [
    "score = model_sigmoid.evaluate(X_test, Y_test, verbose=0) \n",
    "print('Test score:', score[0]) \n",
    "print('Test accuracy:', score[1])\n",
    "\n",
    "x = list(range(1,nb_epoch+1))\n",
    "\n",
    "vy = history.history['val_loss']\n",
    "ty = history.history['loss']\n",
    "plt.plot(vy)\n",
    "plt.plot(ty)\n",
    "plt.title('model loss')\n",
    "plt.title('model loss')\n",
    "plt.ylabel('loss')\n",
    "plt.xlabel('epoch')\n",
    "plt.legend(['train', 'test'], loc='upper right')\n",
    "plt.grid()\n",
    "plt.show()"
   ]
  },
  {
   "cell_type": "markdown",
   "metadata": {
    "colab_type": "text",
    "id": "mKsO3OjTRW_6"
   },
   "source": [
    "3 Layer"
   ]
  },
  {
   "cell_type": "code",
   "execution_count": 68,
   "metadata": {
    "colab": {
     "base_uri": "https://localhost:8080/",
     "height": 289
    },
    "colab_type": "code",
    "executionInfo": {
     "elapsed": 1203,
     "status": "ok",
     "timestamp": 1589192880523,
     "user": {
      "displayName": "Mrunal Joshi",
      "photoUrl": "https://lh3.googleusercontent.com/a-/AOh14Gh4sfZImbcxfrP7hFTSOEyBzhAb07jp3pSecuCbeQ=s64",
      "userId": "04128114986664828555"
     },
     "user_tz": -330
    },
    "id": "hlAx3l3oRY_A",
    "outputId": "66bb2893-70b1-4d1e-ef95-70f735e37b6d"
   },
   "outputs": [
    {
     "name": "stdout",
     "output_type": "stream",
     "text": [
      "Model: \"sequential_9\"\n",
      "_________________________________________________________________\n",
      "Layer (type)                 Output Shape              Param #   \n",
      "=================================================================\n",
      "dense_19 (Dense)             (None, 512)               401920    \n",
      "_________________________________________________________________\n",
      "dense_20 (Dense)             (None, 240)               123120    \n",
      "_________________________________________________________________\n",
      "dense_21 (Dense)             (None, 100)               24100     \n",
      "_________________________________________________________________\n",
      "dense_22 (Dense)             (None, 10)                1010      \n",
      "=================================================================\n",
      "Total params: 550,150\n",
      "Trainable params: 550,150\n",
      "Non-trainable params: 0\n",
      "_________________________________________________________________\n"
     ]
    }
   ],
   "source": [
    "model_sigmoid = Sequential()\n",
    "model_sigmoid.add(Dense(512, activation='sigmoid', input_shape=(input_dim,)))\n",
    "model_sigmoid.add(Dense(240, activation='sigmoid'))\n",
    "model_sigmoid.add(Dense(100, activation='sigmoid'))\n",
    "model_sigmoid.add(Dense(output_dim, activation='softmax'))\n",
    "\n",
    "model_sigmoid.summary()"
   ]
  },
  {
   "cell_type": "code",
   "execution_count": 69,
   "metadata": {
    "colab": {
     "base_uri": "https://localhost:8080/",
     "height": 734
    },
    "colab_type": "code",
    "executionInfo": {
     "elapsed": 91531,
     "status": "ok",
     "timestamp": 1589192977901,
     "user": {
      "displayName": "Mrunal Joshi",
      "photoUrl": "https://lh3.googleusercontent.com/a-/AOh14Gh4sfZImbcxfrP7hFTSOEyBzhAb07jp3pSecuCbeQ=s64",
      "userId": "04128114986664828555"
     },
     "user_tz": -330
    },
    "id": "XbEDMGTRRaCp",
    "outputId": "57dc6c48-a571-4980-9545-55a6924bc43e"
   },
   "outputs": [
    {
     "name": "stdout",
     "output_type": "stream",
     "text": [
      "Train on 60000 samples, validate on 10000 samples\n",
      "Epoch 1/20\n",
      "60000/60000 [==============================] - 5s 76us/step - loss: 2.3109 - accuracy: 0.1166 - val_loss: 2.2945 - val_accuracy: 0.1135\n",
      "Epoch 2/20\n",
      "60000/60000 [==============================] - 4s 74us/step - loss: 2.2918 - accuracy: 0.1245 - val_loss: 2.2879 - val_accuracy: 0.1137\n",
      "Epoch 3/20\n",
      "60000/60000 [==============================] - 4s 75us/step - loss: 2.2853 - accuracy: 0.1332 - val_loss: 2.2805 - val_accuracy: 0.1135\n",
      "Epoch 4/20\n",
      "60000/60000 [==============================] - 4s 75us/step - loss: 2.2776 - accuracy: 0.1434 - val_loss: 2.2724 - val_accuracy: 0.1141\n",
      "Epoch 5/20\n",
      "60000/60000 [==============================] - 5s 75us/step - loss: 2.2689 - accuracy: 0.1738 - val_loss: 2.2620 - val_accuracy: 0.1437\n",
      "Epoch 6/20\n",
      "60000/60000 [==============================] - 5s 75us/step - loss: 2.2577 - accuracy: 0.2232 - val_loss: 2.2499 - val_accuracy: 0.1981\n",
      "Epoch 7/20\n",
      "60000/60000 [==============================] - 5s 76us/step - loss: 2.2436 - accuracy: 0.2729 - val_loss: 2.2336 - val_accuracy: 0.3207\n",
      "Epoch 8/20\n",
      "60000/60000 [==============================] - 5s 75us/step - loss: 2.2241 - accuracy: 0.3336 - val_loss: 2.2097 - val_accuracy: 0.4230\n",
      "Epoch 9/20\n",
      "60000/60000 [==============================] - 4s 75us/step - loss: 2.1973 - accuracy: 0.3845 - val_loss: 2.1772 - val_accuracy: 0.4319\n",
      "Epoch 10/20\n",
      "60000/60000 [==============================] - 5s 75us/step - loss: 2.1576 - accuracy: 0.4139 - val_loss: 2.1281 - val_accuracy: 0.4738\n",
      "Epoch 11/20\n",
      "60000/60000 [==============================] - 5s 75us/step - loss: 2.0978 - accuracy: 0.4379 - val_loss: 2.0534 - val_accuracy: 0.5227\n",
      "Epoch 12/20\n",
      "60000/60000 [==============================] - 5s 76us/step - loss: 2.0089 - accuracy: 0.4692 - val_loss: 1.9457 - val_accuracy: 0.4634\n",
      "Epoch 13/20\n",
      "60000/60000 [==============================] - 5s 75us/step - loss: 1.8878 - accuracy: 0.4939 - val_loss: 1.8099 - val_accuracy: 0.5175\n",
      "Epoch 14/20\n",
      "60000/60000 [==============================] - 5s 75us/step - loss: 1.7461 - accuracy: 0.5272 - val_loss: 1.6631 - val_accuracy: 0.5117\n",
      "Epoch 15/20\n",
      "60000/60000 [==============================] - 5s 76us/step - loss: 1.6031 - accuracy: 0.5558 - val_loss: 1.5236 - val_accuracy: 0.5608\n",
      "Epoch 16/20\n",
      "60000/60000 [==============================] - 4s 74us/step - loss: 1.4727 - accuracy: 0.5858 - val_loss: 1.4009 - val_accuracy: 0.5872\n",
      "Epoch 17/20\n",
      "60000/60000 [==============================] - 4s 75us/step - loss: 1.3583 - accuracy: 0.6111 - val_loss: 1.2928 - val_accuracy: 0.6146\n",
      "Epoch 18/20\n",
      "60000/60000 [==============================] - 5s 75us/step - loss: 1.2558 - accuracy: 0.6349 - val_loss: 1.1947 - val_accuracy: 0.6504\n",
      "Epoch 19/20\n",
      "60000/60000 [==============================] - 4s 75us/step - loss: 1.1624 - accuracy: 0.6590 - val_loss: 1.1065 - val_accuracy: 0.6580\n",
      "Epoch 20/20\n",
      "60000/60000 [==============================] - 5s 75us/step - loss: 1.0787 - accuracy: 0.6789 - val_loss: 1.0289 - val_accuracy: 0.6908\n"
     ]
    }
   ],
   "source": [
    "model_sigmoid.compile(optimizer='sgd', loss='categorical_crossentropy', metrics=['accuracy'])\n",
    "\n",
    "history = model_sigmoid.fit(X_train, Y_train, batch_size=batch_size, epochs=nb_epoch, verbose=1, validation_data=(X_test, Y_test))"
   ]
  },
  {
   "cell_type": "code",
   "execution_count": 70,
   "metadata": {
    "colab": {
     "base_uri": "https://localhost:8080/",
     "height": 329
    },
    "colab_type": "code",
    "executionInfo": {
     "elapsed": 1933,
     "status": "ok",
     "timestamp": 1589192979870,
     "user": {
      "displayName": "Mrunal Joshi",
      "photoUrl": "https://lh3.googleusercontent.com/a-/AOh14Gh4sfZImbcxfrP7hFTSOEyBzhAb07jp3pSecuCbeQ=s64",
      "userId": "04128114986664828555"
     },
     "user_tz": -330
    },
    "id": "Vju8N96YRdsP",
    "outputId": "e1c9f711-883e-4939-d3c3-6c051a5617d6"
   },
   "outputs": [
    {
     "name": "stdout",
     "output_type": "stream",
     "text": [
      "Test score: 1.0288551973342897\n",
      "Test accuracy: 0.6908000111579895\n"
     ]
    },
    {
     "data": {
      "image/png": "[encoded data removed]",
      "text/plain": [
       "<Figure size 432x288 with 1 Axes>"
      ]
     },
     "metadata": {
      "needs_background": "light",
      "tags": []
     },
     "output_type": "display_data"
    }
   ],
   "source": [
    "score = model_sigmoid.evaluate(X_test, Y_test, verbose=0) \n",
    "print('Test score:', score[0]) \n",
    "print('Test accuracy:', score[1])\n",
    "\n",
    "x = list(range(1,nb_epoch+1))\n",
    "\n",
    "vy = history.history['val_loss']\n",
    "ty = history.history['loss']\n",
    "plt.plot(vy)\n",
    "plt.plot(ty)\n",
    "plt.title('model loss')\n",
    "plt.title('model loss')\n",
    "plt.ylabel('loss')\n",
    "plt.xlabel('epoch')\n",
    "plt.legend(['train', 'test'], loc='upper right')\n",
    "plt.grid()\n",
    "plt.show()"
   ]
  },
  {
   "cell_type": "markdown",
   "metadata": {
    "colab_type": "text",
    "id": "t2KZb90mR0Ir"
   },
   "source": [
    "  5 Layer"
   ]
  },
  {
   "cell_type": "code",
   "execution_count": 71,
   "metadata": {
    "colab": {
     "base_uri": "https://localhost:8080/",
     "height": 357
    },
    "colab_type": "code",
    "executionInfo": {
     "elapsed": 1237,
     "status": "ok",
     "timestamp": 1589193026408,
     "user": {
      "displayName": "Mrunal Joshi",
      "photoUrl": "https://lh3.googleusercontent.com/a-/AOh14Gh4sfZImbcxfrP7hFTSOEyBzhAb07jp3pSecuCbeQ=s64",
      "userId": "04128114986664828555"
     },
     "user_tz": -330
    },
    "id": "vQhKM9lOR1Ce",
    "outputId": "36a8686e-e8fe-4d3e-a1bb-936733eaf423"
   },
   "outputs": [
    {
     "name": "stdout",
     "output_type": "stream",
     "text": [
      "Model: \"sequential_10\"\n",
      "_________________________________________________________________\n",
      "Layer (type)                 Output Shape              Param #   \n",
      "=================================================================\n",
      "dense_23 (Dense)             (None, 540)               423900    \n",
      "_________________________________________________________________\n",
      "dense_24 (Dense)             (None, 320)               173120    \n",
      "_________________________________________________________________\n",
      "dense_25 (Dense)             (None, 200)               64200     \n",
      "_________________________________________________________________\n",
      "dense_26 (Dense)             (None, 120)               24120     \n",
      "_________________________________________________________________\n",
      "dense_27 (Dense)             (None, 60)                7260      \n",
      "_________________________________________________________________\n",
      "dense_28 (Dense)             (None, 10)                610       \n",
      "=================================================================\n",
      "Total params: 693,210\n",
      "Trainable params: 693,210\n",
      "Non-trainable params: 0\n",
      "_________________________________________________________________\n"
     ]
    }
   ],
   "source": [
    "model_sigmoid = Sequential()\n",
    "model_sigmoid.add(Dense(540, activation='sigmoid', input_shape=(input_dim,)))\n",
    "model_sigmoid.add(Dense(320, activation='sigmoid'))\n",
    "model_sigmoid.add(Dense(200, activation='sigmoid'))\n",
    "model_sigmoid.add(Dense(120, activation='sigmoid'))\n",
    "model_sigmoid.add(Dense(60, activation='sigmoid'))\n",
    "model_sigmoid.add(Dense(output_dim, activation='softmax'))\n",
    "\n",
    "model_sigmoid.summary()"
   ]
  },
  {
   "cell_type": "code",
   "execution_count": 72,
   "metadata": {
    "colab": {
     "base_uri": "https://localhost:8080/",
     "height": 734
    },
    "colab_type": "code",
    "executionInfo": {
     "elapsed": 126910,
     "status": "ok",
     "timestamp": 1589193157872,
     "user": {
      "displayName": "Mrunal Joshi",
      "photoUrl": "https://lh3.googleusercontent.com/a-/AOh14Gh4sfZImbcxfrP7hFTSOEyBzhAb07jp3pSecuCbeQ=s64",
      "userId": "04128114986664828555"
     },
     "user_tz": -330
    },
    "id": "MwmlJlNVR1j5",
    "outputId": "6ed4a3f2-2afe-4ce0-89d3-0e65ceb7510b"
   },
   "outputs": [
    {
     "name": "stdout",
     "output_type": "stream",
     "text": [
      "Train on 60000 samples, validate on 10000 samples\n",
      "Epoch 1/20\n",
      "60000/60000 [==============================] - 6s 102us/step - loss: 2.3065 - accuracy: 0.1095 - val_loss: 2.3010 - val_accuracy: 0.1135\n",
      "Epoch 2/20\n",
      "60000/60000 [==============================] - 6s 101us/step - loss: 2.3015 - accuracy: 0.1125 - val_loss: 2.3010 - val_accuracy: 0.1135\n",
      "Epoch 3/20\n",
      "60000/60000 [==============================] - 6s 102us/step - loss: 2.3014 - accuracy: 0.1124 - val_loss: 2.3012 - val_accuracy: 0.1135\n",
      "Epoch 4/20\n",
      "60000/60000 [==============================] - 6s 100us/step - loss: 2.3015 - accuracy: 0.1122 - val_loss: 2.3012 - val_accuracy: 0.1135\n",
      "Epoch 5/20\n",
      "60000/60000 [==============================] - 6s 100us/step - loss: 2.3014 - accuracy: 0.1124 - val_loss: 2.3010 - val_accuracy: 0.1135\n",
      "Epoch 6/20\n",
      "60000/60000 [==============================] - 6s 100us/step - loss: 2.3014 - accuracy: 0.1127 - val_loss: 2.3011 - val_accuracy: 0.1135\n",
      "Epoch 7/20\n",
      "60000/60000 [==============================] - 6s 100us/step - loss: 2.3013 - accuracy: 0.1124 - val_loss: 2.3009 - val_accuracy: 0.1135\n",
      "Epoch 8/20\n",
      "60000/60000 [==============================] - 6s 101us/step - loss: 2.3013 - accuracy: 0.1122 - val_loss: 2.3008 - val_accuracy: 0.1135\n",
      "Epoch 9/20\n",
      "60000/60000 [==============================] - 8s 136us/step - loss: 2.3012 - accuracy: 0.1123 - val_loss: 2.3007 - val_accuracy: 0.1135\n",
      "Epoch 10/20\n",
      "60000/60000 [==============================] - 9s 149us/step - loss: 2.3012 - accuracy: 0.1119 - val_loss: 2.3009 - val_accuracy: 0.1135\n",
      "Epoch 11/20\n",
      "60000/60000 [==============================] - 6s 100us/step - loss: 2.3012 - accuracy: 0.1124 - val_loss: 2.3006 - val_accuracy: 0.1135\n",
      "Epoch 12/20\n",
      "60000/60000 [==============================] - 6s 100us/step - loss: 2.3011 - accuracy: 0.1124 - val_loss: 2.3009 - val_accuracy: 0.1135\n",
      "Epoch 13/20\n",
      "60000/60000 [==============================] - 6s 100us/step - loss: 2.3012 - accuracy: 0.1124 - val_loss: 2.3006 - val_accuracy: 0.1135\n",
      "Epoch 14/20\n",
      "60000/60000 [==============================] - 6s 100us/step - loss: 2.3012 - accuracy: 0.1127 - val_loss: 2.3004 - val_accuracy: 0.1135\n",
      "Epoch 15/20\n",
      "60000/60000 [==============================] - 6s 100us/step - loss: 2.3011 - accuracy: 0.1131 - val_loss: 2.3008 - val_accuracy: 0.1135\n",
      "Epoch 16/20\n",
      "60000/60000 [==============================] - 6s 99us/step - loss: 2.3009 - accuracy: 0.1129 - val_loss: 2.3007 - val_accuracy: 0.1135\n",
      "Epoch 17/20\n",
      "60000/60000 [==============================] - 6s 99us/step - loss: 2.3010 - accuracy: 0.1125 - val_loss: 2.3008 - val_accuracy: 0.1135\n",
      "Epoch 18/20\n",
      "60000/60000 [==============================] - 6s 100us/step - loss: 2.3010 - accuracy: 0.1124 - val_loss: 2.3006 - val_accuracy: 0.1135\n",
      "Epoch 19/20\n",
      "60000/60000 [==============================] - 6s 100us/step - loss: 2.3010 - accuracy: 0.1127 - val_loss: 2.3007 - val_accuracy: 0.1135\n",
      "Epoch 20/20\n",
      "60000/60000 [==============================] - 6s 101us/step - loss: 2.3008 - accuracy: 0.1121 - val_loss: 2.3005 - val_accuracy: 0.1135\n"
     ]
    }
   ],
   "source": [
    "model_sigmoid.compile(optimizer='sgd', loss='categorical_crossentropy', metrics=['accuracy'])\n",
    "\n",
    "history = model_sigmoid.fit(X_train, Y_train, batch_size=batch_size, epochs=nb_epoch, verbose=1, validation_data=(X_test, Y_test))"
   ]
  },
  {
   "cell_type": "code",
   "execution_count": 73,
   "metadata": {
    "colab": {
     "base_uri": "https://localhost:8080/",
     "height": 329
    },
    "colab_type": "code",
    "executionInfo": {
     "elapsed": 1883,
     "status": "ok",
     "timestamp": 1589193159787,
     "user": {
      "displayName": "Mrunal Joshi",
      "photoUrl": "https://lh3.googleusercontent.com/a-/AOh14Gh4sfZImbcxfrP7hFTSOEyBzhAb07jp3pSecuCbeQ=s64",
      "userId": "04128114986664828555"
     },
     "user_tz": -330
    },
    "id": "sHiARBD0R2Bu",
    "outputId": "e4e0c6e3-13c7-4cd0-b6d3-4379ee8167e0"
   },
   "outputs": [
    {
     "name": "stdout",
     "output_type": "stream",
     "text": [
      "Test score: 2.3005089023590086\n",
      "Test accuracy: 0.11349999904632568\n"
     ]
    },
    {
     "data": {
      "image/png": "[encoded data removed]",
      "text/plain": [
       "<Figure size 432x288 with 1 Axes>"
      ]
     },
     "metadata": {
      "needs_background": "light",
      "tags": []
     },
     "output_type": "display_data"
    }
   ],
   "source": [
    "score = model_sigmoid.evaluate(X_test, Y_test, verbose=0) \n",
    "print('Test score:', score[0]) \n",
    "print('Test accuracy:', score[1])\n",
    "\n",
    "x = list(range(1,nb_epoch+1))\n",
    "\n",
    "vy = history.history['val_loss']\n",
    "ty = history.history['loss']\n",
    "plt.plot(vy)\n",
    "plt.plot(ty)\n",
    "plt.title('model loss')\n",
    "plt.title('model loss')\n",
    "plt.ylabel('loss')\n",
    "plt.xlabel('epoch')\n",
    "plt.legend(['train', 'test'], loc='upper right')\n",
    "plt.grid()\n",
    "plt.show()"
   ]
  },
  {
   "cell_type": "markdown",
   "metadata": {
    "colab_type": "text",
    "id": "ExLv_CAeQKcA"
   },
   "source": [
    "<h2>MLP + Sigmoid activation + ADAM </h2>"
   ]
  },
  {
   "cell_type": "code",
   "execution_count": 74,
   "metadata": {
    "colab": {
     "base_uri": "https://localhost:8080/",
     "height": 972
    },
    "colab_type": "code",
    "executionInfo": {
     "elapsed": 100764,
     "status": "ok",
     "timestamp": 1589193611755,
     "user": {
      "displayName": "Mrunal Joshi",
      "photoUrl": "https://lh3.googleusercontent.com/a-/AOh14Gh4sfZImbcxfrP7hFTSOEyBzhAb07jp3pSecuCbeQ=s64",
      "userId": "04128114986664828555"
     },
     "user_tz": -330
    },
    "id": "w9BtnNGaQKcD",
    "outputId": "efce084f-2de6-4fd9-f278-e7858a1cb1be"
   },
   "outputs": [
    {
     "name": "stdout",
     "output_type": "stream",
     "text": [
      "Model: \"sequential_11\"\n",
      "_________________________________________________________________\n",
      "Layer (type)                 Output Shape              Param #   \n",
      "=================================================================\n",
      "dense_29 (Dense)             (None, 512)               401920    \n",
      "_________________________________________________________________\n",
      "dense_30 (Dense)             (None, 128)               65664     \n",
      "_________________________________________________________________\n",
      "dense_31 (Dense)             (None, 10)                1290      \n",
      "=================================================================\n",
      "Total params: 468,874\n",
      "Trainable params: 468,874\n",
      "Non-trainable params: 0\n",
      "_________________________________________________________________\n",
      "Train on 60000 samples, validate on 10000 samples\n",
      "Epoch 1/20\n",
      "60000/60000 [==============================] - 5s 89us/step - loss: 0.5401 - accuracy: 0.8586 - val_loss: 0.2566 - val_accuracy: 0.9243\n",
      "Epoch 2/20\n",
      "60000/60000 [==============================] - 5s 83us/step - loss: 0.2210 - accuracy: 0.9355 - val_loss: 0.1810 - val_accuracy: 0.9445\n",
      "Epoch 3/20\n",
      "60000/60000 [==============================] - 5s 82us/step - loss: 0.1631 - accuracy: 0.9517 - val_loss: 0.1452 - val_accuracy: 0.9573\n",
      "Epoch 4/20\n",
      "60000/60000 [==============================] - 5s 82us/step - loss: 0.1260 - accuracy: 0.9628 - val_loss: 0.1189 - val_accuracy: 0.9647\n",
      "Epoch 5/20\n",
      "60000/60000 [==============================] - 5s 82us/step - loss: 0.0986 - accuracy: 0.9708 - val_loss: 0.1009 - val_accuracy: 0.9686\n",
      "Epoch 6/20\n",
      "60000/60000 [==============================] - 5s 82us/step - loss: 0.0779 - accuracy: 0.9771 - val_loss: 0.0901 - val_accuracy: 0.9720\n",
      "Epoch 7/20\n",
      "60000/60000 [==============================] - 5s 83us/step - loss: 0.0631 - accuracy: 0.9812 - val_loss: 0.0840 - val_accuracy: 0.9742\n",
      "Epoch 8/20\n",
      "60000/60000 [==============================] - 5s 83us/step - loss: 0.0506 - accuracy: 0.9851 - val_loss: 0.0704 - val_accuracy: 0.9776\n",
      "Epoch 9/20\n",
      "60000/60000 [==============================] - 5s 82us/step - loss: 0.0417 - accuracy: 0.9882 - val_loss: 0.0713 - val_accuracy: 0.9785\n",
      "Epoch 10/20\n",
      "60000/60000 [==============================] - 5s 82us/step - loss: 0.0335 - accuracy: 0.9905 - val_loss: 0.0649 - val_accuracy: 0.9798\n",
      "Epoch 11/20\n",
      "60000/60000 [==============================] - 5s 83us/step - loss: 0.0264 - accuracy: 0.9932 - val_loss: 0.0627 - val_accuracy: 0.9801\n",
      "Epoch 12/20\n",
      "60000/60000 [==============================] - 5s 82us/step - loss: 0.0213 - accuracy: 0.9948 - val_loss: 0.0705 - val_accuracy: 0.9785\n",
      "Epoch 13/20\n",
      "60000/60000 [==============================] - 5s 82us/step - loss: 0.0173 - accuracy: 0.9956 - val_loss: 0.0628 - val_accuracy: 0.9812\n",
      "Epoch 14/20\n",
      "60000/60000 [==============================] - 5s 82us/step - loss: 0.0136 - accuracy: 0.9971 - val_loss: 0.0639 - val_accuracy: 0.9815\n",
      "Epoch 15/20\n",
      "60000/60000 [==============================] - 5s 82us/step - loss: 0.0114 - accuracy: 0.9974 - val_loss: 0.0685 - val_accuracy: 0.9805\n",
      "Epoch 16/20\n",
      "60000/60000 [==============================] - 5s 81us/step - loss: 0.0091 - accuracy: 0.9981 - val_loss: 0.0677 - val_accuracy: 0.9810\n",
      "Epoch 17/20\n",
      "60000/60000 [==============================] - 5s 83us/step - loss: 0.0073 - accuracy: 0.9985 - val_loss: 0.0728 - val_accuracy: 0.9793\n",
      "Epoch 18/20\n",
      "60000/60000 [==============================] - 5s 83us/step - loss: 0.0060 - accuracy: 0.9988 - val_loss: 0.0655 - val_accuracy: 0.9824\n",
      "Epoch 19/20\n",
      "60000/60000 [==============================] - 5s 82us/step - loss: 0.0045 - accuracy: 0.9992 - val_loss: 0.0681 - val_accuracy: 0.9814\n",
      "Epoch 20/20\n",
      "60000/60000 [==============================] - 5s 83us/step - loss: 0.0035 - accuracy: 0.9995 - val_loss: 0.0719 - val_accuracy: 0.9812\n"
     ]
    }
   ],
   "source": [
    "model_sigmoid = Sequential()\n",
    "model_sigmoid.add(Dense(512, activation='sigmoid', input_shape=(input_dim,)))\n",
    "model_sigmoid.add(Dense(128, activation='sigmoid'))\n",
    "model_sigmoid.add(Dense(output_dim, activation='softmax'))\n",
    "\n",
    "model_sigmoid.summary()\n",
    "\n",
    "model_sigmoid.compile(optimizer='adam', loss='categorical_crossentropy', metrics=['accuracy'])\n",
    "\n",
    "history = model_sigmoid.fit(X_train, Y_train, batch_size=batch_size, epochs=nb_epoch, verbose=1, validation_data=(X_test, Y_test))"
   ]
  },
  {
   "cell_type": "code",
   "execution_count": 75,
   "metadata": {
    "colab": {
     "base_uri": "https://localhost:8080/",
     "height": 313
    },
    "colab_type": "code",
    "executionInfo": {
     "elapsed": 3013,
     "status": "ok",
     "timestamp": 1589193614800,
     "user": {
      "displayName": "Mrunal Joshi",
      "photoUrl": "https://lh3.googleusercontent.com/a-/AOh14Gh4sfZImbcxfrP7hFTSOEyBzhAb07jp3pSecuCbeQ=s64",
      "userId": "04128114986664828555"
     },
     "user_tz": -330
    },
    "id": "AslSnqQ2QKcF",
    "outputId": "10804162-a9b4-4089-b85c-886320865112"
   },
   "outputs": [
    {
     "name": "stdout",
     "output_type": "stream",
     "text": [
      "Test score: 0.07186335114348621\n",
      "Test accuracy: 0.9811999797821045\n"
     ]
    },
    {
     "data": {
      "image/png": "[encoded data removed]",
      "text/plain": [
       "<Figure size 432x288 with 1 Axes>"
      ]
     },
     "metadata": {
      "needs_background": "light",
      "tags": []
     },
     "output_type": "display_data"
    }
   ],
   "source": [
    "score = model_sigmoid.evaluate(X_test, Y_test, verbose=0) \n",
    "print('Test score:', score[0]) \n",
    "print('Test accuracy:', score[1])\n",
    "\n",
    "fig,ax = plt.subplots(1,1)\n",
    "ax.set_xlabel('epoch') ; ax.set_ylabel('Categorical Crossentropy Loss')\n",
    "\n",
    "# list of epoch numbers\n",
    "x = list(range(1,nb_epoch+1))\n",
    "\n",
    "# print(history.history.keys())\n",
    "# dict_keys(['val_loss', 'val_acc', 'loss', 'acc'])\n",
    "# history = model_drop.fit(X_train, Y_train, batch_size=batch_size, epochs=nb_epoch, verbose=1, validation_data=(X_test, Y_test))\n",
    "\n",
    "# we will get val_loss and val_acc only when you pass the paramter validation_data\n",
    "# val_loss : validation loss\n",
    "# val_acc : validation accuracy\n",
    "\n",
    "# loss : training loss\n",
    "# acc : train accuracy\n",
    "# for each key in histrory.histrory we will have a list of length equal to number of epochs\n",
    "\n",
    "vy = history.history['val_loss']\n",
    "ty = history.history['loss']\n",
    "plt_dynamic(x, vy, ty, ax)"
   ]
  },
  {
   "cell_type": "code",
   "execution_count": 76,
   "metadata": {
    "colab": {
     "base_uri": "https://localhost:8080/",
     "height": 285
    },
    "colab_type": "code",
    "executionInfo": {
     "elapsed": 4965,
     "status": "ok",
     "timestamp": 1589193616781,
     "user": {
      "displayName": "Mrunal Joshi",
      "photoUrl": "https://lh3.googleusercontent.com/a-/AOh14Gh4sfZImbcxfrP7hFTSOEyBzhAb07jp3pSecuCbeQ=s64",
      "userId": "04128114986664828555"
     },
     "user_tz": -330
    },
    "id": "HEp-AZCSQKcI",
    "outputId": "a080554f-440f-48b2-cd37-da508a4a2bb8"
   },
   "outputs": [
    {
     "data": {
      "image/png": "[encoded data removed]",
      "text/plain": [
       "<Figure size 432x288 with 3 Axes>"
      ]
     },
     "metadata": {
      "needs_background": "light",
      "tags": []
     },
     "output_type": "display_data"
    }
   ],
   "source": [
    "w_after = model_sigmoid.get_weights()\n",
    "\n",
    "h1_w = w_after[0].flatten().reshape(-1,1)\n",
    "h2_w = w_after[2].flatten().reshape(-1,1)\n",
    "out_w = w_after[4].flatten().reshape(-1,1)\n",
    "\n",
    "\n",
    "fig = plt.figure()\n",
    "plt.title(\"Weight matrices after model trained\")\n",
    "plt.subplot(1, 3, 1)\n",
    "plt.title(\"Trained model Weights\")\n",
    "ax = sns.violinplot(y=h1_w,color='b')\n",
    "plt.xlabel('Hidden Layer 1')\n",
    "\n",
    "plt.subplot(1, 3, 2)\n",
    "plt.title(\"Trained model Weights\")\n",
    "ax = sns.violinplot(y=h2_w, color='r')\n",
    "plt.xlabel('Hidden Layer 2 ')\n",
    "\n",
    "plt.subplot(1, 3, 3)\n",
    "plt.title(\"Trained model Weights\")\n",
    "ax = sns.violinplot(y=out_w,color='y')\n",
    "plt.xlabel('Output Layer ')\n",
    "plt.show()"
   ]
  },
  {
   "cell_type": "markdown",
   "metadata": {
    "colab_type": "text",
    "id": "H2nFanzZUdwe"
   },
   "source": [
    "2 Layer"
   ]
  },
  {
   "cell_type": "code",
   "execution_count": 77,
   "metadata": {
    "colab": {
     "base_uri": "https://localhost:8080/",
     "height": 972
    },
    "colab_type": "code",
    "executionInfo": {
     "elapsed": 90108,
     "status": "ok",
     "timestamp": 1589193718055,
     "user": {
      "displayName": "Mrunal Joshi",
      "photoUrl": "https://lh3.googleusercontent.com/a-/AOh14Gh4sfZImbcxfrP7hFTSOEyBzhAb07jp3pSecuCbeQ=s64",
      "userId": "04128114986664828555"
     },
     "user_tz": -330
    },
    "id": "Mw_L2jNEUgKh",
    "outputId": "27357520-4529-450d-f1c4-c034e467dda7"
   },
   "outputs": [
    {
     "name": "stdout",
     "output_type": "stream",
     "text": [
      "Model: \"sequential_12\"\n",
      "_________________________________________________________________\n",
      "Layer (type)                 Output Shape              Param #   \n",
      "=================================================================\n",
      "dense_32 (Dense)             (None, 360)               282600    \n",
      "_________________________________________________________________\n",
      "dense_33 (Dense)             (None, 150)               54150     \n",
      "_________________________________________________________________\n",
      "dense_34 (Dense)             (None, 10)                1510      \n",
      "=================================================================\n",
      "Total params: 338,260\n",
      "Trainable params: 338,260\n",
      "Non-trainable params: 0\n",
      "_________________________________________________________________\n",
      "Train on 60000 samples, validate on 10000 samples\n",
      "Epoch 1/20\n",
      "60000/60000 [==============================] - 4s 68us/step - loss: 0.5680 - accuracy: 0.8521 - val_loss: 0.2558 - val_accuracy: 0.9242\n",
      "Epoch 2/20\n",
      "60000/60000 [==============================] - 4s 67us/step - loss: 0.2238 - accuracy: 0.9343 - val_loss: 0.1896 - val_accuracy: 0.9430\n",
      "Epoch 3/20\n",
      "60000/60000 [==============================] - 4s 68us/step - loss: 0.1657 - accuracy: 0.9515 - val_loss: 0.1541 - val_accuracy: 0.9505\n",
      "Epoch 4/20\n",
      "60000/60000 [==============================] - 4s 68us/step - loss: 0.1294 - accuracy: 0.9617 - val_loss: 0.1257 - val_accuracy: 0.9627\n",
      "Epoch 5/20\n",
      "60000/60000 [==============================] - 4s 67us/step - loss: 0.1029 - accuracy: 0.9698 - val_loss: 0.1109 - val_accuracy: 0.9669\n",
      "Epoch 6/20\n",
      "60000/60000 [==============================] - 4s 68us/step - loss: 0.0830 - accuracy: 0.9752 - val_loss: 0.0891 - val_accuracy: 0.9721\n",
      "Epoch 7/20\n",
      "60000/60000 [==============================] - 4s 68us/step - loss: 0.0673 - accuracy: 0.9800 - val_loss: 0.0922 - val_accuracy: 0.9716\n",
      "Epoch 8/20\n",
      "60000/60000 [==============================] - 4s 67us/step - loss: 0.0546 - accuracy: 0.9841 - val_loss: 0.0809 - val_accuracy: 0.9760\n",
      "Epoch 9/20\n",
      "60000/60000 [==============================] - 4s 68us/step - loss: 0.0447 - accuracy: 0.9868 - val_loss: 0.0740 - val_accuracy: 0.9771\n",
      "Epoch 10/20\n",
      "60000/60000 [==============================] - 4s 73us/step - loss: 0.0366 - accuracy: 0.9891 - val_loss: 0.0712 - val_accuracy: 0.9780\n",
      "Epoch 11/20\n",
      "60000/60000 [==============================] - 4s 70us/step - loss: 0.0302 - accuracy: 0.9914 - val_loss: 0.0708 - val_accuracy: 0.9781\n",
      "Epoch 12/20\n",
      "60000/60000 [==============================] - 4s 70us/step - loss: 0.0240 - accuracy: 0.9937 - val_loss: 0.0697 - val_accuracy: 0.9787\n",
      "Epoch 13/20\n",
      "60000/60000 [==============================] - 4s 70us/step - loss: 0.0199 - accuracy: 0.9947 - val_loss: 0.0674 - val_accuracy: 0.9795\n",
      "Epoch 14/20\n",
      "60000/60000 [==============================] - 4s 70us/step - loss: 0.0162 - accuracy: 0.9961 - val_loss: 0.0666 - val_accuracy: 0.9805\n",
      "Epoch 15/20\n",
      "60000/60000 [==============================] - 4s 69us/step - loss: 0.0124 - accuracy: 0.9972 - val_loss: 0.0681 - val_accuracy: 0.9789\n",
      "Epoch 16/20\n",
      "60000/60000 [==============================] - 4s 70us/step - loss: 0.0101 - accuracy: 0.9977 - val_loss: 0.0698 - val_accuracy: 0.9804\n",
      "Epoch 17/20\n",
      "60000/60000 [==============================] - 7s 120us/step - loss: 0.0093 - accuracy: 0.9978 - val_loss: 0.0687 - val_accuracy: 0.9803\n",
      "Epoch 18/20\n",
      "60000/60000 [==============================] - 7s 121us/step - loss: 0.0072 - accuracy: 0.9985 - val_loss: 0.0707 - val_accuracy: 0.9795\n",
      "Epoch 19/20\n",
      "60000/60000 [==============================] - 4s 68us/step - loss: 0.0052 - accuracy: 0.9991 - val_loss: 0.0749 - val_accuracy: 0.9789\n",
      "Epoch 20/20\n",
      "60000/60000 [==============================] - 4s 66us/step - loss: 0.0051 - accuracy: 0.9989 - val_loss: 0.0724 - val_accuracy: 0.9804\n"
     ]
    }
   ],
   "source": [
    "model_sigmoid = Sequential()\n",
    "model_sigmoid.add(Dense(360, activation='sigmoid', input_shape=(input_dim,)))\n",
    "model_sigmoid.add(Dense(150, activation='sigmoid'))\n",
    "model_sigmoid.add(Dense(output_dim, activation='softmax'))\n",
    "\n",
    "model_sigmoid.summary()\n",
    "\n",
    "model_sigmoid.compile(optimizer='adam', loss='categorical_crossentropy', metrics=['accuracy'])\n",
    "\n",
    "history = model_sigmoid.fit(X_train, Y_train, batch_size=batch_size, epochs=nb_epoch, verbose=1, validation_data=(X_test, Y_test))"
   ]
  },
  {
   "cell_type": "code",
   "execution_count": 78,
   "metadata": {
    "colab": {
     "base_uri": "https://localhost:8080/",
     "height": 313
    },
    "colab_type": "code",
    "executionInfo": {
     "elapsed": 1671,
     "status": "ok",
     "timestamp": 1589193719768,
     "user": {
      "displayName": "Mrunal Joshi",
      "photoUrl": "https://lh3.googleusercontent.com/a-/AOh14Gh4sfZImbcxfrP7hFTSOEyBzhAb07jp3pSecuCbeQ=s64",
      "userId": "04128114986664828555"
     },
     "user_tz": -330
    },
    "id": "DKp-NqbDUs8W",
    "outputId": "a0660e62-9a2a-4d61-dc5c-bc2449cb88c9"
   },
   "outputs": [
    {
     "name": "stdout",
     "output_type": "stream",
     "text": [
      "Test score: 0.07238916951557112\n",
      "Test accuracy: 0.980400025844574\n"
     ]
    },
    {
     "data": {
      "image/png": "[encoded data removed]",
      "text/plain": [
       "<Figure size 432x288 with 1 Axes>"
      ]
     },
     "metadata": {
      "needs_background": "light",
      "tags": []
     },
     "output_type": "display_data"
    }
   ],
   "source": [
    "score = model_sigmoid.evaluate(X_test, Y_test, verbose=0) \n",
    "print('Test score:', score[0]) \n",
    "print('Test accuracy:', score[1])\n",
    "\n",
    "fig,ax = plt.subplots(1,1)\n",
    "ax.set_xlabel('epoch') ; ax.set_ylabel('Categorical Crossentropy Loss')\n",
    "\n",
    "# list of epoch numbers\n",
    "x = list(range(1,nb_epoch+1))\n",
    "\n",
    "vy = history.history['val_loss']\n",
    "ty = history.history['loss']\n",
    "plt_dynamic(x, vy, ty, ax)"
   ]
  },
  {
   "cell_type": "markdown",
   "metadata": {
    "colab_type": "text",
    "id": "OVgyi3BjVMzO"
   },
   "source": [
    "3 Layer"
   ]
  },
  {
   "cell_type": "code",
   "execution_count": 79,
   "metadata": {
    "colab": {
     "base_uri": "https://localhost:8080/",
     "height": 1000
    },
    "colab_type": "code",
    "executionInfo": {
     "elapsed": 130446,
     "status": "ok",
     "timestamp": 1589194034511,
     "user": {
      "displayName": "Mrunal Joshi",
      "photoUrl": "https://lh3.googleusercontent.com/a-/AOh14Gh4sfZImbcxfrP7hFTSOEyBzhAb07jp3pSecuCbeQ=s64",
      "userId": "04128114986664828555"
     },
     "user_tz": -330
    },
    "id": "MZZiwFnAVP4Y",
    "outputId": "15c6913b-da65-4cd0-8416-fa5d9fa03bfd"
   },
   "outputs": [
    {
     "name": "stdout",
     "output_type": "stream",
     "text": [
      "Model: \"sequential_13\"\n",
      "_________________________________________________________________\n",
      "Layer (type)                 Output Shape              Param #   \n",
      "=================================================================\n",
      "dense_35 (Dense)             (None, 512)               401920    \n",
      "_________________________________________________________________\n",
      "dense_36 (Dense)             (None, 300)               153900    \n",
      "_________________________________________________________________\n",
      "dense_37 (Dense)             (None, 128)               38528     \n",
      "_________________________________________________________________\n",
      "dense_38 (Dense)             (None, 10)                1290      \n",
      "=================================================================\n",
      "Total params: 595,638\n",
      "Trainable params: 595,638\n",
      "Non-trainable params: 0\n",
      "_________________________________________________________________\n",
      "Train on 60000 samples, validate on 10000 samples\n",
      "Epoch 1/20\n",
      "60000/60000 [==============================] - 7s 111us/step - loss: 0.6056 - accuracy: 0.8245 - val_loss: 0.2584 - val_accuracy: 0.9239\n",
      "Epoch 2/20\n",
      "60000/60000 [==============================] - 6s 107us/step - loss: 0.2024 - accuracy: 0.9398 - val_loss: 0.1651 - val_accuracy: 0.9519\n",
      "Epoch 3/20\n",
      "60000/60000 [==============================] - 7s 110us/step - loss: 0.1442 - accuracy: 0.9562 - val_loss: 0.1289 - val_accuracy: 0.9620\n",
      "Epoch 4/20\n",
      "60000/60000 [==============================] - 7s 110us/step - loss: 0.1091 - accuracy: 0.9672 - val_loss: 0.1107 - val_accuracy: 0.9669\n",
      "Epoch 5/20\n",
      "60000/60000 [==============================] - 7s 110us/step - loss: 0.0842 - accuracy: 0.9748 - val_loss: 0.0947 - val_accuracy: 0.9711\n",
      "Epoch 6/20\n",
      "60000/60000 [==============================] - 6s 108us/step - loss: 0.0681 - accuracy: 0.9795 - val_loss: 0.0832 - val_accuracy: 0.9750\n",
      "Epoch 7/20\n",
      "60000/60000 [==============================] - 6s 106us/step - loss: 0.0530 - accuracy: 0.9844 - val_loss: 0.0948 - val_accuracy: 0.9700\n",
      "Epoch 8/20\n",
      "60000/60000 [==============================] - 6s 107us/step - loss: 0.0440 - accuracy: 0.9865 - val_loss: 0.0773 - val_accuracy: 0.9779\n",
      "Epoch 9/20\n",
      "60000/60000 [==============================] - 6s 108us/step - loss: 0.0360 - accuracy: 0.9893 - val_loss: 0.0735 - val_accuracy: 0.9778\n",
      "Epoch 10/20\n",
      "60000/60000 [==============================] - 6s 106us/step - loss: 0.0291 - accuracy: 0.9912 - val_loss: 0.0792 - val_accuracy: 0.9765\n",
      "Epoch 11/20\n",
      "60000/60000 [==============================] - 6s 107us/step - loss: 0.0247 - accuracy: 0.9924 - val_loss: 0.0737 - val_accuracy: 0.9790\n",
      "Epoch 12/20\n",
      "60000/60000 [==============================] - 6s 106us/step - loss: 0.0187 - accuracy: 0.9945 - val_loss: 0.0659 - val_accuracy: 0.9822\n",
      "Epoch 13/20\n",
      "60000/60000 [==============================] - 6s 106us/step - loss: 0.0161 - accuracy: 0.9951 - val_loss: 0.0685 - val_accuracy: 0.9815\n",
      "Epoch 14/20\n",
      "60000/60000 [==============================] - 6s 106us/step - loss: 0.0122 - accuracy: 0.9966 - val_loss: 0.0745 - val_accuracy: 0.9792\n",
      "Epoch 15/20\n",
      "60000/60000 [==============================] - 6s 107us/step - loss: 0.0110 - accuracy: 0.9968 - val_loss: 0.0761 - val_accuracy: 0.9802\n",
      "Epoch 16/20\n",
      "60000/60000 [==============================] - 6s 107us/step - loss: 0.0090 - accuracy: 0.9974 - val_loss: 0.0838 - val_accuracy: 0.9791\n",
      "Epoch 17/20\n",
      "60000/60000 [==============================] - 6s 106us/step - loss: 0.0104 - accuracy: 0.9968 - val_loss: 0.0780 - val_accuracy: 0.9805\n",
      "Epoch 18/20\n",
      "60000/60000 [==============================] - 6s 107us/step - loss: 0.0110 - accuracy: 0.9967 - val_loss: 0.0799 - val_accuracy: 0.9816\n",
      "Epoch 19/20\n",
      "60000/60000 [==============================] - 6s 106us/step - loss: 0.0050 - accuracy: 0.9985 - val_loss: 0.0803 - val_accuracy: 0.9820\n",
      "Epoch 20/20\n",
      "60000/60000 [==============================] - 6s 107us/step - loss: 0.0088 - accuracy: 0.9973 - val_loss: 0.0938 - val_accuracy: 0.9785\n"
     ]
    }
   ],
   "source": [
    "model_sigmoid = Sequential()\n",
    "model_sigmoid.add(Dense(512, activation='sigmoid', input_shape=(input_dim,)))\n",
    "model_sigmoid.add(Dense(300, activation='sigmoid'))\n",
    "model_sigmoid.add(Dense(128, activation='sigmoid'))\n",
    "model_sigmoid.add(Dense(output_dim, activation='softmax'))\n",
    "\n",
    "model_sigmoid.summary()\n",
    "\n",
    "model_sigmoid.compile(optimizer='adam', loss='categorical_crossentropy', metrics=['accuracy'])\n",
    "\n",
    "history = model_sigmoid.fit(X_train, Y_train, batch_size=batch_size, epochs=nb_epoch, verbose=1, validation_data=(X_test, Y_test))"
   ]
  },
  {
   "cell_type": "code",
   "execution_count": 80,
   "metadata": {
    "colab": {
     "base_uri": "https://localhost:8080/",
     "height": 313
    },
    "colab_type": "code",
    "executionInfo": {
     "elapsed": 2239,
     "status": "ok",
     "timestamp": 1589194036761,
     "user": {
      "displayName": "Mrunal Joshi",
      "photoUrl": "https://lh3.googleusercontent.com/a-/AOh14Gh4sfZImbcxfrP7hFTSOEyBzhAb07jp3pSecuCbeQ=s64",
      "userId": "04128114986664828555"
     },
     "user_tz": -330
    },
    "id": "VVTiQWODVPrA",
    "outputId": "a7ff48b6-f90f-4d8b-c882-461e251ec489"
   },
   "outputs": [
    {
     "name": "stdout",
     "output_type": "stream",
     "text": [
      "Test score: 0.09384749033101107\n",
      "Test accuracy: 0.9785000085830688\n"
     ]
    },
    {
     "data": {
      "image/png": "[encoded data removed]",
      "text/plain": [
       "<Figure size 432x288 with 1 Axes>"
      ]
     },
     "metadata": {
      "needs_background": "light",
      "tags": []
     },
     "output_type": "display_data"
    }
   ],
   "source": [
    "score = model_sigmoid.evaluate(X_test, Y_test, verbose=0) \n",
    "print('Test score:', score[0]) \n",
    "print('Test accuracy:', score[1])\n",
    "\n",
    "fig,ax = plt.subplots(1,1)\n",
    "ax.set_xlabel('epoch') ; ax.set_ylabel('Categorical Crossentropy Loss')\n",
    "\n",
    "# list of epoch numbers\n",
    "x = list(range(1,nb_epoch+1))\n",
    "\n",
    "vy = history.history['val_loss']\n",
    "ty = history.history['loss']\n",
    "plt_dynamic(x, vy, ty, ax)"
   ]
  },
  {
   "cell_type": "markdown",
   "metadata": {
    "colab_type": "text",
    "id": "0tIKzoSjVQid"
   },
   "source": [
    "5 Layer"
   ]
  },
  {
   "cell_type": "code",
   "execution_count": 81,
   "metadata": {
    "colab": {
     "base_uri": "https://localhost:8080/",
     "height": 1000
    },
    "colab_type": "code",
    "executionInfo": {
     "elapsed": 159945,
     "status": "ok",
     "timestamp": 1589194194483,
     "user": {
      "displayName": "Mrunal Joshi",
      "photoUrl": "https://lh3.googleusercontent.com/a-/AOh14Gh4sfZImbcxfrP7hFTSOEyBzhAb07jp3pSecuCbeQ=s64",
      "userId": "04128114986664828555"
     },
     "user_tz": -330
    },
    "id": "bHWIhOhaVT8R",
    "outputId": "4138ce3d-3e6e-43f3-b327-94d45f416726"
   },
   "outputs": [
    {
     "name": "stdout",
     "output_type": "stream",
     "text": [
      "Model: \"sequential_14\"\n",
      "_________________________________________________________________\n",
      "Layer (type)                 Output Shape              Param #   \n",
      "=================================================================\n",
      "dense_39 (Dense)             (None, 512)               401920    \n",
      "_________________________________________________________________\n",
      "dense_40 (Dense)             (None, 360)               184680    \n",
      "_________________________________________________________________\n",
      "dense_41 (Dense)             (None, 235)               84835     \n",
      "_________________________________________________________________\n",
      "dense_42 (Dense)             (None, 101)               23836     \n",
      "_________________________________________________________________\n",
      "dense_43 (Dense)             (None, 45)                4590      \n",
      "_________________________________________________________________\n",
      "dense_44 (Dense)             (None, 10)                460       \n",
      "=================================================================\n",
      "Total params: 700,321\n",
      "Trainable params: 700,321\n",
      "Non-trainable params: 0\n",
      "_________________________________________________________________\n",
      "Train on 60000 samples, validate on 10000 samples\n",
      "Epoch 1/20\n",
      "60000/60000 [==============================] - 8s 137us/step - loss: 0.9892 - accuracy: 0.7098 - val_loss: 0.3593 - val_accuracy: 0.9114\n",
      "Epoch 2/20\n",
      "60000/60000 [==============================] - 8s 131us/step - loss: 0.2788 - accuracy: 0.9284 - val_loss: 0.2095 - val_accuracy: 0.9475\n",
      "Epoch 3/20\n",
      "60000/60000 [==============================] - 8s 133us/step - loss: 0.1796 - accuracy: 0.9529 - val_loss: 0.1819 - val_accuracy: 0.9494\n",
      "Epoch 4/20\n",
      "60000/60000 [==============================] - 8s 131us/step - loss: 0.1323 - accuracy: 0.9641 - val_loss: 0.1488 - val_accuracy: 0.9591\n",
      "Epoch 5/20\n",
      "60000/60000 [==============================] - 8s 131us/step - loss: 0.1040 - accuracy: 0.9715 - val_loss: 0.1268 - val_accuracy: 0.9642\n",
      "Epoch 6/20\n",
      "60000/60000 [==============================] - 8s 132us/step - loss: 0.0852 - accuracy: 0.9766 - val_loss: 0.1064 - val_accuracy: 0.9694\n",
      "Epoch 7/20\n",
      "60000/60000 [==============================] - 8s 131us/step - loss: 0.0710 - accuracy: 0.9803 - val_loss: 0.1111 - val_accuracy: 0.9717\n",
      "Epoch 8/20\n",
      "60000/60000 [==============================] - 8s 130us/step - loss: 0.0601 - accuracy: 0.9832 - val_loss: 0.1034 - val_accuracy: 0.9718\n",
      "Epoch 9/20\n",
      "60000/60000 [==============================] - 8s 130us/step - loss: 0.0498 - accuracy: 0.9859 - val_loss: 0.1016 - val_accuracy: 0.9732\n",
      "Epoch 10/20\n",
      "60000/60000 [==============================] - 8s 130us/step - loss: 0.0446 - accuracy: 0.9875 - val_loss: 0.0945 - val_accuracy: 0.9744\n",
      "Epoch 11/20\n",
      "60000/60000 [==============================] - 8s 131us/step - loss: 0.0360 - accuracy: 0.9899 - val_loss: 0.1084 - val_accuracy: 0.9713\n",
      "Epoch 12/20\n",
      "60000/60000 [==============================] - 8s 130us/step - loss: 0.0316 - accuracy: 0.9909 - val_loss: 0.0878 - val_accuracy: 0.9782\n",
      "Epoch 13/20\n",
      "60000/60000 [==============================] - 8s 131us/step - loss: 0.0271 - accuracy: 0.9922 - val_loss: 0.0995 - val_accuracy: 0.9759\n",
      "Epoch 14/20\n",
      "60000/60000 [==============================] - 8s 131us/step - loss: 0.0263 - accuracy: 0.9926 - val_loss: 0.0930 - val_accuracy: 0.9770\n",
      "Epoch 15/20\n",
      "60000/60000 [==============================] - 8s 132us/step - loss: 0.0202 - accuracy: 0.9945 - val_loss: 0.0904 - val_accuracy: 0.9795\n",
      "Epoch 16/20\n",
      "60000/60000 [==============================] - 8s 130us/step - loss: 0.0200 - accuracy: 0.9941 - val_loss: 0.0875 - val_accuracy: 0.9792\n",
      "Epoch 17/20\n",
      "60000/60000 [==============================] - 8s 130us/step - loss: 0.0180 - accuracy: 0.9948 - val_loss: 0.0977 - val_accuracy: 0.9784\n",
      "Epoch 18/20\n",
      "60000/60000 [==============================] - 8s 130us/step - loss: 0.0169 - accuracy: 0.9951 - val_loss: 0.0938 - val_accuracy: 0.9789\n",
      "Epoch 19/20\n",
      "60000/60000 [==============================] - 8s 131us/step - loss: 0.0149 - accuracy: 0.9957 - val_loss: 0.0969 - val_accuracy: 0.9794\n",
      "Epoch 20/20\n",
      "60000/60000 [==============================] - 8s 131us/step - loss: 0.0133 - accuracy: 0.9962 - val_loss: 0.1078 - val_accuracy: 0.9768\n"
     ]
    }
   ],
   "source": [
    "model_sigmoid = Sequential()\n",
    "model_sigmoid.add(Dense(512, activation='sigmoid', input_shape=(input_dim,)))\n",
    "model_sigmoid.add(Dense(360, activation='sigmoid'))\n",
    "model_sigmoid.add(Dense(235, activation='sigmoid'))\n",
    "model_sigmoid.add(Dense(101, activation='sigmoid'))\n",
    "model_sigmoid.add(Dense(45, activation='sigmoid'))\n",
    "model_sigmoid.add(Dense(output_dim, activation='softmax'))\n",
    "\n",
    "model_sigmoid.summary()\n",
    "\n",
    "model_sigmoid.compile(optimizer='adam', loss='categorical_crossentropy', metrics=['accuracy'])\n",
    "\n",
    "history = model_sigmoid.fit(X_train, Y_train, batch_size=batch_size, epochs=nb_epoch, verbose=1, validation_data=(X_test, Y_test))"
   ]
  },
  {
   "cell_type": "code",
   "execution_count": 82,
   "metadata": {
    "colab": {
     "base_uri": "https://localhost:8080/",
     "height": 313
    },
    "colab_type": "code",
    "executionInfo": {
     "elapsed": 160799,
     "status": "ok",
     "timestamp": 1589194195343,
     "user": {
      "displayName": "Mrunal Joshi",
      "photoUrl": "https://lh3.googleusercontent.com/a-/AOh14Gh4sfZImbcxfrP7hFTSOEyBzhAb07jp3pSecuCbeQ=s64",
      "userId": "04128114986664828555"
     },
     "user_tz": -330
    },
    "id": "yPw8sZ0QVTtk",
    "outputId": "052fde29-4eb8-440b-c295-1f935e6aaaf7"
   },
   "outputs": [
    {
     "name": "stdout",
     "output_type": "stream",
     "text": [
      "Test score: 0.10777835860727356\n",
      "Test accuracy: 0.9768000245094299\n"
     ]
    },
    {
     "data": {
      "image/png": "[encoded data removed]",
      "text/plain": [
       "<Figure size 432x288 with 1 Axes>"
      ]
     },
     "metadata": {
      "needs_background": "light",
      "tags": []
     },
     "output_type": "display_data"
    }
   ],
   "source": [
    "score = model_sigmoid.evaluate(X_test, Y_test, verbose=0) \n",
    "print('Test score:', score[0]) \n",
    "print('Test accuracy:', score[1])\n",
    "\n",
    "fig,ax = plt.subplots(1,1)\n",
    "ax.set_xlabel('epoch') ; ax.set_ylabel('Categorical Crossentropy Loss')\n",
    "\n",
    "# list of epoch numbers\n",
    "x = list(range(1,nb_epoch+1))\n",
    "\n",
    "vy = history.history['val_loss']\n",
    "ty = history.history['loss']\n",
    "plt_dynamic(x, vy, ty, ax)"
   ]
  },
  {
   "cell_type": "markdown",
   "metadata": {
    "colab_type": "text",
    "id": "bRVrzqvSQKcL"
   },
   "source": [
    "<h2> MLP + ReLU +SGD </h2>"
   ]
  },
  {
   "cell_type": "code",
   "execution_count": 83,
   "metadata": {
    "colab": {
     "base_uri": "https://localhost:8080/",
     "height": 255
    },
    "colab_type": "code",
    "executionInfo": {
     "elapsed": 1808,
     "status": "ok",
     "timestamp": 1589194221497,
     "user": {
      "displayName": "Mrunal Joshi",
      "photoUrl": "https://lh3.googleusercontent.com/a-/AOh14Gh4sfZImbcxfrP7hFTSOEyBzhAb07jp3pSecuCbeQ=s64",
      "userId": "04128114986664828555"
     },
     "user_tz": -330
    },
    "id": "O8lG2jzmQKcM",
    "outputId": "44468500-c5f7-463c-e50b-22774c5b9b4a"
   },
   "outputs": [
    {
     "name": "stdout",
     "output_type": "stream",
     "text": [
      "Model: \"sequential_15\"\n",
      "_________________________________________________________________\n",
      "Layer (type)                 Output Shape              Param #   \n",
      "=================================================================\n",
      "dense_45 (Dense)             (None, 512)               401920    \n",
      "_________________________________________________________________\n",
      "dense_46 (Dense)             (None, 128)               65664     \n",
      "_________________________________________________________________\n",
      "dense_47 (Dense)             (None, 10)                1290      \n",
      "=================================================================\n",
      "Total params: 468,874\n",
      "Trainable params: 468,874\n",
      "Non-trainable params: 0\n",
      "_________________________________________________________________\n"
     ]
    }
   ],
   "source": [
    "# Multilayer perceptron\n",
    "\n",
    "# https://arxiv.org/pdf/1707.09725.pdf#page=95\n",
    "# for relu layers\n",
    "# If we sample weights from a normal distribution N(0,σ) we satisfy this condition with σ=√(2/(ni). \n",
    "# h1 =>  σ=√(2/(fan_in) = 0.062  => N(0,σ) = N(0,0.062)\n",
    "# h2 =>  σ=√(2/(fan_in) = 0.125  => N(0,σ) = N(0,0.125)\n",
    "# out =>  σ=√(2/(fan_in+1) = 0.120  => N(0,σ) = N(0,0.120)\n",
    "\n",
    "model_relu = Sequential()\n",
    "model_relu.add(Dense(512, activation='relu', input_shape=(input_dim,), kernel_initializer=RandomNormal(mean=0.0, stddev=0.062, seed=None)))\n",
    "model_relu.add(Dense(128, activation='relu', kernel_initializer=RandomNormal(mean=0.0, stddev=0.125, seed=None)) )\n",
    "model_relu.add(Dense(output_dim, activation='softmax'))\n",
    "\n",
    "model_relu.summary()"
   ]
  },
  {
   "cell_type": "code",
   "execution_count": 84,
   "metadata": {
    "colab": {
     "base_uri": "https://localhost:8080/",
     "height": 734
    },
    "colab_type": "code",
    "executionInfo": {
     "elapsed": 75543,
     "status": "ok",
     "timestamp": 1589194300760,
     "user": {
      "displayName": "Mrunal Joshi",
      "photoUrl": "https://lh3.googleusercontent.com/a-/AOh14Gh4sfZImbcxfrP7hFTSOEyBzhAb07jp3pSecuCbeQ=s64",
      "userId": "04128114986664828555"
     },
     "user_tz": -330
    },
    "id": "QhtoviFKQKcP",
    "outputId": "014078bd-af0e-4dc1-d69b-92dad54ac28a"
   },
   "outputs": [
    {
     "name": "stdout",
     "output_type": "stream",
     "text": [
      "Train on 60000 samples, validate on 10000 samples\n",
      "Epoch 1/20\n",
      "60000/60000 [==============================] - 4s 62us/step - loss: 0.7408 - accuracy: 0.7906 - val_loss: 0.3818 - val_accuracy: 0.8932\n",
      "Epoch 2/20\n",
      "60000/60000 [==============================] - 4s 60us/step - loss: 0.3540 - accuracy: 0.8991 - val_loss: 0.2994 - val_accuracy: 0.9152\n",
      "Epoch 3/20\n",
      "60000/60000 [==============================] - 4s 61us/step - loss: 0.2918 - accuracy: 0.9161 - val_loss: 0.2611 - val_accuracy: 0.9260\n",
      "Epoch 4/20\n",
      "60000/60000 [==============================] - 4s 65us/step - loss: 0.2577 - accuracy: 0.9263 - val_loss: 0.2362 - val_accuracy: 0.9320\n",
      "Epoch 5/20\n",
      "60000/60000 [==============================] - 4s 65us/step - loss: 0.2341 - accuracy: 0.9327 - val_loss: 0.2194 - val_accuracy: 0.9352\n",
      "Epoch 6/20\n",
      "60000/60000 [==============================] - 4s 64us/step - loss: 0.2161 - accuracy: 0.9377 - val_loss: 0.2084 - val_accuracy: 0.9392\n",
      "Epoch 7/20\n",
      "60000/60000 [==============================] - 4s 61us/step - loss: 0.2011 - accuracy: 0.9421 - val_loss: 0.1960 - val_accuracy: 0.9419\n",
      "Epoch 8/20\n",
      "60000/60000 [==============================] - 4s 61us/step - loss: 0.1885 - accuracy: 0.9460 - val_loss: 0.1856 - val_accuracy: 0.9450\n",
      "Epoch 9/20\n",
      "60000/60000 [==============================] - 4s 61us/step - loss: 0.1775 - accuracy: 0.9486 - val_loss: 0.1764 - val_accuracy: 0.9462\n",
      "Epoch 10/20\n",
      "60000/60000 [==============================] - 4s 61us/step - loss: 0.1679 - accuracy: 0.9519 - val_loss: 0.1687 - val_accuracy: 0.9495\n",
      "Epoch 11/20\n",
      "60000/60000 [==============================] - 4s 61us/step - loss: 0.1594 - accuracy: 0.9548 - val_loss: 0.1622 - val_accuracy: 0.9519\n",
      "Epoch 12/20\n",
      "60000/60000 [==============================] - 4s 61us/step - loss: 0.1517 - accuracy: 0.9570 - val_loss: 0.1598 - val_accuracy: 0.9515\n",
      "Epoch 13/20\n",
      "60000/60000 [==============================] - 4s 61us/step - loss: 0.1446 - accuracy: 0.9592 - val_loss: 0.1527 - val_accuracy: 0.9529\n",
      "Epoch 14/20\n",
      "60000/60000 [==============================] - 4s 61us/step - loss: 0.1383 - accuracy: 0.9607 - val_loss: 0.1479 - val_accuracy: 0.9559\n",
      "Epoch 15/20\n",
      "60000/60000 [==============================] - 4s 61us/step - loss: 0.1323 - accuracy: 0.9628 - val_loss: 0.1420 - val_accuracy: 0.9576\n",
      "Epoch 16/20\n",
      "60000/60000 [==============================] - 4s 62us/step - loss: 0.1271 - accuracy: 0.9646 - val_loss: 0.1378 - val_accuracy: 0.9591\n",
      "Epoch 17/20\n",
      "60000/60000 [==============================] - 4s 61us/step - loss: 0.1220 - accuracy: 0.9660 - val_loss: 0.1340 - val_accuracy: 0.9600\n",
      "Epoch 18/20\n",
      "60000/60000 [==============================] - 4s 61us/step - loss: 0.1174 - accuracy: 0.9676 - val_loss: 0.1306 - val_accuracy: 0.9605\n",
      "Epoch 19/20\n",
      "60000/60000 [==============================] - 4s 61us/step - loss: 0.1129 - accuracy: 0.9686 - val_loss: 0.1281 - val_accuracy: 0.9615\n",
      "Epoch 20/20\n",
      "60000/60000 [==============================] - 4s 62us/step - loss: 0.1088 - accuracy: 0.9700 - val_loss: 0.1244 - val_accuracy: 0.9626\n"
     ]
    }
   ],
   "source": [
    "model_relu.compile(optimizer='sgd', loss='categorical_crossentropy', metrics=['accuracy'])\n",
    "\n",
    "history = model_relu.fit(X_train, Y_train, batch_size=batch_size, epochs=nb_epoch, verbose=1, validation_data=(X_test, Y_test))"
   ]
  },
  {
   "cell_type": "code",
   "execution_count": 85,
   "metadata": {
    "colab": {
     "base_uri": "https://localhost:8080/",
     "height": 313
    },
    "colab_type": "code",
    "executionInfo": {
     "elapsed": 71347,
     "status": "ok",
     "timestamp": 1589194301703,
     "user": {
      "displayName": "Mrunal Joshi",
      "photoUrl": "https://lh3.googleusercontent.com/a-/AOh14Gh4sfZImbcxfrP7hFTSOEyBzhAb07jp3pSecuCbeQ=s64",
      "userId": "04128114986664828555"
     },
     "user_tz": -330
    },
    "id": "0rKzoKxgQKcS",
    "outputId": "eb4eef15-49ce-4017-e66a-aa0ef2c96a83"
   },
   "outputs": [
    {
     "name": "stdout",
     "output_type": "stream",
     "text": [
      "Test score: 0.12439951572231948\n",
      "Test accuracy: 0.9625999927520752\n"
     ]
    },
    {
     "data": {
      "image/png": "[encoded data removed]",
      "text/plain": [
       "<Figure size 432x288 with 1 Axes>"
      ]
     },
     "metadata": {
      "needs_background": "light",
      "tags": []
     },
     "output_type": "display_data"
    }
   ],
   "source": [
    "score = model_relu.evaluate(X_test, Y_test, verbose=0) \n",
    "print('Test score:', score[0]) \n",
    "print('Test accuracy:', score[1])\n",
    "\n",
    "fig,ax = plt.subplots(1,1)\n",
    "ax.set_xlabel('epoch') ; ax.set_ylabel('Categorical Crossentropy Loss')\n",
    "\n",
    "# list of epoch numbers\n",
    "x = list(range(1,nb_epoch+1))\n",
    "\n",
    "# print(history.history.keys())\n",
    "# dict_keys(['val_loss', 'val_acc', 'loss', 'acc'])\n",
    "# history = model_drop.fit(X_train, Y_train, batch_size=batch_size, epochs=nb_epoch, verbose=1, validation_data=(X_test, Y_test))\n",
    "\n",
    "# we will get val_loss and val_acc only when you pass the paramter validation_data\n",
    "# val_loss : validation loss\n",
    "# val_acc : validation accuracy\n",
    "\n",
    "# loss : training loss\n",
    "# acc : train accuracy\n",
    "# for each key in histrory.histrory we will have a list of length equal to number of epochs\n",
    "\n",
    "vy = history.history['val_loss']\n",
    "ty = history.history['loss']\n",
    "plt_dynamic(x, vy, ty, ax)"
   ]
  },
  {
   "cell_type": "code",
   "execution_count": 86,
   "metadata": {
    "colab": {
     "base_uri": "https://localhost:8080/",
     "height": 285
    },
    "colab_type": "code",
    "executionInfo": {
     "elapsed": 3567,
     "status": "ok",
     "timestamp": 1589194305307,
     "user": {
      "displayName": "Mrunal Joshi",
      "photoUrl": "https://lh3.googleusercontent.com/a-/AOh14Gh4sfZImbcxfrP7hFTSOEyBzhAb07jp3pSecuCbeQ=s64",
      "userId": "04128114986664828555"
     },
     "user_tz": -330
    },
    "id": "z386BnBlQKcV",
    "outputId": "810a3612-dc23-4c20-8925-69ecb8cbf099"
   },
   "outputs": [
    {
     "data": {
      "image/png": "[encoded data removed]",
      "text/plain": [
       "<Figure size 432x288 with 3 Axes>"
      ]
     },
     "metadata": {
      "needs_background": "light",
      "tags": []
     },
     "output_type": "display_data"
    }
   ],
   "source": [
    "w_after = model_relu.get_weights()\n",
    "\n",
    "h1_w = w_after[0].flatten().reshape(-1,1)\n",
    "h2_w = w_after[2].flatten().reshape(-1,1)\n",
    "out_w = w_after[4].flatten().reshape(-1,1)\n",
    "\n",
    "\n",
    "fig = plt.figure()\n",
    "plt.title(\"Weight matrices after model trained\")\n",
    "plt.subplot(1, 3, 1)\n",
    "plt.title(\"Trained model Weights\")\n",
    "ax = sns.violinplot(y=h1_w,color='b')\n",
    "plt.xlabel('Hidden Layer 1')\n",
    "\n",
    "plt.subplot(1, 3, 2)\n",
    "plt.title(\"Trained model Weights\")\n",
    "ax = sns.violinplot(y=h2_w, color='r')\n",
    "plt.xlabel('Hidden Layer 2 ')\n",
    "\n",
    "plt.subplot(1, 3, 3)\n",
    "plt.title(\"Trained model Weights\")\n",
    "ax = sns.violinplot(y=out_w,color='y')\n",
    "plt.xlabel('Output Layer ')\n",
    "plt.show()"
   ]
  },
  {
   "cell_type": "markdown",
   "metadata": {
    "colab_type": "text",
    "id": "uEDRgBpHWAy9"
   },
   "source": [
    "2 Layer"
   ]
  },
  {
   "cell_type": "code",
   "execution_count": 87,
   "metadata": {
    "colab": {
     "base_uri": "https://localhost:8080/",
     "height": 972
    },
    "colab_type": "code",
    "executionInfo": {
     "elapsed": 83580,
     "status": "ok",
     "timestamp": 1589194385331,
     "user": {
      "displayName": "Mrunal Joshi",
      "photoUrl": "https://lh3.googleusercontent.com/a-/AOh14Gh4sfZImbcxfrP7hFTSOEyBzhAb07jp3pSecuCbeQ=s64",
      "userId": "04128114986664828555"
     },
     "user_tz": -330
    },
    "id": "kS13NYCDWDnw",
    "outputId": "d1f8b4e5-2092-4af4-8b08-cb54a9d2debe"
   },
   "outputs": [
    {
     "name": "stdout",
     "output_type": "stream",
     "text": [
      "Model: \"sequential_16\"\n",
      "_________________________________________________________________\n",
      "Layer (type)                 Output Shape              Param #   \n",
      "=================================================================\n",
      "dense_48 (Dense)             (None, 490)               384650    \n",
      "_________________________________________________________________\n",
      "dense_49 (Dense)             (None, 200)               98200     \n",
      "_________________________________________________________________\n",
      "dense_50 (Dense)             (None, 10)                2010      \n",
      "=================================================================\n",
      "Total params: 484,860\n",
      "Trainable params: 484,860\n",
      "Non-trainable params: 0\n",
      "_________________________________________________________________\n",
      "Train on 60000 samples, validate on 10000 samples\n",
      "Epoch 1/20\n",
      "60000/60000 [==============================] - 4s 67us/step - loss: 0.7358 - accuracy: 0.7940 - val_loss: 0.3830 - val_accuracy: 0.8968\n",
      "Epoch 2/20\n",
      "60000/60000 [==============================] - 4s 66us/step - loss: 0.3470 - accuracy: 0.9018 - val_loss: 0.2947 - val_accuracy: 0.9191\n",
      "Epoch 3/20\n",
      "60000/60000 [==============================] - 4s 67us/step - loss: 0.2857 - accuracy: 0.9183 - val_loss: 0.2579 - val_accuracy: 0.9277\n",
      "Epoch 4/20\n",
      "60000/60000 [==============================] - 4s 67us/step - loss: 0.2520 - accuracy: 0.9290 - val_loss: 0.2319 - val_accuracy: 0.9360\n",
      "Epoch 5/20\n",
      "60000/60000 [==============================] - 4s 66us/step - loss: 0.2281 - accuracy: 0.9347 - val_loss: 0.2142 - val_accuracy: 0.9380\n",
      "Epoch 6/20\n",
      "60000/60000 [==============================] - 4s 67us/step - loss: 0.2103 - accuracy: 0.9401 - val_loss: 0.1999 - val_accuracy: 0.9425\n",
      "Epoch 7/20\n",
      "60000/60000 [==============================] - 4s 67us/step - loss: 0.1955 - accuracy: 0.9446 - val_loss: 0.1917 - val_accuracy: 0.9456\n",
      "Epoch 8/20\n",
      "60000/60000 [==============================] - 4s 67us/step - loss: 0.1830 - accuracy: 0.9482 - val_loss: 0.1809 - val_accuracy: 0.9472\n",
      "Epoch 9/20\n",
      "60000/60000 [==============================] - 4s 67us/step - loss: 0.1722 - accuracy: 0.9507 - val_loss: 0.1702 - val_accuracy: 0.9494\n",
      "Epoch 10/20\n",
      "60000/60000 [==============================] - 4s 66us/step - loss: 0.1629 - accuracy: 0.9538 - val_loss: 0.1653 - val_accuracy: 0.9510\n",
      "Epoch 11/20\n",
      "60000/60000 [==============================] - 4s 70us/step - loss: 0.1544 - accuracy: 0.9558 - val_loss: 0.1570 - val_accuracy: 0.9533\n",
      "Epoch 12/20\n",
      "60000/60000 [==============================] - 4s 67us/step - loss: 0.1470 - accuracy: 0.9588 - val_loss: 0.1520 - val_accuracy: 0.9542\n",
      "Epoch 13/20\n",
      "60000/60000 [==============================] - 4s 66us/step - loss: 0.1401 - accuracy: 0.9604 - val_loss: 0.1462 - val_accuracy: 0.9564\n",
      "Epoch 14/20\n",
      "60000/60000 [==============================] - 4s 68us/step - loss: 0.1339 - accuracy: 0.9622 - val_loss: 0.1411 - val_accuracy: 0.9558\n",
      "Epoch 15/20\n",
      "60000/60000 [==============================] - 4s 67us/step - loss: 0.1286 - accuracy: 0.9636 - val_loss: 0.1369 - val_accuracy: 0.9582\n",
      "Epoch 16/20\n",
      "60000/60000 [==============================] - 4s 67us/step - loss: 0.1231 - accuracy: 0.9658 - val_loss: 0.1328 - val_accuracy: 0.9602\n",
      "Epoch 17/20\n",
      "60000/60000 [==============================] - 4s 67us/step - loss: 0.1184 - accuracy: 0.9668 - val_loss: 0.1308 - val_accuracy: 0.9605\n",
      "Epoch 18/20\n",
      "60000/60000 [==============================] - 4s 66us/step - loss: 0.1138 - accuracy: 0.9683 - val_loss: 0.1272 - val_accuracy: 0.9622\n",
      "Epoch 19/20\n",
      "60000/60000 [==============================] - 4s 66us/step - loss: 0.1098 - accuracy: 0.9694 - val_loss: 0.1232 - val_accuracy: 0.9630\n",
      "Epoch 20/20\n",
      "60000/60000 [==============================] - 4s 67us/step - loss: 0.1057 - accuracy: 0.9704 - val_loss: 0.1194 - val_accuracy: 0.9642\n"
     ]
    }
   ],
   "source": [
    "model_relu = Sequential()\n",
    "model_relu.add(Dense(490, activation='relu', input_shape=(input_dim,), kernel_initializer=RandomNormal(mean=0.0, stddev=0.062, seed=None)))\n",
    "model_relu.add(Dense(200, activation='relu', kernel_initializer=RandomNormal(mean=0.0, stddev=0.125, seed=None)) )\n",
    "model_relu.add(Dense(output_dim, activation='softmax'))\n",
    "\n",
    "model_relu.summary()\n",
    "\n",
    "model_relu.compile(optimizer='sgd', loss='categorical_crossentropy', metrics=['accuracy'])\n",
    "\n",
    "history = model_relu.fit(X_train, Y_train, batch_size=batch_size, epochs=nb_epoch, verbose=1, validation_data=(X_test, Y_test))"
   ]
  },
  {
   "cell_type": "code",
   "execution_count": 88,
   "metadata": {
    "colab": {
     "base_uri": "https://localhost:8080/",
     "height": 313
    },
    "colab_type": "code",
    "executionInfo": {
     "elapsed": 84117,
     "status": "ok",
     "timestamp": 1589194385873,
     "user": {
      "displayName": "Mrunal Joshi",
      "photoUrl": "https://lh3.googleusercontent.com/a-/AOh14Gh4sfZImbcxfrP7hFTSOEyBzhAb07jp3pSecuCbeQ=s64",
      "userId": "04128114986664828555"
     },
     "user_tz": -330
    },
    "id": "LLMqyweMWEii",
    "outputId": "5e7d2ad6-fe1f-4450-83d7-b3e8a7137d5f"
   },
   "outputs": [
    {
     "name": "stdout",
     "output_type": "stream",
     "text": [
      "Test score: 0.11942493871934712\n",
      "Test accuracy: 0.9642000198364258\n"
     ]
    },
    {
     "data": {
      "image/png": "[encoded data removed]",
      "text/plain": [
       "<Figure size 432x288 with 1 Axes>"
      ]
     },
     "metadata": {
      "needs_background": "light",
      "tags": []
     },
     "output_type": "display_data"
    }
   ],
   "source": [
    "score = model_relu.evaluate(X_test, Y_test, verbose=0) \n",
    "print('Test score:', score[0]) \n",
    "print('Test accuracy:', score[1])\n",
    "\n",
    "fig,ax = plt.subplots(1,1)\n",
    "ax.set_xlabel('epoch') ; ax.set_ylabel('Categorical Crossentropy Loss')\n",
    "\n",
    "# list of epoch numbers\n",
    "x = list(range(1,nb_epoch+1))\n",
    "\n",
    "vy = history.history['val_loss']\n",
    "ty = history.history['loss']\n",
    "plt_dynamic(x, vy, ty, ax)"
   ]
  },
  {
   "cell_type": "markdown",
   "metadata": {
    "colab_type": "text",
    "id": "QGaSYRIjWQPN"
   },
   "source": [
    "3 Layer"
   ]
  },
  {
   "cell_type": "code",
   "execution_count": 89,
   "metadata": {
    "colab": {
     "base_uri": "https://localhost:8080/",
     "height": 1000
    },
    "colab_type": "code",
    "executionInfo": {
     "elapsed": 151112,
     "status": "ok",
     "timestamp": 1589194456780,
     "user": {
      "displayName": "Mrunal Joshi",
      "photoUrl": "https://lh3.googleusercontent.com/a-/AOh14Gh4sfZImbcxfrP7hFTSOEyBzhAb07jp3pSecuCbeQ=s64",
      "userId": "04128114986664828555"
     },
     "user_tz": -330
    },
    "id": "ZT_b2PF4WRoq",
    "outputId": "b9772fec-ed7f-469b-ffd9-709459829d60"
   },
   "outputs": [
    {
     "name": "stdout",
     "output_type": "stream",
     "text": [
      "Model: \"sequential_17\"\n",
      "_________________________________________________________________\n",
      "Layer (type)                 Output Shape              Param #   \n",
      "=================================================================\n",
      "dense_51 (Dense)             (None, 440)               345400    \n",
      "_________________________________________________________________\n",
      "dense_52 (Dense)             (None, 128)               56448     \n",
      "_________________________________________________________________\n",
      "dense_53 (Dense)             (None, 60)                7740      \n",
      "_________________________________________________________________\n",
      "dense_54 (Dense)             (None, 10)                610       \n",
      "=================================================================\n",
      "Total params: 410,198\n",
      "Trainable params: 410,198\n",
      "Non-trainable params: 0\n",
      "_________________________________________________________________\n",
      "Train on 60000 samples, validate on 10000 samples\n",
      "Epoch 1/20\n",
      "60000/60000 [==============================] - 4s 60us/step - loss: 0.8320 - accuracy: 0.7569 - val_loss: 0.3882 - val_accuracy: 0.8890\n",
      "Epoch 2/20\n",
      "60000/60000 [==============================] - 4s 59us/step - loss: 0.3387 - accuracy: 0.9019 - val_loss: 0.2889 - val_accuracy: 0.9168\n",
      "Epoch 3/20\n",
      "60000/60000 [==============================] - 4s 59us/step - loss: 0.2690 - accuracy: 0.9220 - val_loss: 0.2484 - val_accuracy: 0.9299\n",
      "Epoch 4/20\n",
      "60000/60000 [==============================] - 4s 59us/step - loss: 0.2323 - accuracy: 0.9323 - val_loss: 0.2216 - val_accuracy: 0.9360\n",
      "Epoch 5/20\n",
      "60000/60000 [==============================] - 3s 58us/step - loss: 0.2073 - accuracy: 0.9389 - val_loss: 0.2032 - val_accuracy: 0.9422\n",
      "Epoch 6/20\n",
      "60000/60000 [==============================] - 3s 58us/step - loss: 0.1886 - accuracy: 0.9451 - val_loss: 0.1874 - val_accuracy: 0.9451\n",
      "Epoch 7/20\n",
      "60000/60000 [==============================] - 3s 58us/step - loss: 0.1738 - accuracy: 0.9496 - val_loss: 0.1765 - val_accuracy: 0.9480\n",
      "Epoch 8/20\n",
      "60000/60000 [==============================] - 3s 58us/step - loss: 0.1610 - accuracy: 0.9534 - val_loss: 0.1660 - val_accuracy: 0.9510\n",
      "Epoch 9/20\n",
      "60000/60000 [==============================] - 3s 58us/step - loss: 0.1505 - accuracy: 0.9561 - val_loss: 0.1589 - val_accuracy: 0.9528\n",
      "Epoch 10/20\n",
      "60000/60000 [==============================] - 4s 59us/step - loss: 0.1408 - accuracy: 0.9594 - val_loss: 0.1513 - val_accuracy: 0.9543\n",
      "Epoch 11/20\n",
      "60000/60000 [==============================] - 4s 59us/step - loss: 0.1325 - accuracy: 0.9621 - val_loss: 0.1463 - val_accuracy: 0.9567\n",
      "Epoch 12/20\n",
      "60000/60000 [==============================] - 3s 58us/step - loss: 0.1250 - accuracy: 0.9644 - val_loss: 0.1388 - val_accuracy: 0.9585\n",
      "Epoch 13/20\n",
      "60000/60000 [==============================] - 4s 58us/step - loss: 0.1184 - accuracy: 0.9664 - val_loss: 0.1348 - val_accuracy: 0.9598\n",
      "Epoch 14/20\n",
      "60000/60000 [==============================] - 4s 59us/step - loss: 0.1119 - accuracy: 0.9691 - val_loss: 0.1301 - val_accuracy: 0.9611\n",
      "Epoch 15/20\n",
      "60000/60000 [==============================] - 3s 58us/step - loss: 0.1062 - accuracy: 0.9704 - val_loss: 0.1268 - val_accuracy: 0.9618\n",
      "Epoch 16/20\n",
      "60000/60000 [==============================] - 3s 58us/step - loss: 0.1011 - accuracy: 0.9716 - val_loss: 0.1247 - val_accuracy: 0.9622\n",
      "Epoch 17/20\n",
      "60000/60000 [==============================] - 4s 59us/step - loss: 0.0962 - accuracy: 0.9730 - val_loss: 0.1194 - val_accuracy: 0.9637\n",
      "Epoch 18/20\n",
      "60000/60000 [==============================] - 4s 59us/step - loss: 0.0918 - accuracy: 0.9744 - val_loss: 0.1192 - val_accuracy: 0.9648\n",
      "Epoch 19/20\n",
      "60000/60000 [==============================] - 3s 58us/step - loss: 0.0874 - accuracy: 0.9758 - val_loss: 0.1136 - val_accuracy: 0.9665\n",
      "Epoch 20/20\n",
      "60000/60000 [==============================] - 4s 59us/step - loss: 0.0836 - accuracy: 0.9774 - val_loss: 0.1140 - val_accuracy: 0.9663\n"
     ]
    }
   ],
   "source": [
    "model_relu = Sequential()\n",
    "model_relu.add(Dense(440, activation='relu', input_shape=(input_dim,), kernel_initializer=RandomNormal(mean=0.0, stddev=0.062, seed=None)))\n",
    "model_relu.add(Dense(128, activation='relu', kernel_initializer=RandomNormal(mean=0.0, stddev=0.125, seed=None)) )\n",
    "model_relu.add(Dense(60, activation='relu', kernel_initializer=RandomNormal(mean=0.0, stddev=0.125, seed=None)) )\n",
    "\n",
    "model_relu.add(Dense(output_dim, activation='softmax'))\n",
    "\n",
    "model_relu.summary()\n",
    "\n",
    "model_relu.compile(optimizer='sgd', loss='categorical_crossentropy', metrics=['accuracy'])\n",
    "\n",
    "history = model_relu.fit(X_train, Y_train, batch_size=batch_size, epochs=nb_epoch, verbose=1, validation_data=(X_test, Y_test))"
   ]
  },
  {
   "cell_type": "code",
   "execution_count": 90,
   "metadata": {
    "colab": {
     "base_uri": "https://localhost:8080/",
     "height": 313
    },
    "colab_type": "code",
    "executionInfo": {
     "elapsed": 145890,
     "status": "ok",
     "timestamp": 1589194457350,
     "user": {
      "displayName": "Mrunal Joshi",
      "photoUrl": "https://lh3.googleusercontent.com/a-/AOh14Gh4sfZImbcxfrP7hFTSOEyBzhAb07jp3pSecuCbeQ=s64",
      "userId": "04128114986664828555"
     },
     "user_tz": -330
    },
    "id": "g0CzR6coWUbd",
    "outputId": "3a09ae16-533a-4f98-b66c-f887a47be616"
   },
   "outputs": [
    {
     "name": "stdout",
     "output_type": "stream",
     "text": [
      "Test score: 0.11402928958134725\n",
      "Test accuracy: 0.9663000106811523\n"
     ]
    },
    {
     "data": {
      "image/png": "[encoded data removed]",
      "text/plain": [
       "<Figure size 432x288 with 1 Axes>"
      ]
     },
     "metadata": {
      "needs_background": "light",
      "tags": []
     },
     "output_type": "display_data"
    }
   ],
   "source": [
    "score = model_relu.evaluate(X_test, Y_test, verbose=0) \n",
    "print('Test score:', score[0]) \n",
    "print('Test accuracy:', score[1])\n",
    "\n",
    "fig,ax = plt.subplots(1,1)\n",
    "ax.set_xlabel('epoch') ; ax.set_ylabel('Categorical Crossentropy Loss')\n",
    "\n",
    "# list of epoch numbers\n",
    "x = list(range(1,nb_epoch+1))\n",
    "\n",
    "vy = history.history['val_loss']\n",
    "ty = history.history['loss']\n",
    "plt_dynamic(x, vy, ty, ax)"
   ]
  },
  {
   "cell_type": "markdown",
   "metadata": {
    "colab_type": "text",
    "id": "ng9Y4wjCWWCc"
   },
   "source": [
    "5 Layer"
   ]
  },
  {
   "cell_type": "code",
   "execution_count": 91,
   "metadata": {
    "colab": {
     "base_uri": "https://localhost:8080/",
     "height": 1000
    },
    "colab_type": "code",
    "executionInfo": {
     "elapsed": 128707,
     "status": "ok",
     "timestamp": 1589194586100,
     "user": {
      "displayName": "Mrunal Joshi",
      "photoUrl": "https://lh3.googleusercontent.com/a-/AOh14Gh4sfZImbcxfrP7hFTSOEyBzhAb07jp3pSecuCbeQ=s64",
      "userId": "04128114986664828555"
     },
     "user_tz": -330
    },
    "id": "Y_wXg0H-WZJi",
    "outputId": "333c58c4-9170-436c-a3f4-c3231fcf72b5"
   },
   "outputs": [
    {
     "name": "stdout",
     "output_type": "stream",
     "text": [
      "Model: \"sequential_18\"\n",
      "_________________________________________________________________\n",
      "Layer (type)                 Output Shape              Param #   \n",
      "=================================================================\n",
      "dense_55 (Dense)             (None, 512)               401920    \n",
      "_________________________________________________________________\n",
      "dense_56 (Dense)             (None, 420)               215460    \n",
      "_________________________________________________________________\n",
      "dense_57 (Dense)             (None, 212)               89252     \n",
      "_________________________________________________________________\n",
      "dense_58 (Dense)             (None, 120)               25560     \n",
      "_________________________________________________________________\n",
      "dense_59 (Dense)             (None, 66)                7986      \n",
      "_________________________________________________________________\n",
      "dense_60 (Dense)             (None, 10)                670       \n",
      "=================================================================\n",
      "Total params: 740,848\n",
      "Trainable params: 740,848\n",
      "Non-trainable params: 0\n",
      "_________________________________________________________________\n",
      "Train on 60000 samples, validate on 10000 samples\n",
      "Epoch 1/20\n",
      "60000/60000 [==============================] - 6s 106us/step - loss: 0.5180 - accuracy: 0.8431 - val_loss: 0.2714 - val_accuracy: 0.9195\n",
      "Epoch 2/20\n",
      "60000/60000 [==============================] - 6s 104us/step - loss: 0.2358 - accuracy: 0.9294 - val_loss: 0.2065 - val_accuracy: 0.9367\n",
      "Epoch 3/20\n",
      "60000/60000 [==============================] - 6s 105us/step - loss: 0.1805 - accuracy: 0.9459 - val_loss: 0.1734 - val_accuracy: 0.9482\n",
      "Epoch 4/20\n",
      "60000/60000 [==============================] - 6s 106us/step - loss: 0.1494 - accuracy: 0.9558 - val_loss: 0.1591 - val_accuracy: 0.9523\n",
      "Epoch 5/20\n",
      "60000/60000 [==============================] - 6s 105us/step - loss: 0.1267 - accuracy: 0.9631 - val_loss: 0.1417 - val_accuracy: 0.9575\n",
      "Epoch 6/20\n",
      "60000/60000 [==============================] - 6s 103us/step - loss: 0.1109 - accuracy: 0.9669 - val_loss: 0.1371 - val_accuracy: 0.9592\n",
      "Epoch 7/20\n",
      "60000/60000 [==============================] - 6s 104us/step - loss: 0.0962 - accuracy: 0.9718 - val_loss: 0.1425 - val_accuracy: 0.9550\n",
      "Epoch 8/20\n",
      "60000/60000 [==============================] - 6s 104us/step - loss: 0.0850 - accuracy: 0.9757 - val_loss: 0.1223 - val_accuracy: 0.9624\n",
      "Epoch 9/20\n",
      "60000/60000 [==============================] - 6s 105us/step - loss: 0.0758 - accuracy: 0.9781 - val_loss: 0.1191 - val_accuracy: 0.9643\n",
      "Epoch 10/20\n",
      "60000/60000 [==============================] - 6s 106us/step - loss: 0.0676 - accuracy: 0.9808 - val_loss: 0.1129 - val_accuracy: 0.9661\n",
      "Epoch 11/20\n",
      "60000/60000 [==============================] - 6s 103us/step - loss: 0.0605 - accuracy: 0.9829 - val_loss: 0.1118 - val_accuracy: 0.9658\n",
      "Epoch 12/20\n",
      "60000/60000 [==============================] - 6s 104us/step - loss: 0.0541 - accuracy: 0.9849 - val_loss: 0.1133 - val_accuracy: 0.9663\n",
      "Epoch 13/20\n",
      "60000/60000 [==============================] - 6s 107us/step - loss: 0.0488 - accuracy: 0.9868 - val_loss: 0.1173 - val_accuracy: 0.9648\n",
      "Epoch 14/20\n",
      "60000/60000 [==============================] - 6s 105us/step - loss: 0.0438 - accuracy: 0.9886 - val_loss: 0.1092 - val_accuracy: 0.9653\n",
      "Epoch 15/20\n",
      "60000/60000 [==============================] - 6s 107us/step - loss: 0.0395 - accuracy: 0.9902 - val_loss: 0.1071 - val_accuracy: 0.9678\n",
      "Epoch 16/20\n",
      "60000/60000 [==============================] - 7s 109us/step - loss: 0.0360 - accuracy: 0.9911 - val_loss: 0.1039 - val_accuracy: 0.9693\n",
      "Epoch 17/20\n",
      "60000/60000 [==============================] - 6s 105us/step - loss: 0.0321 - accuracy: 0.9924 - val_loss: 0.1070 - val_accuracy: 0.9688\n",
      "Epoch 18/20\n",
      "60000/60000 [==============================] - 6s 107us/step - loss: 0.0287 - accuracy: 0.9935 - val_loss: 0.1033 - val_accuracy: 0.9693\n",
      "Epoch 19/20\n",
      "60000/60000 [==============================] - 6s 106us/step - loss: 0.0260 - accuracy: 0.9943 - val_loss: 0.1021 - val_accuracy: 0.9705\n",
      "Epoch 20/20\n",
      "60000/60000 [==============================] - 6s 106us/step - loss: 0.0234 - accuracy: 0.9950 - val_loss: 0.1049 - val_accuracy: 0.9700\n"
     ]
    }
   ],
   "source": [
    "model_relu = Sequential()\n",
    "model_relu.add(Dense(512, activation='relu', input_shape=(input_dim,), kernel_initializer=RandomNormal(mean=0.0, stddev=0.062, seed=None)))\n",
    "model_relu.add(Dense(420, activation='relu', kernel_initializer=RandomNormal(mean=0.0, stddev=0.125, seed=None)) )\n",
    "model_relu.add(Dense(212, activation='relu', kernel_initializer=RandomNormal(mean=0.0, stddev=0.125, seed=None)) )\n",
    "model_relu.add(Dense(120, activation='relu', kernel_initializer=RandomNormal(mean=0.0, stddev=0.125, seed=None)) )\n",
    "model_relu.add(Dense(66, activation='relu', kernel_initializer=RandomNormal(mean=0.0, stddev=0.125, seed=None)) )\n",
    "model_relu.add(Dense(output_dim, activation='softmax'))\n",
    "\n",
    "model_relu.summary()\n",
    "\n",
    "model_relu.compile(optimizer='sgd', loss='categorical_crossentropy', metrics=['accuracy'])\n",
    "\n",
    "history = model_relu.fit(X_train, Y_train, batch_size=batch_size, epochs=nb_epoch, verbose=1, validation_data=(X_test, Y_test))"
   ]
  },
  {
   "cell_type": "code",
   "execution_count": 92,
   "metadata": {
    "colab": {
     "base_uri": "https://localhost:8080/",
     "height": 313
    },
    "colab_type": "code",
    "executionInfo": {
     "elapsed": 129236,
     "status": "ok",
     "timestamp": 1589194586648,
     "user": {
      "displayName": "Mrunal Joshi",
      "photoUrl": "https://lh3.googleusercontent.com/a-/AOh14Gh4sfZImbcxfrP7hFTSOEyBzhAb07jp3pSecuCbeQ=s64",
      "userId": "04128114986664828555"
     },
     "user_tz": -330
    },
    "id": "g68TWGs6WaAo",
    "outputId": "f07e4218-dd3f-45a2-d729-23340f6925ba"
   },
   "outputs": [
    {
     "name": "stdout",
     "output_type": "stream",
     "text": [
      "Test score: 0.10493868168258923\n",
      "Test accuracy: 0.9700000286102295\n"
     ]
    },
    {
     "data": {
      "image/png": "[encoded data removed]",
      "text/plain": [
       "<Figure size 432x288 with 1 Axes>"
      ]
     },
     "metadata": {
      "needs_background": "light",
      "tags": []
     },
     "output_type": "display_data"
    }
   ],
   "source": [
    "score = model_relu.evaluate(X_test, Y_test, verbose=0) \n",
    "print('Test score:', score[0]) \n",
    "print('Test accuracy:', score[1])\n",
    "\n",
    "fig,ax = plt.subplots(1,1)\n",
    "ax.set_xlabel('epoch') ; ax.set_ylabel('Categorical Crossentropy Loss')\n",
    "\n",
    "# list of epoch numbers\n",
    "x = list(range(1,nb_epoch+1))\n",
    "\n",
    "vy = history.history['val_loss']\n",
    "ty = history.history['loss']\n",
    "plt_dynamic(x, vy, ty, ax)"
   ]
  },
  {
   "cell_type": "markdown",
   "metadata": {
    "colab_type": "text",
    "id": "9ccmfiVGQKcc"
   },
   "source": [
    "<h2> MLP + ReLU + ADAM </h2>"
   ]
  },
  {
   "cell_type": "code",
   "execution_count": 93,
   "metadata": {
    "colab": {
     "base_uri": "https://localhost:8080/",
     "height": 989
    },
    "colab_type": "code",
    "executionInfo": {
     "elapsed": 102307,
     "status": "ok",
     "timestamp": 1589194711786,
     "user": {
      "displayName": "Mrunal Joshi",
      "photoUrl": "https://lh3.googleusercontent.com/a-/AOh14Gh4sfZImbcxfrP7hFTSOEyBzhAb07jp3pSecuCbeQ=s64",
      "userId": "04128114986664828555"
     },
     "user_tz": -330
    },
    "id": "-CtwrinkQKcc",
    "outputId": "4371afd2-3a09-4cec-95d4-7156d9cca7b5"
   },
   "outputs": [
    {
     "name": "stdout",
     "output_type": "stream",
     "text": [
      "Model: \"sequential_19\"\n",
      "_________________________________________________________________\n",
      "Layer (type)                 Output Shape              Param #   \n",
      "=================================================================\n",
      "dense_61 (Dense)             (None, 512)               401920    \n",
      "_________________________________________________________________\n",
      "dense_62 (Dense)             (None, 128)               65664     \n",
      "_________________________________________________________________\n",
      "dense_63 (Dense)             (None, 10)                1290      \n",
      "=================================================================\n",
      "Total params: 468,874\n",
      "Trainable params: 468,874\n",
      "Non-trainable params: 0\n",
      "_________________________________________________________________\n",
      "None\n",
      "Train on 60000 samples, validate on 10000 samples\n",
      "Epoch 1/20\n",
      "60000/60000 [==============================] - 5s 81us/step - loss: 0.2240 - accuracy: 0.9319 - val_loss: 0.1101 - val_accuracy: 0.9659\n",
      "Epoch 2/20\n",
      "60000/60000 [==============================] - 5s 80us/step - loss: 0.0867 - accuracy: 0.9737 - val_loss: 0.0807 - val_accuracy: 0.9752\n",
      "Epoch 3/20\n",
      "60000/60000 [==============================] - 5s 80us/step - loss: 0.0536 - accuracy: 0.9830 - val_loss: 0.0674 - val_accuracy: 0.9797\n",
      "Epoch 4/20\n",
      "60000/60000 [==============================] - 5s 81us/step - loss: 0.0363 - accuracy: 0.9886 - val_loss: 0.0728 - val_accuracy: 0.9774\n",
      "Epoch 5/20\n",
      "60000/60000 [==============================] - 5s 85us/step - loss: 0.0244 - accuracy: 0.9923 - val_loss: 0.0685 - val_accuracy: 0.9779\n",
      "Epoch 6/20\n",
      "60000/60000 [==============================] - 5s 84us/step - loss: 0.0193 - accuracy: 0.9938 - val_loss: 0.0729 - val_accuracy: 0.9778\n",
      "Epoch 7/20\n",
      "60000/60000 [==============================] - 5s 84us/step - loss: 0.0152 - accuracy: 0.9954 - val_loss: 0.0716 - val_accuracy: 0.9806\n",
      "Epoch 8/20\n",
      "60000/60000 [==============================] - 5s 84us/step - loss: 0.0134 - accuracy: 0.9957 - val_loss: 0.0696 - val_accuracy: 0.9805\n",
      "Epoch 9/20\n",
      "60000/60000 [==============================] - 5s 87us/step - loss: 0.0152 - accuracy: 0.9947 - val_loss: 0.0835 - val_accuracy: 0.9790\n",
      "Epoch 10/20\n",
      "60000/60000 [==============================] - 5s 86us/step - loss: 0.0156 - accuracy: 0.9947 - val_loss: 0.0839 - val_accuracy: 0.9782\n",
      "Epoch 11/20\n",
      "60000/60000 [==============================] - 5s 84us/step - loss: 0.0105 - accuracy: 0.9965 - val_loss: 0.0875 - val_accuracy: 0.9785\n",
      "Epoch 12/20\n",
      "60000/60000 [==============================] - 5s 86us/step - loss: 0.0099 - accuracy: 0.9967 - val_loss: 0.0775 - val_accuracy: 0.9820\n",
      "Epoch 13/20\n",
      "60000/60000 [==============================] - 5s 85us/step - loss: 0.0082 - accuracy: 0.9972 - val_loss: 0.0926 - val_accuracy: 0.9774\n",
      "Epoch 14/20\n",
      "60000/60000 [==============================] - 5s 85us/step - loss: 0.0090 - accuracy: 0.9969 - val_loss: 0.0875 - val_accuracy: 0.9806\n",
      "Epoch 15/20\n",
      "60000/60000 [==============================] - 5s 84us/step - loss: 0.0106 - accuracy: 0.9965 - val_loss: 0.0905 - val_accuracy: 0.9793\n",
      "Epoch 16/20\n",
      "60000/60000 [==============================] - 5s 84us/step - loss: 0.0112 - accuracy: 0.9962 - val_loss: 0.0871 - val_accuracy: 0.9813\n",
      "Epoch 17/20\n",
      "60000/60000 [==============================] - 5s 85us/step - loss: 0.0058 - accuracy: 0.9979 - val_loss: 0.0816 - val_accuracy: 0.9823\n",
      "Epoch 18/20\n",
      "60000/60000 [==============================] - 5s 85us/step - loss: 0.0055 - accuracy: 0.9984 - val_loss: 0.0957 - val_accuracy: 0.9802\n",
      "Epoch 19/20\n",
      "60000/60000 [==============================] - 5s 84us/step - loss: 0.0072 - accuracy: 0.9977 - val_loss: 0.0795 - val_accuracy: 0.9830\n",
      "Epoch 20/20\n",
      "60000/60000 [==============================] - 5s 86us/step - loss: 0.0086 - accuracy: 0.9974 - val_loss: 0.0990 - val_accuracy: 0.9804\n"
     ]
    }
   ],
   "source": [
    "model_relu = Sequential()\n",
    "model_relu.add(Dense(512, activation='relu', input_shape=(input_dim,), kernel_initializer=RandomNormal(mean=0.0, stddev=0.062, seed=None)))\n",
    "model_relu.add(Dense(128, activation='relu', kernel_initializer=RandomNormal(mean=0.0, stddev=0.125, seed=None)) )\n",
    "model_relu.add(Dense(output_dim, activation='softmax'))\n",
    "\n",
    "print(model_relu.summary())\n",
    "\n",
    "model_relu.compile(optimizer='adam', loss='categorical_crossentropy', metrics=['accuracy'])\n",
    "\n",
    "history = model_relu.fit(X_train, Y_train, batch_size=batch_size, epochs=nb_epoch, verbose=1, validation_data=(X_test, Y_test))"
   ]
  },
  {
   "cell_type": "code",
   "execution_count": 94,
   "metadata": {
    "colab": {
     "base_uri": "https://localhost:8080/",
     "height": 313
    },
    "colab_type": "code",
    "executionInfo": {
     "elapsed": 2179,
     "status": "ok",
     "timestamp": 1589194714111,
     "user": {
      "displayName": "Mrunal Joshi",
      "photoUrl": "https://lh3.googleusercontent.com/a-/AOh14Gh4sfZImbcxfrP7hFTSOEyBzhAb07jp3pSecuCbeQ=s64",
      "userId": "04128114986664828555"
     },
     "user_tz": -330
    },
    "id": "niCdh2TUQKce",
    "outputId": "226f93d6-52e0-4ccf-d255-cfe5a5668043"
   },
   "outputs": [
    {
     "name": "stdout",
     "output_type": "stream",
     "text": [
      "Test score: 0.09895115456724864\n",
      "Test accuracy: 0.980400025844574\n"
     ]
    },
    {
     "data": {
      "image/png": "[encoded data removed]",
      "text/plain": [
       "<Figure size 432x288 with 1 Axes>"
      ]
     },
     "metadata": {
      "needs_background": "light",
      "tags": []
     },
     "output_type": "display_data"
    }
   ],
   "source": [
    "score = model_relu.evaluate(X_test, Y_test, verbose=0) \n",
    "print('Test score:', score[0]) \n",
    "print('Test accuracy:', score[1])\n",
    "\n",
    "fig,ax = plt.subplots(1,1)\n",
    "ax.set_xlabel('epoch') ; ax.set_ylabel('Categorical Crossentropy Loss')\n",
    "\n",
    "# list of epoch numbers\n",
    "x = list(range(1,nb_epoch+1))\n",
    "\n",
    "# print(history.history.keys())\n",
    "# dict_keys(['val_loss', 'val_acc', 'loss', 'acc'])\n",
    "# history = model_drop.fit(X_train, Y_train, batch_size=batch_size, epochs=nb_epoch, verbose=1, validation_data=(X_test, Y_test))\n",
    "\n",
    "# we will get val_loss and val_acc only when you pass the paramter validation_data\n",
    "# val_loss : validation loss\n",
    "# val_acc : validation accuracy\n",
    "\n",
    "# loss : training loss\n",
    "# acc : train accuracy\n",
    "# for each key in histrory.histrory we will have a list of length equal to number of epochs\n",
    "\n",
    "\n",
    "vy = history.history['val_loss']\n",
    "ty = history.history['loss']\n",
    "plt_dynamic(x, vy, ty, ax)"
   ]
  },
  {
   "cell_type": "code",
   "execution_count": 95,
   "metadata": {
    "colab": {
     "base_uri": "https://localhost:8080/",
     "height": 285
    },
    "colab_type": "code",
    "executionInfo": {
     "elapsed": 4520,
     "status": "ok",
     "timestamp": 1589194716483,
     "user": {
      "displayName": "Mrunal Joshi",
      "photoUrl": "https://lh3.googleusercontent.com/a-/AOh14Gh4sfZImbcxfrP7hFTSOEyBzhAb07jp3pSecuCbeQ=s64",
      "userId": "04128114986664828555"
     },
     "user_tz": -330
    },
    "id": "PDtptoSnQKcf",
    "outputId": "6fbbd8f1-4d3d-435f-ee9a-e9fedc655e58"
   },
   "outputs": [
    {
     "data": {
      "image/png": "[encoded data removed]",
      "text/plain": [
       "<Figure size 432x288 with 3 Axes>"
      ]
     },
     "metadata": {
      "needs_background": "light",
      "tags": []
     },
     "output_type": "display_data"
    }
   ],
   "source": [
    "w_after = model_relu.get_weights()\n",
    "\n",
    "h1_w = w_after[0].flatten().reshape(-1,1)\n",
    "h2_w = w_after[2].flatten().reshape(-1,1)\n",
    "out_w = w_after[4].flatten().reshape(-1,1)\n",
    "\n",
    "\n",
    "fig = plt.figure()\n",
    "plt.title(\"Weight matrices after model trained\")\n",
    "plt.subplot(1, 3, 1)\n",
    "plt.title(\"Trained model Weights\")\n",
    "ax = sns.violinplot(y=h1_w,color='b')\n",
    "plt.xlabel('Hidden Layer 1')\n",
    "\n",
    "plt.subplot(1, 3, 2)\n",
    "plt.title(\"Trained model Weights\")\n",
    "ax = sns.violinplot(y=h2_w, color='r')\n",
    "plt.xlabel('Hidden Layer 2 ')\n",
    "\n",
    "plt.subplot(1, 3, 3)\n",
    "plt.title(\"Trained model Weights\")\n",
    "ax = sns.violinplot(y=out_w,color='y')\n",
    "plt.xlabel('Output Layer ')\n",
    "plt.show()"
   ]
  },
  {
   "cell_type": "markdown",
   "metadata": {
    "colab_type": "text",
    "id": "uEzIhA30YAHs"
   },
   "source": [
    "3 Layer"
   ]
  },
  {
   "cell_type": "code",
   "execution_count": 96,
   "metadata": {
    "colab": {
     "base_uri": "https://localhost:8080/",
     "height": 1000
    },
    "colab_type": "code",
    "executionInfo": {
     "elapsed": 141671,
     "status": "ok",
     "timestamp": 1589194853643,
     "user": {
      "displayName": "Mrunal Joshi",
      "photoUrl": "https://lh3.googleusercontent.com/a-/AOh14Gh4sfZImbcxfrP7hFTSOEyBzhAb07jp3pSecuCbeQ=s64",
      "userId": "04128114986664828555"
     },
     "user_tz": -330
    },
    "id": "YNM43QfOYCY3",
    "outputId": "9aa3f56c-21d8-4480-a8a5-2d38db2e496e"
   },
   "outputs": [
    {
     "name": "stdout",
     "output_type": "stream",
     "text": [
      "Model: \"sequential_20\"\n",
      "_________________________________________________________________\n",
      "Layer (type)                 Output Shape              Param #   \n",
      "=================================================================\n",
      "dense_64 (Dense)             (None, 489)               383865    \n",
      "_________________________________________________________________\n",
      "dense_65 (Dense)             (None, 322)               157780    \n",
      "_________________________________________________________________\n",
      "dense_66 (Dense)             (None, 100)               32300     \n",
      "_________________________________________________________________\n",
      "dense_67 (Dense)             (None, 10)                1010      \n",
      "=================================================================\n",
      "Total params: 574,955\n",
      "Trainable params: 574,955\n",
      "Non-trainable params: 0\n",
      "_________________________________________________________________\n",
      "None\n",
      "Train on 60000 samples, validate on 10000 samples\n",
      "Epoch 1/20\n",
      "60000/60000 [==============================] - 7s 116us/step - loss: 0.2264 - accuracy: 0.9315 - val_loss: 0.1201 - val_accuracy: 0.9645\n",
      "Epoch 2/20\n",
      "60000/60000 [==============================] - 7s 113us/step - loss: 0.0803 - accuracy: 0.9757 - val_loss: 0.0956 - val_accuracy: 0.9697\n",
      "Epoch 3/20\n",
      "60000/60000 [==============================] - 7s 114us/step - loss: 0.0540 - accuracy: 0.9821 - val_loss: 0.0760 - val_accuracy: 0.9767\n",
      "Epoch 4/20\n",
      "60000/60000 [==============================] - 7s 114us/step - loss: 0.0368 - accuracy: 0.9880 - val_loss: 0.0871 - val_accuracy: 0.9740\n",
      "Epoch 5/20\n",
      "60000/60000 [==============================] - 7s 113us/step - loss: 0.0300 - accuracy: 0.9905 - val_loss: 0.0925 - val_accuracy: 0.9741\n",
      "Epoch 6/20\n",
      "60000/60000 [==============================] - 7s 114us/step - loss: 0.0281 - accuracy: 0.9906 - val_loss: 0.0888 - val_accuracy: 0.9770\n",
      "Epoch 7/20\n",
      "60000/60000 [==============================] - 7s 114us/step - loss: 0.0215 - accuracy: 0.9923 - val_loss: 0.0864 - val_accuracy: 0.9782\n",
      "Epoch 8/20\n",
      "60000/60000 [==============================] - 7s 113us/step - loss: 0.0188 - accuracy: 0.9939 - val_loss: 0.0730 - val_accuracy: 0.9806\n",
      "Epoch 9/20\n",
      "60000/60000 [==============================] - 7s 114us/step - loss: 0.0176 - accuracy: 0.9943 - val_loss: 0.0759 - val_accuracy: 0.9803\n",
      "Epoch 10/20\n",
      "60000/60000 [==============================] - 7s 115us/step - loss: 0.0179 - accuracy: 0.9940 - val_loss: 0.1049 - val_accuracy: 0.9740\n",
      "Epoch 11/20\n",
      "60000/60000 [==============================] - 7s 113us/step - loss: 0.0169 - accuracy: 0.9948 - val_loss: 0.0818 - val_accuracy: 0.9803\n",
      "Epoch 12/20\n",
      "60000/60000 [==============================] - 7s 114us/step - loss: 0.0161 - accuracy: 0.9946 - val_loss: 0.0823 - val_accuracy: 0.9800\n",
      "Epoch 13/20\n",
      "60000/60000 [==============================] - 7s 114us/step - loss: 0.0138 - accuracy: 0.9955 - val_loss: 0.0878 - val_accuracy: 0.9797\n",
      "Epoch 14/20\n",
      "60000/60000 [==============================] - 7s 113us/step - loss: 0.0116 - accuracy: 0.9964 - val_loss: 0.0956 - val_accuracy: 0.9789\n",
      "Epoch 15/20\n",
      "60000/60000 [==============================] - 7s 114us/step - loss: 0.0126 - accuracy: 0.9962 - val_loss: 0.0900 - val_accuracy: 0.9817\n",
      "Epoch 16/20\n",
      "60000/60000 [==============================] - 7s 116us/step - loss: 0.0115 - accuracy: 0.9966 - val_loss: 0.0910 - val_accuracy: 0.9798\n",
      "Epoch 17/20\n",
      "60000/60000 [==============================] - 7s 115us/step - loss: 0.0125 - accuracy: 0.9961 - val_loss: 0.1043 - val_accuracy: 0.9772\n",
      "Epoch 18/20\n",
      "60000/60000 [==============================] - 7s 115us/step - loss: 0.0119 - accuracy: 0.9963 - val_loss: 0.0873 - val_accuracy: 0.9820\n",
      "Epoch 19/20\n",
      "60000/60000 [==============================] - 7s 115us/step - loss: 0.0068 - accuracy: 0.9976 - val_loss: 0.0969 - val_accuracy: 0.9819\n",
      "Epoch 20/20\n",
      "60000/60000 [==============================] - 7s 115us/step - loss: 0.0117 - accuracy: 0.9963 - val_loss: 0.1238 - val_accuracy: 0.9778\n"
     ]
    }
   ],
   "source": [
    "model_relu = Sequential()\n",
    "model_relu.add(Dense(489, activation='relu', input_shape=(input_dim,), kernel_initializer=RandomNormal(mean=0.0, stddev=0.062, seed=None)))\n",
    "model_relu.add(Dense(322, activation='relu', kernel_initializer=RandomNormal(mean=0.0, stddev=0.125, seed=None)) )\n",
    "model_relu.add(Dense(100, activation='relu', kernel_initializer=RandomNormal(mean=0.0, stddev=0.125, seed=None)) )\n",
    "model_relu.add(Dense(output_dim, activation='softmax'))\n",
    "\n",
    "print(model_relu.summary())\n",
    "\n",
    "model_relu.compile(optimizer='adam', loss='categorical_crossentropy', metrics=['accuracy'])\n",
    "\n",
    "history = model_relu.fit(X_train, Y_train, batch_size=batch_size, epochs=nb_epoch, verbose=1, validation_data=(X_test, Y_test))"
   ]
  },
  {
   "cell_type": "code",
   "execution_count": 97,
   "metadata": {
    "colab": {
     "base_uri": "https://localhost:8080/",
     "height": 313
    },
    "colab_type": "code",
    "executionInfo": {
     "elapsed": 142218,
     "status": "ok",
     "timestamp": 1589194854195,
     "user": {
      "displayName": "Mrunal Joshi",
      "photoUrl": "https://lh3.googleusercontent.com/a-/AOh14Gh4sfZImbcxfrP7hFTSOEyBzhAb07jp3pSecuCbeQ=s64",
      "userId": "04128114986664828555"
     },
     "user_tz": -330
    },
    "id": "nPcRHcqyYDg5",
    "outputId": "ad8b175d-35f1-4e15-c6ea-15572c3fd1b6"
   },
   "outputs": [
    {
     "name": "stdout",
     "output_type": "stream",
     "text": [
      "Test score: 0.12376824894999154\n",
      "Test accuracy: 0.9778000116348267\n"
     ]
    },
    {
     "data": {
      "image/png": "[encoded data removed]",
      "text/plain": [
       "<Figure size 432x288 with 1 Axes>"
      ]
     },
     "metadata": {
      "needs_background": "light",
      "tags": []
     },
     "output_type": "display_data"
    }
   ],
   "source": [
    "score = model_relu.evaluate(X_test, Y_test, verbose=0) \n",
    "print('Test score:', score[0]) \n",
    "print('Test accuracy:', score[1])\n",
    "\n",
    "fig,ax = plt.subplots(1,1)\n",
    "ax.set_xlabel('epoch') ; ax.set_ylabel('Categorical Crossentropy Loss')\n",
    "\n",
    "# list of epoch numbers\n",
    "x = list(range(1,nb_epoch+1))\n",
    "\n",
    "vy = history.history['val_loss']\n",
    "ty = history.history['loss']\n",
    "plt_dynamic(x, vy, ty, ax)"
   ]
  },
  {
   "cell_type": "markdown",
   "metadata": {
    "colab_type": "text",
    "id": "QGz9K3HAYJrn"
   },
   "source": [
    "5 Layer"
   ]
  },
  {
   "cell_type": "code",
   "execution_count": 98,
   "metadata": {
    "colab": {
     "base_uri": "https://localhost:8080/",
     "height": 1000
    },
    "colab_type": "code",
    "executionInfo": {
     "elapsed": 324364,
     "status": "ok",
     "timestamp": 1589195036349,
     "user": {
      "displayName": "Mrunal Joshi",
      "photoUrl": "https://lh3.googleusercontent.com/a-/AOh14Gh4sfZImbcxfrP7hFTSOEyBzhAb07jp3pSecuCbeQ=s64",
      "userId": "04128114986664828555"
     },
     "user_tz": -330
    },
    "id": "q8C-hY1sYLXc",
    "outputId": "6746a234-4e9d-4430-f3e9-837104e99c02"
   },
   "outputs": [
    {
     "name": "stdout",
     "output_type": "stream",
     "text": [
      "Model: \"sequential_21\"\n",
      "_________________________________________________________________\n",
      "Layer (type)                 Output Shape              Param #   \n",
      "=================================================================\n",
      "dense_68 (Dense)             (None, 512)               401920    \n",
      "_________________________________________________________________\n",
      "dense_69 (Dense)             (None, 441)               226233    \n",
      "_________________________________________________________________\n",
      "dense_70 (Dense)             (None, 300)               132600    \n",
      "_________________________________________________________________\n",
      "dense_71 (Dense)             (None, 128)               38528     \n",
      "_________________________________________________________________\n",
      "dense_72 (Dense)             (None, 50)                6450      \n",
      "_________________________________________________________________\n",
      "dense_73 (Dense)             (None, 10)                510       \n",
      "=================================================================\n",
      "Total params: 806,241\n",
      "Trainable params: 806,241\n",
      "Non-trainable params: 0\n",
      "_________________________________________________________________\n",
      "None\n",
      "Train on 60000 samples, validate on 10000 samples\n",
      "Epoch 1/20\n",
      "60000/60000 [==============================] - 10s 163us/step - loss: 0.2558 - accuracy: 0.9246 - val_loss: 0.1336 - val_accuracy: 0.9596\n",
      "Epoch 2/20\n",
      "60000/60000 [==============================] - 9s 157us/step - loss: 0.0942 - accuracy: 0.9706 - val_loss: 0.1012 - val_accuracy: 0.9678\n",
      "Epoch 3/20\n",
      "60000/60000 [==============================] - 9s 150us/step - loss: 0.0619 - accuracy: 0.9806 - val_loss: 0.1021 - val_accuracy: 0.9664\n",
      "Epoch 4/20\n",
      "60000/60000 [==============================] - 9s 150us/step - loss: 0.0479 - accuracy: 0.9846 - val_loss: 0.0928 - val_accuracy: 0.9738\n",
      "Epoch 5/20\n",
      "60000/60000 [==============================] - 9s 149us/step - loss: 0.0406 - accuracy: 0.9871 - val_loss: 0.1026 - val_accuracy: 0.9722\n",
      "Epoch 6/20\n",
      "60000/60000 [==============================] - 9s 149us/step - loss: 0.0361 - accuracy: 0.9887 - val_loss: 0.0871 - val_accuracy: 0.9767\n",
      "Epoch 7/20\n",
      "60000/60000 [==============================] - 9s 150us/step - loss: 0.0299 - accuracy: 0.9904 - val_loss: 0.1245 - val_accuracy: 0.9704\n",
      "Epoch 8/20\n",
      "60000/60000 [==============================] - 9s 149us/step - loss: 0.0291 - accuracy: 0.9911 - val_loss: 0.1031 - val_accuracy: 0.9735\n",
      "Epoch 9/20\n",
      "60000/60000 [==============================] - 9s 149us/step - loss: 0.0258 - accuracy: 0.9915 - val_loss: 0.1126 - val_accuracy: 0.9727\n",
      "Epoch 10/20\n",
      "60000/60000 [==============================] - 9s 149us/step - loss: 0.0264 - accuracy: 0.9920 - val_loss: 0.0810 - val_accuracy: 0.9793\n",
      "Epoch 11/20\n",
      "60000/60000 [==============================] - 9s 150us/step - loss: 0.0198 - accuracy: 0.9939 - val_loss: 0.0852 - val_accuracy: 0.9788\n",
      "Epoch 12/20\n",
      "60000/60000 [==============================] - 9s 153us/step - loss: 0.0186 - accuracy: 0.9941 - val_loss: 0.1192 - val_accuracy: 0.9736\n",
      "Epoch 13/20\n",
      "60000/60000 [==============================] - 9s 152us/step - loss: 0.0189 - accuracy: 0.9942 - val_loss: 0.0974 - val_accuracy: 0.9791\n",
      "Epoch 14/20\n",
      "60000/60000 [==============================] - 9s 151us/step - loss: 0.0175 - accuracy: 0.9948 - val_loss: 0.0906 - val_accuracy: 0.9790\n",
      "Epoch 15/20\n",
      "60000/60000 [==============================] - 9s 153us/step - loss: 0.0154 - accuracy: 0.9953 - val_loss: 0.0929 - val_accuracy: 0.9795\n",
      "Epoch 16/20\n",
      "60000/60000 [==============================] - 9s 151us/step - loss: 0.0179 - accuracy: 0.9948 - val_loss: 0.1208 - val_accuracy: 0.9748\n",
      "Epoch 17/20\n",
      "60000/60000 [==============================] - 9s 150us/step - loss: 0.0164 - accuracy: 0.9952 - val_loss: 0.1098 - val_accuracy: 0.9771\n",
      "Epoch 18/20\n",
      "60000/60000 [==============================] - 9s 151us/step - loss: 0.0135 - accuracy: 0.9957 - val_loss: 0.0785 - val_accuracy: 0.9823\n",
      "Epoch 19/20\n",
      "60000/60000 [==============================] - 9s 149us/step - loss: 0.0138 - accuracy: 0.9959 - val_loss: 0.1054 - val_accuracy: 0.9778\n",
      "Epoch 20/20\n",
      "60000/60000 [==============================] - 9s 148us/step - loss: 0.0127 - accuracy: 0.9962 - val_loss: 0.1294 - val_accuracy: 0.9758\n"
     ]
    }
   ],
   "source": [
    "model_relu = Sequential()\n",
    "model_relu.add(Dense(512, activation='relu', input_shape=(input_dim,), kernel_initializer=RandomNormal(mean=0.0, stddev=0.062, seed=None)))\n",
    "model_relu.add(Dense(441, activation='relu', kernel_initializer=RandomNormal(mean=0.0, stddev=0.125, seed=None)) )\n",
    "model_relu.add(Dense(300, activation='relu', kernel_initializer=RandomNormal(mean=0.0, stddev=0.125, seed=None)) )\n",
    "model_relu.add(Dense(128, activation='relu', kernel_initializer=RandomNormal(mean=0.0, stddev=0.125, seed=None)) )\n",
    "model_relu.add(Dense(50, activation='relu', kernel_initializer=RandomNormal(mean=0.0, stddev=0.125, seed=None)) )\n",
    "model_relu.add(Dense(output_dim, activation='softmax'))\n",
    "\n",
    "print(model_relu.summary())\n",
    "\n",
    "model_relu.compile(optimizer='adam', loss='categorical_crossentropy', metrics=['accuracy'])\n",
    "\n",
    "history = model_relu.fit(X_train, Y_train, batch_size=batch_size, epochs=nb_epoch, verbose=1, validation_data=(X_test, Y_test))"
   ]
  },
  {
   "cell_type": "code",
   "execution_count": 99,
   "metadata": {
    "colab": {
     "base_uri": "https://localhost:8080/",
     "height": 313
    },
    "colab_type": "code",
    "executionInfo": {
     "elapsed": 325986,
     "status": "ok",
     "timestamp": 1589195037976,
     "user": {
      "displayName": "Mrunal Joshi",
      "photoUrl": "https://lh3.googleusercontent.com/a-/AOh14Gh4sfZImbcxfrP7hFTSOEyBzhAb07jp3pSecuCbeQ=s64",
      "userId": "04128114986664828555"
     },
     "user_tz": -330
    },
    "id": "fpUD3qySYORz",
    "outputId": "693a464c-9130-4dda-f9ef-4ebfbbab6021"
   },
   "outputs": [
    {
     "name": "stdout",
     "output_type": "stream",
     "text": [
      "Test score: 0.12936685208511625\n",
      "Test accuracy: 0.9757999777793884\n"
     ]
    },
    {
     "data": {
      "image/png": "[encoded data removed]",
      "text/plain": [
       "<Figure size 432x288 with 1 Axes>"
      ]
     },
     "metadata": {
      "needs_background": "light",
      "tags": []
     },
     "output_type": "display_data"
    }
   ],
   "source": [
    "score = model_relu.evaluate(X_test, Y_test, verbose=0) \n",
    "print('Test score:', score[0]) \n",
    "print('Test accuracy:', score[1])\n",
    "\n",
    "fig,ax = plt.subplots(1,1)\n",
    "ax.set_xlabel('epoch') ; ax.set_ylabel('Categorical Crossentropy Loss')\n",
    "\n",
    "# list of epoch numbers\n",
    "x = list(range(1,nb_epoch+1))\n",
    "\n",
    "vy = history.history['val_loss']\n",
    "ty = history.history['loss']\n",
    "plt_dynamic(x, vy, ty, ax)"
   ]
  },
  {
   "cell_type": "markdown",
   "metadata": {
    "colab_type": "text",
    "id": "TjduBU7hQKch"
   },
   "source": [
    "<h2> MLP + Batch-Norm on hidden Layers + AdamOptimizer </2>"
   ]
  },
  {
   "cell_type": "code",
   "execution_count": 100,
   "metadata": {
    "colab": {
     "base_uri": "https://localhost:8080/",
     "height": 323
    },
    "colab_type": "code",
    "executionInfo": {
     "elapsed": 1269,
     "status": "ok",
     "timestamp": 1589195470696,
     "user": {
      "displayName": "Mrunal Joshi",
      "photoUrl": "https://lh3.googleusercontent.com/a-/AOh14Gh4sfZImbcxfrP7hFTSOEyBzhAb07jp3pSecuCbeQ=s64",
      "userId": "04128114986664828555"
     },
     "user_tz": -330
    },
    "id": "KGHnPnoTQKci",
    "outputId": "8ead2330-9b59-4442-e468-45adb784a746"
   },
   "outputs": [
    {
     "name": "stdout",
     "output_type": "stream",
     "text": [
      "Model: \"sequential_22\"\n",
      "_________________________________________________________________\n",
      "Layer (type)                 Output Shape              Param #   \n",
      "=================================================================\n",
      "dense_74 (Dense)             (None, 512)               401920    \n",
      "_________________________________________________________________\n",
      "batch_normalization_1 (Batch (None, 512)               2048      \n",
      "_________________________________________________________________\n",
      "dense_75 (Dense)             (None, 128)               65664     \n",
      "_________________________________________________________________\n",
      "batch_normalization_2 (Batch (None, 128)               512       \n",
      "_________________________________________________________________\n",
      "dense_76 (Dense)             (None, 10)                1290      \n",
      "=================================================================\n",
      "Total params: 471,434\n",
      "Trainable params: 470,154\n",
      "Non-trainable params: 1,280\n",
      "_________________________________________________________________\n"
     ]
    }
   ],
   "source": [
    "# Multilayer perceptron\n",
    "\n",
    "# https://intoli.com/blog/neural-network-initialization/ \n",
    "# If we sample weights from a normal distribution N(0,σ) we satisfy this condition with σ=√(2/(ni+ni+1). \n",
    "# h1 =>  σ=√(2/(ni+ni+1) = 0.039  => N(0,σ) = N(0,0.039)\n",
    "# h2 =>  σ=√(2/(ni+ni+1) = 0.055  => N(0,σ) = N(0,0.055)\n",
    "# h1 =>  σ=√(2/(ni+ni+1) = 0.120  => N(0,σ) = N(0,0.120)\n",
    "\n",
    "from keras.layers.normalization import BatchNormalization\n",
    "\n",
    "model_batch = Sequential()\n",
    "\n",
    "model_batch.add(Dense(512, activation='sigmoid', input_shape=(input_dim,), kernel_initializer=RandomNormal(mean=0.0, stddev=0.039, seed=None)))\n",
    "model_batch.add(BatchNormalization())\n",
    "\n",
    "model_batch.add(Dense(128, activation='sigmoid', kernel_initializer=RandomNormal(mean=0.0, stddev=0.55, seed=None)) )\n",
    "model_batch.add(BatchNormalization())\n",
    "\n",
    "model_batch.add(Dense(output_dim, activation='softmax'))\n",
    "\n",
    "\n",
    "model_batch.summary()"
   ]
  },
  {
   "cell_type": "code",
   "execution_count": 101,
   "metadata": {
    "colab": {
     "base_uri": "https://localhost:8080/",
     "height": 734
    },
    "colab_type": "code",
    "executionInfo": {
     "elapsed": 114604,
     "status": "ok",
     "timestamp": 1589195594597,
     "user": {
      "displayName": "Mrunal Joshi",
      "photoUrl": "https://lh3.googleusercontent.com/a-/AOh14Gh4sfZImbcxfrP7hFTSOEyBzhAb07jp3pSecuCbeQ=s64",
      "userId": "04128114986664828555"
     },
     "user_tz": -330
    },
    "id": "yMPo5fcUQKcm",
    "outputId": "396bdf47-f8ef-4288-dfa7-874c33caf103"
   },
   "outputs": [
    {
     "name": "stdout",
     "output_type": "stream",
     "text": [
      "Train on 60000 samples, validate on 10000 samples\n",
      "Epoch 1/20\n",
      "60000/60000 [==============================] - 6s 105us/step - loss: 0.3045 - accuracy: 0.9112 - val_loss: 0.2000 - val_accuracy: 0.9417\n",
      "Epoch 2/20\n",
      "60000/60000 [==============================] - 6s 95us/step - loss: 0.1779 - accuracy: 0.9475 - val_loss: 0.1807 - val_accuracy: 0.9462\n",
      "Epoch 3/20\n",
      "60000/60000 [==============================] - 6s 92us/step - loss: 0.1398 - accuracy: 0.9583 - val_loss: 0.1471 - val_accuracy: 0.9589\n",
      "Epoch 4/20\n",
      "60000/60000 [==============================] - 6s 94us/step - loss: 0.1145 - accuracy: 0.9658 - val_loss: 0.1315 - val_accuracy: 0.9628\n",
      "Epoch 5/20\n",
      "60000/60000 [==============================] - 6s 94us/step - loss: 0.0950 - accuracy: 0.9713 - val_loss: 0.1319 - val_accuracy: 0.9605\n",
      "Epoch 6/20\n",
      "60000/60000 [==============================] - 6s 93us/step - loss: 0.0810 - accuracy: 0.9750 - val_loss: 0.1185 - val_accuracy: 0.9639\n",
      "Epoch 7/20\n",
      "60000/60000 [==============================] - 6s 94us/step - loss: 0.0693 - accuracy: 0.9787 - val_loss: 0.1149 - val_accuracy: 0.9647\n",
      "Epoch 8/20\n",
      "60000/60000 [==============================] - 6s 92us/step - loss: 0.0604 - accuracy: 0.9809 - val_loss: 0.1135 - val_accuracy: 0.9650\n",
      "Epoch 9/20\n",
      "60000/60000 [==============================] - 6s 93us/step - loss: 0.0522 - accuracy: 0.9841 - val_loss: 0.1046 - val_accuracy: 0.9668\n",
      "Epoch 10/20\n",
      "60000/60000 [==============================] - 6s 93us/step - loss: 0.0447 - accuracy: 0.9858 - val_loss: 0.0988 - val_accuracy: 0.9701\n",
      "Epoch 11/20\n",
      "60000/60000 [==============================] - 6s 93us/step - loss: 0.0393 - accuracy: 0.9877 - val_loss: 0.0994 - val_accuracy: 0.9707\n",
      "Epoch 12/20\n",
      "60000/60000 [==============================] - 6s 93us/step - loss: 0.0349 - accuracy: 0.9889 - val_loss: 0.1002 - val_accuracy: 0.9701\n",
      "Epoch 13/20\n",
      "60000/60000 [==============================] - 6s 93us/step - loss: 0.0287 - accuracy: 0.9908 - val_loss: 0.0986 - val_accuracy: 0.9711\n",
      "Epoch 14/20\n",
      "60000/60000 [==============================] - 6s 93us/step - loss: 0.0270 - accuracy: 0.9915 - val_loss: 0.0977 - val_accuracy: 0.9716\n",
      "Epoch 15/20\n",
      "60000/60000 [==============================] - 6s 93us/step - loss: 0.0259 - accuracy: 0.9916 - val_loss: 0.0988 - val_accuracy: 0.9712\n",
      "Epoch 16/20\n",
      "60000/60000 [==============================] - 6s 95us/step - loss: 0.0233 - accuracy: 0.9925 - val_loss: 0.0942 - val_accuracy: 0.9721\n",
      "Epoch 17/20\n",
      "60000/60000 [==============================] - 6s 94us/step - loss: 0.0193 - accuracy: 0.9941 - val_loss: 0.0984 - val_accuracy: 0.9726\n",
      "Epoch 18/20\n",
      "60000/60000 [==============================] - 6s 92us/step - loss: 0.0175 - accuracy: 0.9942 - val_loss: 0.0976 - val_accuracy: 0.9732\n",
      "Epoch 19/20\n",
      "60000/60000 [==============================] - 6s 93us/step - loss: 0.0184 - accuracy: 0.9936 - val_loss: 0.1110 - val_accuracy: 0.9699\n",
      "Epoch 20/20\n",
      "60000/60000 [==============================] - 6s 94us/step - loss: 0.0189 - accuracy: 0.9934 - val_loss: 0.1016 - val_accuracy: 0.9742\n"
     ]
    }
   ],
   "source": [
    "model_batch.compile(optimizer='adam', loss='categorical_crossentropy', metrics=['accuracy'])\n",
    "\n",
    "history = model_batch.fit(X_train, Y_train, batch_size=batch_size, epochs=nb_epoch, verbose=1, validation_data=(X_test, Y_test))"
   ]
  },
  {
   "cell_type": "code",
   "execution_count": 102,
   "metadata": {
    "colab": {
     "base_uri": "https://localhost:8080/",
     "height": 313
    },
    "colab_type": "code",
    "executionInfo": {
     "elapsed": 103987,
     "status": "ok",
     "timestamp": 1589195595659,
     "user": {
      "displayName": "Mrunal Joshi",
      "photoUrl": "https://lh3.googleusercontent.com/a-/AOh14Gh4sfZImbcxfrP7hFTSOEyBzhAb07jp3pSecuCbeQ=s64",
      "userId": "04128114986664828555"
     },
     "user_tz": -330
    },
    "id": "HThyBcHUQKcn",
    "outputId": "f221ccdb-6dd2-41f2-d263-6c9735037151"
   },
   "outputs": [
    {
     "name": "stdout",
     "output_type": "stream",
     "text": [
      "Test score: 0.10156400724619744\n",
      "Test accuracy: 0.9742000102996826\n"
     ]
    },
    {
     "data": {
      "image/png": "[encoded data removed]",
      "text/plain": [
       "<Figure size 432x288 with 1 Axes>"
      ]
     },
     "metadata": {
      "needs_background": "light",
      "tags": []
     },
     "output_type": "display_data"
    }
   ],
   "source": [
    "score = model_batch.evaluate(X_test, Y_test, verbose=0) \n",
    "print('Test score:', score[0]) \n",
    "print('Test accuracy:', score[1])\n",
    "\n",
    "fig,ax = plt.subplots(1,1)\n",
    "ax.set_xlabel('epoch') ; ax.set_ylabel('Categorical Crossentropy Loss')\n",
    "\n",
    "# list of epoch numbers\n",
    "x = list(range(1,nb_epoch+1))\n",
    "\n",
    "vy = history.history['val_loss']\n",
    "ty = history.history['loss']\n",
    "plt_dynamic(x, vy, ty, ax)"
   ]
  },
  {
   "cell_type": "code",
   "execution_count": 103,
   "metadata": {
    "colab": {
     "base_uri": "https://localhost:8080/",
     "height": 285
    },
    "colab_type": "code",
    "executionInfo": {
     "elapsed": 91804,
     "status": "ok",
     "timestamp": 1589195597944,
     "user": {
      "displayName": "Mrunal Joshi",
      "photoUrl": "https://lh3.googleusercontent.com/a-/AOh14Gh4sfZImbcxfrP7hFTSOEyBzhAb07jp3pSecuCbeQ=s64",
      "userId": "04128114986664828555"
     },
     "user_tz": -330
    },
    "id": "Ilj0es2yQKcp",
    "outputId": "bdf03cea-c123-4828-db31-9628149561bd"
   },
   "outputs": [
    {
     "data": {
      "image/png": "[encoded data removed]",
      "text/plain": [
       "<Figure size 432x288 with 3 Axes>"
      ]
     },
     "metadata": {
      "needs_background": "light",
      "tags": []
     },
     "output_type": "display_data"
    }
   ],
   "source": [
    "w_after = model_batch.get_weights()\n",
    "\n",
    "h1_w = w_after[0].flatten().reshape(-1,1)\n",
    "h2_w = w_after[2].flatten().reshape(-1,1)\n",
    "out_w = w_after[4].flatten().reshape(-1,1)\n",
    "\n",
    "\n",
    "fig = plt.figure()\n",
    "plt.title(\"Weight matrices after model trained\")\n",
    "plt.subplot(1, 3, 1)\n",
    "plt.title(\"Trained model Weights\")\n",
    "ax = sns.violinplot(y=h1_w,color='b')\n",
    "plt.xlabel('Hidden Layer 1')\n",
    "\n",
    "plt.subplot(1, 3, 2)\n",
    "plt.title(\"Trained model Weights\")\n",
    "ax = sns.violinplot(y=h2_w, color='r')\n",
    "plt.xlabel('Hidden Layer 2 ')\n",
    "\n",
    "plt.subplot(1, 3, 3)\n",
    "plt.title(\"Trained model Weights\")\n",
    "ax = sns.violinplot(y=out_w,color='y')\n",
    "plt.xlabel('Output Layer ')\n",
    "plt.show()"
   ]
  },
  {
   "cell_type": "markdown",
   "metadata": {
    "colab_type": "text",
    "id": "CoKLPqmpcHri"
   },
   "source": [
    "2 Layer"
   ]
  },
  {
   "cell_type": "code",
   "execution_count": 104,
   "metadata": {
    "colab": {
     "base_uri": "https://localhost:8080/",
     "height": 1000
    },
    "colab_type": "code",
    "executionInfo": {
     "elapsed": 116794,
     "status": "ok",
     "timestamp": 1589195888193,
     "user": {
      "displayName": "Mrunal Joshi",
      "photoUrl": "https://lh3.googleusercontent.com/a-/AOh14Gh4sfZImbcxfrP7hFTSOEyBzhAb07jp3pSecuCbeQ=s64",
      "userId": "04128114986664828555"
     },
     "user_tz": -330
    },
    "id": "Coq0wApYcLnQ",
    "outputId": "1329f611-dd29-43f3-e253-252b7ace5297"
   },
   "outputs": [
    {
     "name": "stdout",
     "output_type": "stream",
     "text": [
      "Model: \"sequential_23\"\n",
      "_________________________________________________________________\n",
      "Layer (type)                 Output Shape              Param #   \n",
      "=================================================================\n",
      "dense_77 (Dense)             (None, 450)               353250    \n",
      "_________________________________________________________________\n",
      "batch_normalization_3 (Batch (None, 450)               1800      \n",
      "_________________________________________________________________\n",
      "dense_78 (Dense)             (None, 220)               99220     \n",
      "_________________________________________________________________\n",
      "batch_normalization_4 (Batch (None, 220)               880       \n",
      "_________________________________________________________________\n",
      "dense_79 (Dense)             (None, 10)                2210      \n",
      "=================================================================\n",
      "Total params: 457,360\n",
      "Trainable params: 456,020\n",
      "Non-trainable params: 1,340\n",
      "_________________________________________________________________\n",
      "Train on 60000 samples, validate on 10000 samples\n",
      "Epoch 1/20\n",
      "60000/60000 [==============================] - 6s 101us/step - loss: 0.2769 - accuracy: 0.9178 - val_loss: 0.1801 - val_accuracy: 0.9476\n",
      "Epoch 2/20\n",
      "60000/60000 [==============================] - 6s 94us/step - loss: 0.1462 - accuracy: 0.9579 - val_loss: 0.1404 - val_accuracy: 0.9597\n",
      "Epoch 3/20\n",
      "60000/60000 [==============================] - 6s 94us/step - loss: 0.1061 - accuracy: 0.9686 - val_loss: 0.1256 - val_accuracy: 0.9629\n",
      "Epoch 4/20\n",
      "60000/60000 [==============================] - 6s 96us/step - loss: 0.0848 - accuracy: 0.9751 - val_loss: 0.1116 - val_accuracy: 0.9685\n",
      "Epoch 5/20\n",
      "60000/60000 [==============================] - 6s 100us/step - loss: 0.0667 - accuracy: 0.9801 - val_loss: 0.1151 - val_accuracy: 0.9651\n",
      "Epoch 6/20\n",
      "60000/60000 [==============================] - 6s 95us/step - loss: 0.0549 - accuracy: 0.9838 - val_loss: 0.0961 - val_accuracy: 0.9711\n",
      "Epoch 7/20\n",
      "60000/60000 [==============================] - 6s 94us/step - loss: 0.0450 - accuracy: 0.9864 - val_loss: 0.0986 - val_accuracy: 0.9698\n",
      "Epoch 8/20\n",
      "60000/60000 [==============================] - 6s 94us/step - loss: 0.0377 - accuracy: 0.9886 - val_loss: 0.0923 - val_accuracy: 0.9732\n",
      "Epoch 9/20\n",
      "60000/60000 [==============================] - 6s 94us/step - loss: 0.0339 - accuracy: 0.9895 - val_loss: 0.0877 - val_accuracy: 0.9738\n",
      "Epoch 10/20\n",
      "60000/60000 [==============================] - 6s 95us/step - loss: 0.0308 - accuracy: 0.9902 - val_loss: 0.0937 - val_accuracy: 0.9733\n",
      "Epoch 11/20\n",
      "60000/60000 [==============================] - 6s 95us/step - loss: 0.0264 - accuracy: 0.9919 - val_loss: 0.0916 - val_accuracy: 0.9742\n",
      "Epoch 12/20\n",
      "60000/60000 [==============================] - 6s 95us/step - loss: 0.0227 - accuracy: 0.9928 - val_loss: 0.0979 - val_accuracy: 0.9720\n",
      "Epoch 13/20\n",
      "60000/60000 [==============================] - 6s 95us/step - loss: 0.0209 - accuracy: 0.9934 - val_loss: 0.1062 - val_accuracy: 0.9683\n",
      "Epoch 14/20\n",
      "60000/60000 [==============================] - 6s 94us/step - loss: 0.0193 - accuracy: 0.9940 - val_loss: 0.1003 - val_accuracy: 0.9733\n",
      "Epoch 15/20\n",
      "60000/60000 [==============================] - 6s 96us/step - loss: 0.0212 - accuracy: 0.9929 - val_loss: 0.0966 - val_accuracy: 0.9734\n",
      "Epoch 16/20\n",
      "60000/60000 [==============================] - 6s 96us/step - loss: 0.0186 - accuracy: 0.9937 - val_loss: 0.0917 - val_accuracy: 0.9747\n",
      "Epoch 17/20\n",
      "60000/60000 [==============================] - 6s 95us/step - loss: 0.0149 - accuracy: 0.9952 - val_loss: 0.0959 - val_accuracy: 0.9748\n",
      "Epoch 18/20\n",
      "60000/60000 [==============================] - 6s 96us/step - loss: 0.0150 - accuracy: 0.9948 - val_loss: 0.0904 - val_accuracy: 0.9762\n",
      "Epoch 19/20\n",
      "60000/60000 [==============================] - 6s 98us/step - loss: 0.0129 - accuracy: 0.9956 - val_loss: 0.0964 - val_accuracy: 0.9758\n",
      "Epoch 20/20\n",
      "60000/60000 [==============================] - 6s 95us/step - loss: 0.0111 - accuracy: 0.9967 - val_loss: 0.0996 - val_accuracy: 0.9751\n"
     ]
    }
   ],
   "source": [
    "\n",
    "\n",
    "from keras.layers.normalization import BatchNormalization\n",
    "\n",
    "model_batch = Sequential()\n",
    "\n",
    "model_batch.add(Dense(450, activation='sigmoid', input_shape=(input_dim,), kernel_initializer=RandomNormal(mean=0.0, stddev=0.039, seed=None)))\n",
    "model_batch.add(BatchNormalization())\n",
    "\n",
    "model_batch.add(Dense(220, activation='sigmoid', kernel_initializer=RandomNormal(mean=0.0, stddev=0.55, seed=None)) )\n",
    "model_batch.add(BatchNormalization())\n",
    "\n",
    "model_batch.add(Dense(output_dim, activation='softmax'))\n",
    "\n",
    "\n",
    "model_batch.summary()\n",
    "model_batch.compile(optimizer='adam', loss='categorical_crossentropy', metrics=['accuracy'])\n",
    "\n",
    "history = model_batch.fit(X_train, Y_train, batch_size=batch_size, epochs=nb_epoch, verbose=1, validation_data=(X_test, Y_test))"
   ]
  },
  {
   "cell_type": "code",
   "execution_count": 105,
   "metadata": {
    "colab": {
     "base_uri": "https://localhost:8080/",
     "height": 313
    },
    "colab_type": "code",
    "executionInfo": {
     "elapsed": 1828,
     "status": "ok",
     "timestamp": 1589195890037,
     "user": {
      "displayName": "Mrunal Joshi",
      "photoUrl": "https://lh3.googleusercontent.com/a-/AOh14Gh4sfZImbcxfrP7hFTSOEyBzhAb07jp3pSecuCbeQ=s64",
      "userId": "04128114986664828555"
     },
     "user_tz": -330
    },
    "id": "4622nJu3cMD4",
    "outputId": "3f73f63d-16b2-4d4c-aecb-d13caff270e7"
   },
   "outputs": [
    {
     "name": "stdout",
     "output_type": "stream",
     "text": [
      "Test score: 0.09957436609359284\n",
      "Test accuracy: 0.9750999808311462\n"
     ]
    },
    {
     "data": {
      "image/png": "[encoded data removed]",
      "text/plain": [
       "<Figure size 432x288 with 1 Axes>"
      ]
     },
     "metadata": {
      "needs_background": "light",
      "tags": []
     },
     "output_type": "display_data"
    }
   ],
   "source": [
    "score = model_batch.evaluate(X_test, Y_test, verbose=0) \n",
    "print('Test score:', score[0]) \n",
    "print('Test accuracy:', score[1])\n",
    "\n",
    "fig,ax = plt.subplots(1,1)\n",
    "ax.set_xlabel('epoch') ; ax.set_ylabel('Categorical Crossentropy Loss')\n",
    "\n",
    "# list of epoch numbers\n",
    "x = list(range(1,nb_epoch+1))\n",
    "\n",
    "vy = history.history['val_loss']\n",
    "ty = history.history['loss']\n",
    "plt_dynamic(x, vy, ty, ax)"
   ]
  },
  {
   "cell_type": "markdown",
   "metadata": {
    "colab_type": "text",
    "id": "qcVfcBfocMgf"
   },
   "source": [
    "3 Layer"
   ]
  },
  {
   "cell_type": "code",
   "execution_count": 106,
   "metadata": {
    "colab": {
     "base_uri": "https://localhost:8080/",
     "height": 1000
    },
    "colab_type": "code",
    "executionInfo": {
     "elapsed": 162930,
     "status": "ok",
     "timestamp": 1589196051161,
     "user": {
      "displayName": "Mrunal Joshi",
      "photoUrl": "https://lh3.googleusercontent.com/a-/AOh14Gh4sfZImbcxfrP7hFTSOEyBzhAb07jp3pSecuCbeQ=s64",
      "userId": "04128114986664828555"
     },
     "user_tz": -330
    },
    "id": "kZaQkKyucOyn",
    "outputId": "ca54f869-32a0-4bca-c412-92bef06cc2b3"
   },
   "outputs": [
    {
     "name": "stdout",
     "output_type": "stream",
     "text": [
      "Model: \"sequential_24\"\n",
      "_________________________________________________________________\n",
      "Layer (type)                 Output Shape              Param #   \n",
      "=================================================================\n",
      "dense_80 (Dense)             (None, 512)               401920    \n",
      "_________________________________________________________________\n",
      "batch_normalization_5 (Batch (None, 512)               2048      \n",
      "_________________________________________________________________\n",
      "dense_81 (Dense)             (None, 335)               171855    \n",
      "_________________________________________________________________\n",
      "batch_normalization_6 (Batch (None, 335)               1340      \n",
      "_________________________________________________________________\n",
      "dense_82 (Dense)             (None, 128)               43008     \n",
      "_________________________________________________________________\n",
      "batch_normalization_7 (Batch (None, 128)               512       \n",
      "_________________________________________________________________\n",
      "dense_83 (Dense)             (None, 10)                1290      \n",
      "=================================================================\n",
      "Total params: 621,973\n",
      "Trainable params: 620,023\n",
      "Non-trainable params: 1,950\n",
      "_________________________________________________________________\n",
      "Train on 60000 samples, validate on 10000 samples\n",
      "Epoch 1/20\n",
      "60000/60000 [==============================] - 8s 137us/step - loss: 0.3595 - accuracy: 0.8925 - val_loss: 0.2326 - val_accuracy: 0.9318\n",
      "Epoch 2/20\n",
      "60000/60000 [==============================] - 8s 129us/step - loss: 0.1918 - accuracy: 0.9432 - val_loss: 0.1800 - val_accuracy: 0.9475\n",
      "Epoch 3/20\n",
      "60000/60000 [==============================] - 8s 128us/step - loss: 0.1529 - accuracy: 0.9536 - val_loss: 0.1611 - val_accuracy: 0.9521\n",
      "Epoch 4/20\n",
      "60000/60000 [==============================] - 8s 130us/step - loss: 0.1298 - accuracy: 0.9604 - val_loss: 0.1430 - val_accuracy: 0.9555\n",
      "Epoch 5/20\n",
      "60000/60000 [==============================] - 8s 130us/step - loss: 0.1116 - accuracy: 0.9660 - val_loss: 0.1468 - val_accuracy: 0.9544\n",
      "Epoch 6/20\n",
      "60000/60000 [==============================] - 8s 129us/step - loss: 0.0952 - accuracy: 0.9707 - val_loss: 0.1364 - val_accuracy: 0.9598\n",
      "Epoch 7/20\n",
      "60000/60000 [==============================] - 8s 130us/step - loss: 0.0846 - accuracy: 0.9738 - val_loss: 0.1324 - val_accuracy: 0.9600\n",
      "Epoch 8/20\n",
      "60000/60000 [==============================] - 8s 130us/step - loss: 0.0754 - accuracy: 0.9759 - val_loss: 0.1243 - val_accuracy: 0.9620\n",
      "Epoch 9/20\n",
      "60000/60000 [==============================] - 8s 133us/step - loss: 0.0708 - accuracy: 0.9777 - val_loss: 0.1129 - val_accuracy: 0.9654\n",
      "Epoch 10/20\n",
      "60000/60000 [==============================] - 8s 134us/step - loss: 0.0614 - accuracy: 0.9801 - val_loss: 0.1096 - val_accuracy: 0.9667\n",
      "Epoch 11/20\n",
      "60000/60000 [==============================] - 8s 134us/step - loss: 0.0581 - accuracy: 0.9808 - val_loss: 0.1148 - val_accuracy: 0.9651\n",
      "Epoch 12/20\n",
      "60000/60000 [==============================] - 8s 136us/step - loss: 0.0533 - accuracy: 0.9827 - val_loss: 0.1138 - val_accuracy: 0.9679\n",
      "Epoch 13/20\n",
      "60000/60000 [==============================] - 8s 136us/step - loss: 0.0514 - accuracy: 0.9831 - val_loss: 0.1039 - val_accuracy: 0.9685\n",
      "Epoch 14/20\n",
      "60000/60000 [==============================] - 8s 134us/step - loss: 0.0458 - accuracy: 0.9848 - val_loss: 0.1027 - val_accuracy: 0.9691\n",
      "Epoch 15/20\n",
      "60000/60000 [==============================] - 8s 134us/step - loss: 0.0432 - accuracy: 0.9850 - val_loss: 0.1094 - val_accuracy: 0.9691\n",
      "Epoch 16/20\n",
      "60000/60000 [==============================] - 8s 135us/step - loss: 0.0353 - accuracy: 0.9882 - val_loss: 0.1145 - val_accuracy: 0.9678\n",
      "Epoch 17/20\n",
      "60000/60000 [==============================] - 8s 136us/step - loss: 0.0355 - accuracy: 0.9887 - val_loss: 0.1058 - val_accuracy: 0.9697\n",
      "Epoch 18/20\n",
      "60000/60000 [==============================] - 8s 135us/step - loss: 0.0341 - accuracy: 0.9888 - val_loss: 0.1132 - val_accuracy: 0.9679\n",
      "Epoch 19/20\n",
      "60000/60000 [==============================] - 8s 135us/step - loss: 0.0317 - accuracy: 0.9890 - val_loss: 0.1077 - val_accuracy: 0.9708\n",
      "Epoch 20/20\n",
      "60000/60000 [==============================] - 8s 134us/step - loss: 0.0308 - accuracy: 0.9895 - val_loss: 0.1086 - val_accuracy: 0.9699\n"
     ]
    }
   ],
   "source": [
    "\n",
    "\n",
    "from keras.layers.normalization import BatchNormalization\n",
    "\n",
    "model_batch = Sequential()\n",
    "\n",
    "model_batch.add(Dense(512, activation='sigmoid', input_shape=(input_dim,), kernel_initializer=RandomNormal(mean=0.0, stddev=0.039, seed=None)))\n",
    "model_batch.add(BatchNormalization())\n",
    "\n",
    "model_batch.add(Dense(335, activation='sigmoid', kernel_initializer=RandomNormal(mean=0.0, stddev=0.55, seed=None)) )\n",
    "model_batch.add(BatchNormalization())\n",
    "model_batch.add(Dense(128, activation='sigmoid', kernel_initializer=RandomNormal(mean=0.0, stddev=0.55, seed=None)) )\n",
    "model_batch.add(BatchNormalization())\n",
    "model_batch.add(Dense(output_dim, activation='softmax'))\n",
    "\n",
    "\n",
    "model_batch.summary()\n",
    "model_batch.compile(optimizer='adam', loss='categorical_crossentropy', metrics=['accuracy'])\n",
    "\n",
    "history = model_batch.fit(X_train, Y_train, batch_size=batch_size, epochs=nb_epoch, verbose=1, validation_data=(X_test, Y_test))"
   ]
  },
  {
   "cell_type": "code",
   "execution_count": 107,
   "metadata": {
    "colab": {
     "base_uri": "https://localhost:8080/",
     "height": 313
    },
    "colab_type": "code",
    "executionInfo": {
     "elapsed": 163456,
     "status": "ok",
     "timestamp": 1589196051694,
     "user": {
      "displayName": "Mrunal Joshi",
      "photoUrl": "https://lh3.googleusercontent.com/a-/AOh14Gh4sfZImbcxfrP7hFTSOEyBzhAb07jp3pSecuCbeQ=s64",
      "userId": "04128114986664828555"
     },
     "user_tz": -330
    },
    "id": "yDVoESnkcPTy",
    "outputId": "7aabd152-400f-4f67-cfaf-ee71c4822675"
   },
   "outputs": [
    {
     "name": "stdout",
     "output_type": "stream",
     "text": [
      "Test score: 0.10864156060427195\n",
      "Test accuracy: 0.9699000120162964\n"
     ]
    },
    {
     "data": {
      "image/png": "[encoded data removed]",
      "text/plain": [
       "<Figure size 432x288 with 1 Axes>"
      ]
     },
     "metadata": {
      "needs_background": "light",
      "tags": []
     },
     "output_type": "display_data"
    }
   ],
   "source": [
    "score = model_batch.evaluate(X_test, Y_test, verbose=0) \n",
    "print('Test score:', score[0]) \n",
    "print('Test accuracy:', score[1])\n",
    "\n",
    "fig,ax = plt.subplots(1,1)\n",
    "ax.set_xlabel('epoch') ; ax.set_ylabel('Categorical Crossentropy Loss')\n",
    "\n",
    "# list of epoch numbers\n",
    "x = list(range(1,nb_epoch+1))\n",
    "\n",
    "vy = history.history['val_loss']\n",
    "ty = history.history['loss']\n",
    "plt_dynamic(x, vy, ty, ax)"
   ]
  },
  {
   "cell_type": "markdown",
   "metadata": {
    "colab_type": "text",
    "id": "IQctAHGjcPyz"
   },
   "source": [
    "5 Layer"
   ]
  },
  {
   "cell_type": "code",
   "execution_count": 108,
   "metadata": {
    "colab": {
     "base_uri": "https://localhost:8080/",
     "height": 1000
    },
    "colab_type": "code",
    "executionInfo": {
     "elapsed": 220994,
     "status": "ok",
     "timestamp": 1589196272738,
     "user": {
      "displayName": "Mrunal Joshi",
      "photoUrl": "https://lh3.googleusercontent.com/a-/AOh14Gh4sfZImbcxfrP7hFTSOEyBzhAb07jp3pSecuCbeQ=s64",
      "userId": "04128114986664828555"
     },
     "user_tz": -330
    },
    "id": "JYEZzbJmcR7v",
    "outputId": "0e99ce2f-99cc-4d4a-f047-b98ebde529d2"
   },
   "outputs": [
    {
     "name": "stdout",
     "output_type": "stream",
     "text": [
      "Model: \"sequential_25\"\n",
      "_________________________________________________________________\n",
      "Layer (type)                 Output Shape              Param #   \n",
      "=================================================================\n",
      "dense_84 (Dense)             (None, 520)               408200    \n",
      "_________________________________________________________________\n",
      "batch_normalization_8 (Batch (None, 520)               2080      \n",
      "_________________________________________________________________\n",
      "dense_85 (Dense)             (None, 450)               234450    \n",
      "_________________________________________________________________\n",
      "batch_normalization_9 (Batch (None, 450)               1800      \n",
      "_________________________________________________________________\n",
      "dense_86 (Dense)             (None, 210)               94710     \n",
      "_________________________________________________________________\n",
      "batch_normalization_10 (Batc (None, 210)               840       \n",
      "_________________________________________________________________\n",
      "dense_87 (Dense)             (None, 128)               27008     \n",
      "_________________________________________________________________\n",
      "batch_normalization_11 (Batc (None, 128)               512       \n",
      "_________________________________________________________________\n",
      "dense_88 (Dense)             (None, 45)                5805      \n",
      "_________________________________________________________________\n",
      "batch_normalization_12 (Batc (None, 45)                180       \n",
      "_________________________________________________________________\n",
      "dense_89 (Dense)             (None, 10)                460       \n",
      "=================================================================\n",
      "Total params: 776,045\n",
      "Trainable params: 773,339\n",
      "Non-trainable params: 2,706\n",
      "_________________________________________________________________\n",
      "Train on 60000 samples, validate on 10000 samples\n",
      "Epoch 1/20\n",
      "60000/60000 [==============================] - 12s 193us/step - loss: 0.6179 - accuracy: 0.8105 - val_loss: 0.3696 - val_accuracy: 0.8901\n",
      "Epoch 2/20\n",
      "60000/60000 [==============================] - 11s 180us/step - loss: 0.3206 - accuracy: 0.9038 - val_loss: 0.2905 - val_accuracy: 0.9123\n",
      "Epoch 3/20\n",
      "60000/60000 [==============================] - 11s 180us/step - loss: 0.2643 - accuracy: 0.9208 - val_loss: 0.2547 - val_accuracy: 0.9251\n",
      "Epoch 4/20\n",
      "60000/60000 [==============================] - 11s 180us/step - loss: 0.2208 - accuracy: 0.9333 - val_loss: 0.2239 - val_accuracy: 0.9324\n",
      "Epoch 5/20\n",
      "60000/60000 [==============================] - 11s 183us/step - loss: 0.1994 - accuracy: 0.9402 - val_loss: 0.2031 - val_accuracy: 0.9385\n",
      "Epoch 6/20\n",
      "60000/60000 [==============================] - 11s 185us/step - loss: 0.1859 - accuracy: 0.9438 - val_loss: 0.2028 - val_accuracy: 0.9392\n",
      "Epoch 7/20\n",
      "60000/60000 [==============================] - 11s 180us/step - loss: 0.1720 - accuracy: 0.9482 - val_loss: 0.1894 - val_accuracy: 0.9443\n",
      "Epoch 8/20\n",
      "60000/60000 [==============================] - 11s 181us/step - loss: 0.1581 - accuracy: 0.9512 - val_loss: 0.1703 - val_accuracy: 0.9500\n",
      "Epoch 9/20\n",
      "60000/60000 [==============================] - 11s 179us/step - loss: 0.1507 - accuracy: 0.9539 - val_loss: 0.1664 - val_accuracy: 0.9494\n",
      "Epoch 10/20\n",
      "60000/60000 [==============================] - 11s 179us/step - loss: 0.1354 - accuracy: 0.9584 - val_loss: 0.1587 - val_accuracy: 0.9532\n",
      "Epoch 11/20\n",
      "60000/60000 [==============================] - 11s 180us/step - loss: 0.1293 - accuracy: 0.9600 - val_loss: 0.1581 - val_accuracy: 0.9543\n",
      "Epoch 12/20\n",
      "60000/60000 [==============================] - 11s 182us/step - loss: 0.1181 - accuracy: 0.9632 - val_loss: 0.1528 - val_accuracy: 0.9557\n",
      "Epoch 13/20\n",
      "60000/60000 [==============================] - 11s 180us/step - loss: 0.1145 - accuracy: 0.9647 - val_loss: 0.1399 - val_accuracy: 0.9588\n",
      "Epoch 14/20\n",
      "60000/60000 [==============================] - 11s 180us/step - loss: 0.1096 - accuracy: 0.9659 - val_loss: 0.1454 - val_accuracy: 0.9574\n",
      "Epoch 15/20\n",
      "60000/60000 [==============================] - 11s 180us/step - loss: 0.1032 - accuracy: 0.9688 - val_loss: 0.1393 - val_accuracy: 0.9589\n",
      "Epoch 16/20\n",
      "60000/60000 [==============================] - 11s 179us/step - loss: 0.0976 - accuracy: 0.9697 - val_loss: 0.1368 - val_accuracy: 0.9590\n",
      "Epoch 17/20\n",
      "60000/60000 [==============================] - 11s 181us/step - loss: 0.0945 - accuracy: 0.9708 - val_loss: 0.1285 - val_accuracy: 0.9592\n",
      "Epoch 18/20\n",
      "60000/60000 [==============================] - 11s 180us/step - loss: 0.0874 - accuracy: 0.9728 - val_loss: 0.1327 - val_accuracy: 0.9615\n",
      "Epoch 19/20\n",
      "60000/60000 [==============================] - 11s 179us/step - loss: 0.0855 - accuracy: 0.9730 - val_loss: 0.1302 - val_accuracy: 0.9639\n",
      "Epoch 20/20\n",
      "60000/60000 [==============================] - 11s 181us/step - loss: 0.0821 - accuracy: 0.9743 - val_loss: 0.1434 - val_accuracy: 0.9576\n"
     ]
    }
   ],
   "source": [
    "\n",
    "\n",
    "from keras.layers.normalization import BatchNormalization\n",
    "\n",
    "model_batch = Sequential()\n",
    "\n",
    "model_batch.add(Dense(520, activation='sigmoid', input_shape=(input_dim,), kernel_initializer=RandomNormal(mean=0.0, stddev=0.039, seed=None)))\n",
    "model_batch.add(BatchNormalization())\n",
    "\n",
    "model_batch.add(Dense(450, activation='sigmoid', kernel_initializer=RandomNormal(mean=0.0, stddev=0.55, seed=None)) )\n",
    "model_batch.add(BatchNormalization())\n",
    "model_batch.add(Dense(210, activation='sigmoid', kernel_initializer=RandomNormal(mean=0.0, stddev=0.55, seed=None)) )\n",
    "model_batch.add(BatchNormalization())\n",
    "model_batch.add(Dense(128, activation='sigmoid', kernel_initializer=RandomNormal(mean=0.0, stddev=0.55, seed=None)) )\n",
    "model_batch.add(BatchNormalization())\n",
    "model_batch.add(Dense(45, activation='sigmoid', kernel_initializer=RandomNormal(mean=0.0, stddev=0.55, seed=None)) )\n",
    "model_batch.add(BatchNormalization())\n",
    "model_batch.add(Dense(output_dim, activation='softmax'))\n",
    "\n",
    "\n",
    "model_batch.summary()\n",
    "model_batch.compile(optimizer='adam', loss='categorical_crossentropy', metrics=['accuracy'])\n",
    "\n",
    "history = model_batch.fit(X_train, Y_train, batch_size=batch_size, epochs=nb_epoch, verbose=1, validation_data=(X_test, Y_test))"
   ]
  },
  {
   "cell_type": "code",
   "execution_count": 109,
   "metadata": {
    "colab": {
     "base_uri": "https://localhost:8080/",
     "height": 313
    },
    "colab_type": "code",
    "executionInfo": {
     "elapsed": 222116,
     "status": "ok",
     "timestamp": 1589196273881,
     "user": {
      "displayName": "Mrunal Joshi",
      "photoUrl": "https://lh3.googleusercontent.com/a-/AOh14Gh4sfZImbcxfrP7hFTSOEyBzhAb07jp3pSecuCbeQ=s64",
      "userId": "04128114986664828555"
     },
     "user_tz": -330
    },
    "id": "cYFsp4tHcRX4",
    "outputId": "a6296b0e-ec9c-4414-9663-9c6845eb3d7e"
   },
   "outputs": [
    {
     "name": "stdout",
     "output_type": "stream",
     "text": [
      "Test score: 0.14337601760551333\n",
      "Test accuracy: 0.9575999975204468\n"
     ]
    },
    {
     "data": {
      "image/png": "[encoded data removed]",
      "text/plain": [
       "<Figure size 432x288 with 1 Axes>"
      ]
     },
     "metadata": {
      "needs_background": "light",
      "tags": []
     },
     "output_type": "display_data"
    }
   ],
   "source": [
    "score = model_batch.evaluate(X_test, Y_test, verbose=0) \n",
    "print('Test score:', score[0]) \n",
    "print('Test accuracy:', score[1])\n",
    "\n",
    "fig,ax = plt.subplots(1,1)\n",
    "ax.set_xlabel('epoch') ; ax.set_ylabel('Categorical Crossentropy Loss')\n",
    "\n",
    "# list of epoch numbers\n",
    "x = list(range(1,nb_epoch+1))\n",
    "\n",
    "vy = history.history['val_loss']\n",
    "ty = history.history['loss']\n",
    "plt_dynamic(x, vy, ty, ax)"
   ]
  },
  {
   "cell_type": "markdown",
   "metadata": {
    "colab_type": "text",
    "id": "IWYP8-3pQKct"
   },
   "source": [
    "<h2> 5. MLP + Dropout + AdamOptimizer </h2>"
   ]
  },
  {
   "cell_type": "code",
   "execution_count": 110,
   "metadata": {
    "colab": {
     "base_uri": "https://localhost:8080/",
     "height": 391
    },
    "colab_type": "code",
    "executionInfo": {
     "elapsed": 1909,
     "status": "ok",
     "timestamp": 1589197581926,
     "user": {
      "displayName": "Mrunal Joshi",
      "photoUrl": "https://lh3.googleusercontent.com/a-/AOh14Gh4sfZImbcxfrP7hFTSOEyBzhAb07jp3pSecuCbeQ=s64",
      "userId": "04128114986664828555"
     },
     "user_tz": -330
    },
    "id": "DJj0hu0-QKct",
    "outputId": "73937f0f-4a41-4360-928b-70b060cf8f24"
   },
   "outputs": [
    {
     "name": "stdout",
     "output_type": "stream",
     "text": [
      "Model: \"sequential_26\"\n",
      "_________________________________________________________________\n",
      "Layer (type)                 Output Shape              Param #   \n",
      "=================================================================\n",
      "dense_90 (Dense)             (None, 512)               401920    \n",
      "_________________________________________________________________\n",
      "batch_normalization_13 (Batc (None, 512)               2048      \n",
      "_________________________________________________________________\n",
      "dropout_1 (Dropout)          (None, 512)               0         \n",
      "_________________________________________________________________\n",
      "dense_91 (Dense)             (None, 128)               65664     \n",
      "_________________________________________________________________\n",
      "batch_normalization_14 (Batc (None, 128)               512       \n",
      "_________________________________________________________________\n",
      "dropout_2 (Dropout)          (None, 128)               0         \n",
      "_________________________________________________________________\n",
      "dense_92 (Dense)             (None, 10)                1290      \n",
      "=================================================================\n",
      "Total params: 471,434\n",
      "Trainable params: 470,154\n",
      "Non-trainable params: 1,280\n",
      "_________________________________________________________________\n"
     ]
    }
   ],
   "source": [
    "# https://stackoverflow.com/questions/34716454/where-do-i-call-the-batchnormalization-function-in-keras\n",
    "\n",
    "from keras.layers import Dropout\n",
    "\n",
    "model_drop = Sequential()\n",
    "\n",
    "model_drop.add(Dense(512, activation='sigmoid', input_shape=(input_dim,), kernel_initializer=RandomNormal(mean=0.0, stddev=0.039, seed=None)))\n",
    "model_drop.add(BatchNormalization())\n",
    "model_drop.add(Dropout(0.5))\n",
    "\n",
    "model_drop.add(Dense(128, activation='sigmoid', kernel_initializer=RandomNormal(mean=0.0, stddev=0.55, seed=None)) )\n",
    "model_drop.add(BatchNormalization())\n",
    "model_drop.add(Dropout(0.5))\n",
    "\n",
    "model_drop.add(Dense(output_dim, activation='softmax'))\n",
    "\n",
    "\n",
    "model_drop.summary()"
   ]
  },
  {
   "cell_type": "code",
   "execution_count": 111,
   "metadata": {
    "colab": {
     "base_uri": "https://localhost:8080/",
     "height": 734
    },
    "colab_type": "code",
    "executionInfo": {
     "elapsed": 129129,
     "status": "ok",
     "timestamp": 1589197713495,
     "user": {
      "displayName": "Mrunal Joshi",
      "photoUrl": "https://lh3.googleusercontent.com/a-/AOh14Gh4sfZImbcxfrP7hFTSOEyBzhAb07jp3pSecuCbeQ=s64",
      "userId": "04128114986664828555"
     },
     "user_tz": -330
    },
    "id": "J5pc4W_9QKcw",
    "outputId": "e9739bc4-a797-44ad-e40d-a17da3ac5bce"
   },
   "outputs": [
    {
     "name": "stdout",
     "output_type": "stream",
     "text": [
      "Train on 60000 samples, validate on 10000 samples\n",
      "Epoch 1/20\n",
      "60000/60000 [==============================] - 8s 127us/step - loss: 0.6752 - accuracy: 0.7923 - val_loss: 0.2843 - val_accuracy: 0.9135\n",
      "Epoch 2/20\n",
      "60000/60000 [==============================] - 6s 105us/step - loss: 0.4312 - accuracy: 0.8676 - val_loss: 0.2554 - val_accuracy: 0.9224\n",
      "Epoch 3/20\n",
      "60000/60000 [==============================] - 6s 104us/step - loss: 0.3845 - accuracy: 0.8824 - val_loss: 0.2363 - val_accuracy: 0.9296\n",
      "Epoch 4/20\n",
      "60000/60000 [==============================] - 6s 104us/step - loss: 0.3575 - accuracy: 0.8919 - val_loss: 0.2233 - val_accuracy: 0.9340\n",
      "Epoch 5/20\n",
      "60000/60000 [==============================] - 6s 105us/step - loss: 0.3351 - accuracy: 0.8977 - val_loss: 0.2170 - val_accuracy: 0.9342\n",
      "Epoch 6/20\n",
      "60000/60000 [==============================] - 6s 106us/step - loss: 0.3218 - accuracy: 0.9029 - val_loss: 0.2009 - val_accuracy: 0.9407\n",
      "Epoch 7/20\n",
      "60000/60000 [==============================] - 6s 104us/step - loss: 0.3067 - accuracy: 0.9087 - val_loss: 0.1886 - val_accuracy: 0.9435\n",
      "Epoch 8/20\n",
      "60000/60000 [==============================] - 6s 106us/step - loss: 0.2945 - accuracy: 0.9113 - val_loss: 0.1808 - val_accuracy: 0.9465\n",
      "Epoch 9/20\n",
      "60000/60000 [==============================] - 6s 105us/step - loss: 0.2812 - accuracy: 0.9142 - val_loss: 0.1761 - val_accuracy: 0.9500\n",
      "Epoch 10/20\n",
      "60000/60000 [==============================] - 6s 106us/step - loss: 0.2718 - accuracy: 0.9186 - val_loss: 0.1648 - val_accuracy: 0.9525\n",
      "Epoch 11/20\n",
      "60000/60000 [==============================] - 6s 105us/step - loss: 0.2578 - accuracy: 0.9229 - val_loss: 0.1630 - val_accuracy: 0.9526\n",
      "Epoch 12/20\n",
      "60000/60000 [==============================] - 6s 107us/step - loss: 0.2449 - accuracy: 0.9263 - val_loss: 0.1520 - val_accuracy: 0.9549\n",
      "Epoch 13/20\n",
      "60000/60000 [==============================] - 7s 111us/step - loss: 0.2381 - accuracy: 0.9291 - val_loss: 0.1448 - val_accuracy: 0.9572\n",
      "Epoch 14/20\n",
      "60000/60000 [==============================] - 6s 105us/step - loss: 0.2237 - accuracy: 0.9324 - val_loss: 0.1369 - val_accuracy: 0.9591\n",
      "Epoch 15/20\n",
      "60000/60000 [==============================] - 6s 103us/step - loss: 0.2163 - accuracy: 0.9350 - val_loss: 0.1302 - val_accuracy: 0.9617\n",
      "Epoch 16/20\n",
      "60000/60000 [==============================] - 6s 104us/step - loss: 0.2081 - accuracy: 0.9376 - val_loss: 0.1280 - val_accuracy: 0.9627\n",
      "Epoch 17/20\n",
      "60000/60000 [==============================] - 6s 104us/step - loss: 0.1991 - accuracy: 0.9407 - val_loss: 0.1209 - val_accuracy: 0.9663\n",
      "Epoch 18/20\n",
      "60000/60000 [==============================] - 6s 104us/step - loss: 0.1897 - accuracy: 0.9425 - val_loss: 0.1152 - val_accuracy: 0.9665\n",
      "Epoch 19/20\n",
      "60000/60000 [==============================] - 6s 103us/step - loss: 0.1849 - accuracy: 0.9454 - val_loss: 0.1142 - val_accuracy: 0.9676\n",
      "Epoch 20/20\n",
      "60000/60000 [==============================] - 6s 104us/step - loss: 0.1750 - accuracy: 0.9470 - val_loss: 0.1046 - val_accuracy: 0.9695\n"
     ]
    }
   ],
   "source": [
    "model_drop.compile(optimizer='adam', loss='categorical_crossentropy', metrics=['accuracy'])\n",
    "\n",
    "history = model_drop.fit(X_train, Y_train, batch_size=batch_size, epochs=nb_epoch, verbose=1, validation_data=(X_test, Y_test))"
   ]
  },
  {
   "cell_type": "code",
   "execution_count": 112,
   "metadata": {
    "colab": {
     "base_uri": "https://localhost:8080/",
     "height": 316
    },
    "colab_type": "code",
    "executionInfo": {
     "elapsed": 124381,
     "status": "ok",
     "timestamp": 1589197714472,
     "user": {
      "displayName": "Mrunal Joshi",
      "photoUrl": "https://lh3.googleusercontent.com/a-/AOh14Gh4sfZImbcxfrP7hFTSOEyBzhAb07jp3pSecuCbeQ=s64",
      "userId": "04128114986664828555"
     },
     "user_tz": -330
    },
    "id": "i5WcfQRFQKc0",
    "outputId": "af0db457-48fe-48b4-fcd3-79f8f524e02e"
   },
   "outputs": [
    {
     "name": "stdout",
     "output_type": "stream",
     "text": [
      "Test score: 0.10457731561046094\n",
      "Test accuracy: 0.9695000052452087\n"
     ]
    },
    {
     "data": {
      "image/png": "[encoded data removed]",
      "text/plain": [
       "<Figure size 432x288 with 1 Axes>"
      ]
     },
     "metadata": {
      "needs_background": "light",
      "tags": []
     },
     "output_type": "display_data"
    }
   ],
   "source": [
    "score = model_drop.evaluate(X_test, Y_test, verbose=0) \n",
    "print('Test score:', score[0]) \n",
    "print('Test accuracy:', score[1])\n",
    "\n",
    "fig,ax = plt.subplots(1,1)\n",
    "ax.set_xlabel('epoch') ; ax.set_ylabel('Categorical Crossentropy Loss')\n",
    "\n",
    "# list of epoch numbers\n",
    "x = list(range(1,nb_epoch+1))\n",
    "\n",
    "# print(history.history.keys())\n",
    "# dict_keys(['val_loss', 'val_acc', 'loss', 'acc'])\n",
    "# history = model_drop.fit(X_train, Y_train, batch_size=batch_size, epochs=nb_epoch, verbose=1, validation_data=(X_test, Y_test))\n",
    "\n",
    "# we will get val_loss and val_acc only when you pass the paramter validation_data\n",
    "# val_loss : validation loss\n",
    "# val_acc : validation accuracy\n",
    "\n",
    "# loss : training loss\n",
    "# acc : train accuracy\n",
    "# for each key in histrory.histrory we will have a list of length equal to number of epochs\n",
    "\n",
    "vy = history.history['val_loss']\n",
    "ty = history.history['loss']\n",
    "plt_dynamic(x, vy, ty, ax)"
   ]
  },
  {
   "cell_type": "code",
   "execution_count": 113,
   "metadata": {
    "colab": {
     "base_uri": "https://localhost:8080/",
     "height": 285
    },
    "colab_type": "code",
    "executionInfo": {
     "elapsed": 123472,
     "status": "ok",
     "timestamp": 1589197716716,
     "user": {
      "displayName": "Mrunal Joshi",
      "photoUrl": "https://lh3.googleusercontent.com/a-/AOh14Gh4sfZImbcxfrP7hFTSOEyBzhAb07jp3pSecuCbeQ=s64",
      "userId": "04128114986664828555"
     },
     "user_tz": -330
    },
    "id": "U2N2u7xoQKc2",
    "outputId": "f591e977-07ea-4f1c-ebb0-a2cd085ee0a6"
   },
   "outputs": [
    {
     "data": {
      "image/png": "[encoded data removed]",
      "text/plain": [
       "<Figure size 432x288 with 3 Axes>"
      ]
     },
     "metadata": {
      "needs_background": "light",
      "tags": []
     },
     "output_type": "display_data"
    }
   ],
   "source": [
    "w_after = model_drop.get_weights()\n",
    "\n",
    "h1_w = w_after[0].flatten().reshape(-1,1)\n",
    "h2_w = w_after[2].flatten().reshape(-1,1)\n",
    "out_w = w_after[4].flatten().reshape(-1,1)\n",
    "\n",
    "\n",
    "fig = plt.figure()\n",
    "plt.title(\"Weight matrices after model trained\")\n",
    "plt.subplot(1, 3, 1)\n",
    "plt.title(\"Trained model Weights\")\n",
    "ax = sns.violinplot(y=h1_w,color='b')\n",
    "plt.xlabel('Hidden Layer 1')\n",
    "\n",
    "plt.subplot(1, 3, 2)\n",
    "plt.title(\"Trained model Weights\")\n",
    "ax = sns.violinplot(y=h2_w, color='r')\n",
    "plt.xlabel('Hidden Layer 2 ')\n",
    "\n",
    "plt.subplot(1, 3, 3)\n",
    "plt.title(\"Trained model Weights\")\n",
    "ax = sns.violinplot(y=out_w,color='y')\n",
    "plt.xlabel('Output Layer ')\n",
    "plt.show()"
   ]
  },
  {
   "cell_type": "markdown",
   "metadata": {
    "colab_type": "text",
    "id": "_JoaePq_fyoz"
   },
   "source": [
    "2 Layer"
   ]
  },
  {
   "cell_type": "code",
   "execution_count": 114,
   "metadata": {
    "colab": {
     "base_uri": "https://localhost:8080/",
     "height": 1000
    },
    "colab_type": "code",
    "executionInfo": {
     "elapsed": 141386,
     "status": "ok",
     "timestamp": 1589197858129,
     "user": {
      "displayName": "Mrunal Joshi",
      "photoUrl": "https://lh3.googleusercontent.com/a-/AOh14Gh4sfZImbcxfrP7hFTSOEyBzhAb07jp3pSecuCbeQ=s64",
      "userId": "04128114986664828555"
     },
     "user_tz": -330
    },
    "id": "SAdiXn1Af0Mv",
    "outputId": "208c60cf-274e-4451-bc40-4fd389b51851"
   },
   "outputs": [
    {
     "name": "stdout",
     "output_type": "stream",
     "text": [
      "Model: \"sequential_27\"\n",
      "_________________________________________________________________\n",
      "Layer (type)                 Output Shape              Param #   \n",
      "=================================================================\n",
      "dense_93 (Dense)             (None, 480)               376800    \n",
      "_________________________________________________________________\n",
      "batch_normalization_15 (Batc (None, 480)               1920      \n",
      "_________________________________________________________________\n",
      "dropout_3 (Dropout)          (None, 480)               0         \n",
      "_________________________________________________________________\n",
      "dense_94 (Dense)             (None, 243)               116883    \n",
      "_________________________________________________________________\n",
      "batch_normalization_16 (Batc (None, 243)               972       \n",
      "_________________________________________________________________\n",
      "dropout_4 (Dropout)          (None, 243)               0         \n",
      "_________________________________________________________________\n",
      "dense_95 (Dense)             (None, 10)                2440      \n",
      "=================================================================\n",
      "Total params: 499,015\n",
      "Trainable params: 497,569\n",
      "Non-trainable params: 1,446\n",
      "_________________________________________________________________\n",
      "Train on 60000 samples, validate on 10000 samples\n",
      "Epoch 1/20\n",
      "60000/60000 [==============================] - 7s 119us/step - loss: 0.6322 - accuracy: 0.8073 - val_loss: 0.2797 - val_accuracy: 0.9162\n",
      "Epoch 2/20\n",
      "60000/60000 [==============================] - 7s 112us/step - loss: 0.4012 - accuracy: 0.8778 - val_loss: 0.2426 - val_accuracy: 0.9289\n",
      "Epoch 3/20\n",
      "60000/60000 [==============================] - 7s 115us/step - loss: 0.3574 - accuracy: 0.8924 - val_loss: 0.2264 - val_accuracy: 0.9345\n",
      "Epoch 4/20\n",
      "60000/60000 [==============================] - 7s 118us/step - loss: 0.3291 - accuracy: 0.8988 - val_loss: 0.2124 - val_accuracy: 0.9387\n",
      "Epoch 5/20\n",
      "60000/60000 [==============================] - 7s 119us/step - loss: 0.3119 - accuracy: 0.9048 - val_loss: 0.2079 - val_accuracy: 0.9401\n",
      "Epoch 6/20\n",
      "60000/60000 [==============================] - 7s 119us/step - loss: 0.2963 - accuracy: 0.9104 - val_loss: 0.1952 - val_accuracy: 0.9450\n",
      "Epoch 7/20\n",
      "60000/60000 [==============================] - 7s 118us/step - loss: 0.2813 - accuracy: 0.9146 - val_loss: 0.1815 - val_accuracy: 0.9461\n",
      "Epoch 8/20\n",
      "60000/60000 [==============================] - 7s 113us/step - loss: 0.2651 - accuracy: 0.9197 - val_loss: 0.1731 - val_accuracy: 0.9495\n",
      "Epoch 9/20\n",
      "60000/60000 [==============================] - 7s 113us/step - loss: 0.2537 - accuracy: 0.9233 - val_loss: 0.1622 - val_accuracy: 0.9519\n",
      "Epoch 10/20\n",
      "60000/60000 [==============================] - 7s 116us/step - loss: 0.2431 - accuracy: 0.9273 - val_loss: 0.1590 - val_accuracy: 0.9541\n",
      "Epoch 11/20\n",
      "60000/60000 [==============================] - 7s 117us/step - loss: 0.2296 - accuracy: 0.9295 - val_loss: 0.1455 - val_accuracy: 0.9548\n",
      "Epoch 12/20\n",
      "60000/60000 [==============================] - 7s 115us/step - loss: 0.2211 - accuracy: 0.9333 - val_loss: 0.1389 - val_accuracy: 0.9589\n",
      "Epoch 13/20\n",
      "60000/60000 [==============================] - 7s 115us/step - loss: 0.2078 - accuracy: 0.9359 - val_loss: 0.1345 - val_accuracy: 0.9594\n",
      "Epoch 14/20\n",
      "60000/60000 [==============================] - 7s 115us/step - loss: 0.2026 - accuracy: 0.9380 - val_loss: 0.1253 - val_accuracy: 0.9622\n",
      "Epoch 15/20\n",
      "60000/60000 [==============================] - 7s 115us/step - loss: 0.1891 - accuracy: 0.9425 - val_loss: 0.1215 - val_accuracy: 0.9641\n",
      "Epoch 16/20\n",
      "60000/60000 [==============================] - 7s 116us/step - loss: 0.1836 - accuracy: 0.9446 - val_loss: 0.1191 - val_accuracy: 0.9651\n",
      "Epoch 17/20\n",
      "60000/60000 [==============================] - 7s 116us/step - loss: 0.1803 - accuracy: 0.9458 - val_loss: 0.1110 - val_accuracy: 0.9661\n",
      "Epoch 18/20\n",
      "60000/60000 [==============================] - 7s 120us/step - loss: 0.1676 - accuracy: 0.9487 - val_loss: 0.1024 - val_accuracy: 0.9691\n",
      "Epoch 19/20\n",
      "60000/60000 [==============================] - 7s 119us/step - loss: 0.1611 - accuracy: 0.9513 - val_loss: 0.1005 - val_accuracy: 0.9696\n",
      "Epoch 20/20\n",
      "60000/60000 [==============================] - 7s 119us/step - loss: 0.1526 - accuracy: 0.9527 - val_loss: 0.0995 - val_accuracy: 0.9719\n"
     ]
    }
   ],
   "source": [
    "# https://stackoverflow.com/questions/34716454/where-do-i-call-the-batchnormalization-function-in-keras\n",
    "\n",
    "from keras.layers import Dropout\n",
    "\n",
    "model_drop = Sequential()\n",
    "\n",
    "model_drop.add(Dense(480, activation='sigmoid', input_shape=(input_dim,), kernel_initializer=RandomNormal(mean=0.0, stddev=0.039, seed=None)))\n",
    "model_drop.add(BatchNormalization())\n",
    "model_drop.add(Dropout(0.5))\n",
    "\n",
    "model_drop.add(Dense(243, activation='sigmoid', kernel_initializer=RandomNormal(mean=0.0, stddev=0.55, seed=None)) )\n",
    "model_drop.add(BatchNormalization())\n",
    "model_drop.add(Dropout(0.5))\n",
    "\n",
    "model_drop.add(Dense(output_dim, activation='softmax'))\n",
    "\n",
    "\n",
    "model_drop.summary()\n",
    "model_drop.compile(optimizer='adam', loss='categorical_crossentropy', metrics=['accuracy'])\n",
    "\n",
    "history = model_drop.fit(X_train, Y_train, batch_size=batch_size, epochs=nb_epoch, verbose=1, validation_data=(X_test, Y_test))"
   ]
  },
  {
   "cell_type": "code",
   "execution_count": 115,
   "metadata": {
    "colab": {
     "base_uri": "https://localhost:8080/",
     "height": 313
    },
    "colab_type": "code",
    "executionInfo": {
     "elapsed": 142731,
     "status": "ok",
     "timestamp": 1589197859485,
     "user": {
      "displayName": "Mrunal Joshi",
      "photoUrl": "https://lh3.googleusercontent.com/a-/AOh14Gh4sfZImbcxfrP7hFTSOEyBzhAb07jp3pSecuCbeQ=s64",
      "userId": "04128114986664828555"
     },
     "user_tz": -330
    },
    "id": "LPIWWBIHf0jK",
    "outputId": "ebd750aa-a3ad-494e-c268-6d8b66d60d60"
   },
   "outputs": [
    {
     "name": "stdout",
     "output_type": "stream",
     "text": [
      "Test score: 0.0995354565509595\n",
      "Test accuracy: 0.9718999862670898\n"
     ]
    },
    {
     "data": {
      "image/png": "[encoded data removed]",
      "text/plain": [
       "<Figure size 432x288 with 1 Axes>"
      ]
     },
     "metadata": {
      "needs_background": "light",
      "tags": []
     },
     "output_type": "display_data"
    }
   ],
   "source": [
    "score = model_drop.evaluate(X_test, Y_test, verbose=0) \n",
    "print('Test score:', score[0]) \n",
    "print('Test accuracy:', score[1])\n",
    "\n",
    "fig,ax = plt.subplots(1,1)\n",
    "ax.set_xlabel('epoch') ; ax.set_ylabel('Categorical Crossentropy Loss')\n",
    "\n",
    "# list of epoch numbers\n",
    "x = list(range(1,nb_epoch+1))\n",
    "\n",
    "vy = history.history['val_loss']\n",
    "ty = history.history['loss']\n",
    "plt_dynamic(x, vy, ty, ax)"
   ]
  },
  {
   "cell_type": "markdown",
   "metadata": {
    "colab_type": "text",
    "id": "TaKjrcamf1H2"
   },
   "source": [
    "3 Layer"
   ]
  },
  {
   "cell_type": "code",
   "execution_count": 116,
   "metadata": {
    "colab": {
     "base_uri": "https://localhost:8080/",
     "height": 1000
    },
    "colab_type": "code",
    "executionInfo": {
     "elapsed": 322735,
     "status": "ok",
     "timestamp": 1589198039498,
     "user": {
      "displayName": "Mrunal Joshi",
      "photoUrl": "https://lh3.googleusercontent.com/a-/AOh14Gh4sfZImbcxfrP7hFTSOEyBzhAb07jp3pSecuCbeQ=s64",
      "userId": "04128114986664828555"
     },
     "user_tz": -330
    },
    "id": "x-sRtYkBf2mp",
    "outputId": "58042a26-3dd7-441c-e2f8-9bc48275ebd9"
   },
   "outputs": [
    {
     "name": "stdout",
     "output_type": "stream",
     "text": [
      "Model: \"sequential_28\"\n",
      "_________________________________________________________________\n",
      "Layer (type)                 Output Shape              Param #   \n",
      "=================================================================\n",
      "dense_96 (Dense)             (None, 512)               401920    \n",
      "_________________________________________________________________\n",
      "batch_normalization_17 (Batc (None, 512)               2048      \n",
      "_________________________________________________________________\n",
      "dropout_5 (Dropout)          (None, 512)               0         \n",
      "_________________________________________________________________\n",
      "dense_97 (Dense)             (None, 366)               187758    \n",
      "_________________________________________________________________\n",
      "batch_normalization_18 (Batc (None, 366)               1464      \n",
      "_________________________________________________________________\n",
      "dropout_6 (Dropout)          (None, 366)               0         \n",
      "_________________________________________________________________\n",
      "dense_98 (Dense)             (None, 128)               46976     \n",
      "_________________________________________________________________\n",
      "batch_normalization_19 (Batc (None, 128)               512       \n",
      "_________________________________________________________________\n",
      "dropout_7 (Dropout)          (None, 128)               0         \n",
      "_________________________________________________________________\n",
      "dense_99 (Dense)             (None, 10)                1290      \n",
      "=================================================================\n",
      "Total params: 641,968\n",
      "Trainable params: 639,956\n",
      "Non-trainable params: 2,012\n",
      "_________________________________________________________________\n",
      "Train on 60000 samples, validate on 10000 samples\n",
      "Epoch 1/20\n",
      "60000/60000 [==============================] - 9s 158us/step - loss: 1.1869 - accuracy: 0.6188 - val_loss: 0.3977 - val_accuracy: 0.8812\n",
      "Epoch 2/20\n",
      "60000/60000 [==============================] - 9s 147us/step - loss: 0.6645 - accuracy: 0.7900 - val_loss: 0.3444 - val_accuracy: 0.8996\n",
      "Epoch 3/20\n",
      "60000/60000 [==============================] - 9s 148us/step - loss: 0.5652 - accuracy: 0.8212 - val_loss: 0.3115 - val_accuracy: 0.9105\n",
      "Epoch 4/20\n",
      "60000/60000 [==============================] - 9s 148us/step - loss: 0.5092 - accuracy: 0.8422 - val_loss: 0.2892 - val_accuracy: 0.9177\n",
      "Epoch 5/20\n",
      "60000/60000 [==============================] - 9s 148us/step - loss: 0.4750 - accuracy: 0.8557 - val_loss: 0.2796 - val_accuracy: 0.9204\n",
      "Epoch 6/20\n",
      "60000/60000 [==============================] - 9s 148us/step - loss: 0.4498 - accuracy: 0.8637 - val_loss: 0.2755 - val_accuracy: 0.9222\n",
      "Epoch 7/20\n",
      "60000/60000 [==============================] - 9s 149us/step - loss: 0.4305 - accuracy: 0.8701 - val_loss: 0.2651 - val_accuracy: 0.9235\n",
      "Epoch 8/20\n",
      "60000/60000 [==============================] - 9s 148us/step - loss: 0.4086 - accuracy: 0.8770 - val_loss: 0.2454 - val_accuracy: 0.9299\n",
      "Epoch 9/20\n",
      "60000/60000 [==============================] - 9s 148us/step - loss: 0.3970 - accuracy: 0.8807 - val_loss: 0.2413 - val_accuracy: 0.9308\n",
      "Epoch 10/20\n",
      "60000/60000 [==============================] - 9s 148us/step - loss: 0.3827 - accuracy: 0.8857 - val_loss: 0.2326 - val_accuracy: 0.9329\n",
      "Epoch 11/20\n",
      "60000/60000 [==============================] - 9s 148us/step - loss: 0.3682 - accuracy: 0.8891 - val_loss: 0.2271 - val_accuracy: 0.9351\n",
      "Epoch 12/20\n",
      "60000/60000 [==============================] - 9s 148us/step - loss: 0.3522 - accuracy: 0.8950 - val_loss: 0.2224 - val_accuracy: 0.9381\n",
      "Epoch 13/20\n",
      "60000/60000 [==============================] - 9s 151us/step - loss: 0.3393 - accuracy: 0.8984 - val_loss: 0.2080 - val_accuracy: 0.9392\n",
      "Epoch 14/20\n",
      "60000/60000 [==============================] - 9s 150us/step - loss: 0.3261 - accuracy: 0.9029 - val_loss: 0.1989 - val_accuracy: 0.9417\n",
      "Epoch 15/20\n",
      "60000/60000 [==============================] - 9s 148us/step - loss: 0.3146 - accuracy: 0.9044 - val_loss: 0.2031 - val_accuracy: 0.9403\n",
      "Epoch 16/20\n",
      "60000/60000 [==============================] - 9s 148us/step - loss: 0.3028 - accuracy: 0.9113 - val_loss: 0.1840 - val_accuracy: 0.9460\n",
      "Epoch 17/20\n",
      "60000/60000 [==============================] - 9s 148us/step - loss: 0.2929 - accuracy: 0.9132 - val_loss: 0.1828 - val_accuracy: 0.9481\n",
      "Epoch 18/20\n",
      "60000/60000 [==============================] - 9s 149us/step - loss: 0.2801 - accuracy: 0.9186 - val_loss: 0.1676 - val_accuracy: 0.9506\n",
      "Epoch 19/20\n",
      "60000/60000 [==============================] - 9s 149us/step - loss: 0.2672 - accuracy: 0.9214 - val_loss: 0.1691 - val_accuracy: 0.9517\n",
      "Epoch 20/20\n",
      "60000/60000 [==============================] - 9s 147us/step - loss: 0.2645 - accuracy: 0.9223 - val_loss: 0.1581 - val_accuracy: 0.9555\n"
     ]
    }
   ],
   "source": [
    "# https://stackoverflow.com/questions/34716454/where-do-i-call-the-batchnormalization-function-in-keras\n",
    "\n",
    "from keras.layers import Dropout\n",
    "\n",
    "model_drop = Sequential()\n",
    "\n",
    "model_drop.add(Dense(512, activation='sigmoid', input_shape=(input_dim,), kernel_initializer=RandomNormal(mean=0.0, stddev=0.039, seed=None)))\n",
    "model_drop.add(BatchNormalization())\n",
    "model_drop.add(Dropout(0.5))\n",
    "\n",
    "model_drop.add(Dense(366, activation='sigmoid', kernel_initializer=RandomNormal(mean=0.0, stddev=0.55, seed=None)) )\n",
    "model_drop.add(BatchNormalization())\n",
    "model_drop.add(Dropout(0.5))\n",
    "model_drop.add(Dense(128, activation='sigmoid', kernel_initializer=RandomNormal(mean=0.0, stddev=0.55, seed=None)) )\n",
    "model_drop.add(BatchNormalization())\n",
    "model_drop.add(Dropout(0.5))\n",
    "model_drop.add(Dense(output_dim, activation='softmax'))\n",
    "\n",
    "\n",
    "model_drop.summary()\n",
    "model_drop.compile(optimizer='adam', loss='categorical_crossentropy', metrics=['accuracy'])\n",
    "\n",
    "history = model_drop.fit(X_train, Y_train, batch_size=batch_size, epochs=nb_epoch, verbose=1, validation_data=(X_test, Y_test))"
   ]
  },
  {
   "cell_type": "code",
   "execution_count": 117,
   "metadata": {
    "colab": {
     "base_uri": "https://localhost:8080/",
     "height": 313
    },
    "colab_type": "code",
    "executionInfo": {
     "elapsed": 323857,
     "status": "ok",
     "timestamp": 1589198040628,
     "user": {
      "displayName": "Mrunal Joshi",
      "photoUrl": "https://lh3.googleusercontent.com/a-/AOh14Gh4sfZImbcxfrP7hFTSOEyBzhAb07jp3pSecuCbeQ=s64",
      "userId": "04128114986664828555"
     },
     "user_tz": -330
    },
    "id": "-JWOVLDTf3F3",
    "outputId": "ec60aabd-e244-4f2b-9bba-a391c8b360d5"
   },
   "outputs": [
    {
     "name": "stdout",
     "output_type": "stream",
     "text": [
      "Test score: 0.1580558161843568\n",
      "Test accuracy: 0.9555000066757202\n"
     ]
    },
    {
     "data": {
      "image/png": "[encoded data removed]",
      "text/plain": [
       "<Figure size 432x288 with 1 Axes>"
      ]
     },
     "metadata": {
      "needs_background": "light",
      "tags": []
     },
     "output_type": "display_data"
    }
   ],
   "source": [
    "score = model_drop.evaluate(X_test, Y_test, verbose=0) \n",
    "print('Test score:', score[0]) \n",
    "print('Test accuracy:', score[1])\n",
    "\n",
    "fig,ax = plt.subplots(1,1)\n",
    "ax.set_xlabel('epoch') ; ax.set_ylabel('Categorical Crossentropy Loss')\n",
    "\n",
    "# list of epoch numbers\n",
    "x = list(range(1,nb_epoch+1))\n",
    "\n",
    "vy = history.history['val_loss']\n",
    "ty = history.history['loss']\n",
    "plt_dynamic(x, vy, ty, ax)"
   ]
  },
  {
   "cell_type": "markdown",
   "metadata": {
    "colab_type": "text",
    "id": "bbNCjJiDf3sN"
   },
   "source": [
    "5 Layer"
   ]
  },
  {
   "cell_type": "code",
   "execution_count": 118,
   "metadata": {
    "colab": {
     "base_uri": "https://localhost:8080/",
     "height": 1000
    },
    "colab_type": "code",
    "executionInfo": {
     "elapsed": 544201,
     "status": "ok",
     "timestamp": 1589198260979,
     "user": {
      "displayName": "Mrunal Joshi",
      "photoUrl": "https://lh3.googleusercontent.com/a-/AOh14Gh4sfZImbcxfrP7hFTSOEyBzhAb07jp3pSecuCbeQ=s64",
      "userId": "04128114986664828555"
     },
     "user_tz": -330
    },
    "id": "-T6ScSGZf47J",
    "outputId": "ce579469-725b-4886-ca93-b8ab8a682896"
   },
   "outputs": [
    {
     "name": "stdout",
     "output_type": "stream",
     "text": [
      "Model: \"sequential_29\"\n",
      "_________________________________________________________________\n",
      "Layer (type)                 Output Shape              Param #   \n",
      "=================================================================\n",
      "dense_100 (Dense)            (None, 512)               401920    \n",
      "_________________________________________________________________\n",
      "batch_normalization_20 (Batc (None, 512)               2048      \n",
      "_________________________________________________________________\n",
      "dropout_8 (Dropout)          (None, 512)               0         \n",
      "_________________________________________________________________\n",
      "dense_101 (Dense)            (None, 365)               187245    \n",
      "_________________________________________________________________\n",
      "batch_normalization_21 (Batc (None, 365)               1460      \n",
      "_________________________________________________________________\n",
      "dropout_9 (Dropout)          (None, 365)               0         \n",
      "_________________________________________________________________\n",
      "dense_102 (Dense)            (None, 212)               77592     \n",
      "_________________________________________________________________\n",
      "batch_normalization_22 (Batc (None, 212)               848       \n",
      "_________________________________________________________________\n",
      "dropout_10 (Dropout)         (None, 212)               0         \n",
      "_________________________________________________________________\n",
      "dense_103 (Dense)            (None, 128)               27264     \n",
      "_________________________________________________________________\n",
      "batch_normalization_23 (Batc (None, 128)               512       \n",
      "_________________________________________________________________\n",
      "dropout_11 (Dropout)         (None, 128)               0         \n",
      "_________________________________________________________________\n",
      "dense_104 (Dense)            (None, 55)                7095      \n",
      "_________________________________________________________________\n",
      "batch_normalization_24 (Batc (None, 55)                220       \n",
      "_________________________________________________________________\n",
      "dropout_12 (Dropout)         (None, 55)                0         \n",
      "_________________________________________________________________\n",
      "dense_105 (Dense)            (None, 10)                560       \n",
      "=================================================================\n",
      "Total params: 706,764\n",
      "Trainable params: 704,220\n",
      "Non-trainable params: 2,544\n",
      "_________________________________________________________________\n",
      "Train on 60000 samples, validate on 10000 samples\n",
      "Epoch 1/20\n",
      "60000/60000 [==============================] - 12s 195us/step - loss: 2.5222 - accuracy: 0.1675 - val_loss: 1.3903 - val_accuracy: 0.5730\n",
      "Epoch 2/20\n",
      "60000/60000 [==============================] - 11s 182us/step - loss: 1.8131 - accuracy: 0.3431 - val_loss: 1.0545 - val_accuracy: 0.6530\n",
      "Epoch 3/20\n",
      "60000/60000 [==============================] - 11s 180us/step - loss: 1.4307 - accuracy: 0.4777 - val_loss: 0.9138 - val_accuracy: 0.6937\n",
      "Epoch 4/20\n",
      "60000/60000 [==============================] - 11s 180us/step - loss: 1.2533 - accuracy: 0.5486 - val_loss: 0.8210 - val_accuracy: 0.7315\n",
      "Epoch 5/20\n",
      "60000/60000 [==============================] - 11s 181us/step - loss: 1.1387 - accuracy: 0.5975 - val_loss: 0.7424 - val_accuracy: 0.7573\n",
      "Epoch 6/20\n",
      "60000/60000 [==============================] - 11s 180us/step - loss: 1.0459 - accuracy: 0.6380 - val_loss: 0.6348 - val_accuracy: 0.8005\n",
      "Epoch 7/20\n",
      "60000/60000 [==============================] - 11s 181us/step - loss: 0.9580 - accuracy: 0.6799 - val_loss: 0.5556 - val_accuracy: 0.8304\n",
      "Epoch 8/20\n",
      "60000/60000 [==============================] - 11s 181us/step - loss: 0.8925 - accuracy: 0.7071 - val_loss: 0.5147 - val_accuracy: 0.8492\n",
      "Epoch 9/20\n",
      "60000/60000 [==============================] - 11s 181us/step - loss: 0.8387 - accuracy: 0.7293 - val_loss: 0.4811 - val_accuracy: 0.8618\n",
      "Epoch 10/20\n",
      "60000/60000 [==============================] - 11s 181us/step - loss: 0.7826 - accuracy: 0.7522 - val_loss: 0.4598 - val_accuracy: 0.8697\n",
      "Epoch 11/20\n",
      "60000/60000 [==============================] - 11s 181us/step - loss: 0.7495 - accuracy: 0.7661 - val_loss: 0.4327 - val_accuracy: 0.8803\n",
      "Epoch 12/20\n",
      "60000/60000 [==============================] - 11s 181us/step - loss: 0.7160 - accuracy: 0.7784 - val_loss: 0.4199 - val_accuracy: 0.8828\n",
      "Epoch 13/20\n",
      "60000/60000 [==============================] - 11s 181us/step - loss: 0.6948 - accuracy: 0.7897 - val_loss: 0.3944 - val_accuracy: 0.8923\n",
      "Epoch 14/20\n",
      "60000/60000 [==============================] - 11s 181us/step - loss: 0.6620 - accuracy: 0.8015 - val_loss: 0.3740 - val_accuracy: 0.9011\n",
      "Epoch 15/20\n",
      "60000/60000 [==============================] - 11s 181us/step - loss: 0.6327 - accuracy: 0.8122 - val_loss: 0.3604 - val_accuracy: 0.9042\n",
      "Epoch 16/20\n",
      "60000/60000 [==============================] - 11s 180us/step - loss: 0.6094 - accuracy: 0.8238 - val_loss: 0.3509 - val_accuracy: 0.9072\n",
      "Epoch 17/20\n",
      "60000/60000 [==============================] - 11s 182us/step - loss: 0.6006 - accuracy: 0.8268 - val_loss: 0.3410 - val_accuracy: 0.9099\n",
      "Epoch 18/20\n",
      "60000/60000 [==============================] - 11s 181us/step - loss: 0.5706 - accuracy: 0.8382 - val_loss: 0.3245 - val_accuracy: 0.9154\n",
      "Epoch 19/20\n",
      "60000/60000 [==============================] - 11s 181us/step - loss: 0.5571 - accuracy: 0.8432 - val_loss: 0.3242 - val_accuracy: 0.9168\n",
      "Epoch 20/20\n",
      "60000/60000 [==============================] - 11s 180us/step - loss: 0.5412 - accuracy: 0.8508 - val_loss: 0.3144 - val_accuracy: 0.9204\n"
     ]
    }
   ],
   "source": [
    "# https://stackoverflow.com/questions/34716454/where-do-i-call-the-batchnormalization-function-in-keras\n",
    "\n",
    "from keras.layers import Dropout\n",
    "\n",
    "model_drop = Sequential()\n",
    "\n",
    "model_drop.add(Dense(512, activation='sigmoid', input_shape=(input_dim,), kernel_initializer=RandomNormal(mean=0.0, stddev=0.039, seed=None)))\n",
    "model_drop.add(BatchNormalization())\n",
    "model_drop.add(Dropout(0.5))\n",
    "\n",
    "model_drop.add(Dense(365, activation='sigmoid', kernel_initializer=RandomNormal(mean=0.0, stddev=0.55, seed=None)) )\n",
    "model_drop.add(BatchNormalization())\n",
    "model_drop.add(Dropout(0.5))\n",
    "\n",
    "model_drop.add(Dense(212, activation='sigmoid', kernel_initializer=RandomNormal(mean=0.0, stddev=0.55, seed=None)) )\n",
    "model_drop.add(BatchNormalization())\n",
    "model_drop.add(Dropout(0.5))\n",
    "model_drop.add(Dense(128, activation='sigmoid', kernel_initializer=RandomNormal(mean=0.0, stddev=0.55, seed=None)) )\n",
    "model_drop.add(BatchNormalization())\n",
    "model_drop.add(Dropout(0.5))\n",
    "model_drop.add(Dense(55, activation='sigmoid', kernel_initializer=RandomNormal(mean=0.0, stddev=0.55, seed=None)) )\n",
    "model_drop.add(BatchNormalization())\n",
    "model_drop.add(Dropout(0.5))\n",
    "model_drop.add(Dense(output_dim, activation='softmax'))\n",
    "\n",
    "\n",
    "model_drop.summary()\n",
    "model_drop.compile(optimizer='adam', loss='categorical_crossentropy', metrics=['accuracy'])\n",
    "\n",
    "history = model_drop.fit(X_train, Y_train, batch_size=batch_size, epochs=nb_epoch, verbose=1, validation_data=(X_test, Y_test))"
   ]
  },
  {
   "cell_type": "code",
   "execution_count": 119,
   "metadata": {
    "colab": {
     "base_uri": "https://localhost:8080/",
     "height": 313
    },
    "colab_type": "code",
    "executionInfo": {
     "elapsed": 545750,
     "status": "ok",
     "timestamp": 1589198262534,
     "user": {
      "displayName": "Mrunal Joshi",
      "photoUrl": "https://lh3.googleusercontent.com/a-/AOh14Gh4sfZImbcxfrP7hFTSOEyBzhAb07jp3pSecuCbeQ=s64",
      "userId": "04128114986664828555"
     },
     "user_tz": -330
    },
    "id": "oeu-LfBTf5lB",
    "outputId": "ed4adc66-0261-4fb5-f2f7-acac95951eec"
   },
   "outputs": [
    {
     "name": "stdout",
     "output_type": "stream",
     "text": [
      "Test score: 0.3143594692051411\n",
      "Test accuracy: 0.9204000234603882\n"
     ]
    },
    {
     "data": {
      "image/png": "[encoded data removed]",
      "text/plain": [
       "<Figure size 432x288 with 1 Axes>"
      ]
     },
     "metadata": {
      "needs_background": "light",
      "tags": []
     },
     "output_type": "display_data"
    }
   ],
   "source": [
    "score = model_drop.evaluate(X_test, Y_test, verbose=0) \n",
    "print('Test score:', score[0]) \n",
    "print('Test accuracy:', score[1])\n",
    "\n",
    "fig,ax = plt.subplots(1,1)\n",
    "ax.set_xlabel('epoch') ; ax.set_ylabel('Categorical Crossentropy Loss')\n",
    "\n",
    "# list of epoch numbers\n",
    "x = list(range(1,nb_epoch+1))\n",
    "\n",
    "vy = history.history['val_loss']\n",
    "ty = history.history['loss']\n",
    "plt_dynamic(x, vy, ty, ax)"
   ]
  },
  {
   "cell_type": "markdown",
   "metadata": {
    "colab_type": "text",
    "id": "ayBTjaZGQKc6"
   },
   "source": [
    "<h2> Hyper-parameter tuning of Keras models using Sklearn </h2>"
   ]
  },
  {
   "cell_type": "code",
   "execution_count": 0,
   "metadata": {
    "colab": {},
    "colab_type": "code",
    "id": "8k1L9fZcQKc6"
   },
   "outputs": [],
   "source": [
    "from keras.optimizers import Adam,RMSprop,SGD\n",
    "def best_hyperparameters(activ):\n",
    "\n",
    "    model = Sequential()\n",
    "    model.add(Dense(512, activation=activ, input_shape=(input_dim,), kernel_initializer=RandomNormal(mean=0.0, stddev=0.062, seed=None)))\n",
    "    model.add(Dense(128, activation=activ, kernel_initializer=RandomNormal(mean=0.0, stddev=0.125, seed=None)) )\n",
    "    model.add(Dense(output_dim, activation='softmax'))\n",
    "\n",
    "\n",
    "    model.compile(loss='categorical_crossentropy', metrics=['accuracy'], optimizer='adam')\n",
    "    \n",
    "    return model"
   ]
  },
  {
   "cell_type": "code",
   "execution_count": 0,
   "metadata": {
    "colab": {},
    "colab_type": "code",
    "id": "Mj1klnwWQKc7"
   },
   "outputs": [],
   "source": [
    "# https://machinelearningmastery.com/grid-search-hyperparameters-deep-learning-models-python-keras/\n",
    "\n",
    "activ = ['sigmoid','relu']\n",
    "\n",
    "from keras.wrappers.scikit_learn import KerasClassifier\n",
    "from sklearn.model_selection import GridSearchCV\n",
    "\n",
    "model = KerasClassifier(build_fn=best_hyperparameters, epochs=nb_epoch, batch_size=batch_size, verbose=0)\n",
    "param_grid = dict(activ=activ)\n",
    "\n",
    "# if you are using CPU\n",
    "# grid = GridSearchCV(estimator=model, param_grid=param_grid, n_jobs=-1)\n",
    "# if you are using GPU dont use the n_jobs parameter\n",
    "\n",
    "grid = GridSearchCV(estimator=model, param_grid=param_grid)\n",
    "grid_result = grid.fit(X_train, Y_train)"
   ]
  },
  {
   "cell_type": "code",
   "execution_count": 122,
   "metadata": {
    "colab": {
     "base_uri": "https://localhost:8080/",
     "height": 68
    },
    "colab_type": "code",
    "executionInfo": {
     "elapsed": 125,
     "status": "ok",
     "timestamp": 1589199708455,
     "user": {
      "displayName": "Mrunal Joshi",
      "photoUrl": "https://lh3.googleusercontent.com/a-/AOh14Gh4sfZImbcxfrP7hFTSOEyBzhAb07jp3pSecuCbeQ=s64",
      "userId": "04128114986664828555"
     },
     "user_tz": -330
    },
    "id": "9UiW9qkmQKc8",
    "outputId": "007b8fd0-60e2-43fd-ea67-afe2074b394e"
   },
   "outputs": [
    {
     "name": "stdout",
     "output_type": "stream",
     "text": [
      "Best: 0.977550 using {'activ': 'relu'}\n",
      "0.976617 (0.001739) with: {'activ': 'sigmoid'}\n",
      "0.977550 (0.001855) with: {'activ': 'relu'}\n"
     ]
    }
   ],
   "source": [
    "print(\"Best: %f using %s\" % (grid_result.best_score_, grid_result.best_params_))\n",
    "means = grid_result.cv_results_['mean_test_score']\n",
    "stds = grid_result.cv_results_['std_test_score']\n",
    "params = grid_result.cv_results_['params']\n",
    "for mean, stdev, param in zip(means, stds, params):\n",
    "    print(\"%f (%f) with: %r\" % (mean, stdev, param))"
   ]
  },
  {
   "cell_type": "markdown",
   "metadata": {
    "colab_type": "text",
    "id": "OJ8nxBHGtnKs"
   },
   "source": [
    "Conclusion"
   ]
  },
  {
   "cell_type": "code",
   "execution_count": 132,
   "metadata": {
    "colab": {
     "base_uri": "https://localhost:8080/",
     "height": 510
    },
    "colab_type": "code",
    "executionInfo": {
     "elapsed": 4100,
     "status": "ok",
     "timestamp": 1589202415583,
     "user": {
      "displayName": "Mrunal Joshi",
      "photoUrl": "https://lh3.googleusercontent.com/a-/AOh14Gh4sfZImbcxfrP7hFTSOEyBzhAb07jp3pSecuCbeQ=s64",
      "userId": "04128114986664828555"
     },
     "user_tz": -330
    },
    "id": "J0sb2xmDtpyH",
    "outputId": "edc0eee7-39a3-4873-b7d7-8b8765384eca"
   },
   "outputs": [
    {
     "name": "stdout",
     "output_type": "stream",
     "text": [
      "+---------------------------------------------------+--------+------------+---------------+\n",
      "|                       Model                       | Layers | Test Score | Test accuracy |\n",
      "+---------------------------------------------------+--------+------------+---------------+\n",
      "|                 Softmax classifier                |   2    |    0.34    |      0.91     |\n",
      "|      MLP + Sigmoid activation + SGDOptimizer      |   2    |    0.45    |      0.87     |\n",
      "|      MLP + Sigmoid activation + SGDOptimizer      |   2    |    0.46    |      0.87     |\n",
      "|      MLP + Sigmoid activation + SGDOptimizer      |   3    |    1.02    |      0.69     |\n",
      "|      MLP + Sigmoid activation + SGDOptimizer      |   5    |    2.3     |      0.11     |\n",
      "|          MLP + Sigmoid activation + ADAM          |   2    |    0.07    |      0.98     |\n",
      "|          MLP + Sigmoid activation + ADAM          |   2    |    0.07    |      0.98     |\n",
      "|          MLP + Sigmoid activation + ADAM          |   3    |    0.09    |      0.97     |\n",
      "|          MLP + Sigmoid activation + ADAM          |   5    |    0.1     |      0.97     |\n",
      "|                  MLP + ReLU +SGD                  |   2    |    0.12    |      0.96     |\n",
      "|                  MLP + ReLU +SGD                  |   2    |    0.11    |      0.96     |\n",
      "|                  MLP + ReLU +SGD                  |   3    |    0.11    |      0.96     |\n",
      "|                  MLP + ReLU +SGD                  |   5    |    0.1     |      0.97     |\n",
      "|                 MLP + ReLU + ADAM                 |   2    |    0.09    |      0.98     |\n",
      "|                 MLP + ReLU + ADAM                 |   2    |    0.1     |      0.98     |\n",
      "|                 MLP + ReLU + ADAM                 |   3    |    0.11    |      0.97     |\n",
      "|                 MLP + ReLU + ADAM                 |   5    |    0.11    |      0.97     |\n",
      "| MLP + Batch-Norm on hidden Layers + AdamOptimizer |   2    |    0.1     |      0.97     |\n",
      "| MLP + Batch-Norm on hidden Layers + AdamOptimizer |   2    |    0.09    |      0.97     |\n",
      "| MLP + Batch-Norm on hidden Layers + AdamOptimizer |   3    |    0.1     |      0.97     |\n",
      "| MLP + Batch-Norm on hidden Layers + AdamOptimizer |   5    |    0.14    |      0.95     |\n",
      "|           MLP + Dropout + AdamOptimizer           |   2    |    0.1     |      0.96     |\n",
      "|           MLP + Dropout + AdamOptimizer           |   2    |    0.09    |      0.97     |\n",
      "|           MLP + Dropout + AdamOptimizer           |   3    |    0.15    |      0.95     |\n",
      "|           MLP + Dropout + AdamOptimizer           |   5    |    0.31    |      0.92     |\n",
      "+---------------------------------------------------+--------+------------+---------------+\n"
     ]
    }
   ],
   "source": [
    "from prettytable import PrettyTable\n",
    "x = PrettyTable()\n",
    "x.field_names = [\"Model\", \"Layers\", \"Test Score\", \"Test accuracy\"]\n",
    "\n",
    "x.add_row([\"Softmax classifier\", 2, 0.34, 0.91])\n",
    "x.add_row([\"MLP + Sigmoid activation + SGDOptimizer\", 2,0.45, 0.87])\n",
    "x.add_row([\"MLP + Sigmoid activation + SGDOptimizer\", 2,0.46, 0.87])\n",
    "x.add_row([\"MLP + Sigmoid activation + SGDOptimizer\", 3,1.02, 0.69])\n",
    "x.add_row([\"MLP + Sigmoid activation + SGDOptimizer\", 5,2.3, 0.11])\n",
    "x.add_row([\"MLP + Sigmoid activation + ADAM\", 2,0.07, 0.98])\n",
    "x.add_row([\"MLP + Sigmoid activation + ADAM\", 2,0.07, 0.98])\n",
    "x.add_row([\"MLP + Sigmoid activation + ADAM\", 3,0.09, 0.97])\n",
    "x.add_row([\"MLP + Sigmoid activation + ADAM\", 5,0.10, 0.97])\n",
    "x.add_row([\"MLP + ReLU +SGD\", 2,0.12, 0.96])\n",
    "x.add_row([\"MLP + ReLU +SGD\", 2,0.11, 0.96])\n",
    "x.add_row([\"MLP + ReLU +SGD\", 3,0.11, 0.96])\n",
    "x.add_row([\"MLP + ReLU +SGD\", 5,0.10, 0.97])\n",
    "x.add_row([\"MLP + ReLU + ADAM \", 2,0.09, 0.98])\n",
    "x.add_row([\"MLP + ReLU + ADAM \", 2,0.10, 0.98])\n",
    "x.add_row([\"MLP + ReLU + ADAM \", 3,0.11, 0.97])\n",
    "x.add_row([\"MLP + ReLU + ADAM \", 5,0.11, 0.97])\n",
    "x.add_row([\"MLP + Batch-Norm on hidden Layers + AdamOptimizer\", 2,0.10, 0.97])\n",
    "x.add_row([\"MLP + Batch-Norm on hidden Layers + AdamOptimizer\", 2,0.09, 0.97])\n",
    "x.add_row([\"MLP + Batch-Norm on hidden Layers + AdamOptimizer\", 3,0.10, 0.97])\n",
    "x.add_row([\"MLP + Batch-Norm on hidden Layers + AdamOptimizer\", 5,0.14, 0.95])\n",
    "x.add_row([\"MLP + Dropout + AdamOptimizer\", 2,0.10, 0.96])\n",
    "x.add_row([\"MLP + Dropout + AdamOptimizer\", 2,0.09, 0.97])\n",
    "x.add_row([\"MLP + Dropout + AdamOptimizer\", 3,0.15, 0.95])\n",
    "x.add_row([\"MLP + Dropout + AdamOptimizer\", 5,0.31, 0.92])\n",
    "print (x)"
   ]
  }
 ],
 "metadata": {
  "colab": {
   "name": "Keras_Mnist.ipynb",
   "provenance": [],
   "toc_visible": true
  },
  "kernelspec": {
   "display_name": "Python 3",
   "language": "python",
   "name": "python3"
  },
  "language_info": {
   "codemirror_mode": {
    "name": "ipython",
    "version": 3
   },
   "file_extension": ".py",
   "mimetype": "text/x-python",
   "name": "python",
   "nbconvert_exporter": "python",
   "pygments_lexer": "ipython3",
   "version": "3.6.5"
  }
 },
 "nbformat": 4,
 "nbformat_minor": 1
}
